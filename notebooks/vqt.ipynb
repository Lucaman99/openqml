{
 "cells": [
  {
   "cell_type": "markdown",
   "metadata": {},
   "source": [
    "## The Variational Quantum Thermalizer Algorithm"
   ]
  },
  {
   "cell_type": "code",
   "execution_count": 4,
   "metadata": {},
   "outputs": [],
   "source": [
    "#Importing the necessary dependencies\n",
    "\n",
    "import qiskit\n",
    "from qiskit import QuantumCircuit, QuantumRegister, ClassicalRegister\n",
    "from qiskit import Aer, execute\n",
    "import math\n",
    "import random\n",
    "import numpy as np\n",
    "from scipy.optimize import minimize\n",
    "import math\n",
    "import scipy\n",
    "from matplotlib import pyplot as plt\n",
    "import tensorflow as tf\n",
    "from IPython.display import YouTubeVideo"
   ]
  },
  {
   "cell_type": "markdown",
   "metadata": {},
   "source": [
    "**Introduction**\n",
    "\n",
    "The goal of this Notebook will be to help the reader understand a very interesting, recently-proposed NISQ algorithm called the **Variational Quantum Thermalizer**. This paper was one of many that has been written by the quantum team at X, the Moonshot Factory in the past couple years. Essentially, this algorithm is able to use a variational approach to reconstruct the thermal state of a given Hamiltonian at a given temperature, which is a task that is performed much more efficiently on a quantum device than a classical simulation performing the same calculations (in a very similar respect to the Variational Quantum Eigensolver). In fact, as in the original paper, we will demonstrate in this Notebook that as temperature approaches $0$, this algorithm is completely equivalent to the VQE, making the VQT a natural generalization of VQE!"
   ]
  },
  {
   "cell_type": "markdown",
   "metadata": {},
   "source": [
    "**The Variational Quantum Thermalizer: The Problem Statement**\n",
    "\n",
    "Before we actually jump into simulations of this algorithm, we will attempt to understand the mathematical and physical theory that makes this theory possible. I'm going to assume that the reader already understands why variational processes like VQE and QAOA work from a physical perspective (this knowledge isn't absolutely necessary, but it is helpful, and it just so happens that a comprehensive explanation can be found in my CV QAOA Notebook!)\n",
    "\n",
    "First off all, let us consider what we are actually trying to accomplish using this algorithm. We want to construct a **thermal state**, which is defined as:\n",
    "\n",
    "$$\\rho_\\text{thermal} \\ = \\ \\frac{e^{- H \\beta / k_B}}{\\text{Tr}(e^{- H \\beta / k_B})}$$\n",
    "\n",
    "Where $H$ is the Hamiltonian of our system, $\\beta \\ = \\ 1/T$, where $T$ is the temperature of our system, and $k_B$ is Boltzman's constant (we will set this to $1$, for simplicity). Inputted into our algorithm is this Hamiltonian $H$, and our goal is to find $\\rho_\\text{thermal}$, or more specifically, the variational parameters that give us a state that is \"very close\" to $\\rho_\\text{thermal}$, as one does in any kind of variational quantum algorithm.\n",
    "\n",
    "In order to do this, we will essentially pick some \"simple\" mixed state to start our process. We will then sample from the probability distribution of measurements of different pure states. More concretely, if we have some mixer state:\n",
    "\n",
    "$$\\rho \\ = \\ \\displaystyle\\sum_{i} p_i |x_i\\rangle \\langle x_i|$$\n",
    "\n",
    "Then our probability distribution is defined as $x_i \\ \\sim \\ p_i$, where $x_i$ corresponds to $|x_i\\rangle$. We repeatedly sample values of $x_i$ corresponding to pure states in the expansion of our \"simple\" mixed state and pass them through a parametrized quantum circuit. We repeat this process, calculating the expectation value of the Hamiltonian for our transformed mixed state and use this value along with the Von Neumann entropy of our state to create a **free energy cost function**. We repeat the algorithm with new parameters until we minimize free energy. Once we have done this, we have arrived at the thermal state! The entire process look somewhat like this (this beautiful illustration was taken from the original paper):\n",
    "\n",
    "<br>\n",
    "<center>\n",
    "<img src=\"images/vqt.png\" style=\"height:250px\">\n",
    "    </center>\n",
    "<br>\n",
    "\n",
    "The dark grey boxes show the variational parameters that we feed into the algorithm, $\\theta$ determines the probability distribution and $\\phi$ determines the nature of the unitary ansatz circuit. The light grey boxes represent classical subroutines (we can sample from our probability distribution, calculate the Von Neumann entropy, $S_{\\theta}$, and calculate the expectation value of our Hamiltonian classicaly). To prepare the pure state $|x\\rangle$ that we samples from the distribution, we have to use the quantum subroutine $\\hat{V}_x$, and then we \"evolve\" our basic quantum state with the variational ansatz $\\hat{U}(\\phi)$. Finally, we calculate loss (the black box), and cycle back to the beginning of the circuit after receiving updated variational parameters from our classical optimizer."
   ]
  },
  {
   "cell_type": "markdown",
   "metadata": {},
   "source": [
    "**Constructing the Variational Quantum Thermalizer**\n",
    "\n",
    "Now, that we understand what we are actually making, let's understand how the paper goes about constructing the VQT. We said earlier we will begin the process by creating a simple mixed state. Now, let's actually understand how we will create this simple state. Basically, the idea is to pick some $\\rho_\\theta$ parametrized by $\\theta$ such that:\n",
    "\n",
    "$$\\rho_\\theta \\ = \\ \\frac{1}{\\mathcal{Z}_\\theta} e^{- K_\\theta}$$\n",
    "\n",
    "Where $\\mathcal{Z}_\\theta$ is simply the partition function that normalizes our density matrix, $\\mathcal{Z}_{\\theta} \\ = \\ \\text{Tr}(e^{- K_\\theta})$. $K_\\theta$ is just some simple Hamiltonian. \n",
    "\n",
    "Our motivation for constructing our simple mixed state in this fashion is that it is similar in structure to that of the thermal state, which is the exponential of a Hamiltonian. In addition, recall that time evolution of a density matrix is given by multiplying it left and right by the unitary that is \"doing the evolving\". if you're not familiar with this, since we know that evolution of the form $|\\psi\\rangle \\ \\rightarrow \\ |\\psi'\\rangle$ is given by $|\\psi'\\rangle \\ = \\ U|\\psi\\rangle$, we know that some density matrix will evolve as:\n",
    "\n",
    "$$\\rho \\ = \\ \\displaystyle\\sum_{i} p_i |\\psi_i\\rangle \\langle \\psi_i | \\ \\rightarrow \\ \\displaystyle\\sum_{i} p_i |\\psi_i'\\rangle \\langle \\psi_i' | \\ = \\ \\displaystyle\\sum_{i} p_i U |\\psi_i\\rangle \\langle \\psi_i | U^{\\dagger} \\ = \\ U \\rho U^{\\dagger}$$\n",
    "\n",
    "Anyways, getting back to $K_{\\theta}$, we must consider a method for selecting it. Luckily, the paper gives us a fairly obvious choice for this Hamiltonian:\n",
    "\n",
    "$$K_{\\theta} \\ = \\ \\displaystyle\\sum_{x} \\theta_x |x\\rangle \\langle x|$$\n",
    "\n",
    "Where each $|x\\rangle$ is a computational basis state of our qubit system. This Hamiltonian is quite simple, it is diagonal in the basis that we are used to operating in, and all we have to do is take our variational parameters and slap them onto the outer products of the different basis states. We can then construct our initial mixed state as follows:\n",
    "\n",
    "$$\\rho_{\\theta} \\ = \\ \\frac{1}{\\mathcal{Z}_{\\theta}} e^{-K_{\\theta}} \\ = \\ \\frac{1}{\\mathcal{Z}_{\\theta}} \\displaystyle\\sum_{n \\ = \\ 0}^{\\infty} \\ \\frac{(-K_{\\theta})^n}{n!} \\ = \\ = \\ \\frac{1}{\\mathcal{Z}_{\\theta}} \\displaystyle\\sum_{n \\ = \\ 0}^{\\infty} \\ \\frac{(-\\sum_{k} \\theta_k |k\\rangle \\langle k|)^n}{n!} \\ = \\ \\frac{1}{\\mathcal{Z}_{\\theta}} \\displaystyle\\sum_{n \\ = \\ 0}^{\\infty} \\displaystyle\\sum_{k} \\ \\frac{(-\\theta_k)^n}{n!} |k\\rangle \\langle k| \\ = \\ \\frac{1}{\\mathcal{Z}_{\\theta}} \\displaystyle\\sum_{k} e^{-\\theta_k} |k\\rangle \\langle k |$$\n",
    "\n",
    "This is great! All we have to do is sample from the probability distribution of $k \\ \\sim \\ \\frac{1}{\\mathcal{Z}_\\theta} e^{-\\theta_k}$, prepare $|k\\rangle$ which is fairly easy, since it is just a computational basis state, pass it through $\\hat{U}(\\phi)$, which we will discuss soon, and then repeat this process to calculate the expectation value and the cost function. \n",
    "\n",
    "**The Cost Function**\n",
    "\n",
    "Let's talk more about the cost function. We will define our cost function to be the following, which we call the **relative free energy** of our system:\n",
    "\n",
    "$$\\mathcal{L}(\\theta, \\ \\phi) \\ = \\ \\beta \\langle \\hat{H} \\rangle \\ - \\ S_\\theta \\ = \\ \\beta \\ \\text{Tr} (\\hat{H} \\ \\rho_{\\theta \\phi}) \\ - \\ S_\\theta \\ = \\ \\beta \\ \\text{Tr}( \\hat{H} \\ \\hat{U}(\\phi) \\rho_{\\theta} \\hat{U}(\\phi)^{\\dagger} ) \\ - \\ S_\\theta$$\n",
    "\n",
    "This is very similar to the concept of **Helmholtz free energy** from thermal physics, which is given as:\n",
    "\n",
    "$$FE \\ = \\ U \\ - \\ TS \\ = \\ U \\ - \\ \\frac{S}{\\beta}$$\n",
    "\n",
    "Where $H$ is the internal energy of the system, $T$ is the temperature, and $S$ is the entropy. Mapping this to the language of quantum states, we get:\n",
    "\n",
    "$$F \\ = \\ \\langle \\hat{H} \\rangle \\ - \\ \\frac{S_\\phi}{\\beta}$$\n",
    "\n",
    "Where internal energy is mapped to the expectation value of the energy of our quantum system, and the entropy is mapped to the Von Neumann entropy of our state. Multiplying by $\\beta$, and we recover our initial loss function, $\\mathcal{L}$. Now, let's convince ourselves that the thermal state of $\\hat{H}$ with temperature $T \\ = \\ 1/\\beta$ minimizes the loss function $\\mathcal{L}$. Consider the **relative entropy** between our two states. This is just an extnesion of the concept of **Von Neumann entropy** of a quantum state, which is defined as:\n",
    "\n",
    "$$S(\\rho) \\ = \\ - \\text{Tr} (\\rho \\log \\rho) \\ = \\ - \\displaystyle\\sum_{n} p_n \\log p_n$$\n",
    "\n",
    "Where:\n",
    "\n",
    "$$p_n \\ = \\ \\langle n | \\rho | n \\rangle$$\n",
    "\n",
    "Is the probability associated with measurement of the $|n\\rangle$ state in the mixed state $\\rho$, written as a sum of the eigenbasis formed by the eigenvectors of $\\rho$. This is effectively a measure of the \"density\" of individual pure quantum states in our overall mixed state. With a mixed quantum state where the probabilities $p_n$ are more \"spread out\" over many pure states, the Von Neumann entropy is higher, whereas if our state (let's call it $\\sigma$) is complete pure, then:\n",
    "\n",
    "$$S(\\sigma) \\ = \\ \\displaystyle\\sum_{n} p_n \\log p_n \\ = \\ - p_k \\log p_k \\ = \\ - 1 \\cdot \\log 1 \\ = \\ -1 \\cdot 0 \\ = \\ 0$$\n",
    "\n",
    "Because by definition of a pure state, one eigenstate has a probability of $1$, while the rest of probability $0$. The entropy is thus zero! In the event that we have a mixed state, each $p_n \\ < \\ 1$, it follows that $\\log p_n$ is negative, making our entropy greater than $0$, thus, our entropy is minimized when we have a pure state!\n",
    "\n",
    "Getting back on topic, we must conider the relative entropy between two states. This is just the amount of entropy that one state has, with respect to another one. For instance, if I compared the relative entropy of two copies of the same state, I would get a value of $0$, as the entropy of both states is completely the same. You can think about one of the states as our \"reference point\" (just as the completely pure state is our reference point in the case of normal calculations of entropy). We define this relative entropy as:\n",
    "\n",
    "$$D(\\rho_1 || \\rho_2) \\ = \\ \\text{Tr} (\\rho_1 \\log \\rho_1) \\ - \\ \\text{Tr}(\\rho_1 \\log \\rho_2)$$\n",
    "\n",
    "If we take the relative entropy of some state $\\rho$ with respect to our thermal state, we get:\n",
    "\n",
    "$$D(\\rho || \\rho_{\\text{Thermal}}) \\ = \\ \\text{Tr} (\\rho \\log \\rho) \\ - \\ \\text{Tr}(\\rho \\log \\rho_{\\text{Thermal}}) \\ = \\ \\text{Tr} (\\rho \\log \\rho) \\ - \\ \\text{Tr}(\\rho \\log \\rho_{\\text{Thermal}}) \\ = \\ \\beta \\text{Tr}(\\rho \\hat{H}) \\ - \\ S(\\rho) \\ + \\ \\log \\mathcal{Z}$$\n",
    "\n",
    "Now, since relative entropy will always be greater than or equal to $0$ (I'm not going to prove this in this Notebook), we know that this quantity that we have calculated will be $0$ (and thus minimized), when $\\rho$ is equal to the thermal state itself. Thus, if we want to variationally learn the thermal state, all we have to do is minimize the quantity $\\beta \\text{Tr}(\\rho \\hat{H}) \\ - \\ S(\\rho)$ (we can omit the $\\log \\mathcal{Z}$, as this is just an overall added constant. This is exactly the loss function that we proposed that we use initially, thus we have shown that minimization of this loss function does in fact equte to $\\rho$ being in the desired thermal state! This is almost like a more general version of the variational principle: any thermal state that we prepare will have a greater \"free energy\" with respect to some Hamiltonian than the desired thermal state, just as the expected energy with respect some Hamiltonian of any pure state will have a greater energy than the ground state!\n",
    "\n",
    "For fun, let's now calculate the loss function for the exact representation of the thermal state corresponding to $\\hat{H}$ and $\\beta$:\n",
    "\n",
    "$$\\mathcal{L}_{\\text{Thermal}} \\ = \\ \\beta \\text{Tr}(\\rho_{\\text{Thermal}} \\hat{H}) \\ + \\ \\text{Tr} ( \\rho_{\\text{Thermal}} \\ \\log \\rho_{\\text{Thermal}} ) \\ = \\ \\beta \\text{Tr}\\Bigg( \\frac{e^{-\\beta \\hat{H}}}{\\mathcal{Z}_{\\beta}} \\hat{H} \\Bigg) \\ + \\ \\text{Tr} \\Bigg( \\frac{e^{-\\beta \\hat{H}}}{\\mathcal{Z}_{\\beta}} \\log \\frac{e^{-\\beta \\hat{H}}}{\\mathcal{Z}_{\\beta}} \\Bigg)$$\n",
    "\n",
    "Where the partition function is given as:\n",
    "\n",
    "$$\\mathcal{Z}_{\\beta} \\ = \\ \\text{Tr}(e^{-\\beta \\hat{H}})$$\n",
    "\n",
    "Continuing this expansion, we get:\n",
    "\n",
    "$$\\beta \\text{Tr}\\Bigg( \\frac{e^{-\\beta \\hat{H}}}{\\mathcal{Z}_{\\beta}} \\hat{H} \\Bigg) \\ + \\ \\text{Tr} \\Bigg( \\frac{e^{-\\beta \\hat{H}}}{\\mathcal{Z}_{\\beta}} \\log \\frac{e^{-\\beta \\hat{H}}}{\\mathcal{Z}_{\\beta}} \\Bigg) \\ = \\ \\frac{1}{\\mathcal{Z}_{\\beta}} \\ \\Bigg[ \\beta  \\text{Tr} \\big( \\hat{H} \\ e^{ -\\beta \\hat{H}} \\big) \\ + \\ \\text{Tr} \\Bigg( e^{-\\beta \\hat{H}} \\ \\log \\frac{e^{-\\beta \\hat{H}}}{\\mathcal{Z}_{\\beta}} \\Bigg) \\Bigg] \\ = \\ \\frac{1}{\\mathcal{Z}_{\\beta}} \\ \\Bigg[ \\beta  \\text{Tr} \\big( \\hat{H} \\ e^{ -\\beta \\hat{H}} \\big) \\ + \\ \\text{Tr} ( e^{-\\beta \\hat{H}} \\ ( \\log e^{-\\beta \\hat{H}} \\ - \\ \\log \\mathcal{Z}_{\\beta} )) \\Bigg] \\ = \\ \\frac{1}{\\mathcal{Z}_{\\beta}} \\ \\Bigg[ \\beta  \\text{Tr} \\big( \\hat{H} \\ e^{ -\\beta \\hat{H}} \\big) \\ - \\ \\beta \\text{Tr} \\big( e^{-\\beta \\hat{H}} \\hat{H} \\big) \\ - \\ \\text{Tr} \\big( e^{-\\beta \\hat{H}} \\log \\mathcal{Z}_{\\beta} \\big) \\Bigg] \\ = \\ - \\frac{\\text{Tr} \\big( e^{-\\beta \\hat{H}} \\big) \\log \\mathcal{Z}_{\\beta}}{\\mathcal{Z}_{\\beta}} \\ = \\ - \\log \\mathcal{Z}_{\\beta}$$\n",
    "\n",
    "This makes sense, since substituting it into the original expression for relative entropy gives us a value of $0$, meaning that we have preparred a state equivalent to the thermal state.\n",
    "\n",
    "Using the Von Neumann entropy as a part of our cost function as actually super convenient, as **entropy remains invariant under unitary transformation**. This essentially means that we don't need to \"compute\" the entropy of our state after passing it through our ansatz circuit. Instead, we can pick an initial state with an entropy that is very easy to determine. This means that entropy is a function of only our $\\theta$ parameters, and is completely independent of our choice of $\\phi$! We can prove this fairly easily. Let's consider some density matrix $\\rho$, with $\\rho \\ \\rightarrow \\ \\rho'$ with $\\rho' \\ = \\ U \\rho U^{\\dagger}$. We compute the entropy of our initial state:\n",
    "\n",
    "$$S(\\rho) \\ = \\ - \\text{Tr} ( \\rho \\log \\rho)$$\n",
    "\n",
    "And then consider the entropy of our transformed state:\n",
    "\n",
    "$$S(\\rho') \\ = \\ - \\text{Tr} (\\rho' \\log \\rho') \\ = \\ - \\text{Tr} ( U \\rho U^{\\dagger} \\log (U \\rho U^{\\dagger})) \\ = \\ - \\text{Tr} ( U \\rho U^{\\dagger} \\log \\rho) \\ = \\ - \\text{Tr} ( U \\rho \\log \\rho U^{\\dagger}) \\ = \\ - \\text{Tr} ( \\rho \\log \\rho U^{\\dagger} U) \\ = \\ - \\text{Tr} ( \\rho \\log \\rho) \\ = \\ S(\\rho)$$\n",
    "\n",
    "Therefore the entropy remains invariant under a unitary transformation, as:\n",
    "\n",
    "$$\\log (U \\rho U^{\\dagger}) \\ = \\ \\log U \\ + \\ \\log \\rho \\ + \\ \\log U^{\\dagger} \\ = \\ \\log U \\ + \\ \\log U^{\\dagger} \\ + \\ \\log \\rho \\ = \\ \\log (U^{\\dagger} U) \\ + \\ \\log \\rho \\ = \\ \\log \\rho$$\n",
    "\n",
    "We also take advantage of the fact that $\\text{Tr}(AB) \\ = \\ \\text{Tr}(BA)$. This can also be proved fairly easily as well:\n",
    "\n",
    "$$\\text{Tr}(AB) \\ = \\ \\displaystyle\\sum_{j} AB_{jj} \\ = \\ \\displaystyle\\sum_{j, \\ k} A_{jk} B_{kj} \\ = \\ \\displaystyle\\sum_{j, \\ k} B_{kj} A_{jk} \\ = \\ \\displaystyle\\sum_{k} BA_{kk} \\ = \\ \\text{Tr} (BA)$$\n",
    "\n",
    "**Scalability of the Algorithm**\n",
    "\n",
    "Now, we have outlined a pretty great process for learning thermal states, however, we have yet to address one large issue: **scalability**. At the moment the algorithm scales fairly poorly. Specifically, when we consider the set of parameters $\\theta$ that determine our \"basic\" Hamiltonian, at the moment, we assign some parameter $\\theta_j$ to each of the computational basis states. This means that for $n$ qubits, we require $2^n$ parameters! That design scales **incredibly** poorly. However, we can ensure that our $\\theta$ parameters scale **linearly** by **parametrizing the latent space**. This esentially means that we will break our initial mixed state into multiple subcomponents, each determined by only one parameter $\\theta_j$. If each component of our latent space is given by the mixed state $\\rho_j$, then our total initial state will be given as:\n",
    "\n",
    "$$\\rho(\\theta) \\ = \\ \\displaystyle\\bigotimes_{j} \\ \\rho_j (\\theta_j)$$\n",
    "\n",
    "Where, for the purposes of our simulations, we will utilize a **factorized latent space**. In addition to breaking our initial mixed state up into smalled parts, we also break apart our initial Hamiltonian, $K_\\theta$ into a series of $K_{\\theta_j}$ terms, with the total Hamiltonian being the sum of all these terms:\n",
    "\n",
    "$$K_\\theta \\ = \\ \\displaystyle\\sum_{j} K_{\\theta_j}$$\n",
    "\n",
    "Remembering the exponential structure of our initial mixed state:\n",
    "\n",
    "$$\\rho_\\theta \\ = \\ \\frac{1}{\\mathcal{Z}_{\\theta}} e^{-K_{\\theta}} \\ = \\ \\frac{1}{\\mathcal{Z}_{\\theta}} e^{-{\\sum_j K_{\\theta_j}}} \\ \\Rightarrow \\ \\bigotimes_{j} \\ \\frac{1}{\\mathcal{Z}_{\\theta}} e^{-{K_{\\theta_j}}}$$\n",
    "\n",
    "It becomes a tensor product of the individual subspaces if we define our initial mixed states $\\rho_j$ only over the smaller Hilbert space in which each \"operates\" (for example, the basis $|0\\rangle$ and $|1\\rangle$). We can now choose a basic form for our parametrized \"sub-Hamiltonians\":\n",
    "\n",
    "$$K_{\\theta_j} \\ = \\ \\displaystyle\\sum_{k} \\ \\theta_{jk} |k\\rangle \\langle k|_{j}$$\n",
    "\n",
    "After we do this, we may re-write our initial state:\n",
    "\n",
    "$$\\rho_{\\theta_j} \\ = \\ \\frac{1}{\\mathcal{Z}_{\\theta_j}} e^{-K_{\\theta_j}} \\ = \\ \\frac{1}{\\mathcal{Z}_{\\theta_j}} \\displaystyle\\sum_{n \\ = \\ 0}^{\\infty} \\ \\frac{(-K_{\\theta_j})^n}{n!} \\ = \\ = \\ \\frac{1}{\\mathcal{Z}_{\\theta_j}} \\displaystyle\\sum_{n \\ = \\ 0}^{\\infty} \\ \\frac{(-\\sum_{k} \\theta_{jk} |k\\rangle \\langle k|_j)^n}{n!} \\ = \\ \\frac{1}{\\mathcal{Z}_{\\theta_j}} \\displaystyle\\sum_{n \\ = \\ 0}^{\\infty} \\displaystyle\\sum_{k} \\ \\frac{(-\\theta_{jk})^n}{n!} |k\\rangle \\langle k|_j \\ = \\ \\frac{1}{\\mathcal{Z}_{\\theta_j}} \\displaystyle\\sum_{k} e^{-\\theta_{jk}} |k\\rangle \\langle k |_j$$\n",
    "\n",
    "So, if we are operating in a Hilbert space with dimension $2$ (we will likely be performing this experiment with qubits, thus this will be the case, however, thr algorithm can be generalized to $d$-level qudits), in the basis of $|k\\rangle_j$, we have:\n",
    "\n",
    "$$\\rho_{\\theta_j} \\ = \\ \\frac{1}{\\mathcal{Z}_{\\theta_j}} \\begin{pmatrix} e^{-\\theta_{j0}} & 0 \\\\ 0 & e^{-\\theta_{j1}} \\end{pmatrix} \\ = \\ \\begin{pmatrix} p_j(\\theta_{j0}) & 0 \\\\ 0 & p_j(\\theta_{j1}) \\end{pmatrix}$$\n",
    "\n",
    "This form suggests to us that we may be able to make the algorithm even more scalable. Right now, we require $2n$ parameters in the set $\\theta$, however, due to the normalization condition, it must be true that:\n",
    "\n",
    "$$p_j(\\theta_{j0}) \\ + \\ p_j(\\theta_{j1}) \\ = \\ 1$$\n",
    "\n",
    "We wish to eliminate the parameter $\\theta_{j1}$ from our initial states, leaving only one parameter for each of the mixed states. Without loss of generality:\n",
    "\n",
    "$$p_j(\\theta_{j1}) \\ = \\ 1 \\ - \\ e^{-\\theta_{j0}}$$\n",
    "\n",
    "And making it so that each $\\rho_j$ is given as:\n",
    "\n",
    "$$\\rho_{\\theta_j} \\ = \\ \\begin{pmatrix} p_j(\\theta_{j}) & 0 \\\\ 0 & 1 \\ - \\ p_j(\\theta_{j}) \\end{pmatrix} \\ = \\ \\begin{pmatrix} e^{-\\theta_{j}} & 0 \\\\ 0 & 1 \\ - \\ e^{-\\theta_{j}} \\end{pmatrix}$$\n",
    "\n",
    "Where we have renamed $\\theta_{j0}$ to $\\theta_{j}$, as we are left with only one parameter. This is a huge improvement, we have reduced thee number of $\\theta$ parameters from $2^n$ to $n$!\n",
    "\n",
    "To conclude our discussion of the theory (so we can actually move onto the experiments), we will also make note that the construction of our unitary $\\hat{U}(\\phi)$ will vary from problem to problem, so we will discuss this in more depth for each simulation that we run.\n",
    "\n",
    "**VQT At Zero Temperature: The Variational Quantum Eigensolver**\n",
    "\n",
    "There is one more thing that we have to discuss before we start taking a look at some real simulations. This, in my humble opinion, is one of the coolest things about this entire quantum algorithm: as temperature approaches $0$, the VQT converges towards the well-known VQE! I guess that should be apparent, as the thermal state at $T \\ = \\ 0$ is the ground state, but it still blows my mind that the math all checks out! We can prove this more easily than you would think, if we investigate the cost function:\n",
    "\n",
    "$$\\mathcal{L}(\\theta, \\ \\phi) \\ = \\ \\beta \\langle \\hat{H} \\rangle \\ - \\ S_\\theta$$\n",
    "\n",
    "We then divide by $\\beta$ (keep in mind that for a fixed value of $\\beta$, it just acts as some overall scaling parameter: the minimum of the function remains unchanged). We get:\n",
    "\n",
    "$$\\frac{1}{\\beta} \\ \\mathcal{L}(\\theta, \\ \\phi) \\ = \\ \\langle \\hat{H} \\rangle \\ - \\ \\frac{1}{\\beta} \\ S_\\theta \\ = \\ \\langle H \\rangle \\ - \\ T S_\\theta$$\n",
    "\n",
    "So in the limit of $0$ temperature, since we know that the Von Neumann entropy is bounded above and below, the entropy/temperature term will approach $0$, and we will get:\n",
    "\n",
    "$$\\frac{1}{\\beta} \\ \\mathcal{L}(\\theta, \\ \\phi) \\ \\rightarrow \\ \\langle H \\rangle \\ \\ \\ \\ \\text{for} \\ \\ \\ T \\ \\rightarrow \\ 0$$\n",
    "\n",
    "Which is exactly the Variational Quantum Eigensolver: preparring some arbitrary quantum state and then minimizing the exepcted value of the Hamiltonian to find the ground state! This then tells us that the VQT is really just a generalization of the VQE, for mixed states at temperatures above absolute $0$!"
   ]
  },
  {
   "cell_type": "markdown",
   "metadata": {},
   "source": [
    "#### **A Sanity Check: Numerical Simulation of the VQT For an Uncoupled Hamiltonian**\n",
    "\n",
    "Now that we havegone through a lot of the necessary mathematical rigour to understand how VQT works, we can now attempt to simulate it! Before we attempt to simulate VQT as it was designed to be run on a real quantum computer, we're going to first create a numerical simulation to ensure that we actually know what we're doing, then we'll modify some of the code to create a sampling-based simulation.\n",
    "\n",
    "We can start by deciding on which Hamiltonian we will use, as well as how we should construct our variational circuit $U(\\phi)$. To start off, we will consider a fairly basic Hamiltonian:\n",
    "\n",
    "$$\\hat{H} \\ = \\ \\displaystyle\\sum_{i} X_i$$\n",
    "\n",
    "We are just summing together the $X$-operation acting on each qubit. For mathematical purposes in our simulation, and to help visualize what this Hamiltonian actually looks like, we can code up a little function that prepares this Hamiltonian for us, in $2^n$ dimensions, where $n$ is the number of qubits in our system:"
   ]
  },
  {
   "cell_type": "code",
   "execution_count": 5,
   "metadata": {},
   "outputs": [
    {
     "name": "stdout",
     "output_type": "stream",
     "text": [
      "[[0. 1. 1. 0. 1. 0. 0. 0.]\n",
      " [1. 0. 0. 1. 0. 1. 0. 0.]\n",
      " [1. 0. 0. 1. 0. 0. 1. 0.]\n",
      " [0. 1. 1. 0. 0. 0. 0. 1.]\n",
      " [1. 0. 0. 0. 0. 1. 1. 0.]\n",
      " [0. 1. 0. 0. 1. 0. 0. 1.]\n",
      " [0. 0. 1. 0. 1. 0. 0. 1.]\n",
      " [0. 0. 0. 1. 0. 1. 1. 0.]]\n"
     ]
    }
   ],
   "source": [
    "#Prepares the Hamiltonian matrix for the X-Hamiltonian\n",
    "\n",
    "def create_hamiltonian_matrix(n):\n",
    "\n",
    "    pauli_x = np.array([[0, 1], [1, 0]])\n",
    "    identity = np.array([[1, 0], [0, 1]])\n",
    "    \n",
    "    matrix = np.zeros((2**n, 2**n))\n",
    "\n",
    "    for i in range(0, n):\n",
    "        m = 1\n",
    "        for j in range(0, n):\n",
    "            if (j == i):\n",
    "                m = np.kron(m, pauli_x)\n",
    "            else:\n",
    "                m = np.kron(m, identity)\n",
    "        matrix = np.add(matrix, m)\n",
    "    \n",
    "    return matrix\n",
    "\n",
    "print(create_hamiltonian_matrix(3))"
   ]
  },
  {
   "cell_type": "markdown",
   "metadata": {},
   "source": [
    "Before we start simulating the VQT, it makes sense for us to have a sense of the Hamiltonian that we are attempting to simulate. We can fairly easily construct a visualization tool that allows us to have a visual representation of the density matrix corresponding to our state (we are examining the real part, however, in this case, the density matrix is completely real to begin with):"
   ]
  },
  {
   "cell_type": "code",
   "execution_count": 6,
   "metadata": {},
   "outputs": [],
   "source": [
    "#Creates the grid visualization of the density matrices\n",
    "\n",
    "def create_density_plot(data):\n",
    "\n",
    "    array = np.array(data)\n",
    "    plt.matshow(array)\n",
    "    plt.colorbar()\n",
    "    plt.show()"
   ]
  },
  {
   "cell_type": "markdown",
   "metadata": {},
   "source": [
    "Now, we can construct the density matrix for our target state numerically, and plot it with our visualization tool. In the end, all we are doing is calculating the quantity:\n",
    "\n",
    "$$\\rho_{\\text{thermal}} \\ = \\ \\frac{e^{-\\beta \\hat{H}}}{\\mathcal{Z}}$$\n",
    "\n",
    "and then visualizing it, along with printing the value of the cost function corresponding to this state (as was defined above):"
   ]
  },
  {
   "cell_type": "code",
   "execution_count": 7,
   "metadata": {},
   "outputs": [
    {
     "data": {
      "image/png": "[encoded data removed]",
      "text/plain": [
       "<Figure size 288x288 with 2 Axes>"
      ]
     },
     "metadata": {
      "needs_background": "light"
     },
     "output_type": "display_data"
    },
    {
     "name": "stdout",
     "output_type": "stream",
     "text": [
      "Expectation Value: -2.284782467867294\n",
      "Entropy: 1.0960015652616235\n",
      "Final Cost: -3.3807840331289176\n"
     ]
    }
   ],
   "source": [
    "# Initializes values\n",
    "\n",
    "beta = 1 #Note that B = 1/T\n",
    "qubit = 3\n",
    "\n",
    "# Creates the target density matrix\n",
    "\n",
    "def create_target(qubit, beta):\n",
    "\n",
    "    h = create_hamiltonian_matrix(qubit)\n",
    "    y = -1*float(beta)*h\n",
    "    new_matrix = scipy.linalg.expm(np.array(y))\n",
    "    norm = np.trace(new_matrix)\n",
    "    final_target = (1/norm)*new_matrix\n",
    "\n",
    "    # Calculates the entropy, the expectation value, and the final cost\n",
    "\n",
    "    entropy = -1*np.trace(np.matmul(final_target, scipy.linalg.logm(final_target)))\n",
    "    ev = np.trace(np.matmul(final_target, h))\n",
    "    real_cost = beta*np.trace(np.matmul(final_target, h)) - entropy\n",
    "\n",
    "    # Plots the final density matrix\n",
    "\n",
    "    create_density_plot(final_target.real)\n",
    "\n",
    "    # Prints the calculated values\n",
    "\n",
    "    print(\"Expectation Value: \"+str(ev))\n",
    "    print(\"Entropy: \"+str(entropy))\n",
    "    print(\"Final Cost: \"+str(real_cost))\n",
    "\n",
    "create_target(qubit, beta)"
   ]
  },
  {
   "cell_type": "markdown",
   "metadata": {},
   "source": [
    "So now that have an idea of what our colorful density matrix should look like at the end of our simulation, we can start implementing the VQT!"
   ]
  },
  {
   "cell_type": "markdown",
   "metadata": {},
   "source": [
    "We can begin by constructing our ansatz unitary, which serves the purpose of coupling together and \"mixing around\" our parametrized subpsaces, in the $VQE$-like fashion. Since the Hamiltonian we have defined has no coupling, we won't need any coupling terms in our ansatz. Thus, keeping our ansatz general, we choose:\n",
    "\n",
    "$$U(\\phi) \\ = \\ Ry(\\phi_1) \\ Rx (\\phi_2) \\ Rz(\\phi_3)$$\n",
    "\n",
    "applied to each of the qubits. We can code this up fairly easily:"
   ]
  },
  {
   "cell_type": "code",
   "execution_count": 8,
   "metadata": {},
   "outputs": [],
   "source": [
    "# Creates the single rotational ansatz\n",
    "\n",
    "def single_rotation(circ, phi_params, qubit):\n",
    "\n",
    "    circ.rz(phi_params[0], qubit)\n",
    "    circ.ry(phi_params[1], qubit)\n",
    "    circ.rx(phi_params[2], qubit)"
   ]
  },
  {
   "cell_type": "markdown",
   "metadata": {},
   "source": [
    "We then write a function for applying the unitary gate onto the circuit:"
   ]
  },
  {
   "cell_type": "code",
   "execution_count": 9,
   "metadata": {},
   "outputs": [],
   "source": [
    "# Sets the depth of our unitary circuit\n",
    "\n",
    "depth = 1\n",
    "\n",
    "# Creates the U gate unitary to apply to the initial qubit state\n",
    "\n",
    "def add_u_gate(circ, single_phi, qubit):\n",
    "    for j in range(0, depth):\n",
    "        for i in range(0, qubit):\n",
    "            single_rotation(circ, single_phi[j][i], i)"
   ]
  },
  {
   "cell_type": "markdown",
   "metadata": {},
   "source": [
    "Now, let's turn our attention to creating the initial probability distribution and initializing the state corresponding to the value sampled from the probability distribution. We can pretty easily create a function that initializes a probability distribution for each parameter $\\theta_j$:"
   ]
  },
  {
   "cell_type": "code",
   "execution_count": 10,
   "metadata": {},
   "outputs": [],
   "source": [
    "# Creates the probability distribution according to the theta parameters\n",
    "\n",
    "def create_dist(theta_param):\n",
    "\n",
    "    prob = []\n",
    "    for i in range(0, len(theta_param)):\n",
    "        prob.append([math.exp(-1*theta_param[i]), 1-math.exp(-1*theta_param[i])])\n",
    "\n",
    "    return prob"
   ]
  },
  {
   "cell_type": "markdown",
   "metadata": {},
   "source": [
    "As you can see, we create a list with elements $e^{-\\theta_j}$ and $1 \\ - \\ e^{-\\theta_j}$. We can also very easily create our $V$ gate that initializes a basis state corresponding to an inputted list of $0$s and $1$s:"
   ]
  },
  {
   "cell_type": "code",
   "execution_count": 11,
   "metadata": {},
   "outputs": [],
   "source": [
    "#Creates the initialization unitary for each of the computational basis states\n",
    "\n",
    "def create_v_gate(circ, prep_state):\n",
    "\n",
    "    for i in range(0, len(prep_state)):\n",
    "        if (prep_state[i] == 1):\n",
    "            circ.x(i)"
   ]
  },
  {
   "cell_type": "markdown",
   "metadata": {},
   "source": [
    "Great, so now we have most of the building blocks we need in order to create our VQT circuit! We can now create our cost function, which essentially simulates our circuit for certain variational parameters, then **numerically** calculates the cost function corresponding to the preparred state. We can then optimize this cost function to find the thermal state corresponding to our Hamiltonian/temperature."
   ]
  },
  {
   "cell_type": "code",
   "execution_count": 12,
   "metadata": {},
   "outputs": [],
   "source": [
    "#Numerical cost function\n",
    "\n",
    "counting_num = 0\n",
    "\n",
    "def cost_function(param):\n",
    "    \n",
    "    global counting_num\n",
    "    \n",
    "    # Prepares the Hamiltonian\n",
    "    ham_matrix = create_hamiltonian_matrix(qubit)\n",
    "\n",
    "    # Splits the inputted list of parameters into our lists phi and theta\n",
    "    single_phi = [[param[0:3], param[3:6], param[6:9]]]\n",
    "    theta = param[9:12]\n",
    "    \n",
    "    # Prepares the probability distribution\n",
    "    opt_prob_dist = create_dist(theta)\n",
    "    \n",
    "    # Calculates the probability of (This is NUMERICAL, not how the algorithm would function in reality)\n",
    "    p = []\n",
    "    for i in range(0, 2):\n",
    "        for j in range(0, 2):\n",
    "            for v in range(0, 2):\n",
    "                p.append(opt_prob_dist[0][i]*opt_prob_dist[1][j]*opt_prob_dist[2][v])\n",
    "\n",
    "    # Creates and empty matrix initializing our density matrix\n",
    "    state = np.zeros((2**qubit, 2**qubit))\n",
    "\n",
    "    for l in range(0, 2**qubit):\n",
    "        \n",
    "        # Creates the circuit\n",
    "        circ = QuantumCircuit(qubit)\n",
    "        create_v_gate(circ, [int(i) for i in list(bin(l)[2:].zfill(qubit))])\n",
    "        add_u_gate(circ, single_phi, qubit)\n",
    "\n",
    "        # Simulates the circuit\n",
    "        backend = Aer.get_backend('statevector_simulator')\n",
    "        job = execute(circ, backend)\n",
    "        result = job.result()\n",
    "        outputstate = result.get_statevector(circ)\n",
    "\n",
    "        # Adds a term to our \"density matrix sum\"\n",
    "        state = np.add(state, p[l]*np.outer(outputstate, np.conj(outputstate)))\n",
    "\n",
    "    # Calculates the entropy of our state\n",
    "    entropy = -1*np.trace(np.matmul(state, scipy.linalg.logm(state)))\n",
    "\n",
    "    #Calculates our final cost function\n",
    "    cost = beta*np.trace(np.matmul(ham_matrix, state)) - entropy\n",
    "    \n",
    "    if (counting_num%20 == 0):\n",
    "        print(\"Cost at Step \"+str(counting_num)+\": \"+str(cost.real))\n",
    "    counting_num += 1\n",
    "    return cost.real"
   ]
  },
  {
   "cell_type": "markdown",
   "metadata": {},
   "source": [
    "We can now finally go about optimizing our cost function in order to find the correct state, finding the optimal $\\phi$ and $\\theta$ parameters, then feeding these optimal parameters back into our circuit to find the optimal mixed state (which should correspond to the thermal state)!"
   ]
  },
  {
   "cell_type": "code",
   "execution_count": 13,
   "metadata": {},
   "outputs": [
    {
     "name": "stdout",
     "output_type": "stream",
     "text": [
      "Cost at Step 0: -1.54656287290176\n",
      "Cost at Step 20: -2.7235910734945907\n",
      "Cost at Step 40: -3.3157668430090483\n",
      "Cost at Step 60: -3.3669194439120163\n",
      "Cost at Step 80: -3.3782449822624208\n",
      "Cost at Step 100: -3.3801059927121964\n",
      "Cost at Step 120: -3.380578106938936\n",
      "Cost at Step 140: -3.380776330560899\n",
      "Cost at Step 160: -3.3807830553037874\n",
      "Cost at Step 180: -3.38078398593243\n",
      "     fun: -3.380784016178332\n",
      "   maxcv: 0.0\n",
      " message: 'Maximum number of function evaluations has been exceeded.'\n",
      "    nfev: 200\n",
      "  status: 2\n",
      " success: False\n",
      "       x: array([ 2.74495658,  1.57077262,  1.48344151, -0.19662863,  1.57090528,\n",
      "        1.30507263, -1.57339935,  1.57070579,  0.13747787,  2.12717038,\n",
      "        2.12717145,  2.12679992])\n"
     ]
    },
    {
     "data": {
      "image/png": "[encoded data removed]",
      "text/plain": [
       "<Figure size 288x288 with 2 Axes>"
      ]
     },
     "metadata": {
      "needs_background": "light"
     },
     "output_type": "display_data"
    },
    {
     "name": "stdout",
     "output_type": "stream",
     "text": [
      "Final Entropy: 1.095916291691522\n",
      "Final Expectation Value: -2.28486772448681\n",
      "Final Cost: -3.380784016178332\n"
     ]
    }
   ],
   "source": [
    "#Creates lists of random numbers as the initial parameters fed into the circuit\n",
    "\n",
    "init1 = [random.randint(100, 200)/100 for i in range(0, qubit)]\n",
    "init2 = [random.randint(-100, 100)/50 for i in range(0, 3*qubit)]\n",
    "init = init2+init1\n",
    "\n",
    "#Creates the optimization process\n",
    "\n",
    "out = minimize(cost_function, x0=init, method=\"COBYLA\", options={'maxiter':200})\n",
    "g = out['x']\n",
    "print(out)\n",
    "\n",
    "param = g\n",
    "\n",
    "# Prepares the learned state\n",
    "\n",
    "single_phi = [[param[0:3], param[3:6], param[6:9]]]\n",
    "theta = param[9:12]\n",
    "\n",
    "opt_prob_dist = create_dist(theta)\n",
    "\n",
    "p = []\n",
    "for i in range(0, 2):\n",
    "    for j in range(0, 2):\n",
    "        for v in range(0, 2):\n",
    "            p.append(opt_prob_dist[0][i]*opt_prob_dist[1][j]*opt_prob_dist[2][v])\n",
    "\n",
    "state = np.zeros((2**qubit, 2**qubit))\n",
    "\n",
    "for l in range(0, 2**qubit):\n",
    "\n",
    "    circ = QuantumCircuit(qubit, qubit)\n",
    "    create_v_gate(circ, [int(i) for i in list(bin(l)[2:].zfill(qubit))])\n",
    "    add_u_gate(circ, single_phi, qubit)\n",
    "\n",
    "    backend = Aer.get_backend('statevector_simulator')\n",
    "    job = execute(circ, backend)\n",
    "    result = job.result()\n",
    "    outputstate = result.get_statevector(circ)\n",
    "\n",
    "    state = np.add(state, p[l]*np.outer(outputstate, np.conj(outputstate)))\n",
    "\n",
    "ham_matrix = create_hamiltonian_matrix(qubit)\n",
    "entropy = -1*np.trace(np.matmul(state, scipy.linalg.logm(state)))\n",
    "ev = np.trace(np.matmul(ham_matrix, state))\n",
    "\n",
    "create_density_plot(state.real)\n",
    "\n",
    "print(\"Final Entropy: \"+str(entropy.real))\n",
    "print(\"Final Expectation Value: \"+str(ev.real))\n",
    "print(\"Final Cost: \"+str(beta*ev.real - entropy.real))"
   ]
  },
  {
   "cell_type": "markdown",
   "metadata": {},
   "source": [
    "So it looks like our simulation did quite well!"
   ]
  },
  {
   "cell_type": "markdown",
   "metadata": {},
   "source": [
    "#### **Numerical Simulations of the VQT For Coupled Hamiltonians**"
   ]
  },
  {
   "cell_type": "markdown",
   "metadata": {},
   "source": [
    "Ok, so we've shown that the VQAT works when faced with an incredibly basic Hamiltonian. However, in my opinion, the example that we just did was pretty boring. We want to show that our factorized latent space works even in the fact of coupling between the different subsystems, instead of keeping each of the subsystems independent of one another. For that reason, we're going to do one more numerical simulation, this time of a more complex Hamiltonian: the one-dimension Heisenberg model.\n",
    "\n",
    "The Hamiltonian for the Heisenberg model looks something like this:\n",
    "\n",
    "$$\\hat{H} \\ = \\ \\displaystyle\\sum \\ \\textbf{S}_i \\ \\cdot \\ \\textbf{S}_{i+1} \\ + \\ \\displaystyle\\sum \\ X_i \\ = \\ \\displaystyle\\sum \\ X_i X_{i+1} \\ + \\ Y_i Y_{i+1} \\ + \\ Z_i Z_{i+1} \\ + \\ \\displaystyle\\sum \\ X_i$$\n",
    "\n",
    "Let's first take a look at what the density matrix/cost is **supposed to be** for this Hamiltonian. We'll start by making a minor modification to our previous \"matrix construction\" function to create the Heisenberg Hamiltonian:"
   ]
  },
  {
   "cell_type": "code",
   "execution_count": 14,
   "metadata": {},
   "outputs": [
    {
     "name": "stdout",
     "output_type": "stream",
     "text": [
      "[[ 2.+0.j  1.+0.j  1.+0.j  0.+0.j  1.+0.j  0.+0.j  0.+0.j  0.+0.j]\n",
      " [ 1.+0.j  0.+0.j  2.+0.j  1.+0.j  0.+0.j  1.+0.j  0.+0.j  0.+0.j]\n",
      " [ 1.+0.j  2.+0.j -2.+0.j  1.+0.j  2.+0.j  0.+0.j  1.+0.j  0.+0.j]\n",
      " [ 0.+0.j  1.+0.j  1.+0.j  0.+0.j  0.+0.j  2.+0.j  0.+0.j  1.+0.j]\n",
      " [ 1.+0.j  0.+0.j  2.+0.j  0.+0.j  0.+0.j  1.+0.j  1.+0.j  0.+0.j]\n",
      " [ 0.+0.j  1.+0.j  0.+0.j  2.+0.j  1.+0.j -2.+0.j  2.+0.j  1.+0.j]\n",
      " [ 0.+0.j  0.+0.j  1.+0.j  0.+0.j  1.+0.j  2.+0.j  0.+0.j  1.+0.j]\n",
      " [ 0.+0.j  0.+0.j  0.+0.j  1.+0.j  0.+0.j  1.+0.j  1.+0.j  2.+0.j]]\n"
     ]
    }
   ],
   "source": [
    "def create_hamiltonian_matrix(n):\n",
    "\n",
    "    pauli_x = np.array([[0, 1], [1, 0]])\n",
    "    pauli_y = np.array([[0, -1j], [1j, 0]])\n",
    "    pauli_z = np.array([[1, 0], [0, -1]])\n",
    "    identity = np.array([[1, 0], [0, 1]])\n",
    "\n",
    "    matrix = np.zeros((2**n, 2**n))\n",
    "\n",
    "    for i in range(0, n-1):\n",
    "        m = 1\n",
    "        for j in range(0, n):\n",
    "            if (j == i or j == i+1):\n",
    "                m = np.kron(m, pauli_x)\n",
    "            else:\n",
    "                m = np.kron(m, identity)\n",
    "        matrix = np.add(matrix, m)\n",
    "\n",
    "    for i in range(0, n-1):\n",
    "        m = 1\n",
    "        for j in range(0, n):\n",
    "            if (j == i or j == i+1):\n",
    "                m = np.kron(m, pauli_y)\n",
    "            else:\n",
    "                m = np.kron(m, identity)\n",
    "        matrix = np.add(matrix, m)\n",
    "\n",
    "    for i in range(0, n-1):\n",
    "        m = 1\n",
    "        for j in range(0, n):\n",
    "            if (j == i or j == i+1):\n",
    "                m = np.kron(m, pauli_z)\n",
    "            else:\n",
    "                m = np.kron(m, identity)\n",
    "        matrix = np.add(matrix, m)\n",
    "\n",
    "    for i in range(0, n):\n",
    "        m = 1\n",
    "        for j in range(0, n):\n",
    "            if (j == i):\n",
    "                m = np.kron(m, pauli_x)\n",
    "            else:\n",
    "                m = np.kron(m, identity)\n",
    "        matrix = np.add(matrix, m)\n",
    "\n",
    "\n",
    "    return matrix\n",
    "\n",
    "print(create_hamiltonian_matrix(3))"
   ]
  },
  {
   "cell_type": "markdown",
   "metadata": {},
   "source": [
    "And now we can use the same function as before to create our target density matrix, with $3$ qubits and $\\beta\\ = \\ 1$:"
   ]
  },
  {
   "cell_type": "code",
   "execution_count": 15,
   "metadata": {},
   "outputs": [
    {
     "data": {
      "image/png": "[encoded data removed]",
      "text/plain": [
       "<Figure size 288x288 with 2 Axes>"
      ]
     },
     "metadata": {
      "needs_background": "light"
     },
     "output_type": "display_data"
    },
    {
     "name": "stdout",
     "output_type": "stream",
     "text": [
      "Expectation Value: (-4.617704476259032+0j)\n",
      "Entropy: (0.5455233906195598-0j)\n",
      "Final Cost: (-5.163227866878592+0j)\n"
     ]
    }
   ],
   "source": [
    "qubit = 3\n",
    "beta = 1\n",
    "create_target(qubit, beta)"
   ]
  },
  {
   "cell_type": "markdown",
   "metadata": {},
   "source": [
    "Now, we can begin modifying the code that we used for the first Hamiltonian to simulate the Heisenberg model! We will start with redefining our ansatz unitary. This time, we will be utilizing a staggered layer of double qubit and single qubit interactions. We will have:\n",
    "\n",
    "$$\\hat{U}(\\phi)_{\\text{Double}} \\ = \\ [RZZ(\\phi_1) \\ RXX(\\phi_2) \\ RYY(\\phi_3)]_{i, \\ i+1}$$\n",
    "<br>\n",
    "$$\\hat{U}(\\phi)_{\\text{Single}} \\ = \\ [RZ(\\phi_1) \\ RY(\\phi_2) \\ RX(\\phi_3)]_{i} \\ \\otimes \\ [RZ(\\phi_4) \\ RY(\\phi_5) \\ RX(\\phi_6)]_{i+1}$$\n",
    "\n",
    "With our overall unitary for two qubits.\n",
    "\n",
    "$$\\hat{U}(\\phi) \\ = \\ \\hat{U}(\\phi_a)_{\\text{Double}} \\hat{U}(\\phi_b)_{\\text{Single}} \\hat{U}(\\phi_a)_{\\text{Double}}$$\n",
    "\n",
    "We then apply this unitary to all neighbouring pairs of qubits. In our case (3 qubits), we will apply it to qubits 1 and 2, then qubits 2 and 3. It isn't necessary to \"interact\" qubit 1 and qubit 3 directly, as they are not subject to any interaction terms in the Hamiltonian itself.\n",
    "\n",
    "Before we construct our ansatz, we have to take a small detour and construct the $RYY$ gate, as this gate is not implemented natively in Qiskit. Qiskit only supports the $RZZ$ and the $RXX$ gates, so it is necessary to decompose our $RYY$ gate into a product of these gates. This is fairly simple. We define the exponential $YY$ gate as:\n",
    "\n",
    "$$RYY(\\theta) \\ = \\ \\exp \\Big( -i\\theta (Y \\ \\otimes \\ Y) \\Big)$$\n",
    "\n",
    "We assert that: $RYY(\\theta) \\ = \\ (S \\ \\otimes \\ S) \\ RXX(\\theta) \\ (S^{\\dagger} \\ \\otimes S^{\\dagger})$, where $S$ is the phase gate. This is easy to prove:\n",
    "\n",
    "$$(S \\ \\otimes \\ S) \\ RXX(\\theta) \\ (S^{\\dagger} \\ \\otimes S^{\\dagger}) \\ = \\ (S \\ \\otimes S) \\ \\exp \\Big( -i\\theta (X \\ \\otimes \\ X) \\Big) \\ (S^{\\dagger} \\ \\otimes S^{\\dagger}) \\ = \\ \\exp \\Big( -i\\theta (S X S^{\\dagger} \\ \\otimes \\ S X S^{\\dagger}) \\Big)$$\n",
    "<br>\n",
    "$$\\Rightarrow \\ \\exp \\Big( -i\\theta (S X S^{\\dagger} \\ \\otimes \\ S X S^{\\dagger}) \\Big) \\ = \\ \\exp \\Big( -i\\theta (Y \\ \\otimes \\ Y) \\Big) \\ = \\ RYY(\\theta)$$\n",
    "\n",
    "We are allowed to bring our $S$ and $S^\\dagger$ operations into the exponential due to unitary exponentiation:\n",
    "\n",
    "$$U \\exp (A) U^{\\dagger} \\ = \\ U \\Big( \\displaystyle\\sum_{n \\ = \\ 0}^{\\infty} \\frac{(A \\ \\mathbb{I})^n}{n!} \\Big) U^{\\dagger} \\ = \\ \\Big( \\displaystyle\\sum_{n \\ = \\ 0}^{\\infty} \\frac{U (A \\ U^\\dagger U)^n U^\\dagger}{n!} \\Big) \\ = \\ \\Big( \\displaystyle\\sum_{n \\ = \\ 0}^{\\infty} \\frac{(UAU^\\dagger)^n}{n!} \\Big) \\ = \\ \\exp (U A U^\\dagger)$$\n",
    "\n",
    "We can code this up in Qiskit with relative ease!"
   ]
  },
  {
   "cell_type": "code",
   "execution_count": 16,
   "metadata": {},
   "outputs": [],
   "source": [
    "#Creates the RYY gate using the RXX gate and single-qubit rotations\n",
    "\n",
    "def ryy_gate(circ, qubit1, qubit2, theta):\n",
    "\n",
    "    circ.s(qubit1)\n",
    "    circ.s(qubit2)\n",
    "    circ.rxx(theta, qubit1, qubit2)\n",
    "    circ.sdg(qubit1)\n",
    "    circ.sdg(qubit2)"
   ]
  },
  {
   "cell_type": "markdown",
   "metadata": {},
   "source": [
    "Now we are free to make our double rotational unitary:"
   ]
  },
  {
   "cell_type": "code",
   "execution_count": 17,
   "metadata": {},
   "outputs": [],
   "source": [
    "#Creates the double rotational unitary\n",
    "\n",
    "def double_rotation(circ, phi_params, qubit1, qubit2):\n",
    "\n",
    "    circ.rzz(phi_params[0], qubit1, qubit2)\n",
    "    circ.rxx(phi_params[1], qubit1, qubit2)\n",
    "    ryy_gate(circ, qubit1, qubit2, phi_params[2])"
   ]
  },
  {
   "cell_type": "markdown",
   "metadata": {},
   "source": [
    "While we're at it, we can also re-define our ansatz unitary:"
   ]
  },
  {
   "cell_type": "code",
   "execution_count": 18,
   "metadata": {},
   "outputs": [],
   "source": [
    "double_pair = [[[0, 1], [1, 2]]]\n",
    "\n",
    "#Creates the ansatz unitary\n",
    "\n",
    "def add_u_gate(circ, double_phi, single_phi, qubit):\n",
    "    for j in range(0, depth):\n",
    "\n",
    "        for i in range(0, qubit-1):\n",
    "            double_rotation(circ, double_phi[j][i], double_pair[j][i][0], double_pair[j][i][1])\n",
    "\n",
    "        for i in range(0, qubit):\n",
    "            single_rotation(circ, single_phi[j][i], i)\n",
    "\n",
    "        for i in range(0, qubit-1):\n",
    "            double_rotation(circ, double_phi[j][i], double_pair[j][i][0], double_pair[j][i][1])"
   ]
  },
  {
   "cell_type": "markdown",
   "metadata": {},
   "source": [
    "Notice how I've specified where I want to double rotation gates applied in a list, just in case we want to change it later."
   ]
  },
  {
   "cell_type": "markdown",
   "metadata": {},
   "source": [
    "We then have to update our cost function and our output. Literally, the only changes we have to make are changing the parameter lists, and adding the `double_phi` variable to our ansatz function calls:"
   ]
  },
  {
   "cell_type": "code",
   "execution_count": 103,
   "metadata": {},
   "outputs": [
    {
     "name": "stdout",
     "output_type": "stream",
     "text": [
      "Cost at Step 0: -1.6546704718717633\n",
      "Cost at Step 50: -3.5138843647456897\n",
      "Cost at Step 100: -4.481541089498662\n",
      "Cost at Step 150: -4.769712265199862\n",
      "Cost at Step 200: -4.832128643160377\n",
      "Cost at Step 250: -4.878083652608903\n",
      "Cost at Step 300: -4.903950178149941\n",
      "Cost at Step 350: -4.922529185866541\n",
      "Cost at Step 400: -4.937353948380316\n",
      "Cost at Step 450: -4.9501125955452245\n",
      "     fun: -4.958525694198875\n",
      "   maxcv: 0.0\n",
      " message: 'Maximum number of function evaluations has been exceeded.'\n",
      "    nfev: 500\n",
      "  status: 2\n",
      " success: False\n",
      "       x: array([ 1.18745412e+00, -1.93532388e+00, -3.62236383e-01,  1.03521885e-02,\n",
      "       -7.79770898e-01,  2.42784797e-03,  9.03940068e-03,  2.35957793e-01,\n",
      "       -3.21288790e-01,  1.56008019e+00,  3.38015364e+00, -1.25486542e+00,\n",
      "       -4.86757526e-01,  1.56913003e+00,  9.79681016e-01,  3.70028190e+00,\n",
      "        3.30643044e+00,  3.65937468e+00])\n"
     ]
    },
    {
     "data": {
      "image/png": "[encoded data removed]",
      "text/plain": [
       "<Figure size 288x288 with 2 Axes>"
      ]
     },
     "metadata": {
      "needs_background": "light"
     },
     "output_type": "display_data"
    },
    {
     "name": "stdout",
     "output_type": "stream",
     "text": [
      "Final Entropy: 0.3926416700388085\n",
      "Final Expectation Value: -4.5658840241600664\n",
      "Final Cost: -4.958525694198875\n"
     ]
    }
   ],
   "source": [
    "counting_num = 0\n",
    "\n",
    "def cost_function(param):\n",
    "    \n",
    "    global counting_num\n",
    "\n",
    "    ham_matrix = create_hamiltonian_matrix(qubit)\n",
    "\n",
    "    double_phi = [[param[0:3], param[3:6]]]\n",
    "    single_phi = [[param[6:9], param[9:12], param[12:15]]]\n",
    "    theta = param[15:18]\n",
    "\n",
    "    opt_prob_dist = create_dist(theta)\n",
    "\n",
    "    p = []\n",
    "    for i in range(0, 2):\n",
    "        for j in range(0, 2):\n",
    "            for v in range(0, 2):\n",
    "                p.append(opt_prob_dist[0][i]*opt_prob_dist[1][j]*opt_prob_dist[2][v])\n",
    "\n",
    "    state = np.zeros((2**qubit, 2**qubit))\n",
    "\n",
    "    for l in range(0, 2**qubit):\n",
    "\n",
    "        circ = QuantumCircuit(qubit)\n",
    "\n",
    "        create_v_gate(circ, [int(i) for i in list(bin(l)[2:].zfill(qubit))])\n",
    "        add_u_gate(circ, double_phi, single_phi, qubit)\n",
    "\n",
    "        backend = Aer.get_backend('statevector_simulator')\n",
    "        job = execute(circ, backend)\n",
    "        result = job.result()\n",
    "        outputstate = result.get_statevector(circ)\n",
    "\n",
    "        state = np.add(state, p[l]*np.outer(outputstate, np.conj(outputstate)))\n",
    "\n",
    "    entropy = -1*np.trace(np.matmul(state, scipy.linalg.logm(state)))\n",
    "\n",
    "    cost = beta*np.trace(np.matmul(ham_matrix, state)) - entropy\n",
    "    if (counting_num%50 == 0):\n",
    "        print(\"Cost at Step \"+str(counting_num)+\": \"+str(cost.real))\n",
    "    counting_num += 1\n",
    "    return cost.real\n",
    "\n",
    "#Creates lits of random numbers as the initial parameters fed into the circuit\n",
    "\n",
    "init1 = [random.randint(100, 200)/100 for i in range(0, qubit)]\n",
    "init2 = [random.randint(-100, 100)/50 for i in range(0, 5*qubit)]\n",
    "init = init2+init1\n",
    "\n",
    "#Creates the optimization process\n",
    "\n",
    "out = minimize(cost_function, x0=init, method=\"COBYLA\", options={'maxiter':500})\n",
    "g = out['x']\n",
    "print(out)\n",
    "\n",
    "param = g\n",
    "\n",
    "# Prepares the learned state\n",
    "\n",
    "double_phi = [[param[0:3], param[3:6]]]\n",
    "single_phi = [[param[6:9], param[9:12], param[12:15]]]\n",
    "theta = param[15:18]\n",
    "\n",
    "opt_prob_dist = create_dist(theta)\n",
    "\n",
    "p = []\n",
    "for i in range(0, 2):\n",
    "    for j in range(0, 2):\n",
    "        for v in range(0, 2):\n",
    "            p.append(opt_prob_dist[0][i]*opt_prob_dist[1][j]*opt_prob_dist[2][v])\n",
    "\n",
    "state = np.zeros((2**qubit, 2**qubit))\n",
    "\n",
    "for l in range(0, 2**qubit):\n",
    "\n",
    "    circ = QuantumCircuit(qubit, qubit)\n",
    "    create_v_gate(circ, [int(i) for i in list(bin(l)[2:].zfill(qubit))])\n",
    "    add_u_gate(circ, double_phi, single_phi, qubit)\n",
    "\n",
    "    backend = Aer.get_backend('statevector_simulator')\n",
    "    job = execute(circ, backend)\n",
    "    result = job.result()\n",
    "    outputstate = result.get_statevector(circ)\n",
    "\n",
    "    state = np.add(state, p[l]*np.outer(outputstate, np.conj(outputstate)))\n",
    "\n",
    "ham_matrix = create_hamiltonian_matrix(qubit)\n",
    "entropy = -1*np.trace(np.matmul(state, scipy.linalg.logm(state)))\n",
    "ev = np.trace(np.matmul(ham_matrix, state))\n",
    "\n",
    "create_density_plot(state.real)\n",
    "\n",
    "print(\"Final Entropy: \"+str(entropy.real))\n",
    "print(\"Final Expectation Value: \"+str(ev.real))\n",
    "print(\"Final Cost: \"+str(beta*ev.real - entropy.real))"
   ]
  },
  {
   "cell_type": "markdown",
   "metadata": {},
   "source": [
    "So the algorithm did pretty well (it would do even better with more optimization steps, but I decided to stop it at 500 so the list of numbers above wasn't too long)!"
   ]
  },
  {
   "cell_type": "markdown",
   "metadata": {},
   "source": [
    "#### **Conclusion**\n",
    "\n",
    "To wrap up this Notebook, I thought it would be interesting to create some nice animations of the VQT in action!\n",
    "\n",
    "For the sake of further visualization of what is actually going on under the hood of this algorithm, we can actually save images of the density matrix at each optimization step of the simulation. I was able to create a couple videos, the first of which shows the process of learning the density matrix of a specific thermal state of the Heisenberg Hamiltonian, and the second showing how the density matrix changes as temperature is increased:"
   ]
  },
  {
   "cell_type": "code",
   "execution_count": 46,
   "metadata": {},
   "outputs": [
    {
     "data": {
      "image/jpeg": "[encoded data removed]",
      "text/html": [
       "\n",
       "        <iframe\n",
       "            width=\"400\"\n",
       "            height=\"300\"\n",
       "            src=\"https://www.youtube.com/embed/zKkGg8pvZ9g\"\n",
       "            frameborder=\"0\"\n",
       "            allowfullscreen\n",
       "        ></iframe>\n",
       "        "
      ],
      "text/plain": [
       "<IPython.lib.display.YouTubeVideo at 0x12fb24610>"
      ]
     },
     "execution_count": 46,
     "metadata": {},
     "output_type": "execute_result"
    }
   ],
   "source": [
    "YouTubeVideo('zKkGg8pvZ9g')"
   ]
  },
  {
   "cell_type": "code",
   "execution_count": 47,
   "metadata": {},
   "outputs": [
    {
     "data": {
      "image/jpeg": "[encoded data removed]",
      "text/html": [
       "\n",
       "        <iframe\n",
       "            width=\"400\"\n",
       "            height=\"300\"\n",
       "            src=\"https://www.youtube.com/embed/wK-M-h7y_a8\"\n",
       "            frameborder=\"0\"\n",
       "            allowfullscreen\n",
       "        ></iframe>\n",
       "        "
      ],
      "text/plain": [
       "<IPython.lib.display.YouTubeVideo at 0x12fae3290>"
      ]
     },
     "execution_count": 47,
     "metadata": {},
     "output_type": "execute_result"
    }
   ],
   "source": [
    "YouTubeVideo('wK-M-h7y_a8')"
   ]
  },
  {
   "cell_type": "markdown",
   "metadata": {},
   "source": [
    "This algorithm has some very interesting applications. Preparation of thermal states using a quantum computer has very interesting applications in the field of computational quantum statistical mechanics, and computational moedlling of materials (the original VQT paper talks about a use case of calculating the thermal states of the $d$-wave superconductor). In addition to this, a lot of the underlying ideas in this algorithm can be used for an interesting process in generative quantum mechanics learning, where the algorithm is given many copies of a thermal state.\n",
    "\n",
    "**References, Acknowledegments and Further Reading**\n",
    "\n",
    "Thank you to Guillaume Verdon, Abraham Asfaw and Bryce Fuller for providing feedback and guidance in the process of creating this Notebook."
   ]
  },
  {
   "cell_type": "markdown",
   "metadata": {},
   "source": [
    "For more information about the VQT, check out the original paper, written by Verdon, Marks, Nanda, Leichenauer, and Hidary: https://arxiv.org/abs/1910.02071"
   ]
  }
 ],
 "metadata": {
  "kernelspec": {
   "display_name": "Python 3",
   "language": "python",
   "name": "python3"
  },
  "language_info": {
   "codemirror_mode": {
    "name": "ipython",
    "version": 3
   },
   "file_extension": ".py",
   "mimetype": "text/x-python",
   "name": "python",
   "nbconvert_exporter": "python",
   "pygments_lexer": "ipython3",
   "version": "3.7.5"
  }
 },
 "nbformat": 4,
 "nbformat_minor": 4
}
