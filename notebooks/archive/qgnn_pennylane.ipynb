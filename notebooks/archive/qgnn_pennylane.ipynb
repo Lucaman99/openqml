{
 "cells": [
  {
   "cell_type": "markdown",
   "metadata": {},
   "source": [
    "## VQE and Quantum Graph Neural Network in Pennylane"
   ]
  },
  {
   "cell_type": "code",
   "execution_count": 153,
   "metadata": {},
   "outputs": [],
   "source": [
    "import numpy\n",
    "import math\n",
    "import random\n",
    "import numpy as np\n",
    "import scipy\n",
    "from matplotlib import pyplot as plt\n",
    "from tqdm import tqdm\n",
    "from scipy.optimize import minimize\n",
    "import networkx as nx\n",
    "import pennylane as qml"
   ]
  },
  {
   "cell_type": "code",
   "execution_count": 155,
   "metadata": {},
   "outputs": [
    {
     "data": {
      "image/png": "[encoded data removed]",
      "text/plain": [
       "<Figure size 432x288 with 1 Axes>"
      ]
     },
     "metadata": {},
     "output_type": "display_data"
    },
    {
     "name": "stdout",
     "output_type": "stream",
     "text": [
      "[[5.8, 8.2, 3.2], [2.0, 4.6, 10.0]]\n"
     ]
    }
   ],
   "source": [
    "# Initialize the device on which the simulation is run\n",
    "\n",
    "qubit_number = 3\n",
    "qubits = range(0, 3)\n",
    "dev = qml.device(\"default.qubit\", wires=qubit_number)\n",
    "\n",
    "# Creates the graph structure of the quantum system\n",
    "\n",
    "ising_graph = nx.Graph()\n",
    "ising_graph.add_nodes_from(range(0, qubit_number))\n",
    "ising_graph.add_edges_from([(0, 1), (1, 2), (2, 0)])\n",
    "\n",
    "nx.draw(ising_graph)\n",
    "plt.show() \n",
    "\n",
    "# Creates parameters\n",
    "\n",
    "matrix_params = [[random.randint(10, 100)/10 for i in range(0, qubit_number)] for j in range(0, 2)]\n",
    "print(matrix_params)"
   ]
  },
  {
   "cell_type": "code",
   "execution_count": 192,
   "metadata": {},
   "outputs": [],
   "source": [
    "# Defines the RZZ gate, in terms of gates in the standard basis set\n",
    "\n",
    "def RZZ(param, qubit1, qubit2):\n",
    "    \n",
    "    qml.CNOT(wires=[qubit1, qubit2])\n",
    "    qml.RZ(param, wires=qubit2)\n",
    "    qml.CNOT(wires=[qubit1, qubit2])\n",
    "\n",
    "# Defines a method that creates an even superposition of basis states\n",
    "\n",
    "def even_superposition(qubits):\n",
    "    \n",
    "    for i in qubits:\n",
    "        qml.Hadamard(wires=int(i.val))\n",
    "\n",
    "# Method that prepares the QAOA/time-evolution layer (to be used later)\n",
    "\n",
    "def qaoa_layer(param1, param2, qubits, ising_graph):\n",
    "    \n",
    "    # Applies a layer of coupling gates (based on the graph)\n",
    "    for count, i in enumerate(ising_graph):\n",
    "        RZZ(param1[count], int(i[0].val), int(i[1].val))\n",
    "    \n",
    "    # Applies a layer of RX gates\n",
    "    for i in qubits:\n",
    "        qml.RX(param2[int(i.val)], wires=int(i.val))\n",
    "\n",
    "# Method that prepares a l0w-energy state        \n",
    "        \n",
    "def decoupled_layer(param1, param2, qubits):\n",
    "    \n",
    "    # Applies a layer of RZ and RX gates\n",
    "    for i in qubits:\n",
    "        qml.RZ(param1[int(i.val)], wires=int(i.val))\n",
    "        qml.RX(param2[int(i.val)], wires=int(i.val))\n",
    "\n",
    "# Method that creates the decoupled VQE ansatz\n",
    "\n",
    "def vqe_circuit(parameters, qubits, depth):\n",
    "    even_superposition(qubits)\n",
    "    for i in range(0, int(depth.val)):\n",
    "        decoupled_layer(parameters[0], parameters[1], qubits)"
   ]
  },
  {
   "cell_type": "code",
   "execution_count": 193,
   "metadata": {},
   "outputs": [
    {
     "name": "stdout",
     "output_type": "stream",
     "text": [
      "[[ 17.2  10.    4.6   0.    2.    0.    0.    0. ]\n",
      " [ 10.   -5.6   0.    4.6   0.    2.    0.    0. ]\n",
      " [  4.6   0.   -0.8  10.    0.    0.    2.    0. ]\n",
      " [  0.    4.6  10.  -10.8   0.    0.    0.    2. ]\n",
      " [  2.    0.    0.    0.  -10.8  10.    4.6   0. ]\n",
      " [  0.    2.    0.    0.   10.   -0.8   0.    4.6]\n",
      " [  0.    0.    2.    0.    4.6   0.   -5.6  10. ]\n",
      " [  0.    0.    0.    2.    0.    4.6  10.   17.2]]\n"
     ]
    }
   ],
   "source": [
    "# Creates the Hamiltonian that we are attempting to learn\n",
    "\n",
    "def create_hamiltonian_matrix(n, graph):\n",
    "    \n",
    "    # Defines Pauli matrices\n",
    "\n",
    "    pauli_x = np.array([[0, 1], [1, 0]])\n",
    "    pauli_y = np.array([[0, -1j], [1j, 0]])\n",
    "    pauli_z = np.array([[1, 0], [0, -1]])\n",
    "    identity = np.array([[1, 0], [0, 1]])\n",
    "\n",
    "    matrix = np.zeros((2**n, 2**n))\n",
    "    \n",
    "    # Creates the interaction component of the Hamiltonian\n",
    "\n",
    "    for count, i in enumerate(graph.edges):\n",
    "        m = 1\n",
    "        for j in range(0, n):\n",
    "            if (i[0] == j or i[1] == j):\n",
    "                m = np.kron(m, pauli_z)\n",
    "            else:\n",
    "                m = np.kron(m, identity)\n",
    "        matrix = np.add(matrix, matrix_params[0][count]*m)\n",
    "    \n",
    "    # Creates the \"bias\" component of the matrix\n",
    "    \n",
    "    for i in range(0, n):\n",
    "        m = 1\n",
    "        for j in range(0, n):\n",
    "            if (j == i):\n",
    "                m = np.kron(m, pauli_x)\n",
    "            else:\n",
    "                m = np.kron(m, identity)\n",
    "        matrix = np.add(matrix, matrix_params[1][i]*m)\n",
    "\n",
    "    return matrix\n",
    "\n",
    "print(create_hamiltonian_matrix(qubit_number, ising_graph))"
   ]
  },
  {
   "cell_type": "code",
   "execution_count": 194,
   "metadata": {},
   "outputs": [
    {
     "name": "stdout",
     "output_type": "stream",
     "text": [
      "-20.446759978970313\n"
     ]
    },
    {
     "data": {
      "image/png": "[encoded data removed]",
      "text/plain": [
       "<Figure size 288x288 with 2 Axes>"
      ]
     },
     "metadata": {
      "needs_background": "light"
     },
     "output_type": "display_data"
    }
   ],
   "source": [
    "def create_density_matrix(arr):\n",
    "    \n",
    "    array = np.array(arr)\n",
    "    plt.matshow(array)\n",
    "    plt.colorbar()\n",
    "    plt.show()\n",
    "\n",
    "# Finds the eigenvector corresponding to the lowest energy state\n",
    "    \n",
    "val, vec = np.linalg.eig(create_hamiltonian_matrix(qubit_number, ising_graph))\n",
    "m = []\n",
    "\n",
    "min_ind = list(val).index(min(val))\n",
    "print(val[min_ind])\n",
    "\n",
    "\n",
    "for i in range(0, 2**qubit_number):\n",
    "    m.append(vec[i][min_ind])\n",
    "\n",
    "create_density_matrix(np.real(np.outer(m, np.conj(m))))"
   ]
  },
  {
   "cell_type": "code",
   "execution_count": 225,
   "metadata": {},
   "outputs": [
    {
     "name": "stdout",
     "output_type": "stream",
     "text": [
      "14.740622902180714\n",
      " 0: ──H──RZ(1)──RX(1)──RZ(1)──RX(1)──╭┤ ⟨H0⟩ \n",
      " 1: ──H──RZ(1)──RX(1)──RZ(1)──RX(1)──├┤ ⟨H0⟩ \n",
      " 2: ──H──RZ(1)──RX(1)──RZ(1)──RX(1)──╰┤ ⟨H0⟩ \n",
      "H0 =\n",
      "[[ 17.2  10.    4.6   0.    2.    0.    0.    0. ]\n",
      " [ 10.   -5.6   0.    4.6   0.    2.    0.    0. ]\n",
      " [  4.6   0.   -0.8  10.    0.    0.    2.    0. ]\n",
      " [  0.    4.6  10.  -10.8   0.    0.    0.    2. ]\n",
      " [  2.    0.    0.    0.  -10.8  10.    4.6   0. ]\n",
      " [  0.    2.    0.    0.   10.   -0.8   0.    4.6]\n",
      " [  0.    0.    2.    0.    4.6   0.   -5.6  10. ]\n",
      " [  0.    0.    0.    2.    0.    4.6  10.   17.2]]\n",
      "\n"
     ]
    }
   ],
   "source": [
    "# Defines the circuit that we will use to perform VQE on our Hamiltonian\n",
    "\n",
    "res_state = 0\n",
    "\n",
    "def create_circuit(parameters, qubits, depth):\n",
    "    \n",
    "    global res_state\n",
    "    \n",
    "    vqe_circuit(parameters, qubits, depth)\n",
    "    res_state = dev._state\n",
    "    return qml.expval(qml.Hermitian(create_hamiltonian_matrix(qubit_number, ising_graph), wires=range(qubit_number)))\n",
    "\n",
    "qnode = qml.QNode(create_circuit, dev)\n",
    "\n",
    "resulting_circuit = qnode([[1, 1, 1], [1, 1, 1]], qubits, 2)\n",
    "print(resulting_circuit)\n",
    "print(qnode.draw())"
   ]
  },
  {
   "cell_type": "code",
   "execution_count": 226,
   "metadata": {},
   "outputs": [
    {
     "name": "stdout",
     "output_type": "stream",
     "text": [
      "     fun: -19.23664265267429\n",
      "   maxcv: 0.0\n",
      " message: 'Optimization terminated successfully.'\n",
      "    nfev: 113\n",
      "  status: 1\n",
      " success: True\n",
      "       x: array([-7.32691811,  4.91828893, -4.83467972,  5.44024923,  6.8744268 ,\n",
      "        5.81259681])\n"
     ]
    }
   ],
   "source": [
    "# Creates the cost function\n",
    "\n",
    "def cost_function(params):\n",
    "    \n",
    "    return qnode([params[0:3], params[3:6]], qubits, 2)\n",
    "\n",
    "# Creates the optimizer for VQE\n",
    "\n",
    "optimizer = qml.GradientDescentOptimizer(stepsize=1.2)\n",
    "optimizer2 = qml.AdamOptimizer(stepsize=0.8)\n",
    "\n",
    "steps = 1000\n",
    "params = [random.randint(-100, 100)/10 for i in range(0, 6)]\n",
    "\n",
    "'''\n",
    "print(cost_function(params))\n",
    "\n",
    "for i in range(0, steps):\n",
    "    \n",
    "    params = optimizer.step(cost_function, params)\n",
    "    print(\"Cost Step \"+str(i)+\": \"+str(num_cost_function(params)))\n",
    "\n",
    "print(params)\n",
    "'''\n",
    "\n",
    "out = minimize(cost_function, x0=params, method=\"COBYLA\", options={'maxiter':steps})\n",
    "g = out['x']\n",
    "print(out)"
   ]
  },
  {
   "cell_type": "code",
   "execution_count": 227,
   "metadata": {},
   "outputs": [
    {
     "name": "stdout",
     "output_type": "stream",
     "text": [
      " 0: ──H──RZ(-7.327)──RX(5.44)───RZ(-7.327)──RX(5.44)───╭┤ ⟨H0⟩ \n",
      " 1: ──H──RZ(4.918)───RX(6.874)──RZ(4.918)───RX(6.874)──├┤ ⟨H0⟩ \n",
      " 2: ──H──RZ(-4.835)──RX(5.813)──RZ(-4.835)──RX(5.813)──╰┤ ⟨H0⟩ \n",
      "H0 =\n",
      "[[ 17.2  10.    4.6   0.    2.    0.    0.    0. ]\n",
      " [ 10.   -5.6   0.    4.6   0.    2.    0.    0. ]\n",
      " [  4.6   0.   -0.8  10.    0.    0.    2.    0. ]\n",
      " [  0.    4.6  10.  -10.8   0.    0.    0.    2. ]\n",
      " [  2.    0.    0.    0.  -10.8  10.    4.6   0. ]\n",
      " [  0.    2.    0.    0.   10.   -0.8   0.    4.6]\n",
      " [  0.    0.    2.    0.    4.6   0.   -5.6  10. ]\n",
      " [  0.    0.    0.    2.    0.    4.6  10.   17.2]]\n",
      "\n",
      "[-0.26791495-0.70934334j -0.22897693-0.60639634j -0.005698  -0.01515495j\n",
      "  0.00738261+0.01959608j  0.00423678+0.01109661j  0.00034463+0.00090279j\n",
      "  0.02228341+0.05894364j -0.00338353-0.00903503j]\n"
     ]
    },
    {
     "data": {
      "image/png": "[encoded data removed]",
      "text/plain": [
       "<Figure size 288x288 with 2 Axes>"
      ]
     },
     "metadata": {
      "needs_background": "light"
     },
     "output_type": "display_data"
    }
   ],
   "source": [
    "# Runs the circuit for the case of the optimal parameters\n",
    "\n",
    "res = [g[0:3], g[3:6]]\n",
    "qnode(res, qubits, 2)\n",
    "print(qnode.draw())\n",
    "vqe_state = res_state\n",
    "print(vqe_state)\n",
    "create_density_matrix(np.real(np.outer(vqe_state, np.conj(vqe_state))))"
   ]
  },
  {
   "cell_type": "code",
   "execution_count": 228,
   "metadata": {},
   "outputs": [
    {
     "data": {
      "image/png": "[encoded data removed]",
      "text/plain": [
       "<Figure size 288x288 with 2 Axes>"
      ]
     },
     "metadata": {
      "needs_background": "light"
     },
     "output_type": "display_data"
    }
   ],
   "source": [
    "hbar = 1\n",
    "\n",
    "# Creates the numrical simulation, to test our time-evolution circuit\n",
    "\n",
    "def time_evolution_test(time, vec):\n",
    "    \n",
    "    new_matrix = scipy.linalg.expm(complex(0,-1)*create_hamiltonian_matrix(qubit_number, ising_graph)*time / hbar)\n",
    "    return np.matmul(new_matrix, vec)\n",
    "\n",
    "vec = time_evolution_test(0, vqe_state)\n",
    "create_density_matrix(np.real(np.outer(vec, np.conj(vec))))\n",
    "\n",
    "#print(\"Fidelity: \"+str(np.inner(np.conj(vec), vector)*np.inner(np.conj(vector), vec)))"
   ]
  },
  {
   "cell_type": "code",
   "execution_count": 231,
   "metadata": {},
   "outputs": [
    {
     "name": "stdout",
     "output_type": "stream",
     "text": [
      "[1.+0.j 0.+0.j 0.+0.j 0.+0.j 0.+0.j 0.+0.j 0.+0.j 0.+0.j]\n",
      "[1.+0.j 0.+0.j 0.+0.j 0.+0.j 0.+0.j 0.+0.j 0.+0.j 0.+0.j]\n"
     ]
    },
    {
     "data": {
      "image/png": "[encoded data removed]",
      "text/plain": [
       "<Figure size 288x288 with 2 Axes>"
      ]
     },
     "metadata": {
      "needs_background": "light"
     },
     "output_type": "display_data"
    }
   ],
   "source": [
    "# Creates the Trotterized time-evolution circuit\n",
    "\n",
    "dev2 = qml.device(\"default.qubit\", wires=qubit_number)\n",
    "final_state = 0\n",
    "\n",
    "def state_evolve(qubits, params, vqe_depth, time, depth, edges):\n",
    "    \n",
    "    vqe_circuit(params, qubits, vqe_depth)\n",
    "    for j in range(0, int(depth.val)):\n",
    "        qaoa_layer([i*time.val/depth.val for i in matrix_params[0]], [i*time.val/depth.val for i in matrix_params[1]], qubits, edges)\n",
    "\n",
    "def node_se(qubits, params, vqe_depth, time, depth, edges):\n",
    "    \n",
    "    global final_state\n",
    "    \n",
    "    state_evolve(qubits, params, vqe_depth, time, depth, edges)\n",
    "    final_state = dev2._state\n",
    "    print(final_state)\n",
    "    return qml.expval(qml.PauliZ(1))\n",
    "\n",
    "time_qnode = qml.QNode(node_se, dev2)\n",
    "edges = [i for i in ising_graph.edges]\n",
    "time_qnode(qubits, res, 2, 0, 1, edges)\n",
    "print(final_state)\n",
    "create_density_matrix(np.real(np.outer(final_state, np.conj(final_state))))"
   ]
  },
  {
   "cell_type": "code",
   "execution_count": null,
   "metadata": {},
   "outputs": [],
   "source": []
  }
 ],
 "metadata": {
  "kernelspec": {
   "display_name": "Python 3",
   "language": "python",
   "name": "python3"
  },
  "language_info": {
   "codemirror_mode": {
    "name": "ipython",
    "version": 3
   },
   "file_extension": ".py",
   "mimetype": "text/x-python",
   "name": "python",
   "nbconvert_exporter": "python",
   "pygments_lexer": "ipython3",
   "version": "3.7.5"
  }
 },
 "nbformat": 4,
 "nbformat_minor": 4
}
