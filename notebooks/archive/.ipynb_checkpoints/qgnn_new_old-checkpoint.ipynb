{
 "cells": [
  {
   "cell_type": "markdown",
   "metadata": {},
   "source": [
    "## VQE and Quantum Graph Neural Networks"
   ]
  },
  {
   "cell_type": "code",
   "execution_count": 2,
   "metadata": {},
   "outputs": [],
   "source": [
    "import numpy\n",
    "import math\n",
    "import random\n",
    "import numpy as np\n",
    "import scipy\n",
    "from matplotlib import pyplot as plt\n",
    "from tqdm import tqdm\n",
    "from scipy.optimize import minimize\n",
    "import networkx as nx\n",
    "import cirq"
   ]
  },
  {
   "cell_type": "markdown",
   "metadata": {},
   "source": [
    "In order to begin thinking about the quantum graph neural network, we must prepare some training data. We perform VQE in order to find the ground state of a given Ising model Hamiltonian:"
   ]
  },
  {
   "cell_type": "code",
   "execution_count": 3,
   "metadata": {},
   "outputs": [
    {
     "data": {
      "image/png": "[encoded data removed]",
      "text/plain": [
       "<Figure size 432x288 with 1 Axes>"
      ]
     },
     "metadata": {},
     "output_type": "display_data"
    },
    {
     "name": "stdout",
     "output_type": "stream",
     "text": [
      "[[2.6, 5.7, 1.2, 5.6], [1.1, 2.3, 4.5, 4.9]]\n"
     ]
    }
   ],
   "source": [
    "# Initialize the necessary qubits\n",
    "\n",
    "qubit_number = 4\n",
    "data_register = [cirq.GridQubit(0, i) for i in range(0, qubit_number)]\n",
    "network_register = [cirq.GridQubit(1, i) for i in range(0, qubit_number)]\n",
    "\n",
    "# Creates the graph structure of the quantum system\n",
    "\n",
    "ising_graph = nx.Graph()\n",
    "ising_graph.add_nodes_from(range(0, qubit_number))\n",
    "ising_graph.add_edges_from([(0, 1), (1, 2), (2, 3), (3, 0)])\n",
    "\n",
    "nx.draw(ising_graph)\n",
    "plt.show() \n",
    "\n",
    "# Creates parameters\n",
    "\n",
    "matrix_params = [[random.randint(10, 100)/10 for i in range(0, 4)] for j in range(0, 2)]\n",
    "print(matrix_params)"
   ]
  },
  {
   "cell_type": "code",
   "execution_count": 4,
   "metadata": {},
   "outputs": [
    {
     "name": "stdout",
     "output_type": "stream",
     "text": [
      "(0, 0): ───Z───X───Z───X───\n",
      "\n",
      "(0, 1): ───Z───X───Z───X───\n",
      "\n",
      "(0, 2): ───Z───X───Z───X───\n",
      "\n",
      "(0, 3): ───Z───X───Z───X───\n"
     ]
    }
   ],
   "source": [
    "# Defines the rz gate:\n",
    "\n",
    "def rz(control, target, param):\n",
    "    yield cirq.CX.on(control, target)\n",
    "    yield cirq.rz(param).on(target)\n",
    "    yield cirq.CX.on(control, target)\n",
    "\n",
    "# Method that initializes qubits in even superposition\n",
    "\n",
    "def even_superposition(qubits):\n",
    "    \n",
    "    for i in qubits:\n",
    "        yield cirq.H.on(i)\n",
    "\n",
    "# Method that prepares the QAOA ansatz layers\n",
    "\n",
    "def qaoa_layer(param1, param2, qubits, ising_graph):\n",
    "    \n",
    "    # Applies another layer of coupling gates\n",
    "    for count, i in enumerate(ising_graph.edges):\n",
    "        yield rz(qubits[i[0]], qubits[i[1]], 2*param1[count])\n",
    "    \n",
    "    # Applies the final layer of RX gates on the qubits\n",
    "    \n",
    "    for i in range(0, len(qubits)):\n",
    "        yield cirq.rx(2*param2[i]).on(qubits[i])\n",
    "    \n",
    "# Method that prepares the decoupled layers\n",
    "\n",
    "def decoupled_layer(param1, param2, qubits):\n",
    "    \n",
    "    for i in range(0, len(qubits)):\n",
    "        yield cirq.ZPowGate(exponent=param1[i]).on(qubits[i])\n",
    "        yield cirq.XPowGate(exponent=param1[i]).on(qubits[i])\n",
    "\n",
    "# Method that prepares the VQE circuit that will be used to \n",
    "\n",
    "def vqe_circuit(parameters, qubits, ising_graph):\n",
    "    \n",
    "    yield decoupled_layer(parameters[0], parameters[1], qubits) \n",
    "    yield decoupled_layer(parameters[2], parameters[3], qubits)\n",
    "\n",
    "test_circuit = cirq.Circuit()\n",
    "test_circuit.append(vqe_circuit([[1, 1, 1, 1], [1, 1, 1, 1], [1, 1, 1, 1], [1, 1, 1, 1]], data_register, ising_graph))\n",
    "print(test_circuit)"
   ]
  },
  {
   "cell_type": "code",
   "execution_count": 5,
   "metadata": {},
   "outputs": [
    {
     "name": "stdout",
     "output_type": "stream",
     "text": [
      "[[ 15.1   4.9   4.5   0.    2.3   0.    0.    0.    1.1   0.    0.    0.\n",
      "    0.    0.    0.    0. ]\n",
      " [  4.9  -7.5   0.    4.5   0.    2.3   0.    0.    0.    1.1   0.    0.\n",
      "    0.    0.    0.    0. ]\n",
      " [  4.5   0.    1.5   4.9   0.    0.    2.3   0.    0.    0.    1.1   0.\n",
      "    0.    0.    0.    0. ]\n",
      " [  0.    4.5   4.9   1.3   0.    0.    0.    2.3   0.    0.    0.    1.1\n",
      "    0.    0.    0.    0. ]\n",
      " [  2.3   0.    0.    0.    7.5   4.9   4.5   0.    0.    0.    0.    0.\n",
      "    1.1   0.    0.    0. ]\n",
      " [  0.    2.3   0.    0.    4.9 -15.1   0.    4.5   0.    0.    0.    0.\n",
      "    0.    1.1   0.    0. ]\n",
      " [  0.    0.    2.3   0.    4.5   0.   -1.3   4.9   0.    0.    0.    0.\n",
      "    0.    0.    1.1   0. ]\n",
      " [  0.    0.    0.    2.3   0.    4.5   4.9  -1.5   0.    0.    0.    0.\n",
      "    0.    0.    0.    1.1]\n",
      " [  1.1   0.    0.    0.    0.    0.    0.    0.   -1.5   4.9   4.5   0.\n",
      "    2.3   0.    0.    0. ]\n",
      " [  0.    1.1   0.    0.    0.    0.    0.    0.    4.9  -1.3   0.    4.5\n",
      "    0.    2.3   0.    0. ]\n",
      " [  0.    0.    1.1   0.    0.    0.    0.    0.    4.5   0.  -15.1   4.9\n",
      "    0.    0.    2.3   0. ]\n",
      " [  0.    0.    0.    1.1   0.    0.    0.    0.    0.    4.5   4.9   7.5\n",
      "    0.    0.    0.    2.3]\n",
      " [  0.    0.    0.    0.    1.1   0.    0.    0.    2.3   0.    0.    0.\n",
      "    1.3   4.9   4.5   0. ]\n",
      " [  0.    0.    0.    0.    0.    1.1   0.    0.    0.    2.3   0.    0.\n",
      "    4.9   1.5   0.    4.5]\n",
      " [  0.    0.    0.    0.    0.    0.    1.1   0.    0.    0.    2.3   0.\n",
      "    4.5   0.   -7.5   4.9]\n",
      " [  0.    0.    0.    0.    0.    0.    0.    1.1   0.    0.    0.    2.3\n",
      "    0.    4.5   4.9  15.1]]\n"
     ]
    }
   ],
   "source": [
    "# Creates the Hamiltonian that we are attempting to learn\n",
    "\n",
    "def create_hamiltonian_matrix(n, graph):\n",
    "    \n",
    "    # Defines Pauli matrices\n",
    "\n",
    "    pauli_x = np.array([[0, 1], [1, 0]])\n",
    "    pauli_y = np.array([[0, -1j], [1j, 0]])\n",
    "    pauli_z = np.array([[1, 0], [0, -1]])\n",
    "    identity = np.array([[1, 0], [0, 1]])\n",
    "\n",
    "    matrix = np.zeros((2**n, 2**n))\n",
    "    \n",
    "    # Creates the interaction component of the Hamiltonian\n",
    "\n",
    "    for count, i in enumerate(graph.edges):\n",
    "        m = 1\n",
    "        for j in range(0, n):\n",
    "            if (i[0] == j or i[1] == j):\n",
    "                m = np.kron(m, pauli_z)\n",
    "            else:\n",
    "                m = np.kron(m, identity)\n",
    "        matrix = np.add(matrix, matrix_params[0][count]*m)\n",
    "    \n",
    "    # Creates the \"bias\" component of the matrix\n",
    "    \n",
    "    for i in range(0, n):\n",
    "        m = 1\n",
    "        for j in range(0, n):\n",
    "            if (j == i):\n",
    "                m = np.kron(m, pauli_x)\n",
    "            else:\n",
    "                m = np.kron(m, identity)\n",
    "        matrix = np.add(matrix, matrix_params[1][i]*m)\n",
    "\n",
    "    return matrix\n",
    "\n",
    "print(create_hamiltonian_matrix(qubit_number, ising_graph))"
   ]
  },
  {
   "cell_type": "code",
   "execution_count": 6,
   "metadata": {},
   "outputs": [
    {
     "name": "stdout",
     "output_type": "stream",
     "text": [
      "-18.713066359084145\n"
     ]
    },
    {
     "data": {
      "image/png": "[encoded data removed]",
      "text/plain": [
       "<Figure size 288x288 with 2 Axes>"
      ]
     },
     "metadata": {
      "needs_background": "light"
     },
     "output_type": "display_data"
    }
   ],
   "source": [
    "def create_density_matrix(arr):\n",
    "    \n",
    "    array = np.array(arr)\n",
    "    plt.matshow(array)\n",
    "    plt.colorbar()\n",
    "    plt.show()\n",
    "\n",
    "# Finds the eigenvector corresponding to the lowest energy state\n",
    "    \n",
    "val, vec = np.linalg.eig(create_hamiltonian_matrix(qubit_number, ising_graph))\n",
    "m = []\n",
    "\n",
    "min_ind = list(val).index(min(val))\n",
    "print(val[min_ind])\n",
    "for i in range(0, 2**qubit_number):\n",
    "    m.append(vec[i][min_ind])\n",
    "\n",
    "'''\n",
    "def apply(n):\n",
    "    return float(n*np.conj(n))\n",
    "\n",
    "func_vec = np.vectorize(apply)\n",
    "new = func_vec(np.outer(m, m))\n",
    "'''\n",
    "\n",
    "create_density_matrix(np.real(np.outer(m, np.conj(m))))"
   ]
  },
  {
   "cell_type": "code",
   "execution_count": 7,
   "metadata": {},
   "outputs": [
    {
     "name": "stdout",
     "output_type": "stream",
     "text": [
      "Cost at Step 0= -1.3669397472566267\n",
      "Cost at Step 50= -13.409210773857485\n",
      "Cost at Step 100= -17.73579137248019\n",
      "Cost at Step 150= -17.867862116312313\n",
      "Cost at Step 200= -17.870398901064288\n",
      "Cost at Step 250= -17.871124921580723\n",
      "Cost at Step 300= -17.87129200280091\n",
      "Cost at Step 350= -17.871289129913222\n",
      "Cost at Step 400= -17.87129290999871\n",
      "Cost at Step 450= -17.871294067406655\n",
      "     fun: -17.871294119522556\n",
      "   maxcv: 0.0\n",
      " message: 'Optimization terminated successfully.'\n",
      "    nfev: 479\n",
      "  status: 1\n",
      " success: True\n",
      "       x: array([0.05510285, 0.35544861, 1.88033217, 1.12612886, 0.47197612,\n",
      "       0.72153454, 0.84086552, 0.17290902, 0.4912363 , 0.90509256,\n",
      "       1.47034789, 2.51208396, 1.7885909 , 0.74925371, 1.16040439,\n",
      "       1.92701984])\n"
     ]
    },
    {
     "data": {
      "image/png": "[encoded data removed]",
      "text/plain": [
       "<Figure size 288x288 with 2 Axes>"
      ]
     },
     "metadata": {
      "needs_background": "light"
     },
     "output_type": "display_data"
    }
   ],
   "source": [
    "# Creates the VQE method that we will optimize\n",
    "\n",
    "def create_circuit(parameters, qubits):\n",
    "    \n",
    "    # Prepares the circuit\n",
    "    \n",
    "    circuit = cirq.Circuit()\n",
    "    circuit.append(even_superposition(qubits))\n",
    "    circuit.append(vqe_circuit(parameters, qubits, ising_graph))\n",
    "    \n",
    "    # Creates the simulation\n",
    "    \n",
    "    simulator = cirq.Simulator()\n",
    "    results = simulator.simulate(circuit)\n",
    "    state_vector = results.final_state\n",
    "    \n",
    "    return state_vector\n",
    "\n",
    "# Creates the cost function\n",
    "\n",
    "iterations = 0\n",
    "\n",
    "def cost_function(parameters, qubits):\n",
    "    \n",
    "    global iterations\n",
    "    \n",
    "    hamiltonian = create_hamiltonian_matrix(qubit_number, ising_graph)\n",
    "    vector = create_circuit(parameters, qubits)\n",
    "    \n",
    "    first = np.matmul(hamiltonian, vector)\n",
    "    cost = np.inner(np.conj(vector), first)\n",
    "    \n",
    "    if (iterations%50 == 0):\n",
    "        print(\"Cost at Step \"+str(iterations)+\"= \"+str(np.real(cost)))\n",
    "    \n",
    "    iterations += 1\n",
    "    \n",
    "    return np.real(cost)\n",
    "\n",
    "# Creates the optimizer for our variational circuit\n",
    "\n",
    "qubit_register = network_register\n",
    "\n",
    "def optimizer_cost(params):\n",
    "    \n",
    "    parameters = [\n",
    "        params[0:4], \n",
    "        params[4:8],\n",
    "        params[8:12],\n",
    "        params[12:16]\n",
    "    ]\n",
    "    \n",
    "    return cost_function(parameters, qubit_register)\n",
    "\n",
    "# Creates the optimizer\n",
    "\n",
    "init = [random.randint(0, 20)/10 for i in range(0, 16)]\n",
    "out = minimize(optimizer_cost, x0=init, method=\"COBYLA\", options={'maxiter':1000, 'tol':1e-10})\n",
    "g = out['x']\n",
    "print(out)\n",
    "\n",
    "# Prepares the optimal state and visualizes it\n",
    "\n",
    "optimal_params = [\n",
    "        g[0:4], \n",
    "        g[4:8],\n",
    "        g[8:12],\n",
    "        g[12:16]\n",
    "    ]\n",
    "\n",
    "optimal = create_circuit(optimal_params, qubit_register)\n",
    "result = np.real(np.outer(optimal, np.conj(optimal)))\n",
    "create_density_matrix(result)\n",
    "\n",
    "v = [ 3.21629331,  0.54890376,  2.02976445,  0.7818173 ,  1.3213677 ,\n",
    "        1.48080682,  1.67054856,  1.44101918,  1.20196752,  0.56441884,\n",
    "       -0.31570509,  0.15785939,  1.69543663,  0.72541886,  0.02910459,\n",
    "       -0.52821689]"
   ]
  },
  {
   "cell_type": "code",
   "execution_count": 8,
   "metadata": {},
   "outputs": [
    {
     "ename": "NameError",
     "evalue": "name 'time_evolution' is not defined",
     "output_type": "error",
     "traceback": [
      "\u001b[0;31m---------------------------------------------------------------------------\u001b[0m",
      "\u001b[0;31mNameError\u001b[0m                                 Traceback (most recent call last)",
      "\u001b[0;32m<ipython-input-8-619190896438>\u001b[0m in \u001b[0;36m<module>\u001b[0;34m\u001b[0m\n\u001b[1;32m     20\u001b[0m     \u001b[0;32mreturn\u001b[0m \u001b[0mstate_vector\u001b[0m\u001b[0;34m\u001b[0m\u001b[0;34m\u001b[0m\u001b[0m\n\u001b[1;32m     21\u001b[0m \u001b[0;34m\u001b[0m\u001b[0m\n\u001b[0;32m---> 22\u001b[0;31m \u001b[0mvector\u001b[0m \u001b[0;34m=\u001b[0m \u001b[0mcreate_time_circuit\u001b[0m\u001b[0;34m(\u001b[0m\u001b[0;36m800\u001b[0m\u001b[0;34m,\u001b[0m \u001b[0;36m10\u001b[0m\u001b[0;34m,\u001b[0m \u001b[0mdata_register\u001b[0m\u001b[0;34m,\u001b[0m \u001b[0mising_graph\u001b[0m\u001b[0;34m,\u001b[0m \u001b[0moptimal_params\u001b[0m\u001b[0;34m)\u001b[0m\u001b[0;34m\u001b[0m\u001b[0;34m\u001b[0m\u001b[0m\n\u001b[0m\u001b[1;32m     23\u001b[0m \u001b[0mcreate_density_matrix\u001b[0m\u001b[0;34m(\u001b[0m\u001b[0mnp\u001b[0m\u001b[0;34m.\u001b[0m\u001b[0mreal\u001b[0m\u001b[0;34m(\u001b[0m\u001b[0mnp\u001b[0m\u001b[0;34m.\u001b[0m\u001b[0mouter\u001b[0m\u001b[0;34m(\u001b[0m\u001b[0mvector\u001b[0m\u001b[0;34m,\u001b[0m \u001b[0mnp\u001b[0m\u001b[0;34m.\u001b[0m\u001b[0mconj\u001b[0m\u001b[0;34m(\u001b[0m\u001b[0mvector\u001b[0m\u001b[0;34m)\u001b[0m\u001b[0;34m)\u001b[0m\u001b[0;34m)\u001b[0m\u001b[0;34m)\u001b[0m\u001b[0;34m\u001b[0m\u001b[0;34m\u001b[0m\u001b[0m\n",
      "\u001b[0;32m<ipython-input-8-619190896438>\u001b[0m in \u001b[0;36mcreate_time_circuit\u001b[0;34m(depth, time, qubits, ising_graph, params)\u001b[0m\n\u001b[1;32m     12\u001b[0m \u001b[0;34m\u001b[0m\u001b[0m\n\u001b[1;32m     13\u001b[0m     \u001b[0mcircuit\u001b[0m \u001b[0;34m=\u001b[0m \u001b[0mcirq\u001b[0m\u001b[0;34m.\u001b[0m\u001b[0mCircuit\u001b[0m\u001b[0;34m(\u001b[0m\u001b[0;34m)\u001b[0m\u001b[0;34m\u001b[0m\u001b[0;34m\u001b[0m\u001b[0m\n\u001b[0;32m---> 14\u001b[0;31m     \u001b[0mcircuit\u001b[0m\u001b[0;34m.\u001b[0m\u001b[0mappend\u001b[0m\u001b[0;34m(\u001b[0m\u001b[0mle_state_evolve\u001b[0m\u001b[0;34m(\u001b[0m\u001b[0mdepth\u001b[0m\u001b[0;34m,\u001b[0m \u001b[0mtime\u001b[0m\u001b[0;34m,\u001b[0m \u001b[0mqubits\u001b[0m\u001b[0;34m,\u001b[0m \u001b[0mising_graph\u001b[0m\u001b[0;34m,\u001b[0m \u001b[0mparams\u001b[0m\u001b[0;34m)\u001b[0m\u001b[0;34m)\u001b[0m\u001b[0;34m\u001b[0m\u001b[0;34m\u001b[0m\u001b[0m\n\u001b[0m\u001b[1;32m     15\u001b[0m \u001b[0;34m\u001b[0m\u001b[0m\n\u001b[1;32m     16\u001b[0m     \u001b[0msimulator\u001b[0m \u001b[0;34m=\u001b[0m \u001b[0mcirq\u001b[0m\u001b[0;34m.\u001b[0m\u001b[0mSimulator\u001b[0m\u001b[0;34m(\u001b[0m\u001b[0;34m)\u001b[0m\u001b[0;34m\u001b[0m\u001b[0;34m\u001b[0m\u001b[0m\n",
      "\u001b[0;32m/usr/local/lib/python3.7/site-packages/cirq/circuits/circuit.py\u001b[0m in \u001b[0;36mappend\u001b[0;34m(self, moment_or_operation_tree, strategy)\u001b[0m\n\u001b[1;32m   1300\u001b[0m             \u001b[0mstrategy\u001b[0m\u001b[0;34m:\u001b[0m \u001b[0mHow\u001b[0m \u001b[0mto\u001b[0m \u001b[0mpick\u001b[0m\u001b[0;34m/\u001b[0m\u001b[0mcreate\u001b[0m \u001b[0mthe\u001b[0m \u001b[0mmoment\u001b[0m \u001b[0mto\u001b[0m \u001b[0mput\u001b[0m \u001b[0moperations\u001b[0m \u001b[0minto\u001b[0m\u001b[0;34m.\u001b[0m\u001b[0;34m\u001b[0m\u001b[0;34m\u001b[0m\u001b[0m\n\u001b[1;32m   1301\u001b[0m         \"\"\"\n\u001b[0;32m-> 1302\u001b[0;31m         \u001b[0mself\u001b[0m\u001b[0;34m.\u001b[0m\u001b[0minsert\u001b[0m\u001b[0;34m(\u001b[0m\u001b[0mlen\u001b[0m\u001b[0;34m(\u001b[0m\u001b[0mself\u001b[0m\u001b[0;34m.\u001b[0m\u001b[0m_moments\u001b[0m\u001b[0;34m)\u001b[0m\u001b[0;34m,\u001b[0m \u001b[0mmoment_or_operation_tree\u001b[0m\u001b[0;34m,\u001b[0m \u001b[0mstrategy\u001b[0m\u001b[0;34m)\u001b[0m\u001b[0;34m\u001b[0m\u001b[0;34m\u001b[0m\u001b[0m\n\u001b[0m\u001b[1;32m   1303\u001b[0m \u001b[0;34m\u001b[0m\u001b[0m\n\u001b[1;32m   1304\u001b[0m     def clear_operations_touching(self, qubits: Iterable['cirq.Qid'],\n",
      "\u001b[0;32m/usr/local/lib/python3.7/site-packages/cirq/circuits/circuit.py\u001b[0m in \u001b[0;36minsert\u001b[0;34m(self, index, moment_or_operation_tree, strategy)\u001b[0m\n\u001b[1;32m    985\u001b[0m                 ops.transform_op_tree(moment_or_operation_tree,\n\u001b[1;32m    986\u001b[0m                                       \u001b[0mself\u001b[0m\u001b[0;34m.\u001b[0m\u001b[0m_device\u001b[0m\u001b[0;34m.\u001b[0m\u001b[0mdecompose_operation\u001b[0m\u001b[0;34m,\u001b[0m\u001b[0;34m\u001b[0m\u001b[0;34m\u001b[0m\u001b[0m\n\u001b[0;32m--> 987\u001b[0;31m                                       preserve_moments=True),))\n\u001b[0m\u001b[1;32m    988\u001b[0m \u001b[0;34m\u001b[0m\u001b[0m\n\u001b[1;32m    989\u001b[0m         \u001b[0;32mfor\u001b[0m \u001b[0mmoment_or_op\u001b[0m \u001b[0;32min\u001b[0m \u001b[0mmoments_and_operations\u001b[0m\u001b[0;34m:\u001b[0m\u001b[0;34m\u001b[0m\u001b[0;34m\u001b[0m\u001b[0m\n",
      "\u001b[0;32m/usr/local/lib/python3.7/site-packages/cirq/ops/op_tree.py\u001b[0m in \u001b[0;36mflatten_to_ops_or_moments\u001b[0;34m(root)\u001b[0m\n\u001b[1;32m    125\u001b[0m         \u001b[0;32myield\u001b[0m \u001b[0mroot\u001b[0m\u001b[0;34m\u001b[0m\u001b[0;34m\u001b[0m\u001b[0m\n\u001b[1;32m    126\u001b[0m     \u001b[0;32melif\u001b[0m \u001b[0misinstance\u001b[0m\u001b[0;34m(\u001b[0m\u001b[0mroot\u001b[0m\u001b[0;34m,\u001b[0m \u001b[0mIterable\u001b[0m\u001b[0;34m)\u001b[0m \u001b[0;32mand\u001b[0m \u001b[0;32mnot\u001b[0m \u001b[0misinstance\u001b[0m\u001b[0;34m(\u001b[0m\u001b[0mroot\u001b[0m\u001b[0;34m,\u001b[0m \u001b[0mstr\u001b[0m\u001b[0;34m)\u001b[0m\u001b[0;34m:\u001b[0m\u001b[0;34m\u001b[0m\u001b[0;34m\u001b[0m\u001b[0m\n\u001b[0;32m--> 127\u001b[0;31m         \u001b[0;32mfor\u001b[0m \u001b[0msubtree\u001b[0m \u001b[0;32min\u001b[0m \u001b[0mroot\u001b[0m\u001b[0;34m:\u001b[0m\u001b[0;34m\u001b[0m\u001b[0;34m\u001b[0m\u001b[0m\n\u001b[0m\u001b[1;32m    128\u001b[0m             \u001b[0;32myield\u001b[0m \u001b[0;32mfrom\u001b[0m \u001b[0mflatten_to_ops_or_moments\u001b[0m\u001b[0;34m(\u001b[0m\u001b[0msubtree\u001b[0m\u001b[0;34m)\u001b[0m\u001b[0;34m\u001b[0m\u001b[0;34m\u001b[0m\u001b[0m\n\u001b[1;32m    129\u001b[0m     \u001b[0;32melse\u001b[0m\u001b[0;34m:\u001b[0m\u001b[0;34m\u001b[0m\u001b[0;34m\u001b[0m\u001b[0m\n",
      "\u001b[0;32m/usr/local/lib/python3.7/site-packages/cirq/ops/op_tree.py\u001b[0m in \u001b[0;36m<genexpr>\u001b[0;34m(.0)\u001b[0m\n\u001b[1;32m    162\u001b[0m     \u001b[0;32mif\u001b[0m \u001b[0misinstance\u001b[0m\u001b[0;34m(\u001b[0m\u001b[0mroot\u001b[0m\u001b[0;34m,\u001b[0m \u001b[0mIterable\u001b[0m\u001b[0;34m)\u001b[0m \u001b[0;32mand\u001b[0m \u001b[0;32mnot\u001b[0m \u001b[0misinstance\u001b[0m\u001b[0;34m(\u001b[0m\u001b[0mroot\u001b[0m\u001b[0;34m,\u001b[0m \u001b[0mstr\u001b[0m\u001b[0;34m)\u001b[0m\u001b[0;34m:\u001b[0m\u001b[0;34m\u001b[0m\u001b[0;34m\u001b[0m\u001b[0m\n\u001b[1;32m    163\u001b[0m         return iter_transformation(\n\u001b[0;32m--> 164\u001b[0;31m             transform_op_tree(subtree,\n\u001b[0m\u001b[1;32m    165\u001b[0m                               \u001b[0mop_transformation\u001b[0m\u001b[0;34m,\u001b[0m\u001b[0;34m\u001b[0m\u001b[0;34m\u001b[0m\u001b[0m\n\u001b[1;32m    166\u001b[0m                               \u001b[0miter_transformation\u001b[0m\u001b[0;34m,\u001b[0m\u001b[0;34m\u001b[0m\u001b[0;34m\u001b[0m\u001b[0m\n",
      "\u001b[0;32m<ipython-input-8-619190896438>\u001b[0m in \u001b[0;36mle_state_evolve\u001b[0;34m(depth, time, qubits, ising_graph, params)\u001b[0m\n\u001b[1;32m      5\u001b[0m     \u001b[0;32myield\u001b[0m \u001b[0meven_superposition\u001b[0m\u001b[0;34m(\u001b[0m\u001b[0mqubits\u001b[0m\u001b[0;34m)\u001b[0m\u001b[0;34m\u001b[0m\u001b[0;34m\u001b[0m\u001b[0m\n\u001b[1;32m      6\u001b[0m     \u001b[0;32myield\u001b[0m \u001b[0mvqe_circuit\u001b[0m\u001b[0;34m(\u001b[0m\u001b[0mparams\u001b[0m\u001b[0;34m,\u001b[0m \u001b[0mqubits\u001b[0m\u001b[0;34m,\u001b[0m \u001b[0mising_graph\u001b[0m\u001b[0;34m)\u001b[0m\u001b[0;34m\u001b[0m\u001b[0;34m\u001b[0m\u001b[0m\n\u001b[0;32m----> 7\u001b[0;31m     \u001b[0;32myield\u001b[0m \u001b[0mtime_evolution\u001b[0m\u001b[0;34m(\u001b[0m\u001b[0mdepth\u001b[0m\u001b[0;34m,\u001b[0m \u001b[0mtime\u001b[0m\u001b[0;34m,\u001b[0m \u001b[0mqubits\u001b[0m\u001b[0;34m,\u001b[0m \u001b[0mising_graph\u001b[0m\u001b[0;34m)\u001b[0m\u001b[0;34m\u001b[0m\u001b[0;34m\u001b[0m\u001b[0m\n\u001b[0m\u001b[1;32m      8\u001b[0m \u001b[0;34m\u001b[0m\u001b[0m\n\u001b[1;32m      9\u001b[0m \u001b[0;31m# Creates the circuit\u001b[0m\u001b[0;34m\u001b[0m\u001b[0;34m\u001b[0m\u001b[0;34m\u001b[0m\u001b[0m\n",
      "\u001b[0;31mNameError\u001b[0m: name 'time_evolution' is not defined"
     ]
    }
   ],
   "source": [
    "# Attempts to evolve the prepared ground state forward in time, with the time evolution circuit\n",
    "\n",
    "def le_state_evolve(depth, time, qubits, ising_graph, params):\n",
    "    \n",
    "    yield even_superposition(qubits)\n",
    "    yield vqe_circuit(params, qubits, ising_graph)\n",
    "    yield time_evolution(depth, time, qubits, ising_graph)\n",
    "\n",
    "# Creates the circuit\n",
    "\n",
    "def create_time_circuit(depth, time, qubits, ising_graph, params):\n",
    "    \n",
    "    circuit = cirq.Circuit()\n",
    "    circuit.append(le_state_evolve(depth, time, qubits, ising_graph, params))\n",
    "    \n",
    "    simulator = cirq.Simulator()\n",
    "    results = simulator.simulate(circuit)\n",
    "    state_vector = results.final_state\n",
    "    \n",
    "    return state_vector\n",
    "\n",
    "vector = create_time_circuit(800, 10, data_register, ising_graph, optimal_params)\n",
    "create_density_matrix(np.real(np.outer(vector, np.conj(vector))))"
   ]
  },
  {
   "cell_type": "code",
   "execution_count": 11,
   "metadata": {},
   "outputs": [
    {
     "ename": "NameError",
     "evalue": "name 'hbar' is not defined",
     "output_type": "error",
     "traceback": [
      "\u001b[0;31m---------------------------------------------------------------------------\u001b[0m",
      "\u001b[0;31mNameError\u001b[0m                                 Traceback (most recent call last)",
      "\u001b[0;32m<ipython-input-11-e764f855f8be>\u001b[0m in \u001b[0;36m<module>\u001b[0;34m\u001b[0m\n\u001b[1;32m      6\u001b[0m     \u001b[0;32mreturn\u001b[0m \u001b[0mnp\u001b[0m\u001b[0;34m.\u001b[0m\u001b[0mmatmul\u001b[0m\u001b[0;34m(\u001b[0m\u001b[0mnew_matrix\u001b[0m\u001b[0;34m,\u001b[0m \u001b[0mvec\u001b[0m\u001b[0;34m)\u001b[0m\u001b[0;34m\u001b[0m\u001b[0;34m\u001b[0m\u001b[0m\n\u001b[1;32m      7\u001b[0m \u001b[0;34m\u001b[0m\u001b[0m\n\u001b[0;32m----> 8\u001b[0;31m \u001b[0mvec\u001b[0m \u001b[0;34m=\u001b[0m \u001b[0mtime_evolution_test\u001b[0m\u001b[0;34m(\u001b[0m\u001b[0;36m10\u001b[0m\u001b[0;34m,\u001b[0m \u001b[0moptimal\u001b[0m\u001b[0;34m)\u001b[0m\u001b[0;34m\u001b[0m\u001b[0;34m\u001b[0m\u001b[0m\n\u001b[0m\u001b[1;32m      9\u001b[0m \u001b[0mcreate_density_matrix\u001b[0m\u001b[0;34m(\u001b[0m\u001b[0mnp\u001b[0m\u001b[0;34m.\u001b[0m\u001b[0mreal\u001b[0m\u001b[0;34m(\u001b[0m\u001b[0mnp\u001b[0m\u001b[0;34m.\u001b[0m\u001b[0mouter\u001b[0m\u001b[0;34m(\u001b[0m\u001b[0mvec\u001b[0m\u001b[0;34m,\u001b[0m \u001b[0mnp\u001b[0m\u001b[0;34m.\u001b[0m\u001b[0mconj\u001b[0m\u001b[0;34m(\u001b[0m\u001b[0mvec\u001b[0m\u001b[0;34m)\u001b[0m\u001b[0;34m)\u001b[0m\u001b[0;34m)\u001b[0m\u001b[0;34m)\u001b[0m\u001b[0;34m\u001b[0m\u001b[0;34m\u001b[0m\u001b[0m\n\u001b[1;32m     10\u001b[0m \u001b[0;34m\u001b[0m\u001b[0m\n",
      "\u001b[0;32m<ipython-input-11-e764f855f8be>\u001b[0m in \u001b[0;36mtime_evolution_test\u001b[0;34m(time, vec)\u001b[0m\n\u001b[1;32m      3\u001b[0m \u001b[0;32mdef\u001b[0m \u001b[0mtime_evolution_test\u001b[0m\u001b[0;34m(\u001b[0m\u001b[0mtime\u001b[0m\u001b[0;34m,\u001b[0m \u001b[0mvec\u001b[0m\u001b[0;34m)\u001b[0m\u001b[0;34m:\u001b[0m\u001b[0;34m\u001b[0m\u001b[0;34m\u001b[0m\u001b[0m\n\u001b[1;32m      4\u001b[0m \u001b[0;34m\u001b[0m\u001b[0m\n\u001b[0;32m----> 5\u001b[0;31m     \u001b[0mnew_matrix\u001b[0m \u001b[0;34m=\u001b[0m \u001b[0mscipy\u001b[0m\u001b[0;34m.\u001b[0m\u001b[0mlinalg\u001b[0m\u001b[0;34m.\u001b[0m\u001b[0mexpm\u001b[0m\u001b[0;34m(\u001b[0m\u001b[0mcomplex\u001b[0m\u001b[0;34m(\u001b[0m\u001b[0;36m0\u001b[0m\u001b[0;34m,\u001b[0m\u001b[0;34m-\u001b[0m\u001b[0;36m1\u001b[0m\u001b[0;34m)\u001b[0m\u001b[0;34m*\u001b[0m\u001b[0mcreate_hamiltonian_matrix\u001b[0m\u001b[0;34m(\u001b[0m\u001b[0mqubit_number\u001b[0m\u001b[0;34m,\u001b[0m \u001b[0mising_graph\u001b[0m\u001b[0;34m)\u001b[0m\u001b[0;34m*\u001b[0m\u001b[0mtime\u001b[0m \u001b[0;34m/\u001b[0m \u001b[0mhbar\u001b[0m\u001b[0;34m)\u001b[0m\u001b[0;34m\u001b[0m\u001b[0;34m\u001b[0m\u001b[0m\n\u001b[0m\u001b[1;32m      6\u001b[0m     \u001b[0;32mreturn\u001b[0m \u001b[0mnp\u001b[0m\u001b[0;34m.\u001b[0m\u001b[0mmatmul\u001b[0m\u001b[0;34m(\u001b[0m\u001b[0mnew_matrix\u001b[0m\u001b[0;34m,\u001b[0m \u001b[0mvec\u001b[0m\u001b[0;34m)\u001b[0m\u001b[0;34m\u001b[0m\u001b[0;34m\u001b[0m\u001b[0m\n\u001b[1;32m      7\u001b[0m \u001b[0;34m\u001b[0m\u001b[0m\n",
      "\u001b[0;31mNameError\u001b[0m: name 'hbar' is not defined"
     ]
    }
   ],
   "source": [
    "# Creates the numrical simulation, to test our time-evolution circuit\n",
    "\n",
    "def time_evolution_test(time, vec):\n",
    "    \n",
    "    new_matrix = scipy.linalg.expm(complex(0,-1)*create_hamiltonian_matrix(qubit_number, ising_graph)*time / hbar)\n",
    "    return np.matmul(new_matrix, vec)\n",
    "\n",
    "vec = time_evolution_test(10, optimal)\n",
    "create_density_matrix(np.real(np.outer(vec, np.conj(vec))))\n",
    "\n",
    "print(\"Fidelity: \"+str(np.inner(np.conj(vec), vector)*np.inner(np.conj(vector), vec)))"
   ]
  },
  {
   "cell_type": "code",
   "execution_count": 578,
   "metadata": {},
   "outputs": [],
   "source": [
    "# Creates the initial \"guess\" graph of interactions, and assigns parameters to each of the edges\n",
    "\n",
    "initial_graph = nx.complete_graph(qubit_number)\n",
    "\n",
    "# Creates the SWAP test between two registers of qubits\n",
    "\n",
    "def swap_test(control, index1, index2):\n",
    "    \n",
    "    yield cirq.H.on(control)\n",
    "    for i in range(0, len(index1)):\n",
    "        yield cirq.CSWAP(control, index1[i], index2[i])\n",
    "    yield cirq.H.on(control)\n",
    "\n",
    "# Creates the QGRNN ansatz\n",
    "\n",
    "def qgrnn_ansatz(initial_graph, parameters, opt_params, depth, qubits, time):\n",
    "    \n",
    "    yield even_superposition(qubits)\n",
    "    yield vqe_circuit(opt_params, qubits, ising_graph)\n",
    "    for i in range(0, depth):\n",
    "        yield qaoa_layer([i*time/depth for i in parameters[0]], [i*time/depth for i in parameters[1]], qubits, initial_graph)\n",
    "\n",
    "def find_infidelity_time(depth, time, index1, index2, control, params, opt_params, ising_graph, initial_graph):\n",
    "    \n",
    "    circuit = cirq.Circuit()\n",
    "    circuit.append(le_state_evolve(depth, time, index1, ising_graph, opt_params))\n",
    "    circuit.append(qgrnn_ansatz(initial_graph, params, opt_params, depth, index2, time))\n",
    "    circuit.append(swap_test(control, index1, index2))\n",
    "    circuit.append(cirq.measure(control, key=\"q\"))\n",
    "    \n",
    "    simulator = cirq.Simulator()\n",
    "    results = simulator.run(circuit, repetitions=100)\n",
    "    \n",
    "    new_res = list(str(results)[2:])\n",
    "    return sum([int(i) for i in new_res])\n",
    "\n",
    "control = cirq.GridQubit(2, 0)"
   ]
  },
  {
   "cell_type": "code",
   "execution_count": 579,
   "metadata": {},
   "outputs": [],
   "source": [
    "# Now, we define the cost function that is used in the optimization method\n",
    "\n",
    "time_range = range(0, 10)\n",
    "iterations = 0\n",
    "\n",
    "def cost_function(params):\n",
    "    \n",
    "    global iterations\n",
    "    \n",
    "    params = [params[0:6], params[6:10]]\n",
    "    \n",
    "    total_cost = 0\n",
    "    for i in time_range:\n",
    "        res = find_infidelity_time(1, i, data_register, network_register, control, params, optimal_params, ising_graph, initial_graph)\n",
    "        total_cost += res\n",
    "        \n",
    "    print(\"Cost at Step \"+str(iterations)+\": \"+str(total_cost / len(time_range)))\n",
    "    \n",
    "    iterations += 1\n",
    "    return total_cost / len(time_range)"
   ]
  },
  {
   "cell_type": "code",
   "execution_count": 1,
   "metadata": {},
   "outputs": [
    {
     "ename": "NameError",
     "evalue": "name 'random' is not defined",
     "output_type": "error",
     "traceback": [
      "\u001b[0;31m---------------------------------------------------------------------------\u001b[0m",
      "\u001b[0;31mNameError\u001b[0m                                 Traceback (most recent call last)",
      "\u001b[0;32m<ipython-input-1-d2c6f0f10ae1>\u001b[0m in \u001b[0;36m<module>\u001b[0;34m\u001b[0m\n\u001b[0;32m----> 1\u001b[0;31m \u001b[0minit\u001b[0m \u001b[0;34m=\u001b[0m \u001b[0;34m[\u001b[0m\u001b[0mrandom\u001b[0m\u001b[0;34m.\u001b[0m\u001b[0mrandint\u001b[0m\u001b[0;34m(\u001b[0m\u001b[0;36m10\u001b[0m\u001b[0;34m,\u001b[0m \u001b[0;36m100\u001b[0m\u001b[0;34m)\u001b[0m\u001b[0;34m/\u001b[0m\u001b[0;36m10\u001b[0m \u001b[0;32mfor\u001b[0m \u001b[0mi\u001b[0m \u001b[0;32min\u001b[0m \u001b[0mrange\u001b[0m\u001b[0;34m(\u001b[0m\u001b[0;36m0\u001b[0m\u001b[0;34m,\u001b[0m \u001b[0;36m10\u001b[0m\u001b[0;34m)\u001b[0m\u001b[0;34m]\u001b[0m\u001b[0;34m\u001b[0m\u001b[0;34m\u001b[0m\u001b[0m\n\u001b[0m\u001b[1;32m      2\u001b[0m \u001b[0minit\u001b[0m \u001b[0;34m=\u001b[0m \u001b[0;34m[\u001b[0m\u001b[0;36m7.9\u001b[0m\u001b[0;34m,\u001b[0m \u001b[0;36m2.7\u001b[0m\u001b[0;34m,\u001b[0m \u001b[0;36m7.1\u001b[0m\u001b[0;34m,\u001b[0m \u001b[0;36m3.9\u001b[0m\u001b[0;34m,\u001b[0m \u001b[0;36m3.7\u001b[0m\u001b[0;34m,\u001b[0m \u001b[0;36m9.9\u001b[0m\u001b[0;34m,\u001b[0m \u001b[0;36m4.5\u001b[0m\u001b[0;34m,\u001b[0m \u001b[0;36m6.4\u001b[0m\u001b[0;34m]\u001b[0m\u001b[0;34m\u001b[0m\u001b[0;34m\u001b[0m\u001b[0m\n\u001b[1;32m      3\u001b[0m \u001b[0mout\u001b[0m \u001b[0;34m=\u001b[0m \u001b[0mminimize\u001b[0m\u001b[0;34m(\u001b[0m\u001b[0mcost_function\u001b[0m\u001b[0;34m,\u001b[0m \u001b[0mx0\u001b[0m\u001b[0;34m=\u001b[0m\u001b[0minit\u001b[0m\u001b[0;34m,\u001b[0m \u001b[0mmethod\u001b[0m\u001b[0;34m=\u001b[0m\u001b[0;34m\"COBYLA\"\u001b[0m\u001b[0;34m,\u001b[0m \u001b[0moptions\u001b[0m\u001b[0;34m=\u001b[0m\u001b[0;34m{\u001b[0m\u001b[0;34m'maxiter'\u001b[0m\u001b[0;34m:\u001b[0m\u001b[0;36m500\u001b[0m\u001b[0;34m,\u001b[0m \u001b[0;34m'tol'\u001b[0m\u001b[0;34m:\u001b[0m\u001b[0;36m1e-10\u001b[0m\u001b[0;34m}\u001b[0m\u001b[0;34m)\u001b[0m\u001b[0;34m\u001b[0m\u001b[0;34m\u001b[0m\u001b[0m\n\u001b[1;32m      4\u001b[0m \u001b[0mg\u001b[0m \u001b[0;34m=\u001b[0m \u001b[0mout\u001b[0m\u001b[0;34m[\u001b[0m\u001b[0;34m'x'\u001b[0m\u001b[0;34m]\u001b[0m\u001b[0;34m\u001b[0m\u001b[0;34m\u001b[0m\u001b[0m\n\u001b[1;32m      5\u001b[0m \u001b[0mprint\u001b[0m\u001b[0;34m(\u001b[0m\u001b[0mout\u001b[0m\u001b[0;34m)\u001b[0m\u001b[0;34m\u001b[0m\u001b[0;34m\u001b[0m\u001b[0m\n",
      "\u001b[0;32m<ipython-input-1-d2c6f0f10ae1>\u001b[0m in \u001b[0;36m<listcomp>\u001b[0;34m(.0)\u001b[0m\n\u001b[0;32m----> 1\u001b[0;31m \u001b[0minit\u001b[0m \u001b[0;34m=\u001b[0m \u001b[0;34m[\u001b[0m\u001b[0mrandom\u001b[0m\u001b[0;34m.\u001b[0m\u001b[0mrandint\u001b[0m\u001b[0;34m(\u001b[0m\u001b[0;36m10\u001b[0m\u001b[0;34m,\u001b[0m \u001b[0;36m100\u001b[0m\u001b[0;34m)\u001b[0m\u001b[0;34m/\u001b[0m\u001b[0;36m10\u001b[0m \u001b[0;32mfor\u001b[0m \u001b[0mi\u001b[0m \u001b[0;32min\u001b[0m \u001b[0mrange\u001b[0m\u001b[0;34m(\u001b[0m\u001b[0;36m0\u001b[0m\u001b[0;34m,\u001b[0m \u001b[0;36m10\u001b[0m\u001b[0;34m)\u001b[0m\u001b[0;34m]\u001b[0m\u001b[0;34m\u001b[0m\u001b[0;34m\u001b[0m\u001b[0m\n\u001b[0m\u001b[1;32m      2\u001b[0m \u001b[0minit\u001b[0m \u001b[0;34m=\u001b[0m \u001b[0;34m[\u001b[0m\u001b[0;36m7.9\u001b[0m\u001b[0;34m,\u001b[0m \u001b[0;36m2.7\u001b[0m\u001b[0;34m,\u001b[0m \u001b[0;36m7.1\u001b[0m\u001b[0;34m,\u001b[0m \u001b[0;36m3.9\u001b[0m\u001b[0;34m,\u001b[0m \u001b[0;36m3.7\u001b[0m\u001b[0;34m,\u001b[0m \u001b[0;36m9.9\u001b[0m\u001b[0;34m,\u001b[0m \u001b[0;36m4.5\u001b[0m\u001b[0;34m,\u001b[0m \u001b[0;36m6.4\u001b[0m\u001b[0;34m]\u001b[0m\u001b[0;34m\u001b[0m\u001b[0;34m\u001b[0m\u001b[0m\n\u001b[1;32m      3\u001b[0m \u001b[0mout\u001b[0m \u001b[0;34m=\u001b[0m \u001b[0mminimize\u001b[0m\u001b[0;34m(\u001b[0m\u001b[0mcost_function\u001b[0m\u001b[0;34m,\u001b[0m \u001b[0mx0\u001b[0m\u001b[0;34m=\u001b[0m\u001b[0minit\u001b[0m\u001b[0;34m,\u001b[0m \u001b[0mmethod\u001b[0m\u001b[0;34m=\u001b[0m\u001b[0;34m\"COBYLA\"\u001b[0m\u001b[0;34m,\u001b[0m \u001b[0moptions\u001b[0m\u001b[0;34m=\u001b[0m\u001b[0;34m{\u001b[0m\u001b[0;34m'maxiter'\u001b[0m\u001b[0;34m:\u001b[0m\u001b[0;36m500\u001b[0m\u001b[0;34m,\u001b[0m \u001b[0;34m'tol'\u001b[0m\u001b[0;34m:\u001b[0m\u001b[0;36m1e-10\u001b[0m\u001b[0;34m}\u001b[0m\u001b[0;34m)\u001b[0m\u001b[0;34m\u001b[0m\u001b[0;34m\u001b[0m\u001b[0m\n\u001b[1;32m      4\u001b[0m \u001b[0mg\u001b[0m \u001b[0;34m=\u001b[0m \u001b[0mout\u001b[0m\u001b[0;34m[\u001b[0m\u001b[0;34m'x'\u001b[0m\u001b[0;34m]\u001b[0m\u001b[0;34m\u001b[0m\u001b[0;34m\u001b[0m\u001b[0m\n\u001b[1;32m      5\u001b[0m \u001b[0mprint\u001b[0m\u001b[0;34m(\u001b[0m\u001b[0mout\u001b[0m\u001b[0;34m)\u001b[0m\u001b[0;34m\u001b[0m\u001b[0;34m\u001b[0m\u001b[0m\n",
      "\u001b[0;31mNameError\u001b[0m: name 'random' is not defined"
     ]
    }
   ],
   "source": [
    "init = [random.randint(10, 100)/10 for i in range(0, 10)]\n",
    "init = [7.9, 2.7, 7.1, 3.9, 3.7, 9.9, 4.5, 6.4]\n",
    "out = minimize(cost_function, x0=init, method=\"COBYLA\", options={'maxiter':500, 'tol':1e-10})\n",
    "g = out['x']\n",
    "print(out)"
   ]
  },
  {
   "cell_type": "code",
   "execution_count": null,
   "metadata": {},
   "outputs": [],
   "source": []
  }
 ],
 "metadata": {
  "kernelspec": {
   "display_name": "Python 3",
   "language": "python",
   "name": "python3"
  },
  "language_info": {
   "codemirror_mode": {
    "name": "ipython",
    "version": 3
   },
   "file_extension": ".py",
   "mimetype": "text/x-python",
   "name": "python",
   "nbconvert_exporter": "python",
   "pygments_lexer": "ipython3",
   "version": "3.7.5"
  }
 },
 "nbformat": 4,
 "nbformat_minor": 4
}
