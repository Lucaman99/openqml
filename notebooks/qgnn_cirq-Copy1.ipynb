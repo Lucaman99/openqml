{
 "cells": [
  {
   "cell_type": "markdown",
   "metadata": {},
   "source": [
    "## VQE and Quantum Graph Neural Networks"
   ]
  },
  {
   "cell_type": "code",
   "execution_count": 3,
   "metadata": {},
   "outputs": [],
   "source": [
    "import numpy\n",
    "import math\n",
    "import random\n",
    "import numpy as np\n",
    "import scipy\n",
    "from matplotlib import pyplot as plt\n",
    "from tqdm import tqdm\n",
    "from scipy.optimize import minimize\n",
    "import networkx as nx\n",
    "import cirq\n",
    "import copy"
   ]
  },
  {
   "cell_type": "markdown",
   "metadata": {},
   "source": [
    "In order to begin thinking about the quantum graph neural network, we must prepare some training data. We perform VQE in order to find the ground state of a given Ising model Hamiltonian:"
   ]
  },
  {
   "cell_type": "code",
   "execution_count": 4,
   "metadata": {},
   "outputs": [
    {
     "data": {
      "image/png": "[encoded data removed]",
      "text/plain": [
       "<Figure size 432x288 with 1 Axes>"
      ]
     },
     "metadata": {},
     "output_type": "display_data"
    },
    {
     "name": "stdout",
     "output_type": "stream",
     "text": [
      "[[1.38, 0.62, 1.24], [1.96, 1.48, 0.78]]\n"
     ]
    }
   ],
   "source": [
    "# Initialize the necessary qubits\n",
    "\n",
    "qubit_number = 3\n",
    "data_register = [cirq.GridQubit(0, i) for i in range(0, qubit_number)]\n",
    "network_register = [cirq.GridQubit(1, i) for i in range(0, qubit_number)]\n",
    "\n",
    "# Creates the graph structure of the quantum system\n",
    "\n",
    "ising_graph = nx.Graph()\n",
    "ising_graph.add_nodes_from(range(0, qubit_number))\n",
    "ising_graph.add_edges_from([(0, 1), (0, 2), (1, 2)])\n",
    "\n",
    "nx.draw(ising_graph)\n",
    "plt.show() \n",
    "\n",
    "# Creates parameters\n",
    "\n",
    "matrix_params = [[random.randint(10, 100)/50 for i in range(0, qubit_number)] for j in range(0, 2)]\n",
    "#matrix_params = [[random.randint(10, 100)/50], [random.randint(10, 100)/50 for i in range(0, qubit_number)]]\n",
    "print(matrix_params)"
   ]
  },
  {
   "cell_type": "code",
   "execution_count": 5,
   "metadata": {},
   "outputs": [
    {
     "name": "stdout",
     "output_type": "stream",
     "text": [
      "(0, 0): ───Z───X───Z───X───\n",
      "\n",
      "(0, 1): ───Z───X───Z───X───\n",
      "\n",
      "(0, 2): ───Z───X───Z───X───\n"
     ]
    }
   ],
   "source": [
    "# Defines the rz gate:\n",
    "\n",
    "def rz(control, target, param):\n",
    "    yield cirq.CX.on(control, target)\n",
    "    yield cirq.rz(param).on(target)\n",
    "    yield cirq.CX.on(control, target)\n",
    "\n",
    "# Method that initializes qubits in even superposition\n",
    "\n",
    "def even_superposition(qubits):\n",
    "    \n",
    "    for i in qubits:\n",
    "        yield cirq.H.on(i)\n",
    "\n",
    "# Method that prepares the QAOA ansatz layers\n",
    "\n",
    "def qaoa_layer(param1, param2, qubits, ising_graph):\n",
    "    \n",
    "    # Applies a layer of coupling gates\n",
    "    for count, i in enumerate(ising_graph.edges):\n",
    "        yield rz(qubits[i[0]], qubits[i[1]], 2*param1[count])\n",
    "    \n",
    "    # Applies the final layer of RX gates on the qubits\n",
    "    \n",
    "    for i in range(0, len(qubits)):\n",
    "        yield cirq.rx(2*param2[i]).on(qubits[i])\n",
    "    \n",
    "# Method that prepares the decoupled layers\n",
    "\n",
    "def decoupled_layer(param1, param2, qubits):\n",
    "    \n",
    "    for i in range(0, len(qubits)):\n",
    "        yield cirq.ZPowGate(exponent=param1[i]).on(qubits[i])\n",
    "        yield cirq.XPowGate(exponent=param1[i]).on(qubits[i])\n",
    "\n",
    "# Method that prepares the VQE circuit that will be used to \n",
    "\n",
    "def vqe_circuit(parameters, qubits, ising_graph):\n",
    "    \n",
    "    yield decoupled_layer(parameters[0], parameters[1], qubits) \n",
    "    yield decoupled_layer(parameters[2], parameters[3], qubits)\n",
    "\n",
    "test_circuit = cirq.Circuit()\n",
    "test_circuit.append(vqe_circuit([[1, 1, 1], [1, 1, 1], [1, 1, 1], [1, 1, 1]], data_register, ising_graph))\n",
    "print(test_circuit)"
   ]
  },
  {
   "cell_type": "code",
   "execution_count": 6,
   "metadata": {},
   "outputs": [
    {
     "name": "stdout",
     "output_type": "stream",
     "text": [
      "[[ 3.24  0.78  1.48  0.    1.96  0.    0.    0.  ]\n",
      " [ 0.78 -0.48  0.    1.48  0.    1.96  0.    0.  ]\n",
      " [ 1.48  0.   -2.    0.78  0.    0.    1.96  0.  ]\n",
      " [ 0.    1.48  0.78 -0.76  0.    0.    0.    1.96]\n",
      " [ 1.96  0.    0.    0.   -0.76  0.78  1.48  0.  ]\n",
      " [ 0.    1.96  0.    0.    0.78 -2.    0.    1.48]\n",
      " [ 0.    0.    1.96  0.    1.48  0.   -0.48  0.78]\n",
      " [ 0.    0.    0.    1.96  0.    1.48  0.78  3.24]]\n"
     ]
    }
   ],
   "source": [
    "# Creates the Hamiltonian that we are attempting to learn\n",
    "\n",
    "def create_hamiltonian_matrix(n, graph):\n",
    "    \n",
    "    # Defines Pauli matrices\n",
    "\n",
    "    pauli_x = np.array([[0, 1], [1, 0]])\n",
    "    pauli_y = np.array([[0, -1j], [1j, 0]])\n",
    "    pauli_z = np.array([[1, 0], [0, -1]])\n",
    "    identity = np.array([[1, 0], [0, 1]])\n",
    "\n",
    "    matrix = np.zeros((2**n, 2**n))\n",
    "    \n",
    "    # Creates the interaction component of the Hamiltonian\n",
    "\n",
    "    for count, i in enumerate(graph.edges):\n",
    "        m = 1\n",
    "        for j in range(0, n):\n",
    "            if (i[0] == j or i[1] == j):\n",
    "                m = np.kron(m, pauli_z)\n",
    "            else:\n",
    "                m = np.kron(m, identity)\n",
    "        matrix = np.add(matrix, matrix_params[0][count]*m)\n",
    "    \n",
    "    # Creates the \"bias\" component of the matrix\n",
    "    \n",
    "    for i in range(0, n):\n",
    "        m = 1\n",
    "        for j in range(0, n):\n",
    "            if (j == i):\n",
    "                m = np.kron(m, pauli_x)\n",
    "            else:\n",
    "                m = np.kron(m, identity)\n",
    "        matrix = np.add(matrix, matrix_params[1][i]*m)\n",
    "\n",
    "    return matrix\n",
    "\n",
    "print(create_hamiltonian_matrix(qubit_number, ising_graph))"
   ]
  },
  {
   "cell_type": "code",
   "execution_count": 7,
   "metadata": {},
   "outputs": [
    {
     "name": "stdout",
     "output_type": "stream",
     "text": [
      "-4.733192029887759\n"
     ]
    },
    {
     "data": {
      "image/png": "[encoded data removed]",
      "text/plain": [
       "<Figure size 288x288 with 2 Axes>"
      ]
     },
     "metadata": {
      "needs_background": "light"
     },
     "output_type": "display_data"
    }
   ],
   "source": [
    "def create_density_matrix(arr):\n",
    "    \n",
    "    array = np.array(arr)\n",
    "    plt.matshow(array)\n",
    "    plt.colorbar()\n",
    "    plt.show()\n",
    "\n",
    "# Finds the eigenvector corresponding to the lowest energy state\n",
    "    \n",
    "val, vec = np.linalg.eig(create_hamiltonian_matrix(qubit_number, ising_graph))\n",
    "m = []\n",
    "\n",
    "min_ind = list(val).index(min(val))\n",
    "print(val[min_ind])\n",
    "for i in range(0, 2**qubit_number):\n",
    "    m.append(vec[i][min_ind])\n",
    "\n",
    "create_density_matrix(np.real(np.outer(m, np.conj(m))))"
   ]
  },
  {
   "cell_type": "code",
   "execution_count": 8,
   "metadata": {},
   "outputs": [
    {
     "name": "stdout",
     "output_type": "stream",
     "text": [
      "Cost at Step 0= -1.0266294654391461\n",
      "Cost at Step 50= -4.191408797738016\n",
      "Cost at Step 100= -4.217535459998638\n",
      "Cost at Step 150= -4.219076692708244\n",
      "Cost at Step 200= -4.219371384088474\n",
      "Cost at Step 250= -4.219520688968403\n",
      "Cost at Step 300= -4.21963465572165\n",
      "Cost at Step 350= -4.219713056115008\n",
      "Cost at Step 400= -4.219763709239612\n",
      "Cost at Step 450= -4.219794956411263\n",
      "Cost at Step 500= -4.219796750949329\n",
      "Cost at Step 550= -4.219797344659681\n",
      "     fun: -4.219798420504575\n",
      "   maxcv: 0.0\n",
      " message: 'Optimization terminated successfully.'\n",
      "    nfev: 600\n",
      "  status: 1\n",
      " success: True\n",
      "       x: array([2.04629748, 2.95118195, 1.01529642, 1.48248871, 1.99213972,\n",
      "       0.50317522, 0.95476802, 1.95212695, 0.01580236, 1.87057907,\n",
      "       1.20766187, 1.39872545])\n"
     ]
    },
    {
     "data": {
      "image/png": "[encoded data removed]",
      "text/plain": [
       "<Figure size 288x288 with 2 Axes>"
      ]
     },
     "metadata": {
      "needs_background": "light"
     },
     "output_type": "display_data"
    }
   ],
   "source": [
    "# Creates the VQE method that we will optimize\n",
    "\n",
    "def create_circuit(parameters, qubits):\n",
    "    \n",
    "    # Prepares the circuit\n",
    "    \n",
    "    circuit = cirq.Circuit()\n",
    "    circuit.append(even_superposition(qubits))\n",
    "    circuit.append(vqe_circuit(parameters, qubits, ising_graph))\n",
    "    \n",
    "    # Creates the simulation\n",
    "    \n",
    "    simulator = cirq.Simulator()\n",
    "    results = simulator.simulate(circuit)\n",
    "    state_vector = results.final_state\n",
    "    \n",
    "    return state_vector\n",
    "\n",
    "# Creates the cost function\n",
    "\n",
    "iterations = 0\n",
    "\n",
    "def cost_function(parameters, qubits):\n",
    "    \n",
    "    global iterations\n",
    "    \n",
    "    hamiltonian = create_hamiltonian_matrix(qubit_number, ising_graph)\n",
    "    vector = create_circuit(parameters, qubits)\n",
    "    \n",
    "    first = np.matmul(hamiltonian, vector)\n",
    "    cost = np.inner(np.conj(vector), first)\n",
    "    \n",
    "    if (iterations%50 == 0):\n",
    "        print(\"Cost at Step \"+str(iterations)+\"= \"+str(np.real(cost)))\n",
    "    \n",
    "    iterations += 1\n",
    "    \n",
    "    return np.real(cost)\n",
    "\n",
    "# Creates the optimizer for our variational circuit\n",
    "\n",
    "qubit_register = network_register\n",
    "\n",
    "def optimizer_cost(params):\n",
    "    \n",
    "    parameters = [\n",
    "        params[0:3], \n",
    "        params[3:6],\n",
    "        params[6:9],\n",
    "        params[9:12]\n",
    "    ]\n",
    "    \n",
    "    return cost_function(parameters, qubit_register)\n",
    "\n",
    "# Creates the optimizer\n",
    "\n",
    "init = [random.randint(0, 20)/10 for i in range(0, 12)]\n",
    "out = minimize(optimizer_cost, x0=init, method=\"COBYLA\", options={'maxiter':1000, 'tol':1e-10})\n",
    "g = out['x']\n",
    "print(out)\n",
    "\n",
    "# Prepares the optimal state and visualizes it\n",
    "\n",
    "optimal_params = [\n",
    "        g[0:3], \n",
    "        g[3:6],\n",
    "        g[6:9],\n",
    "        g[9:12]\n",
    "    ]\n",
    "\n",
    "optimal = create_circuit(optimal_params, qubit_register)\n",
    "result = np.real(np.outer(optimal, np.conj(optimal)))\n",
    "create_density_matrix(result)\n",
    "\n",
    "v = [ 3.21629331,  0.54890376,  2.02976445,  0.7818173 ,  1.3213677 ,\n",
    "        1.48080682,  1.67054856,  1.44101918,  1.20196752,  0.56441884,\n",
    "       -0.31570509,  0.15785939,  1.69543663,  0.72541886,  0.02910459,\n",
    "       -0.52821689]"
   ]
  },
  {
   "cell_type": "code",
   "execution_count": 104,
   "metadata": {},
   "outputs": [
    {
     "data": {
      "image/png": "[encoded data removed]",
      "text/plain": [
       "<Figure size 288x288 with 2 Axes>"
      ]
     },
     "metadata": {
      "needs_background": "light"
     },
     "output_type": "display_data"
    }
   ],
   "source": [
    "hbar = 1\n",
    "\n",
    "# Attempts to evolve the prepared ground state forward in time, with the time evolution circuit\n",
    "\n",
    "def le_state_evolve(depth, time, qubits, ising_graph, params):\n",
    "    \n",
    "    yield even_superposition(qubits)\n",
    "    yield vqe_circuit(params, qubits, ising_graph)\n",
    "    for i in range(0, depth):\n",
    "        yield qaoa_layer([i*time/depth for i in matrix_params[0]], [i*time/depth for i in matrix_params[1]], qubits, ising_graph)\n",
    "\n",
    "# Creates the circuit\n",
    "\n",
    "def create_time_circuit(depth, time, qubits, ising_graph, params):\n",
    "    \n",
    "    circuit = cirq.Circuit()\n",
    "    circuit.append(le_state_evolve(depth, time, qubits, ising_graph, params))\n",
    "    \n",
    "    simulator = cirq.Simulator()\n",
    "    results = simulator.simulate(circuit)\n",
    "    state_vector = results.final_state\n",
    "    \n",
    "    return state_vector\n",
    "\n",
    "big_vector = create_time_circuit(60, 30, data_register, ising_graph, optimal_params)\n",
    "create_density_matrix(np.real(np.outer(big_vector, np.conj(big_vector))))"
   ]
  },
  {
   "cell_type": "code",
   "execution_count": 105,
   "metadata": {},
   "outputs": [
    {
     "data": {
      "image/png": "[encoded data removed]",
      "text/plain": [
       "<Figure size 288x288 with 2 Axes>"
      ]
     },
     "metadata": {
      "needs_background": "light"
     },
     "output_type": "display_data"
    },
    {
     "name": "stdout",
     "output_type": "stream",
     "text": [
      "Fidelity: (0.8289933536549383+0j)\n"
     ]
    }
   ],
   "source": [
    "# Creates the numrical simulation, to test our time-evolution circuit\n",
    "\n",
    "def time_evolution_test(time, vec):\n",
    "    \n",
    "    new_matrix = scipy.linalg.expm(complex(0,-1)*create_hamiltonian_matrix(qubit_number, ising_graph)*time / hbar)\n",
    "    return np.matmul(new_matrix, vec)\n",
    "\n",
    "vec = time_evolution_test(30, optimal)\n",
    "create_density_matrix(np.real(np.outer(vec, np.conj(vec))))\n",
    "\n",
    "print(\"Fidelity: \"+str(np.inner(np.conj(vec), big_vector)*np.inner(np.conj(big_vector), vec)))"
   ]
  },
  {
   "cell_type": "code",
   "execution_count": 76,
   "metadata": {},
   "outputs": [],
   "source": [
    "# Creates the initial \"guess\" graph of interactions, and assigns parameters to each of the edges\n",
    "\n",
    "initial_graph = nx.complete_graph(qubit_number)\n",
    "\n",
    "# Creates the SWAP test between two registers of qubits\n",
    "\n",
    "def swap_test(control, index1, index2):\n",
    "    \n",
    "    yield cirq.H.on(control)\n",
    "    for i in range(0, len(index1)):\n",
    "        yield cirq.CSWAP(control, index1[i], index2[i])\n",
    "    yield cirq.H.on(control)\n",
    "\n",
    "# Creates the QGRNN ansatz\n",
    "\n",
    "def qgrnn_ansatz(initial_graph, parameters, opt_params, depth, qubits, time):\n",
    "    \n",
    "    yield even_superposition(qubits)\n",
    "    yield vqe_circuit(opt_params, qubits, ising_graph)\n",
    "    for i in range(0, depth):\n",
    "        yield qaoa_layer([i*time/depth for i in parameters[0]], [i*time/depth for i in parameters[1]], qubits, initial_graph)\n",
    "\n",
    "def find_infidelity_time(depth, time, index1, index2, control, params, opt_params, ising_graph, initial_graph):\n",
    "    \n",
    "    circuit = cirq.Circuit()\n",
    "    circuit.append(qgrnn_ansatz(initial_graph, params, opt_params, depth, index2, time))\n",
    "    #circuit.append(cirq.measure(control, key=\"q\"))\n",
    "    \n",
    "    simulator = cirq.Simulator()\n",
    "    results = simulator.simulate(circuit)\n",
    "    \n",
    "    return results.final_state\n",
    "\n",
    "#control = cirq.GridQubit(2, 0)"
   ]
  },
  {
   "cell_type": "code",
   "execution_count": 98,
   "metadata": {},
   "outputs": [
    {
     "name": "stdout",
     "output_type": "stream",
     "text": [
      "[(0, 1), (0, 2), (1, 2)]\n",
      "[(0, 1), (0, 2), (1, 2)]\n"
     ]
    }
   ],
   "source": [
    "# Now, we define the cost function that is used in the optimization method\n",
    "\n",
    "time_range = range(1, 100)\n",
    "\n",
    "def prep_states(time_range, depth, qubits, ising_graph, params):\n",
    "    \n",
    "    times = []\n",
    "    for i in time_range:\n",
    "        times.append(np.array(create_time_circuit(depth, i, qubits, ising_graph, params)))\n",
    "    return times\n",
    "\n",
    "state_range = prep_states(time_range, 60, data_register, ising_graph, optimal_params)\n",
    "\n",
    "iterations = 0\n",
    "params_step = 0\n",
    "best_cost = math.inf\n",
    "\n",
    "def cost_function(params):\n",
    "    \n",
    "    global iterations\n",
    "    global params_step\n",
    "    global best_cost\n",
    "    \n",
    "    old_params = copy.copy(params)\n",
    "    params = [params[0:3], params[3:6]]\n",
    "    \n",
    "    total_cost = 0\n",
    "    \n",
    "    batch = 15\n",
    "    stoch = [time_range[random.randint(0, 98)] for i in range(0, batch)]\n",
    "    \n",
    "    for i in stoch:\n",
    "        res = np.array(find_infidelity_time(60, i, data_register, network_register, control, params, optimal_params, ising_graph, initial_graph))\n",
    "        total_cost += 1 - (np.dot(np.conj(state_range[i-1]), res) * np.dot(np.conj(res), state_range[i-1]))\n",
    "        \n",
    "    print(\"Cost at Step \"+str(iterations)+\": \"+str(1 - (total_cost / len(time_range)))+\", Parameters: \"+str(params))\n",
    "    \n",
    "    iterations += 1\n",
    "    \n",
    "    if ((total_cost / len(time_range)) < best_cost):\n",
    "        params_step = old_params\n",
    "        best_cost = total_cost / len(time_range)\n",
    "    \n",
    "    return (total_cost / len(time_range)).real\n",
    "\n",
    "print(ising_graph.edges)\n",
    "print(initial_graph.edges)"
   ]
  },
  {
   "cell_type": "code",
   "execution_count": 99,
   "metadata": {},
   "outputs": [
    {
     "name": "stdout",
     "output_type": "stream",
     "text": [
      "Cost at Step 0: (0.9184971086756147+0j), Parameters: [array([1.6 , 0.98, 1.88]), array([0.2 , 2.  , 1.94])]\n",
      "Cost at Step 1: (0.8934280182413682+0j), Parameters: [array([2.6 , 0.98, 1.88]), array([0.2 , 2.  , 1.94])]\n",
      "Cost at Step 2: (0.8994478960756702+0j), Parameters: [array([1.6 , 1.98, 1.88]), array([0.2 , 2.  , 1.94])]\n",
      "Cost at Step 3: (0.896350188747594+0j), Parameters: [array([1.6 , 0.98, 2.88]), array([0.2 , 2.  , 1.94])]\n",
      "Cost at Step 4: (0.9126066498909936+0j), Parameters: [array([1.6 , 0.98, 1.88]), array([1.2 , 2.  , 1.94])]\n",
      "Cost at Step 5: (0.9131285945574442+0j), Parameters: [array([1.6 , 0.98, 1.88]), array([0.2 , 3.  , 1.94])]\n",
      "Cost at Step 6: (0.9109456597855596+0j), Parameters: [array([1.6 , 0.98, 1.88]), array([0.2 , 2.  , 2.94])]\n",
      "Cost at Step 7: (0.8929462017746632+0j), Parameters: [array([0.97373457, 0.50412062, 1.326735  ]), array([0.05284705, 1.86588605, 1.75135289])]\n",
      "Cost at Step 8: (0.934959036984829+0j), Parameters: [array([1.28686729, 0.74206031, 1.6033675 ]), array([0.12642352, 1.93294302, 1.84567645])]\n",
      "Cost at Step 9: (0.9220533282919363+0j), Parameters: [array([1.08559894, 0.46267583, 1.27855063]), array([0.04003136, 1.85420594, 1.73492344])]\n",
      "Cost at Step 10: (0.9293778788938065+0j), Parameters: [array([1.45238669, 0.74206031, 1.41600868]), array([0.12642352, 1.93294302, 1.84567645])]\n",
      "Cost at Step 11: (0.925887763951764+0j), Parameters: [array([0.86894842, 0.50425578, 1.60603503]), array([0.05288884, 1.86592414, 1.75140647])]\n",
      "Cost at Step 12: (0.9233753692989021+0j), Parameters: [array([1.40863671, 0.52857574, 1.64915555]), array([0.12642352, 1.93294302, 1.84567645])]\n",
      "Cost at Step 13: (0.9182716367220638+0j), Parameters: [array([1.30552904, 0.93087757, 1.14416612]), array([0.09638911, 1.90556992, 1.80717294])]\n",
      "Cost at Step 14: (0.9138203391410185+0j), Parameters: [array([1.31561336, 0.76515528, 1.63459895]), array([0.12642352, 1.93294302, 1.60039114])]\n",
      "Cost at Step 15: (0.9233459420125893+0j), Parameters: [array([0.90243445, 0.75350369, 1.70931311]), array([0.10384341, 1.9123637 , 2.14554742])]\n",
      "Cost at Step 16: (0.9063598104950154+0j), Parameters: [array([1.31341396, 0.7551232 , 1.62538437]), array([-0.12073806,  1.93294302,  1.85282086])]\n",
      "Cost at Step 17: (0.9304553450960101+0j), Parameters: [array([1.42800671, 0.3757061 , 1.50974761]), array([0.37391045, 1.92109372, 2.00601791])]\n",
      "Cost at Step 18: (0.8974375608518268+0j), Parameters: [array([1.30786424, 0.75707174, 1.62464573]), array([0.13143131, 1.68525153, 1.84788257])]\n",
      "Cost at Step 19: (0.9198529158831772+0j), Parameters: [array([1.12065203, 0.71191805, 1.65082983]), array([0.34754138, 2.24286261, 1.57315488])]\n",
      "Cost at Step 20: (0.9348152090202678+0j), Parameters: [array([1.32896745, 0.64643103, 1.60032603]), array([-0.0627454 ,  2.05704567,  1.8653492 ])]\n",
      "Cost at Step 21: (0.9447033980278053+0j), Parameters: [array([1.32361113, 0.671861  , 1.57071232]), array([0.19014049, 1.95273131, 1.90755664])]\n",
      "Cost at Step 22: (0.9143353945980168+0j), Parameters: [array([1.30091842, 0.6678823 , 1.51453327]), array([0.18219404, 1.94548898, 1.89736945])]\n",
      "Cost at Step 23: (0.9305710981440063+0j), Parameters: [array([1.38460938, 0.72258448, 1.63553785]), array([0.21251629, 1.99862012, 1.95778145])]\n",
      "Cost at Step 24: (0.9096180976490782+0j), Parameters: [array([1.36720673, 0.67021895, 1.55950805]), array([0.1980127 , 1.95514516, 1.86501674])]\n",
      "Cost at Step 25: (0.9244499844734115+0j), Parameters: [array([1.25610746, 0.60790509, 1.64982468]), array([0.21376442, 1.96480593, 1.90365237])]\n",
      "Cost at Step 26: (0.9259614416144111+0j), Parameters: [array([1.31312701, 0.69573534, 1.57149153]), array([0.23734388, 1.92153018, 1.9026503 ])]\n",
      "Cost at Step 27: (0.9385680494961715+0j), Parameters: [array([1.35523933, 0.64371682, 1.59462059]), array([0.1386601 , 1.86315938, 1.95842506])]\n",
      "Cost at Step 28: (0.9246255705753962+0j), Parameters: [array([1.26923174, 0.68674752, 1.51018701]), array([0.14595205, 1.98997572, 1.98133467])]\n",
      "Cost at Step 29: (0.9372423410114615+0j), Parameters: [array([1.35996782, 0.64516079, 1.55197947]), array([0.1736879 , 1.96814735, 1.87574032])]\n",
      "Cost at Step 30: (0.9088425149840086+0j), Parameters: [array([1.31700327, 0.68853912, 1.57993443]), array([0.17153817, 1.95088038, 1.89271685])]\n",
      "Cost at Step 31: (0.9215666153515228+0j), Parameters: [array([1.32930799, 0.66801935, 1.57575691]), array([0.18574482, 1.94083854, 1.91083084])]\n",
      "Cost at Step 32: (0.91367840006797+0j), Parameters: [array([1.3152028 , 0.66854931, 1.55248525]), array([0.19798232, 1.97139262, 1.91992314])]\n",
      "Cost at Step 33: (0.9206733416878816+0j), Parameters: [array([1.31295232, 0.66245938, 1.56976348]), array([0.18955957, 1.94903737, 1.90233581])]\n",
      "Cost at Step 34: (0.9266841577535325+0j), Parameters: [array([1.32838168, 0.66679765, 1.59420752]), array([0.2019466 , 1.96797526, 1.90546376])]\n",
      "Cost at Step 35: (0.9207111973353106+0j), Parameters: [array([1.32981702, 0.67069159, 1.56449986]), array([0.19312227, 1.95600744, 1.89547188])]\n",
      "Cost at Step 36: (0.9373773032366628+0j), Parameters: [array([1.34149407, 0.66850781, 1.57377807]), array([0.18466511, 1.93803409, 1.9273084 ])]\n",
      "Cost at Step 37: (0.9253705735459472+0j), Parameters: [array([1.32083441, 0.67997098, 1.57112969]), array([0.201083  , 1.94569486, 1.90866762])]\n",
      "Cost at Step 38: (0.9386560465350295+0j), Parameters: [array([1.32262226, 0.67651466, 1.57253473]), array([0.18444292, 1.9543029 , 1.90794034])]\n",
      "Cost at Step 39: (0.9011512255728846+0j), Parameters: [array([1.32302482, 0.67168509, 1.57342484]), array([0.19153727, 1.95497857, 1.906832  ])]\n",
      "Cost at Step 40: (0.9316896043642603+0j), Parameters: [array([1.32647714, 0.67098283, 1.56681575]), array([0.18732257, 1.94822235, 1.91048842])]\n",
      "Cost at Step 41: (0.9259931267511965+0j), Parameters: [array([1.32406226, 0.67303496, 1.57253405]), array([0.19072943, 1.94991249, 1.90611935])]\n",
      "Cost at Step 42: (0.912381218539344+0j), Parameters: [array([1.31997   , 0.6762538 , 1.56641474]), array([0.19315613, 1.95247633, 1.90847986])]\n",
      "Cost at Step 43: (0.9377451617308337+0j), Parameters: [array([1.32483178, 0.67217831, 1.56889671]), array([0.18956863, 1.9533508 , 1.90444844])]\n",
      "Cost at Step 44: (0.9437248145390038+0j), Parameters: [array([1.32593494, 0.66800003, 1.57267776]), array([0.18997758, 1.95812975, 1.91033068])]\n",
      "Cost at Step 45: (0.9024761413609741+0j), Parameters: [array([1.32095234, 0.66948935, 1.57068022]), array([0.18871511, 1.95246704, 1.90687672])]\n",
      "Cost at Step 46: (0.9413294774113279+0j), Parameters: [array([1.3236954 , 0.67298257, 1.57000749]), array([0.1911705 , 1.95337109, 1.90831996])]\n",
      "Cost at Step 47: (0.9270426963615899+0j), Parameters: [array([1.32381911, 0.67124048, 1.57059199]), array([0.19084154, 1.95260799, 1.90749169])]\n",
      "Cost at Step 48: (0.9457732715992012+0j), Parameters: [array([1.32452454, 0.67233523, 1.57155933]), array([0.1890832 , 1.95359559, 1.90797281])]\n",
      "Cost at Step 49: (0.9383990602059797+0j), Parameters: [array([1.32496065, 0.67229954, 1.57107437]), array([0.18878369, 1.95306994, 1.90837406])]\n",
      "Cost at Step 50: (0.9198224765784813+0j), Parameters: [array([1.32297546, 0.67293417, 1.57149484]), array([0.18811559, 1.95392434, 1.90788419])]\n",
      "Cost at Step 51: (0.9002268058694711+0j), Parameters: [array([1.32427783, 0.67236318, 1.57214351]), array([0.18926852, 1.95320479, 1.90857588])]\n",
      "Cost at Step 52: (0.9400729107661079+0j), Parameters: [array([1.32516759, 0.67339114, 1.57156123]), array([0.18916747, 1.95315522, 1.90652879])]\n",
      "Cost at Step 53: (0.914947967637669+0j), Parameters: [array([1.3245291 , 0.67294369, 1.57120429]), array([0.18954812, 1.95390923, 1.90835078])]\n",
      "Cost at Step 54: (0.932970860389748+0j), Parameters: [array([1.32517797, 0.67115547, 1.57130857]), array([0.18850203, 1.95457921, 1.90718051])]\n",
      "Cost at Step 55: (0.9302634073026252+0j), Parameters: [array([1.32463601, 0.67208474, 1.5724185 ]), array([0.18905504, 1.95322559, 1.90802418])]\n",
      "Cost at Step 56: (0.9294571304562116+0j), Parameters: [array([1.32411946, 0.67189576, 1.57122566]), array([0.18953759, 1.95317876, 1.90764894])]\n",
      "Cost at Step 57: (0.9269076437510625+0j), Parameters: [array([1.32466994, 0.67259272, 1.57155694]), array([0.18903603, 1.95346861, 1.90760864])]\n",
      "Cost at Step 58: (0.9349984686934587+0j), Parameters: [array([1.32434605, 0.67243518, 1.57157165]), array([0.18898499, 1.95351576, 1.90801269])]\n",
      "Cost at Step 59: (0.9445557777929787+0j), Parameters: [array([1.32460695, 0.67202268, 1.57149555]), array([0.18890464, 1.95390843, 1.90796175])]\n",
      "Cost at Step 60: (0.9315291182255617+0j), Parameters: [array([1.32459128, 0.67236347, 1.57155172]), array([0.18925119, 1.95369476, 1.90810025])]\n",
      "Cost at Step 61: (0.9379831188254886+0j), Parameters: [array([1.32456558, 0.67234417, 1.57146361]), array([0.18905255, 1.95355812, 1.90801319])]\n",
      "Cost at Step 62: (0.9250398974752787+0j), Parameters: [array([1.32460046, 0.67222489, 1.57171879]), array([0.18905164, 1.95347807, 1.9080106 ])]\n",
      "Cost at Step 63: (0.9392512457990887+0j), Parameters: [array([1.32441401, 0.67221595, 1.57147837]), array([0.18920302, 1.95355183, 1.90787115])]\n",
      "Cost at Step 64: (0.9008330850288121+0j), Parameters: [array([1.32451596, 0.67230884, 1.57155506]), array([0.18903463, 1.95367435, 1.90794734])]\n",
      "Cost at Step 65: (0.9210982844421659+0j), Parameters: [array([1.32455056, 0.67237169, 1.5715743 ]), array([0.18906856, 1.95360066, 1.90796736])]\n",
      "Cost at Step 66: (0.9454083141654429+0j), Parameters: [array([1.32449578, 0.67231747, 1.57153426]), array([0.18914759, 1.9535481 , 1.90793007])]\n",
      "Cost at Step 67: (0.9185137167723492+0j), Parameters: [array([1.32455548, 0.67232461, 1.57155689]), array([0.18911365, 1.95361652, 1.90798045])]\n",
      "Cost at Step 68: (0.9398745266777097+0j), Parameters: [array([1.32445425, 0.67234977, 1.57156793]), array([0.1890915 , 1.95357986, 1.90803958])]\n",
      "Cost at Step 69: (0.9400072173789294+0j), Parameters: [array([1.32453816, 0.67227542, 1.57160011]), array([0.1890507 , 1.95353688, 1.90798125])]\n",
      "     fun: 0.0599927826210706\n",
      "   maxcv: 0.0\n",
      " message: 'Optimization terminated successfully.'\n",
      "    nfev: 70\n",
      "  status: 1\n",
      " success: True\n",
      "       x: array([1.32453816, 0.67227542, 1.57160011, 0.1890507 , 1.95353688,\n",
      "       1.90798125])\n"
     ]
    }
   ],
   "source": [
    "init = [random.randint(10, 100)/50 for i in range(0, 6)]\n",
    "#init = [1.96, 1.08, 0.32, 1.04, 1.28, 0.5]\n",
    "out = minimize(cost_function, x0=init, method=\"COBYLA\", options={'maxiter':100})\n",
    "g = out['x']\n",
    "print(out)"
   ]
  },
  {
   "cell_type": "code",
   "execution_count": 103,
   "metadata": {},
   "outputs": [
    {
     "name": "stdout",
     "output_type": "stream",
     "text": [
      "[1.32453816 0.67227542 1.57160011 0.1890507  1.95353688 1.90798125]\n",
      "[[1.38, 0.62, 1.24], [1.96, 1.48, 0.78]]\n"
     ]
    },
    {
     "data": {
      "image/png": "[encoded data removed]",
      "text/plain": [
       "<Figure size 288x288 with 2 Axes>"
      ]
     },
     "metadata": {
      "needs_background": "light"
     },
     "output_type": "display_data"
    },
    {
     "name": "stdout",
     "output_type": "stream",
     "text": [
      "Fidelity: (0.17534651+0j)\n"
     ]
    }
   ],
   "source": [
    "# Prepares the optimal state\n",
    "circuit = cirq.Circuit()\n",
    "#g = params_step\n",
    "print(g)\n",
    "print([[1.38, 0.62, 1.24], [1.96, 1.48, 0.78]])\n",
    "#g = out['x']\n",
    "circuit.append(qgrnn_ansatz(initial_graph, [g[0:3], g[3:6]], optimal_params, 60, network_register, 30))\n",
    "\n",
    "simulator = cirq.Simulator()\n",
    "results = simulator.simulate(circuit)\n",
    "state_vector = results.final_state\n",
    "\n",
    "create_density_matrix(np.real(np.outer(state_vector, np.conj(state_vector))))\n",
    "\n",
    "print(\"Fidelity: \"+str(np.inner(np.conj(state_vector), big_vector)*np.inner(np.conj(big_vector), state_vector)))"
   ]
  },
  {
   "cell_type": "code",
   "execution_count": null,
   "metadata": {},
   "outputs": [],
   "source": []
  }
 ],
 "metadata": {
  "kernelspec": {
   "display_name": "Python 3",
   "language": "python",
   "name": "python3"
  },
  "language_info": {
   "codemirror_mode": {
    "name": "ipython",
    "version": 3
   },
   "file_extension": ".py",
   "mimetype": "text/x-python",
   "name": "python",
   "nbconvert_exporter": "python",
   "pygments_lexer": "ipython3",
   "version": "3.7.5"
  }
 },
 "nbformat": 4,
 "nbformat_minor": 4
}
