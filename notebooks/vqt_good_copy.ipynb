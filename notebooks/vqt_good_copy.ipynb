{
 "cells": [
  {
   "cell_type": "markdown",
   "metadata": {},
   "source": [
    "## The Variational Quantum Thermalizer "
   ]
  },
  {
   "cell_type": "code",
   "execution_count": 2,
   "metadata": {},
   "outputs": [],
   "source": [
    "# Starts by importing all of the necessary dependencies\n",
    "\n",
    "import pennylane as qml\n",
    "from matplotlib import pyplot as plt\n",
    "import numpy as np\n",
    "from numpy import array\n",
    "import scipy\n",
    "from scipy.optimize import minimize\n",
    "import random\n",
    "import math\n",
    "from tqdm import tqdm\n",
    "import networkx as nx\n",
    "import seaborn"
   ]
  },
  {
   "cell_type": "markdown",
   "metadata": {},
   "source": [
    "### Introduction\n",
    "\n",
    "The goal of this Notebook will be to help the reader understand a very interesting, recently-proposed NISQ algorithm called the **Variational Quantum Thermalizer**. This paper was one of many that has been written by the quantum team at X, the Moonshot Factory in the past couple years. Essentially, this algorithm is able to use a variational approach to reconstruct the thermal state of a given Hamiltonian at a given temperature, which is a task that is performed much more efficiently on a quantum device than a classical simulation performing the same calculations (in a very similar respect to the Variational Quantum Eigensolver). In fact, as in the original paper, we will demonstrate in this Notebook that as temperature approaches $0$, this algorithm is completely equivalent to the VQE, making the VQT a natural generalization of VQE!"
   ]
  },
  {
   "cell_type": "markdown",
   "metadata": {},
   "source": [
    "### The Variational Quantum Thermalizer: The Problem Statement\n",
    "\n",
    "Before we actually jump into simulations of this algorithm, we will attempt to understand the mathematical and physical theory that makes this theory possible. I'm going to assume that the reader already understands why variational processes like VQE and QAOA work from a physical perspective (this knowledge isn't absolutely necessary, but it is helpful, and it just so happens that a comprehensive explanation can be found in my CV QAOA Notebook!)\n",
    "\n",
    "First off all, let us consider what we are actually trying to accomplish using this algorithm. We want to construct a **thermal state**, which is defined as:\n",
    "\n",
    "$$\\rho_\\text{thermal} \\ = \\ \\frac{e^{- H \\beta / k_B}}{\\text{Tr}(e^{- H \\beta / k_B})}$$\n",
    "\n",
    "Where $H$ is the Hamiltonian of our system, $\\beta \\ = \\ 1/T$, where $T$ is the temperature of our system, and $k_B$ is Boltzman's constant (we will set this to $1$, for simplicity). Inputted into our algorithm is this Hamiltonian $H$, and our goal is to find $\\rho_\\text{thermal}$, or more specifically, the variational parameters that give us a state that is \"very close\" to $\\rho_\\text{thermal}$, as one does in any kind of variational quantum algorithm.\n",
    "\n",
    "In order to do this, we will essentially pick some \"simple\" mixed state to start our process. We will then sample from the probability distribution of measurements of different pure states. More concretely, if we have some mixer state:\n",
    "\n",
    "$$\\rho \\ = \\ \\displaystyle\\sum_{i} p_i |x_i\\rangle \\langle x_i|$$\n",
    "\n",
    "Then our probability distribution is defined as $x_i \\ \\sim \\ p_i$, where $x_i$ corresponds to $|x_i\\rangle$. We repeatedly sample values of $x_i$ corresponding to pure states in the expansion of our \"simple\" mixed state and pass them through a parametrized quantum circuit. We repeat this process, calculating the expectation value of the Hamiltonian for our transformed mixed state and use this value along with the Von Neumann entropy of our state to create a **free energy cost function**. We repeat the algorithm with new parameters until we minimize free energy. Once we have done this, we have arrived at the thermal state! The entire process look somewhat like this (this beautiful illustration was taken from the original paper):\n",
    "\n",
    "<br>\n",
    "<center>\n",
    "<img src=\"images/vqt.png\" style=\"height:250px\">\n",
    "    </center>\n",
    "<br>\n",
    "\n",
    "The dark grey boxes show the variational parameters that we feed into the algorithm, $\\theta$ determines the probability distribution and $\\phi$ determines the nature of the unitary ansatz circuit. The light grey boxes represent classical subroutines (we can sample from our probability distribution, calculate the Von Neumann entropy, $S_{\\theta}$, and calculate the expectation value of our Hamiltonian classicaly). To prepare the pure state $|x\\rangle$ that we samples from the distribution, we have to use the quantum subroutine $\\hat{V}_x$, and then we \"evolve\" our basic quantum state with the variational ansatz $\\hat{U}(\\phi)$. Finally, we calculate loss (the black box), and cycle back to the beginning of the circuit after receiving updated variational parameters from our classical optimizer."
   ]
  },
  {
   "cell_type": "markdown",
   "metadata": {},
   "source": [
    "## Constructing the Variational Quantum Thermalizer\n",
    "\n",
    "Now, that we understand what we are actually making, let's understand how the paper goes about constructing the VQT. We said earlier we will begin the process by creating a simple mixed state. Now, let's actually understand how we will create this simple state. Basically, the idea is to pick some $\\rho_\\theta$ parametrized by $\\theta$ such that:\n",
    "\n",
    "<br>\n",
    "$$\\rho_\\theta \\ = \\ \\frac{1}{\\mathcal{Z}_\\theta} e^{- K_\\theta}$$\n",
    "<br>\n",
    "\n",
    "Where $\\mathcal{Z}_\\theta$ is simply the partition function that normalizes our density matrix, $\\mathcal{Z}_{\\theta} \\ = \\ \\text{Tr}(e^{- K_\\theta})$. $K_\\theta$ is just some simple Hamiltonian. \n",
    "\n",
    "Our motivation for constructing our simple mixed state in this fashion is that it is similar in structure to that of the thermal state, which is the exponential of a Hamiltonian. In addition, recall that time evolution of a density matrix is given by multiplying it left and right by the unitary that is \"doing the evolving\". if you're not familiar with this, since we know that evolution of the form $|\\psi\\rangle \\ \\rightarrow \\ |\\psi'\\rangle$ is given by $|\\psi'\\rangle \\ = \\ U|\\psi\\rangle$, we know that some density matrix will evolve as:\n",
    "\n",
    "<br>\n",
    "$$\\rho \\ = \\ \\displaystyle\\sum_{i} p_i |\\psi_i\\rangle \\langle \\psi_i | \\ \\rightarrow \\ \\displaystyle\\sum_{i} p_i |\\psi_i'\\rangle \\langle \\psi_i' | \\ = \\ \\displaystyle\\sum_{i} p_i U |\\psi_i\\rangle \\langle \\psi_i | U^{\\dagger} \\ = \\ U \\rho U^{\\dagger}$$\n",
    "<br>\n",
    "\n",
    "Anyways, getting back to $K_{\\theta}$, we must consider a method for selecting it. Luckily, the paper gives us a fairly obvious choice for this Hamiltonian:\n",
    "\n",
    "<br>\n",
    "$$K_{\\theta} \\ = \\ \\displaystyle\\sum_{x} \\theta_x |x\\rangle \\langle x|$$\n",
    "<br>\n",
    "\n",
    "Where each $|x\\rangle$ is a computational basis state of our qubit system. This Hamiltonian is quite simple, it is diagonal in the basis that we are used to operating in, and all we have to do is take our variational parameters and slap them onto the outer products of the different basis states. We can then construct our initial mixed state as follows:\n",
    "\n",
    "<br>\n",
    "$$\\rho_{\\theta} \\ = \\ \\frac{1}{\\mathcal{Z}_{\\theta}} e^{-K_{\\theta}} \\ = \\ \\frac{1}{\\mathcal{Z}_{\\theta}} \\displaystyle\\sum_{n \\ = \\ 0}^{\\infty} \\ \\frac{(-K_{\\theta})^n}{n!} \\ = \\ = \\ \\frac{1}{\\mathcal{Z}_{\\theta}} \\displaystyle\\sum_{n \\ = \\ 0}^{\\infty} \\ \\frac{(-\\sum_{k} \\theta_k |k\\rangle \\langle k|)^n}{n!} \\ = \\ \\frac{1}{\\mathcal{Z}_{\\theta}} \\displaystyle\\sum_{n \\ = \\ 0}^{\\infty} \\displaystyle\\sum_{k} \\ \\frac{(-\\theta_k)^n}{n!} |k\\rangle \\langle k| \\ = \\ \\frac{1}{\\mathcal{Z}_{\\theta}} \\displaystyle\\sum_{k} e^{-\\theta_k} |k\\rangle \\langle k |$$\n",
    "<br>\n",
    "\n",
    "This is great! All we have to do is sample from the probability distribution of $k \\ \\sim \\ \\frac{1}{\\mathcal{Z}_\\theta} e^{-\\theta_k}$, prepare $|k\\rangle$ which is fairly easy, since it is just a computational basis state, pass it through $\\hat{U}(\\phi)$, which we will discuss soon, and then repeat this process to calculate the expectation value and the cost function. \n",
    "\n",
    "#### The Cost Function\n",
    "\n",
    "Let's talk more about the cost function. We will define our cost function to be the following, which we call the **relative free energy** of our system:\n",
    "\n",
    "<br>\n",
    "$$\\mathcal{L}(\\theta, \\ \\phi) \\ = \\ \\beta \\langle \\hat{H} \\rangle \\ - \\ S_\\theta \\ = \\ \\beta \\ \\text{Tr} (\\hat{H} \\ \\rho_{\\theta \\phi}) \\ - \\ S_\\theta \\ = \\ \\beta \\ \\text{Tr}( \\hat{H} \\ \\hat{U}(\\phi) \\rho_{\\theta} \\hat{U}(\\phi)^{\\dagger} ) \\ - \\ S_\\theta$$\n",
    "<br>\n",
    "\n",
    "This is very similar to the concept of **Helmholtz free energy** from thermal physics, which is given as:\n",
    "\n",
    "<br>\n",
    "$$FE \\ = \\ U \\ - \\ TS \\ = \\ U \\ - \\ \\frac{S}{\\beta}$$\n",
    "<br>\n",
    "\n",
    "Where $H$ is the internal energy of the system, $T$ is the temperature, and $S$ is the entropy. Mapping this to the language of quantum states, we get:\n",
    "\n",
    "<br>\n",
    "$$F \\ = \\ \\langle \\hat{H} \\rangle \\ - \\ \\frac{S_\\phi}{\\beta}$$\n",
    "<br>\n",
    "\n",
    "Where internal energy is mapped to the expectation value of the energy of our quantum system, and the entropy is mapped to the Von Neumann entropy of our state. Multiplying by $\\beta$, and we recover our initial loss function, $\\mathcal{L}$. Now, let's convince ourselves that the thermal state of $\\hat{H}$ with temperature $T \\ = \\ 1/\\beta$ minimizes the loss function $\\mathcal{L}$. Consider the **relative entropy** between our two states. This is just an extension of the concept of **Von Neumann entropy** of a quantum state, which is defined as:\n",
    "\n",
    "<br>\n",
    "$$S(\\rho) \\ = \\ - \\text{Tr} (\\rho \\log \\rho) \\ = \\ - \\displaystyle\\sum_{n} p_n \\log p_n$$\n",
    "<br>\n",
    "\n",
    "Where:\n",
    "\n",
    "<br>\n",
    "$$p_n \\ = \\ \\langle n | \\rho | n \\rangle$$\n",
    "<br>\n",
    "\n",
    "Is the probability associated with measurement of the $|n\\rangle$ state in the mixed state $\\rho$, written as a sum of the eigenbasis formed by the eigenvectors of $\\rho$. This is effectively a measure of the \"density\" of individual pure quantum states in our overall mixed state. With a mixed quantum state where the probabilities $p_n$ are more \"spread out\" over many pure states, the Von Neumann entropy is higher, whereas if our state (let's call it $\\sigma$) is complete pure, then:\n",
    "<br>\n",
    "$$S(\\sigma) \\ = \\ \\displaystyle\\sum_{n} p_n \\log p_n \\ = \\ - p_k \\log p_k \\ = \\ - 1 \\cdot \\log 1 \\ = \\ -1 \\cdot 0 \\ = \\ 0$$\n",
    "<br>\n",
    "Because by definition of a pure state, one eigenstate has a probability of $1$, while the rest of probability $0$. The entropy is thus zero! In the event that we have a mixed state, each $p_n \\ < \\ 1$, it follows that $\\log p_n$ is negative, making our entropy greater than $0$, thus, our entropy is minimized when we have a pure state!\n",
    "\n",
    "Getting back on topic, we must conider the relative entropy between two states. This is just the amount of entropy that one state has, with respect to another one. For instance, if I compared the relative entropy of two copies of the same state, I would get a value of $0$, as the entropy of both states is completely the same. You can think about one of the states as our \"reference point\" (just as the completely pure state is our reference point in the case of normal calculations of entropy). We define this relative entropy as:\n",
    "\n",
    "$$D(\\rho_1 || \\rho_2) \\ = \\ \\text{Tr} (\\rho_1 \\log \\rho_1) \\ - \\ \\text{Tr}(\\rho_1 \\log \\rho_2)$$\n",
    "\n",
    "If we take the relative entropy of some state $\\rho$ with respect to our thermal state, we get:\n",
    "\n",
    "$$D(\\rho || \\rho_{\\text{Thermal}}) \\ = \\ \\text{Tr} (\\rho \\log \\rho) \\ - \\ \\text{Tr}(\\rho \\log \\rho_{\\text{Thermal}}) \\ = \\ \\text{Tr} (\\rho \\log \\rho) \\ - \\ \\text{Tr}(\\rho \\log \\rho_{\\text{Thermal}}) \\ = \\ \\beta \\text{Tr}(\\rho \\hat{H}) \\ - \\ S(\\rho) \\ + \\ \\log \\mathcal{Z}$$\n",
    "\n",
    "Now, since relative entropy will always be greater than or equal to $0$, we know that this quantity that we have calculated will be $0$ (and thus minimized), when $\\rho$ is equal to the thermal state itself. Thus, if we want to variationally learn the thermal state, all we have to do is minimize the quantity $\\beta \\text{Tr}(\\rho \\hat{H}) \\ - \\ S(\\rho)$ (we can omit the $\\log \\mathcal{Z}$, as this is just an overall added constant. This is exactly the loss function that we proposed that we use initially, thus we have shown that minimization of this loss function does in fact equte to $\\rho$ being in the desired thermal state! This is almost like a more general version of the variational principle: any thermal state that we prepare will have a greater \"free energy\" with respect to some Hamiltonian than the desired thermal state, just as the expected energy with respect some Hamiltonian of any pure state will have a greater energy than the ground state!\n",
    "\n",
    "For fun, let's now calculate the loss function for the exact representation of the thermal state corresponding to $\\hat{H}$ and $\\beta$:\n",
    "\n",
    "$$\\mathcal{L}_{\\text{Thermal}} \\ = \\ \\beta \\text{Tr}(\\rho_{\\text{Thermal}} \\hat{H}) \\ + \\ \\text{Tr} ( \\rho_{\\text{Thermal}} \\ \\log \\rho_{\\text{Thermal}} ) \\ = \\ \\beta \\text{Tr}\\Bigg( \\frac{e^{-\\beta \\hat{H}}}{\\mathcal{Z}_{\\beta}} \\hat{H} \\Bigg) \\ + \\ \\text{Tr} \\Bigg( \\frac{e^{-\\beta \\hat{H}}}{\\mathcal{Z}_{\\beta}} \\log \\frac{e^{-\\beta \\hat{H}}}{\\mathcal{Z}_{\\beta}} \\Bigg)$$\n",
    "\n",
    "Where the partition function is given as:\n",
    "\n",
    "$$\\mathcal{Z}_{\\beta} \\ = \\ \\text{Tr}(e^{-\\beta \\hat{H}})$$\n",
    "\n",
    "Continuing this expansion, we get:\n",
    "\n",
    "$$\\beta \\text{Tr}\\Bigg( \\frac{e^{-\\beta \\hat{H}}}{\\mathcal{Z}_{\\beta}} \\hat{H} \\Bigg) \\ + \\ \\text{Tr} \\Bigg( \\frac{e^{-\\beta \\hat{H}}}{\\mathcal{Z}_{\\beta}} \\log \\frac{e^{-\\beta \\hat{H}}}{\\mathcal{Z}_{\\beta}} \\Bigg) \\ = \\ \\frac{1}{\\mathcal{Z}_{\\beta}} \\ \\Bigg[ \\beta  \\text{Tr} \\big( \\hat{H} \\ e^{ -\\beta \\hat{H}} \\big) \\ + \\ \\text{Tr} \\Bigg( e^{-\\beta \\hat{H}} \\ \\log \\frac{e^{-\\beta \\hat{H}}}{\\mathcal{Z}_{\\beta}} \\Bigg) \\Bigg] \\ = \\ \\frac{1}{\\mathcal{Z}_{\\beta}} \\ \\Bigg[ \\beta  \\text{Tr} \\big( \\hat{H} \\ e^{ -\\beta \\hat{H}} \\big) \\ + \\ \\text{Tr} ( e^{-\\beta \\hat{H}} \\ ( \\log e^{-\\beta \\hat{H}} \\ - \\ \\log \\mathcal{Z}_{\\beta} )) \\Bigg] \\ = \\ \\frac{1}{\\mathcal{Z}_{\\beta}} \\ \\Bigg[ \\beta  \\text{Tr} \\big( \\hat{H} \\ e^{ -\\beta \\hat{H}} \\big) \\ - \\ \\beta \\text{Tr} \\big( e^{-\\beta \\hat{H}} \\hat{H} \\big) \\ - \\ \\text{Tr} \\big( e^{-\\beta \\hat{H}} \\log \\mathcal{Z}_{\\beta} \\big) \\Bigg] \\ = \\ - \\frac{\\text{Tr} \\big( e^{-\\beta \\hat{H}} \\big) \\log \\mathcal{Z}_{\\beta}}{\\mathcal{Z}_{\\beta}} \\ = \\ - \\log \\mathcal{Z}_{\\beta}$$\n",
    "\n",
    "This makes sense, since substituting it into the original expression for relative entropy gives us a value of $0$, meaning that we have preparred a state equivalent to the thermal state.\n",
    "\n",
    "Using the Von Neumann entropy as a part of our cost function as actually super convenient, as **entropy remains invariant under unitary transformation**. This essentially means that we don't need to \"compute\" the entropy of our state after passing it through our ansatz circuit. Instead, we can pick an initial state with an entropy that is very easy to determine. This means that entropy is a function of only our $\\theta$ parameters, and is completely independent of our choice of $\\phi$! We can prove this fairly easily. Let's consider some density matrix $\\rho$, with $\\rho \\ \\rightarrow \\ \\rho'$ with $\\rho' \\ = \\ U \\rho U^{\\dagger}$. We compute the entropy of our initial state:\n",
    "\n",
    "$$S(\\rho) \\ = \\ - \\text{Tr} ( \\rho \\log \\rho)$$\n",
    "\n",
    "And then consider the entropy of our transformed state:\n",
    "\n",
    "$$S(\\rho') \\ = \\ - \\text{Tr} (\\rho' \\log \\rho') \\ = \\ - \\text{Tr} ( U \\rho U^{\\dagger} \\log (U \\rho U^{\\dagger})) \\ = \\ - \\text{Tr} ( U \\rho U^{\\dagger} \\log \\rho) \\ = \\ - \\text{Tr} ( U \\rho \\log \\rho U^{\\dagger}) \\ = \\ - \\text{Tr} ( \\rho \\log \\rho U^{\\dagger} U) \\ = \\ - \\text{Tr} ( \\rho \\log \\rho) \\ = \\ S(\\rho)$$\n",
    "\n",
    "Therefore the entropy remains invariant under a unitary transformation, as:\n",
    "\n",
    "$$\\log (U \\rho U^{\\dagger}) \\ = \\ \\log U \\ + \\ \\log \\rho \\ + \\ \\log U^{\\dagger} \\ = \\ \\log U \\ + \\ \\log U^{\\dagger} \\ + \\ \\log \\rho \\ = \\ \\log (U^{\\dagger} U) \\ + \\ \\log \\rho \\ = \\ \\log \\rho$$\n",
    "\n",
    "We also take advantage of the fact that $\\text{Tr}(AB) \\ = \\ \\text{Tr}(BA)$. This can also be proved fairly easily as well:\n",
    "\n",
    "$$\\text{Tr}(AB) \\ = \\ \\displaystyle\\sum_{j} AB_{jj} \\ = \\ \\displaystyle\\sum_{j, \\ k} A_{jk} B_{kj} \\ = \\ \\displaystyle\\sum_{j, \\ k} B_{kj} A_{jk} \\ = \\ \\displaystyle\\sum_{k} BA_{kk} \\ = \\ \\text{Tr} (BA)$$\n",
    "\n",
    "#### Scalability of the Algorithm\n",
    "\n",
    "Now, we have outlined a pretty great process for learning thermal states, however, we have yet to address one large issue: **scalability**. At the moment the algorithm scales fairly poorly. Specifically, when we consider the set of parameters $\\theta$ that determine our \"basic\" Hamiltonian, at the moment, we assign some parameter $\\theta_j$ to each of the computational basis states. This means that for $n$ qubits, we require $2^n$ parameters! That design scales **incredibly** poorly. However, we can ensure that our $\\theta$ parameters scale **linearly** by **parametrizing the latent space**. This esentially means that we will break our initial mixed state into multiple subcomponents, each determined by only one parameter $\\theta_j$. If each component of our latent space is given by the mixed state $\\rho_j$, then our total initial state will be given as:\n",
    "\n",
    "$$\\rho(\\theta) \\ = \\ \\displaystyle\\bigotimes_{j} \\ \\rho_j (\\theta_j)$$\n",
    "\n",
    "Where, for the purposes of our simulations, we will utilize a **factorized latent space**. In addition to breaking our initial mixed state up into smalled parts, we also break apart our initial Hamiltonian, $K_\\theta$ into a series of $K_{\\theta_j}$ terms, with the total Hamiltonian being the sum of all these terms:\n",
    "\n",
    "$$K_\\theta \\ = \\ \\displaystyle\\sum_{j} K_{\\theta_j}$$\n",
    "\n",
    "Remembering the exponential structure of our initial mixed state:\n",
    "\n",
    "$$\\rho_\\theta \\ = \\ \\frac{1}{\\mathcal{Z}_{\\theta}} e^{-K_{\\theta}} \\ = \\ \\frac{1}{\\mathcal{Z}_{\\theta}} e^{-{\\sum_j K_{\\theta_j}}} \\ \\Rightarrow \\ \\bigotimes_{j} \\ \\frac{1}{\\mathcal{Z}_{\\theta}} e^{-{K_{\\theta_j}}}$$\n",
    "\n",
    "It becomes a tensor product of the individual subspaces if we define our initial mixed states $\\rho_j$ only over the smaller Hilbert space in which each \"operates\" (for example, the basis $|0\\rangle$ and $|1\\rangle$). We can now choose a basic form for our parametrized \"sub-Hamiltonians\":\n",
    "\n",
    "$$K_{\\theta_j} \\ = \\ \\displaystyle\\sum_{k} \\ \\theta_{jk} |k\\rangle \\langle k|_{j}$$\n",
    "\n",
    "After we do this, we may re-write our initial state:\n",
    "\n",
    "$$\\rho_{\\theta_j} \\ = \\ \\frac{1}{\\mathcal{Z}_{\\theta_j}} e^{-K_{\\theta_j}} \\ = \\ \\frac{1}{\\mathcal{Z}_{\\theta_j}} \\displaystyle\\sum_{n \\ = \\ 0}^{\\infty} \\ \\frac{(-K_{\\theta_j})^n}{n!} \\ = \\ = \\ \\frac{1}{\\mathcal{Z}_{\\theta_j}} \\displaystyle\\sum_{n \\ = \\ 0}^{\\infty} \\ \\frac{(-\\sum_{k} \\theta_{jk} |k\\rangle \\langle k|_j)^n}{n!} \\ = \\ \\frac{1}{\\mathcal{Z}_{\\theta_j}} \\displaystyle\\sum_{n \\ = \\ 0}^{\\infty} \\displaystyle\\sum_{k} \\ \\frac{(-\\theta_{jk})^n}{n!} |k\\rangle \\langle k|_j \\ = \\ \\frac{1}{\\mathcal{Z}_{\\theta_j}} \\displaystyle\\sum_{k} e^{-\\theta_{jk}} |k\\rangle \\langle k |_j$$\n",
    "\n",
    "So, if we are operating in a Hilbert space with dimension $2$ (we will likely be performing this experiment with qubits, thus this will be the case, however, thr algorithm can be generalized to $d$-level qudits), in the basis of $|k\\rangle_j$, we have:\n",
    "\n",
    "$$\\rho_{\\theta_j} \\ = \\ \\frac{1}{\\mathcal{Z}_{\\theta_j}} \\begin{pmatrix} e^{-\\theta_{j0}} & 0 \\\\ 0 & e^{-\\theta_{j1}} \\end{pmatrix} \\ = \\ \\begin{pmatrix} p_j(\\theta_{j0}) & 0 \\\\ 0 & p_j(\\theta_{j1}) \\end{pmatrix}$$\n",
    "\n",
    "This form suggests to us that we may be able to make the algorithm even more scalable. Right now, we require $2n$ parameters in the set $\\theta$, however, due to the normalization condition, it must be true that:\n",
    "\n",
    "$$p_j(\\theta_{j0}) \\ + \\ p_j(\\theta_{j1}) \\ = \\ 1$$\n",
    "\n",
    "We wish to eliminate the parameter $\\theta_{j1}$ from our initial states, leaving only one parameter for each of the mixed states. Without loss of generality:\n",
    "\n",
    "$$p_j(\\theta_{j1}) \\ = \\ 1 \\ - \\ e^{-\\theta_{j0}}$$\n",
    "\n",
    "And making it so that each $\\rho_j$ is given as:\n",
    "\n",
    "$$\\rho_{\\theta_j} \\ = \\ \\begin{pmatrix} p_j(\\theta_{j}) & 0 \\\\ 0 & 1 \\ - \\ p_j(\\theta_{j}) \\end{pmatrix} \\ = \\ \\begin{pmatrix} e^{-\\theta_{j}} & 0 \\\\ 0 & 1 \\ - \\ e^{-\\theta_{j}} \\end{pmatrix}$$\n",
    "\n",
    "Where we have renamed $\\theta_{j0}$ to $\\theta_{j}$, as we are left with only one parameter. This is a huge improvement, we have reduced thee number of $\\theta$ parameters from $2^n$ to $n$!\n",
    "\n",
    "To conclude our discussion of the theory (so we can actually move onto the experiments), we will also make note that the construction of our unitary $\\hat{U}(\\phi)$ will vary from problem to problem, so we will discuss this in more depth for each simulation that we run.\n",
    "\n",
    "#### VQT At Zero Temperature: The Variational Quantum Eigensolver\n",
    "\n",
    "There is one more thing that we have to discuss before we start taking a look at some real simulations. This, in my humble opinion, is one of the coolest things about this entire quantum algorithm: as temperature approaches $0$, the VQT converges towards the well-known VQE! We can prove this more easily than you would think, if we investigate the cost function:\n",
    "\n",
    "$$\\mathcal{L}(\\theta, \\ \\phi) \\ = \\ \\beta \\langle \\hat{H} \\rangle \\ - \\ S_\\theta$$\n",
    "\n",
    "We then divide by $\\beta$ (keep in mind that for a fixed value of $\\beta$, it just acts as some overall scaling parameter: the minimum of the function remains unchanged). We get:\n",
    "\n",
    "$$\\frac{1}{\\beta} \\ \\mathcal{L}(\\theta, \\ \\phi) \\ = \\ \\langle \\hat{H} \\rangle \\ - \\ \\frac{1}{\\beta} \\ S_\\theta \\ = \\ \\langle H \\rangle \\ - \\ T S_\\theta$$\n",
    "\n",
    "So in the limit of $0$ temperature, since we know that the Von Neumann entropy is bounded above and below, the entropy/temperature term will approach $0$, and we will get:\n",
    "\n",
    "$$\\frac{1}{\\beta} \\ \\mathcal{L}(\\theta, \\ \\phi) \\ \\rightarrow \\ \\langle H \\rangle \\ \\ \\ \\ \\text{for} \\ \\ \\ T \\ \\rightarrow \\ 0$$\n",
    "\n",
    "Which is exactly the Variational Quantum Eigensolver: preparring some arbitrary quantum state and then minimizing the exepcted value of the Hamiltonian to find the ground state! This then tells us that the VQT is really just a generalization of the VQE, for mixed states at temperatures above absolute $0$!"
   ]
  },
  {
   "cell_type": "markdown",
   "metadata": {},
   "source": [
    "### The 3-Qubit Ising Model on a Line"
   ]
  },
  {
   "cell_type": "markdown",
   "metadata": {},
   "source": [
    "#### Numerical Calculation of Target State\n",
    "\n",
    "We begin by calculating the target state numerically, so that it can be compared to the state our circuit prepares. We begin by defining a few fixed values that we will use throughout this example:"
   ]
  },
  {
   "cell_type": "code",
   "execution_count": 217,
   "metadata": {},
   "outputs": [],
   "source": [
    "# Defines all necessary variables\n",
    "\n",
    "beta = 0.5 #Note that B = 1/T\n",
    "qubit = 3\n",
    "qubits = range(qubit)\n",
    "depth = 2\n",
    "\n",
    "# Defines the device on which the simulation is run\n",
    "\n",
    "dev = qml.device(\"default.qubit\", wires=len(qubits))"
   ]
  },
  {
   "cell_type": "markdown",
   "metadata": {},
   "source": [
    "The model that we are investigating lives on a linear graph, which we will construct using `networkx` for the purposes of eventually constructing our Hamiltonian:"
   ]
  },
  {
   "cell_type": "code",
   "execution_count": 218,
   "metadata": {},
   "outputs": [
    {
     "data": {
      "image/png": "[encoded data removed]",
      "text/plain": [
       "<Figure size 432x288 with 1 Axes>"
      ]
     },
     "metadata": {},
     "output_type": "display_data"
    }
   ],
   "source": [
    "# Creates the graph of interactions for the Heisenberg grid, then draws it\n",
    "\n",
    "interaction_graph = nx.Graph()\n",
    "interaction_graph.add_nodes_from(range(0, qubit))\n",
    "interaction_graph.add_edges_from([(0, 1), (1, 2)])\n",
    "\n",
    "nx.draw(interaction_graph)"
   ]
  },
  {
   "cell_type": "markdown",
   "metadata": {},
   "source": [
    "Next, we can implemented a method that actually allows us to calculate the matrix form of our Hamiltonian (in the $Z$-basis). The Ising model Hamiltonian can be written as:\n",
    "\n",
    "<br>\n",
    "$$\\hat{H} \\ = \\ \\displaystyle\\sum_{j} X_{j} X_{j + 1} \\ + \\ \\displaystyle\\sum_{i} Z_{i}$$\n",
    "<br>\n",
    "\n",
    "We can write this as a function, that returns the $n$-qubit matrix form of the Ising model Hamiltonian:"
   ]
  },
  {
   "cell_type": "code",
   "execution_count": 219,
   "metadata": {},
   "outputs": [
    {
     "name": "stdout",
     "output_type": "stream",
     "text": [
      "[[ 3.  0.  0.  1.  0.  0.  1.  0.]\n",
      " [ 0.  1.  1.  0.  0.  0.  0.  1.]\n",
      " [ 0.  1.  1.  0.  1.  0.  0.  0.]\n",
      " [ 1.  0.  0. -1.  0.  1.  0.  0.]\n",
      " [ 0.  0.  1.  0.  1.  0.  0.  1.]\n",
      " [ 0.  0.  0.  1.  0. -1.  1.  0.]\n",
      " [ 1.  0.  0.  0.  0.  1. -1.  0.]\n",
      " [ 0.  1.  0.  0.  1.  0.  0. -3.]]\n"
     ]
    }
   ],
   "source": [
    "# Builds the Ising model Hamiltonian, for a given number of qubits and an interaction graph\n",
    "\n",
    "def create_hamiltonian_matrix(n, graph):\n",
    "\n",
    "    pauli_x = np.array([[0, 1], [1, 0]])\n",
    "    pauli_y = np.array([[0, -1j], [1j, 0]])\n",
    "    pauli_z = np.array([[1, 0], [0, -1]])\n",
    "    identity = np.array([[1, 0], [0, 1]])\n",
    "\n",
    "    matrix = np.zeros((2**n, 2**n))\n",
    "\n",
    "    for i in graph.edges:\n",
    "        m = 1\n",
    "        for j in range(0, n):\n",
    "            if (j == i[0] or j == i[1]):\n",
    "                m = np.kron(m, pauli_x)\n",
    "            else:\n",
    "                m = np.kron(m, identity)\n",
    "        matrix = np.add(matrix, m)\n",
    "\n",
    "    for i in range(0, n):\n",
    "        m = 1\n",
    "        for j in range(0, n):\n",
    "            if (j == i):\n",
    "                m = np.kron(m, pauli_z)\n",
    "            else:\n",
    "                m = np.kron(m, identity)\n",
    "        matrix = np.add(matrix, m)\n",
    "\n",
    "\n",
    "    return matrix\n",
    "\n",
    "# Constructs the Hamiltonian we will deal with in this simulation\n",
    "\n",
    "ham_matrix = create_hamiltonian_matrix(qubit, interaction_graph)\n",
    "print(ham_matrix)"
   ]
  },
  {
   "cell_type": "markdown",
   "metadata": {},
   "source": [
    "With all of this done, all that is left to do is construct the target thermal state. We know that the thermal state is of the form:\n",
    "\n",
    "<br>\n",
    "$$\\rho_{\\text{thermal}} \\ = \\ \\frac{e^{-\\beta \\hat{H}}}{\\mathcal{Z}}$$\n",
    "<br>\n",
    "\n",
    "Thus, we can calculate it by taking the matrix exponential of the Hamiltonian. The partition function can be found by simply taking the trace of the numerator (as it simply acts as a normalization factor). In addition to finding the thermal state, let's go one step further and also calculate the value of the cost function associated with this target state. Thus, we will have:"
   ]
  },
  {
   "cell_type": "code",
   "execution_count": 220,
   "metadata": {},
   "outputs": [],
   "source": [
    "# Creates the target density matrix\n",
    "\n",
    "def create_target(qubit, beta, ham, graph):\n",
    "    \n",
    "    # Calculates the matrix form of the density matrix, by taking the exponential of the Hamiltonian\n",
    "    \n",
    "    h = ham(qubit, graph)\n",
    "    y = -1*float(beta)*h\n",
    "    new_matrix = scipy.linalg.expm(np.array(y))\n",
    "    norm = np.trace(new_matrix)\n",
    "    final_target = (1/norm)*new_matrix\n",
    "\n",
    "    # Calculates the entropy, the expectation value, and the final cost\n",
    "\n",
    "    entropy = -1*np.trace(np.matmul(final_target, scipy.linalg.logm(final_target)))\n",
    "    ev = np.trace(np.matmul(final_target, h))\n",
    "    real_cost = beta*np.trace(np.matmul(final_target, h)) - entropy\n",
    "\n",
    "    # Prints the calculated values\n",
    "\n",
    "    print(\"Expectation Value: \"+str(ev))\n",
    "    print(\"Entropy: \"+str(entropy))\n",
    "    print(\"Final Cost: \"+str(real_cost))\n",
    "    \n",
    "    return final_target"
   ]
  },
  {
   "cell_type": "markdown",
   "metadata": {},
   "source": [
    "Finally, we can calculate the thermal state corresponding to our Hamiltonian and inverse temperature, and visualize it using the `seaborn` data visualization library:"
   ]
  },
  {
   "cell_type": "code",
   "execution_count": 221,
   "metadata": {},
   "outputs": [
    {
     "name": "stdout",
     "output_type": "stream",
     "text": [
      "Expectation Value: -2.0792714902324483\n",
      "Entropy: 1.6078317133217728\n",
      "Final Cost: -2.6474674584379967\n"
     ]
    },
    {
     "data": {
      "text/plain": [
       "<matplotlib.axes._subplots.AxesSubplot at 0x142c4c150>"
      ]
     },
     "execution_count": 221,
     "metadata": {},
     "output_type": "execute_result"
    },
    {
     "data": {
      "image/png": "[encoded data removed]",
      "text/plain": [
       "<Figure size 432x288 with 2 Axes>"
      ]
     },
     "metadata": {
      "needs_background": "light"
     },
     "output_type": "display_data"
    }
   ],
   "source": [
    "# Plots the final density matrix\n",
    "\n",
    "final_density_matrix = create_target(qubit, beta, create_hamiltonian_matrix, interaction_graph)\n",
    "seaborn.heatmap(abs(final_density_matrix))"
   ]
  },
  {
   "cell_type": "markdown",
   "metadata": {},
   "source": [
    "#### Variational Quantum Thermalization of the Heisenberg Model"
   ]
  },
  {
   "cell_type": "markdown",
   "metadata": {},
   "source": [
    "Now that we know exactly what our thermal state should look like, let's attempt to construct it with the VQT. Let's begin by constructing the classical probability distribution, which gives us the probabilities corresponding to each basis state in the expansion of our density matrix. As we discussed earlier in this Notebook, we will be using the factorized latent space model, with the probability associated with the $j$-th one-qubit system being:\n",
    "\n",
    "<br>\n",
    "$$p(\\theta_{j}) \\ = \\ \\frac{e^{\\theta_j}}{e^{\\theta_j} \\ + \\ 1}$$\n",
    "<br>\n",
    "\n",
    "which we can implement as:"
   ]
  },
  {
   "cell_type": "code",
   "execution_count": 222,
   "metadata": {},
   "outputs": [],
   "source": [
    "# Creates the probability distribution according to the theta parameters\n",
    "\n",
    "def sigmoid(x):\n",
    "\n",
    "    return (math.exp(x) / (math.exp(x) + 1))"
   ]
  },
  {
   "cell_type": "markdown",
   "metadata": {},
   "source": [
    "From this, we can construct a function that actually constructs the probability distribution itself, which will be a function that returns a list of pairs of probabilities that correspond to each one-qubit system in the factorized latent space:"
   ]
  },
  {
   "cell_type": "code",
   "execution_count": 223,
   "metadata": {},
   "outputs": [],
   "source": [
    "# Creates the probability distributions for each of the one-qubit systems\n",
    "\n",
    "def prob_dist(params):\n",
    "    \n",
    "    dist = []\n",
    "    for i in params:\n",
    "        dist.append([sigmoid(i), 1-sigmoid(i)])\n",
    "    \n",
    "    return dist"
   ]
  },
  {
   "cell_type": "markdown",
   "metadata": {},
   "source": [
    "Now, with this done, we have to define the quantum parts of our circuit. Befor any qubit register is passed through the variational circuit, we must prepare it in a given basis state. Thus, we can write a function that takes a list of bits, and returns a quantum circuit that prepares the corresponding basis state (in the computational basis): "
   ]
  },
  {
   "cell_type": "code",
   "execution_count": 224,
   "metadata": {},
   "outputs": [],
   "source": [
    "#Creates the initialization unitary for each of the computational basis states\n",
    "\n",
    "def create_v_gate(prep_state):\n",
    "\n",
    "    for i in range(0, len(prep_state)):\n",
    "        if (prep_state[i].val == 1):\n",
    "            qml.PauliX(wires=i)"
   ]
  },
  {
   "cell_type": "markdown",
   "metadata": {},
   "source": [
    "All that is left to do before we construct the cost function is to construct the parametrized circuit, through which we pass our initial states. We will use a multi-layered ansatz, where each layer is composed of $RX$, $RZ$, and. $RY$ gates on each qubit, followed by exponentiated $CNOT$ gates placed between qubits that share an edge in the interaction graph. Our general single-qubit rotations can be implemented as:"
   ]
  },
  {
   "cell_type": "code",
   "execution_count": 225,
   "metadata": {},
   "outputs": [],
   "source": [
    "# Creates the single rotational ansatz\n",
    "\n",
    "def single_rotation(phi_params, q):\n",
    "\n",
    "    qml.RZ(phi_params[0], wires=q)\n",
    "    qml.RY(phi_params[1], wires=q)\n",
    "    qml.RX(phi_params[2], wires=q)"
   ]
  },
  {
   "cell_type": "markdown",
   "metadata": {},
   "source": [
    "Putting this together with the $CNOT$ gates, we have a general ansatz of the form:"
   ]
  },
  {
   "cell_type": "code",
   "execution_count": 226,
   "metadata": {},
   "outputs": [],
   "source": [
    "# Creates the ansatz circuit\n",
    "\n",
    "def ansatz_circuit(params, qubits, layers, graph, param_number):\n",
    "    \n",
    "    param_number = int(param_number.val)\n",
    "    number = param_number*qubit + len(graph.edges)\n",
    "\n",
    "    # Partitions the parameters into param lists\n",
    "    partition = []\n",
    "    for i in range(0, int((len(params)/number))):\n",
    "        partition.append(params[number*i:number*(i+1)])\n",
    "    \n",
    "    qubits = range(qubit)\n",
    "    \n",
    "    for j in range(0, depth):\n",
    "        \n",
    "        sq = partition[j][0:(number-len(graph.edges))]\n",
    "        \n",
    "        for i in qubits:\n",
    "            \n",
    "            single_rotation(sq[i*param_number:(i+1)*param_number], i) \n",
    "\n",
    "        for count, i in enumerate(graph.edges):\n",
    "            p = partition[j][(number-len(graph.edges)):number]\n",
    "            qml.CRX(p[count], wires=[i[0], i[1]])"
   ]
  },
  {
   "cell_type": "markdown",
   "metadata": {},
   "source": [
    "There are a lot of variables floating around in this function. The `param_number` variable simply tells us how many unique parameters we assign to each application of the single-qubit rotation layer. We multiply this by the number of qubits, to get the total number of single-rotation parameters, and then add the number of edges in the interaction graph, which will also be the number of unique parameters needed for the $CNOT$ gates. With all of these components, we can define a function that acts as our quantum circuit, and pass it into a QNode:"
   ]
  },
  {
   "cell_type": "code",
   "execution_count": 227,
   "metadata": {},
   "outputs": [
    {
     "name": "stdout",
     "output_type": "stream",
     "text": [
      " 0: ──X──────RZ(1)──RY(1)──RX(1)──╭C───────RZ(1)──RY(1)──RX(1)─────────╭C──────────────╭┤ ⟨H0⟩ \n",
      " 1: ──RZ(1)──RY(1)──RX(1)─────────╰RX(1)──╭C──────RZ(1)──RY(1)──RX(1)──╰RX(1)──╭C──────├┤ ⟨H0⟩ \n",
      " 2: ──X──────RZ(1)──RY(1)──RX(1)──────────╰RX(1)──RZ(1)──RY(1)──RX(1)──────────╰RX(1)──╰┤ ⟨H0⟩ \n",
      "H0 =\n",
      "[[ 3.  0.  0.  1.  0.  0.  1.  0.]\n",
      " [ 0.  1.  1.  0.  0.  0.  0.  1.]\n",
      " [ 0.  1.  1.  0.  1.  0.  0.  0.]\n",
      " [ 1.  0.  0. -1.  0.  1.  0.  0.]\n",
      " [ 0.  0.  1.  0.  1.  0.  0.  1.]\n",
      " [ 0.  0.  0.  1.  0. -1.  1.  0.]\n",
      " [ 1.  0.  0.  0.  0.  1. -1.  0.]\n",
      " [ 0.  1.  0.  0.  1.  0.  0. -3.]]\n",
      "\n"
     ]
    }
   ],
   "source": [
    "# Creates the quantum circuit\n",
    "\n",
    "def quantum_circuit(params, qubits, sample, param_number):\n",
    "\n",
    "    # Prepares the initial basis state corresponding to the sample\n",
    "\n",
    "    create_v_gate(sample)\n",
    "\n",
    "    # Prepares the variational ansatz for the circuit\n",
    "\n",
    "    ansatz_circuit(params, qubits, depth, interaction_graph, param_number)\n",
    "    \n",
    "    # Calculates the expectation value of the Hamiltonian, with respect to the preparred states\n",
    "     \n",
    "    return qml.expval(qml.Hermitian(ham_matrix, wires=range(qubit)))\n",
    "\n",
    "qnode = qml.QNode(quantum_circuit, dev)\n",
    "\n",
    "# Tests and draws the QNode\n",
    "\n",
    "results = qnode([1 for i in range(0, 12*depth)], qubits, [1, 0, 1, 0], 3)\n",
    "print(qnode.draw())"
   ]
  },
  {
   "cell_type": "markdown",
   "metadata": {},
   "source": [
    "There is one more thing we must do before implementing the cost function: writing a method that allows us to calculate the entropy of a state. Actually implementing a function that calculates the Von Neumann entropy is not too involved. We will take a probability distribution as our argument, which corresponds to the diagonal elements of the density matrix in its eigenbasis (which are just the eigenvalues, or physically, the probability of measuring a given eigenstate of the density matrix). As you will soon see, we will be dealing with many $1$-qubit systems, rather than one large qubit system. Thus, we wish to calculate the entropy of each of the $1$-qubit systems individually. The `distribution` variable is an array of pairs $(p_0, \\ p_1)$, which are the probabilities corresponding to $|0\\rangle$ and $|1\\rangle$, which are the eigenstates as our initial density matrices will each be diagonal in the $Z$-basis. We can take each of these pairs, calculate the sum given above, and return a list of entropies, for each subsystem:"
   ]
  },
  {
   "cell_type": "code",
   "execution_count": 228,
   "metadata": {},
   "outputs": [],
   "source": [
    "#Calculate the Von Neumann entropy of the initial density matrices\n",
    "\n",
    "def calculate_entropy(distribution):\n",
    "\n",
    "    total_entropy = []\n",
    "    for i in distribution:\n",
    "        total_entropy.append(-1*i[0]*np.log(i[0]) + -1*i[1]*np.log(i[1]))\n",
    "    \n",
    "    #Returns an array of the entropy values of the different initial density matrices\n",
    "\n",
    "    return total_entropy"
   ]
  },
  {
   "cell_type": "markdown",
   "metadata": {},
   "source": [
    "Finally, we define the cost function. More specifically, this is an `exact` version of the VQT cost function. Instead of sampling from our classical probability distribution, we simply calculate the probability corresponding to every basis state, and thus calculate the energy expectation exactly for each iteration. this is not how the VQT would work in the real world, for large systems where the number of basis states (and thus the size of the probability distribution) scales exponentially, but for small toy-models such as this, the exact form runs faster:"
   ]
  },
  {
   "cell_type": "code",
   "execution_count": 229,
   "metadata": {},
   "outputs": [],
   "source": [
    "def exact_cost(params):\n",
    "    \n",
    "    global iterations\n",
    "    \n",
    "    # Separates the list of parameters\n",
    "     \n",
    "    dist_params = params[0:qubit]\n",
    "    params = params[qubit:]\n",
    "    \n",
    "    # Creates the probability distribution\n",
    "    \n",
    "    distribution = prob_dist(dist_params)\n",
    "    \n",
    "    # Generates a list of all computational basis states, of our qubit system\n",
    "    \n",
    "    s = [[int(i) for i in list(bin(k)[2:].zfill(qubit))] for k in range(0, 2**qubit)]\n",
    "    \n",
    "    # Passes each basis state through the variational circuit and multiplis the calculated energy EV with the associated probability from the distribution\n",
    "    \n",
    "    final_cost = 0\n",
    "    for i in s:\n",
    "        result = qnode(params, qubits, i, 3)\n",
    "        for j in range(0, len(i)):\n",
    "            result = result*distribution[j][i[j]]\n",
    "        final_cost += result\n",
    "     \n",
    "    # Calculates the entropy and the final cost function\n",
    "    \n",
    "    entropy = calculate_entropy(distribution)\n",
    "    final_final_cost = beta*final_cost - sum(entropy)\n",
    "    \n",
    "    if (iterations%50 == 0):\n",
    "        print(\"Cost at Step \"+str(iterations)+\": \"+str(final_final_cost))\n",
    "    \n",
    "    iterations += 1\n",
    "    \n",
    "    return final_final_cost"
   ]
  },
  {
   "cell_type": "markdown",
   "metadata": {},
   "source": [
    "Finally, we optimize the cost function:"
   ]
  },
  {
   "cell_type": "code",
   "execution_count": 230,
   "metadata": {},
   "outputs": [
    {
     "name": "stdout",
     "output_type": "stream",
     "text": [
      "Cost at Step 0: -2.1074085748583906\n",
      "Cost at Step 50: -2.290476911551978\n",
      "Cost at Step 100: -2.463162796083161\n",
      "Cost at Step 150: -2.484429759899141\n",
      "Cost at Step 200: -2.4950124353655396\n",
      "Cost at Step 250: -2.5021674540839447\n",
      "Cost at Step 300: -2.509340412084976\n",
      "Cost at Step 350: -2.514700397896745\n",
      "Cost at Step 400: -2.521175437350474\n",
      "Cost at Step 450: -2.526962995339277\n",
      "Cost at Step 500: -2.5342117156323685\n",
      "Cost at Step 550: -2.5406848965838456\n",
      "Cost at Step 600: -2.5465575615058103\n",
      "Cost at Step 650: -2.5515082595595837\n",
      "Cost at Step 700: -2.556629576145811\n",
      "     fun: -2.561781112766892\n",
      "   maxcv: 0.0\n",
      " message: 'Maximum number of function evaluations has been exceeded.'\n",
      "    nfev: 750\n",
      "  status: 2\n",
      " success: False\n",
      "       x: array([-0.96156611,  1.17498178, -1.29965099,  0.28689681, -0.16625431,\n",
      "       -1.43122622,  1.15704363, -0.12913136,  1.27762797, -0.14209757,\n",
      "        0.133123  ,  0.14368184,  0.98721803,  0.96242412,  0.07335088,\n",
      "        1.27541239,  1.28309057, -0.45467766, -1.25709913,  1.03002207,\n",
      "        1.17996115, -0.66466226,  0.01874304, -0.05878254, -0.13508384,\n",
      "       -1.15672426,  1.13636606])\n"
     ]
    }
   ],
   "source": [
    "# Creates the optimizer\n",
    "\n",
    "iterations = 0\n",
    "\n",
    "params = [random.randint(-100, 100)/100 for i in range(0, (12*depth)+3)]\n",
    "out = minimize(exact_cost, x0=params, method=\"COBYLA\", options={'maxiter':750})\n",
    "params = out['x']\n",
    "print(out)"
   ]
  },
  {
   "cell_type": "markdown",
   "metadata": {},
   "source": [
    "With our optimal parameters, we now wish to prepare the state to which they correspond, to see \"how close\" our prepared state is to the target state. This can be done by simply taking the optimal parameters, and passing each possible basis state through the variational circuit. Each corresponding probability is multiplied by the outer product of the resulting state with itself. Once we add these all together, we are left with the density matrix corresponding to the optimal parameters."
   ]
  },
  {
   "cell_type": "code",
   "execution_count": 231,
   "metadata": {},
   "outputs": [],
   "source": [
    "def prepare_state(params, device):\n",
    "\n",
    "    # Initializes the density matrix\n",
    "\n",
    "    final_density_matrix_2 = np.zeros((2**qubit, 2**qubit))\n",
    "\n",
    "    # Prepares the optimal parameters, creates the distribution and the bitstrings\n",
    "\n",
    "    dist_params = params[0:qubit]\n",
    "    unitary_params = params[qubit:]\n",
    "\n",
    "    distribution = prob_dist(dist_params)\n",
    "\n",
    "    s = [[int(i) for i in list(bin(k)[2:].zfill(qubit))] for k in range(0, 2**qubit)]\n",
    "\n",
    "    # Runs the circuit in the case of the optimal parameters, for each bitstring, and adds the result to the final density matrix\n",
    "\n",
    "    for i in s:\n",
    "        qnode(unitary_params, qubits, i, 3)\n",
    "        state = device.state\n",
    "        for j in range(0, len(i)):\n",
    "            state = np.sqrt(distribution[j][i[j]])*state\n",
    "        final_density_matrix_2 = np.add(final_density_matrix_2, np.outer(state, np.conj(state)))\n",
    "    \n",
    "    return final_density_matrix_2\n",
    "\n",
    "final_density_matrix_2 = prepare_state(params, dev)"
   ]
  },
  {
   "cell_type": "markdown",
   "metadata": {},
   "source": [
    "Now, we need to asess how \"close together\" the prepared and target state are. The trace distance of two density matrices is a valid metric (a \"distance function\" with certain properties) on the space on density matrices defined by:\n",
    "\n",
    "<br>\n",
    "$$T(\\rho, \\ \\sigma) \\ = \\ \\frac{1}{2} \\text{Tr} \\sqrt{(\\rho \\ - \\ \\sigma)^{\\dagger} (\\rho \\ - \\ \\sigma)}$$\n",
    "<br>\n",
    "\n",
    "We can implement this as a function, and compute the trace distance between the target and prepared states:"
   ]
  },
  {
   "cell_type": "code",
   "execution_count": 232,
   "metadata": {},
   "outputs": [
    {
     "name": "stdout",
     "output_type": "stream",
     "text": [
      "Final Fidelity: 0.05399297058790893\n"
     ]
    }
   ],
   "source": [
    "# Finds the trace distance between two density matrices\n",
    "\n",
    "def trace_distance(one, two):\n",
    "    \n",
    "    return 0.5*np.trace(np.absolute(np.add(one, -1*two)))\n",
    "\n",
    "print(\"Final Fidelity: \"+str(trace_distance(final_density_matrix_2, final_density_matrix)))"
   ]
  },
  {
   "cell_type": "markdown",
   "metadata": {},
   "source": [
    "This is pretty good! A trace distance close to $0$ means that the states are \"close together\", meaning that we prepared a good approximation of the thermal state. If you prefer a vision representation, we can plot the prepared state as a heatmap:"
   ]
  },
  {
   "cell_type": "code",
   "execution_count": 233,
   "metadata": {},
   "outputs": [
    {
     "data": {
      "text/plain": [
       "<matplotlib.axes._subplots.AxesSubplot at 0x142d87550>"
      ]
     },
     "execution_count": 233,
     "metadata": {},
     "output_type": "execute_result"
    },
    {
     "data": {
      "image/png": "[encoded data removed]",
      "text/plain": [
       "<Figure size 432x288 with 2 Axes>"
      ]
     },
     "metadata": {
      "needs_background": "light"
     },
     "output_type": "display_data"
    }
   ],
   "source": [
    "seaborn.heatmap(abs(final_density_matrix_2))"
   ]
  },
  {
   "cell_type": "markdown",
   "metadata": {},
   "source": [
    "Then, we can compare it to the target:"
   ]
  },
  {
   "cell_type": "code",
   "execution_count": 208,
   "metadata": {},
   "outputs": [
    {
     "data": {
      "text/plain": [
       "<matplotlib.axes._subplots.AxesSubplot at 0x14148b0d0>"
      ]
     },
     "execution_count": 208,
     "metadata": {},
     "output_type": "execute_result"
    },
    {
     "data": {
      "image/png": "[encoded data removed]",
      "text/plain": [
       "<Figure size 432x288 with 2 Axes>"
      ]
     },
     "metadata": {
      "needs_background": "light"
     },
     "output_type": "display_data"
    }
   ],
   "source": [
    "seaborn.heatmap(abs(final_density_matrix))"
   ]
  },
  {
   "cell_type": "markdown",
   "metadata": {},
   "source": [
    "As you can see, the two images are not completely the same, but there is definitely some resemblance between them!"
   ]
  },
  {
   "cell_type": "markdown",
   "metadata": {},
   "source": [
    "### The 4-Qubit Heisenberg Model on a Square\n",
    "\n",
    "Let's look at one more example of the VQT in action, this time, for a slightly more complicated model."
   ]
  },
  {
   "cell_type": "markdown",
   "metadata": {},
   "source": [
    "#### Numerical Calculation of Target State\n",
    "\n",
    "As we did in the above example, we define our fixed values:"
   ]
  },
  {
   "cell_type": "code",
   "execution_count": 234,
   "metadata": {},
   "outputs": [],
   "source": [
    "# Defines all necessary variables\n",
    "\n",
    "beta = 1 #Note that B = 1/T\n",
    "qubit = 4\n",
    "qubits = range(qubit)\n",
    "depth = 2\n",
    "\n",
    "# Defines the device on which the simulation is run\n",
    "\n",
    "dev2 = qml.device(\"default.qubit\", wires=len(qubits))"
   ]
  },
  {
   "cell_type": "markdown",
   "metadata": {},
   "source": [
    "This model lives on a square-shaped graph:"
   ]
  },
  {
   "cell_type": "code",
   "execution_count": 235,
   "metadata": {},
   "outputs": [
    {
     "data": {
      "image/png": "[encoded data removed]",
      "text/plain": [
       "<Figure size 432x288 with 1 Axes>"
      ]
     },
     "metadata": {},
     "output_type": "display_data"
    }
   ],
   "source": [
    "# Creates the graph of interactions for the Heisenberg grid, then draws it\n",
    "\n",
    "interaction_graph = nx.Graph()\n",
    "interaction_graph.add_nodes_from(range(0, qubit))\n",
    "interaction_graph.add_edges_from([(0, 1), (2, 3), (0, 2), (1, 3)])\n",
    "\n",
    "nx.draw(interaction_graph)"
   ]
  },
  {
   "cell_type": "markdown",
   "metadata": {},
   "source": [
    "Recall that the two-dimensional Heiseberg model Hamiltonian can be written as:\n",
    "\n",
    "<br>\n",
    "$$\\hat{H} \\ = \\ \\displaystyle\\sum_{(i, j) \\in E} X_i X_{j} \\ + \\ Z_i Z_{j} \\ + \\ Y_i Y_{j}$$\n",
    "<br>"
   ]
  },
  {
   "cell_type": "markdown",
   "metadata": {},
   "source": [
    "With this knowledge, we have:"
   ]
  },
  {
   "cell_type": "code",
   "execution_count": 236,
   "metadata": {},
   "outputs": [
    {
     "name": "stdout",
     "output_type": "stream",
     "text": [
      "[[ 4.+0.j  0.+0.j  0.+0.j  0.+0.j  0.+0.j  0.+0.j  0.+0.j  0.+0.j  0.+0.j\n",
      "   0.+0.j  0.+0.j  0.+0.j  0.+0.j  0.+0.j  0.+0.j  0.+0.j]\n",
      " [ 0.+0.j  0.+0.j  2.+0.j  0.+0.j  2.+0.j  0.+0.j  0.+0.j  0.+0.j  0.+0.j\n",
      "   0.+0.j  0.+0.j  0.+0.j  0.+0.j  0.+0.j  0.+0.j  0.+0.j]\n",
      " [ 0.+0.j  2.+0.j  0.+0.j  0.+0.j  0.+0.j  0.+0.j  0.+0.j  0.+0.j  2.+0.j\n",
      "   0.+0.j  0.+0.j  0.+0.j  0.+0.j  0.+0.j  0.+0.j  0.+0.j]\n",
      " [ 0.+0.j  0.+0.j  0.+0.j  0.+0.j  0.+0.j  0.+0.j  2.+0.j  0.+0.j  0.+0.j\n",
      "   2.+0.j  0.+0.j  0.+0.j  0.+0.j  0.+0.j  0.+0.j  0.+0.j]\n",
      " [ 0.+0.j  2.+0.j  0.+0.j  0.+0.j  0.+0.j  0.+0.j  0.+0.j  0.+0.j  2.+0.j\n",
      "   0.+0.j  0.+0.j  0.+0.j  0.+0.j  0.+0.j  0.+0.j  0.+0.j]\n",
      " [ 0.+0.j  0.+0.j  0.+0.j  0.+0.j  0.+0.j  0.+0.j  2.+0.j  0.+0.j  0.+0.j\n",
      "   2.+0.j  0.+0.j  0.+0.j  0.+0.j  0.+0.j  0.+0.j  0.+0.j]\n",
      " [ 0.+0.j  0.+0.j  0.+0.j  2.+0.j  0.+0.j  2.+0.j -4.+0.j  0.+0.j  0.+0.j\n",
      "   0.+0.j  2.+0.j  0.+0.j  2.+0.j  0.+0.j  0.+0.j  0.+0.j]\n",
      " [ 0.+0.j  0.+0.j  0.+0.j  0.+0.j  0.+0.j  0.+0.j  0.+0.j  0.+0.j  0.+0.j\n",
      "   0.+0.j  0.+0.j  2.+0.j  0.+0.j  2.+0.j  0.+0.j  0.+0.j]\n",
      " [ 0.+0.j  0.+0.j  2.+0.j  0.+0.j  2.+0.j  0.+0.j  0.+0.j  0.+0.j  0.+0.j\n",
      "   0.+0.j  0.+0.j  0.+0.j  0.+0.j  0.+0.j  0.+0.j  0.+0.j]\n",
      " [ 0.+0.j  0.+0.j  0.+0.j  2.+0.j  0.+0.j  2.+0.j  0.+0.j  0.+0.j  0.+0.j\n",
      "  -4.+0.j  2.+0.j  0.+0.j  2.+0.j  0.+0.j  0.+0.j  0.+0.j]\n",
      " [ 0.+0.j  0.+0.j  0.+0.j  0.+0.j  0.+0.j  0.+0.j  2.+0.j  0.+0.j  0.+0.j\n",
      "   2.+0.j  0.+0.j  0.+0.j  0.+0.j  0.+0.j  0.+0.j  0.+0.j]\n",
      " [ 0.+0.j  0.+0.j  0.+0.j  0.+0.j  0.+0.j  0.+0.j  0.+0.j  2.+0.j  0.+0.j\n",
      "   0.+0.j  0.+0.j  0.+0.j  0.+0.j  0.+0.j  2.+0.j  0.+0.j]\n",
      " [ 0.+0.j  0.+0.j  0.+0.j  0.+0.j  0.+0.j  0.+0.j  2.+0.j  0.+0.j  0.+0.j\n",
      "   2.+0.j  0.+0.j  0.+0.j  0.+0.j  0.+0.j  0.+0.j  0.+0.j]\n",
      " [ 0.+0.j  0.+0.j  0.+0.j  0.+0.j  0.+0.j  0.+0.j  0.+0.j  2.+0.j  0.+0.j\n",
      "   0.+0.j  0.+0.j  0.+0.j  0.+0.j  0.+0.j  2.+0.j  0.+0.j]\n",
      " [ 0.+0.j  0.+0.j  0.+0.j  0.+0.j  0.+0.j  0.+0.j  0.+0.j  0.+0.j  0.+0.j\n",
      "   0.+0.j  0.+0.j  2.+0.j  0.+0.j  2.+0.j  0.+0.j  0.+0.j]\n",
      " [ 0.+0.j  0.+0.j  0.+0.j  0.+0.j  0.+0.j  0.+0.j  0.+0.j  0.+0.j  0.+0.j\n",
      "   0.+0.j  0.+0.j  0.+0.j  0.+0.j  0.+0.j  0.+0.j  4.+0.j]]\n"
     ]
    }
   ],
   "source": [
    "# Creates the target Hamiltonian matrix\n",
    "\n",
    "def create_hamiltonian_matrix(n, graph):\n",
    "\n",
    "    pauli_x = np.array([[0, 1], [1, 0]])\n",
    "    pauli_y = np.array([[0, -1j], [1j, 0]])\n",
    "    pauli_z = np.array([[1, 0], [0, -1]])\n",
    "    identity = np.array([[1, 0], [0, 1]])\n",
    "    \n",
    "    matrix = np.zeros((2**n, 2**n))\n",
    "    \n",
    "    for i in graph.edges:\n",
    "        m = 1\n",
    "        for j in range(0, n):\n",
    "            if (j == i[0] or j == i[1]):\n",
    "                m = np.kron(pauli_x,  m)\n",
    "            else:\n",
    "                m = np.kron(identity, m)\n",
    "        matrix = np.add(matrix, m)\n",
    "     \n",
    "    for i in graph.edges:\n",
    "        m = 1\n",
    "        for j in range(0, n):\n",
    "            if (j == i[0] or j == i[1]):\n",
    "                m = np.kron(m, pauli_y)\n",
    "            else:\n",
    "                m = np.kron(m, identity)\n",
    "        matrix = np.add(matrix, m)\n",
    "    \n",
    "    for i in graph.edges:\n",
    "        m = 1\n",
    "        for j in range(0, n):\n",
    "            if (j == i[0] or j == i[1]):\n",
    "                m = np.kron(m, pauli_z)\n",
    "            else:\n",
    "                m = np.kron(m, identity)\n",
    "        matrix = np.add(matrix, m)\n",
    "    \n",
    "    return matrix\n",
    "\n",
    "ham_matrix = create_hamiltonian_matrix(qubit, interaction_graph)\n",
    "print(ham_matrix)"
   ]
  },
  {
   "cell_type": "markdown",
   "metadata": {},
   "source": [
    "So this is the $Z$-basis matrix form of the Hamiltonian. We then calculate the thermal state at the inverse temperature defined above:"
   ]
  },
  {
   "cell_type": "code",
   "execution_count": 237,
   "metadata": {},
   "outputs": [
    {
     "name": "stdout",
     "output_type": "stream",
     "text": [
      "Expectation Value: (-7.7740126937547025+0j)\n",
      "Entropy: (0.2817302684780885+9.410928517774377e-17j)\n",
      "Final Cost: (-8.055742962232792-9.410928517774377e-17j)\n"
     ]
    },
    {
     "data": {
      "text/plain": [
       "<matplotlib.axes._subplots.AxesSubplot at 0x142fb3610>"
      ]
     },
     "execution_count": 237,
     "metadata": {},
     "output_type": "execute_result"
    },
    {
     "data": {
      "image/png": "[encoded data removed]",
      "text/plain": [
       "<Figure size 432x288 with 2 Axes>"
      ]
     },
     "metadata": {
      "needs_background": "light"
     },
     "output_type": "display_data"
    }
   ],
   "source": [
    "# Plots the final density matrix\n",
    "\n",
    "final_density_matrix = create_target(qubit, beta, create_hamiltonian_matrix, interaction_graph)\n",
    "seaborn.heatmap(abs(final_density_matrix))"
   ]
  },
  {
   "cell_type": "markdown",
   "metadata": {},
   "source": [
    "We will use the same form of the latent space, ansatz, and cost function as above, thus only minor modifications need to be made. We must re-define our qnode, since we are now using a device with $4$ qubits rather than $3$:"
   ]
  },
  {
   "cell_type": "code",
   "execution_count": 238,
   "metadata": {},
   "outputs": [],
   "source": [
    "# QNode\n",
    "\n",
    "qnode = qml.QNode(quantum_circuit, dev2)"
   ]
  },
  {
   "cell_type": "markdown",
   "metadata": {},
   "source": [
    "We then run our optimizer:"
   ]
  },
  {
   "cell_type": "code",
   "execution_count": 185,
   "metadata": {},
   "outputs": [
    {
     "name": "stdout",
     "output_type": "stream",
     "text": [
      "Cost at Step 0: -2.5251635138997366\n",
      "Cost at Step 50: -4.227000827296257\n",
      "Cost at Step 100: -4.699842353725709\n",
      "Cost at Step 150: -5.5127170812681445\n",
      "Cost at Step 200: -6.121743460175592\n",
      "Cost at Step 250: -6.298428589474547\n",
      "Cost at Step 300: -6.478125065035863\n",
      "Cost at Step 350: -6.61972599353439\n",
      "Cost at Step 400: -6.78274466684268\n",
      "Cost at Step 450: -6.898267435244163\n",
      "Cost at Step 500: -7.005018831844215\n",
      "Cost at Step 550: -7.054391163148315\n",
      "Cost at Step 600: -7.16695535682297\n",
      "Cost at Step 650: -7.22440101437725\n",
      "Cost at Step 700: -7.271934821214829\n",
      "     fun: -7.331954760513113\n",
      "   maxcv: 0.0\n",
      " message: 'Maximum number of function evaluations has been exceeded.'\n",
      "    nfev: 750\n",
      "  status: 2\n",
      " success: False\n",
      "       x: array([ 3.07876493, -3.4905453 , -3.34190301,  3.74346123,  0.16354655,\n",
      "        1.60454049, -0.99800892,  0.57027738,  0.99946704, -1.11951889,\n",
      "       -0.61437673, -1.57001476, -0.14081913,  2.2070329 ,  0.40092247,\n",
      "       -0.26548317,  0.01480874,  0.2663962 ,  0.13454219, -1.41089889,\n",
      "       -1.50509338,  1.62948827,  0.04508036,  0.98342731, -0.23770409,\n",
      "        2.17701443, -0.91608723,  1.52984837,  1.20164282, -1.67176739,\n",
      "       -0.86364764,  2.0866891 ,  1.42777746,  2.05494839, -1.90714438,\n",
      "       -0.32081334])\n"
     ]
    }
   ],
   "source": [
    "# Creates the optimizer\n",
    "\n",
    "iterations = 0\n",
    "\n",
    "params = [random.randint(-100, 100)/100 for i in range(0, (16*depth)+4)]\n",
    "out = minimize(exact_cost, x0=params, method=\"COBYLA\", options={'maxiter':750})\n",
    "params = out['x']\n",
    "print(out)"
   ]
  },
  {
   "cell_type": "markdown",
   "metadata": {},
   "source": [
    "With our optimal parameters, we can post-process our data. We start by calculating the matrix form of the density matrix we prepared:"
   ]
  },
  {
   "cell_type": "code",
   "execution_count": 242,
   "metadata": {},
   "outputs": [],
   "source": [
    "# Prepares the density matrix\n",
    "\n",
    "final_density_matrix_2 = prepare_state(params, dev2)"
   ]
  },
  {
   "cell_type": "markdown",
   "metadata": {},
   "source": [
    "We then calculate the trace distance:"
   ]
  },
  {
   "cell_type": "code",
   "execution_count": 240,
   "metadata": {},
   "outputs": [
    {
     "name": "stdout",
     "output_type": "stream",
     "text": [
      "Final Fidelity: 0.0978468923259927\n"
     ]
    }
   ],
   "source": [
    "# Calculates the trace distance\n",
    "\n",
    "print(\"Final Fidelity: \"+str(trace_distance(final_density_matrix_2, final_density_matrix)))"
   ]
  },
  {
   "cell_type": "markdown",
   "metadata": {},
   "source": [
    "This is pretty good, but it could be better (most likely with a deeper ansatz and a more sophisticated optimizer, but to keep execution time relatively sohrt, we will not go down those avenues in this Notebook). To end off, let's visualize our two density matrices:"
   ]
  },
  {
   "cell_type": "code",
   "execution_count": 187,
   "metadata": {},
   "outputs": [
    {
     "data": {
      "text/plain": [
       "<matplotlib.axes._subplots.AxesSubplot at 0x1426ca090>"
      ]
     },
     "execution_count": 187,
     "metadata": {},
     "output_type": "execute_result"
    },
    {
     "data": {
      "image/png": "[encoded data removed]",
      "text/plain": [
       "<Figure size 432x288 with 2 Axes>"
      ]
     },
     "metadata": {
      "needs_background": "light"
     },
     "output_type": "display_data"
    }
   ],
   "source": [
    "seaborn.heatmap(abs(final_density_matrix_2))"
   ]
  },
  {
   "cell_type": "code",
   "execution_count": 241,
   "metadata": {},
   "outputs": [
    {
     "data": {
      "text/plain": [
       "<matplotlib.axes._subplots.AxesSubplot at 0x143134c10>"
      ]
     },
     "execution_count": 241,
     "metadata": {},
     "output_type": "execute_result"
    },
    {
     "data": {
      "image/png": "[encoded data removed]",
      "text/plain": [
       "<Figure size 432x288 with 2 Axes>"
      ]
     },
     "metadata": {
      "needs_background": "light"
     },
     "output_type": "display_data"
    }
   ],
   "source": [
    "seaborn.heatmap(abs(final_density_matrix))"
   ]
  }
 ],
 "metadata": {
  "kernelspec": {
   "display_name": "Python 3",
   "language": "python",
   "name": "python3"
  },
  "language_info": {
   "codemirror_mode": {
    "name": "ipython",
    "version": 3
   },
   "file_extension": ".py",
   "mimetype": "text/x-python",
   "name": "python",
   "nbconvert_exporter": "python",
   "pygments_lexer": "ipython3",
   "version": "3.7.5"
  }
 },
 "nbformat": 4,
 "nbformat_minor": 4
}
