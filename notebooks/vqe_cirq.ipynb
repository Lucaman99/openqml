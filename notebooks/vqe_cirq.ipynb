{
 "cells": [
  {
   "cell_type": "markdown",
   "metadata": {},
   "source": [
    "## The Variational Quantum Eigensolver"
   ]
  },
  {
   "cell_type": "markdown",
   "metadata": {},
   "source": [
    "*In this Notebook, we are going to discuss one of the most fundamental ideas in the field of NISQ quantum algorithms: the Variational Quantum Eigensolver.*"
   ]
  },
  {
   "cell_type": "markdown",
   "metadata": {},
   "source": [
    "Essentially the Variational Quantum Eigenolver is a variational quantum algorithm that allows us to find the lowest eigenvalue of a given Hermitian matrix. Solving this problem is useful for a wide variety of applications, from predicting chemical properties, to studying quantum statistical mechanics. We are going to begin this Notebook by discussing what VQE is and what it does. We will then attempt to find the ground states of a few different spin-based Hamiltonians (Ising and Heiseberg models). After this, we will look into some applications of VQE in quantum chemsitry."
   ]
  },
  {
   "cell_type": "markdown",
   "metadata": {},
   "source": [
    "**Part 2: Applications**\n",
    "\n",
    "**A Simple Example: The Ising Model**\n",
    "\n",
    "Now that we have covered all of the relevant theory, we are going to look at a few examples of how VQE can be applied to finding the ground state energies of different spin-network Hamiltonians. We will being our investigation by looking at the simple example of an Ising model Hamiltonian, which is given by:\n",
    "\n",
    "<br>\n",
    "$$\\hat{H}_{\\text{Ising}} \\ = \\ \\displaystyle\\sum_{\\langle i, j \\rangle} J_{ij} Z_{i} Z_{j} \\ + \\ \\displaystyle\\sum_{i} h_i X_i$$\n",
    "<br>\n",
    "\n",
    "This Hamiltonian is particularly relevant in condensed matter physics, where\n",
    "\n",
    "Luckily, this problem is fairly easily encoded into a quantum circuit, since the Pauli matrix gates are directly analogous to spin observables, which is exactly what the Ising model involves. In order to solve this problem, we will borrow idea from QAOA"
   ]
  },
  {
   "cell_type": "markdown",
   "metadata": {},
   "source": [
    "**The Heisenberg Model**\n",
    "\n",
    "**Finding Bonding Length of $H^{+}_{2}$**"
   ]
  },
  {
   "cell_type": "code",
   "execution_count": null,
   "metadata": {},
   "outputs": [],
   "source": []
  }
 ],
 "metadata": {
  "kernelspec": {
   "display_name": "Python 3",
   "language": "python",
   "name": "python3"
  },
  "language_info": {
   "codemirror_mode": {
    "name": "ipython",
    "version": 3
   },
   "file_extension": ".py",
   "mimetype": "text/x-python",
   "name": "python",
   "nbconvert_exporter": "python",
   "pygments_lexer": "ipython3",
   "version": "3.7.5"
  }
 },
 "nbformat": 4,
 "nbformat_minor": 4
}
