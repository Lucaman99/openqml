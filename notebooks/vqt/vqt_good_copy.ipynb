{
 "cells": [
  {
   "cell_type": "markdown",
   "metadata": {},
   "source": [
    "## The Variational Quantum Thermalizer\n",
    "\n",
    "Author: Jack Ceroni "
   ]
  },
  {
   "cell_type": "code",
   "execution_count": 1,
   "metadata": {},
   "outputs": [],
   "source": [
    "# Starts by importing all of the necessary dependencies\n",
    "\n",
    "import pennylane as qml\n",
    "from matplotlib import pyplot as plt\n",
    "import numpy as np\n",
    "from numpy import array\n",
    "import scipy\n",
    "from scipy.optimize import minimize\n",
    "import random\n",
    "import math\n",
    "from tqdm import tqdm\n",
    "import networkx as nx\n",
    "import seaborn"
   ]
  },
  {
   "cell_type": "markdown",
   "metadata": {},
   "source": [
    "### Introduction\n",
    "\n",
    "In this Notebook, we will be discussing how to go about implementing and experimenting a recently proposed quantum algorithm called the **Variational Quantum Thermalizer**. Essentially, this algorithm is able to use a variational approach to reconstruct the thermal state of a given Hamiltonian at a given temperature. This is a task that is performed much more efficiently on a quantum device than a classical simulations performing the same calculations (for large enough systems). In fact, the original paper demonstrates that the VQT is actually a generalization of VQE, and as the effective \"temperature\" of our simulation approaches zero, our algorithm similarly approaches the VQE."
   ]
  },
  {
   "cell_type": "markdown",
   "metadata": {},
   "source": [
    "### The Idea\n",
    "\n",
    "Before we actually jump into simulations of this algorithm, we will attempt to understand the mathematical and physical theory that makes this theory possible. For more background on variational quantum algorithms, and why VQE actually works, check out the other tutorials in the QML gallery (like [this one](https://pennylane.ai/qml/demos/tutorial_vqe.html)).\n",
    "\n",
    "First off all, let us consider what we are actually trying to accomplish using this algorithm. We want to construct a **thermal state**, which is defined as:\n",
    "\n",
    "<br>\n",
    "$$\\rho_\\text{thermal} \\ = \\ \\frac{e^{- H \\beta / k_B}}{\\text{Tr}(e^{- H \\beta / k_B})} \\ = \\ \\frac{e^{- H \\beta / k_B}}{Z_{\\beta}}$$\n",
    "<br>\n",
    "\n",
    "Where $H$ is the Hamiltonian of our system, $\\beta \\ = \\ 1/T$, where $T$ is the temperature of our system, and $k_B$ is Boltzman's constant, which we will set to $1$ for the remainder of this Notebook. \n",
    "\n",
    "The thermal state is the state of some quantum system, corresponding to some arbitrary Hamiltonian, such that the system is in **thermal equilibrium**. If we initialize some collection of particles at some arbitrary temperature, then over time, as entropy increases, the entire system approaches thermal equilibrium. The state of the system when it evolves into this thermal equilibrium is this thermal state. Knowing this state, allows us to in turn extract information about the system that we are studying, allowing to better understand the properties of materials/systems (for instance, superconductors, Bose-Hubbard models, etc.) **at thermal equilibrium**.\n",
    "\n",
    "Inputed into our algorithm is an arbitrary Hamiltonian $H$, and our goal is to find $\\rho_\\text{thermal}$, or more specifically, the variational parameters that give us a state that is very \"close\" to $\\rho_\\text{thermal}$, as one does in any kind of variational quantum algorithm.\n",
    "\n",
    "In order to do this, we will pick some \"simple\" mixed state to begin our process. This initial density matrix will be parametrized by a collection of parameters $\\boldsymbol\\theta$, which will describe the probabilities corresponding to different pure states. In this implementation of the algorithm, we will use the idea of a **factorized latent space** where the initial density matrix describing our quantum system in completely un-correlated. It is simply a tensor product of multiple $2 \\times 2$, diagonal (in the computational basis) density matrices, each corresponding to one qubit. This works well for scalability of the algorithm, because instead of requiring $|\\boldsymbol\\theta| = 2^n$, for an $n$ qubit, diagonal density matrix, where we assign probabilities to each possible basis state, $|\\theta| = n$, since for qubit $i$, we can assign probability $p_i(\\theta_i)$ to $|0\\rangle$, and $1 - p_i(\\theta_i)$ to $|1\\rangle$.\n",
    "\n",
    "We will then sample from the probability distribution of measurements of different pure states. More concretely, if we have some initial mixed state:\n",
    "\n",
    "<br>\n",
    "$$\\rho \\ = \\ \\displaystyle\\sum_{i} p_i |x_i\\rangle \\langle x_i|$$\n",
    "<br>\n",
    "\n",
    "Then the probability of our system being in state $|x_i\\rangle$ is given by $p_i$. We repeatedly sample values of $x_i$ corresponding to pure states in the expansion of our \"simple\" mixed state and pass the corresponding $|x_i\\rangle$ through a parametrized quantum circuit. We repeat this process, calculating the expectation value of the Hamiltonian with respect to the unitary-evolved density matrix. We then use this value along with the Von Neumann entropy of our state to create a **free energy cost function**, which is given by:\n",
    "\n",
    "<br>\n",
    "$$\\mathcal{L}(\\theta, \\ \\phi) \\ = \\ \\beta \\langle \\hat{H} \\rangle \\ - \\ S_\\theta \\ = \\ \\beta \\ \\text{Tr} (\\hat{H} \\ \\rho_{\\theta \\phi}) \\ - \\ S_\\theta \\ = \\ \\beta \\ \\text{Tr}( \\hat{H} \\ \\hat{U}(\\phi) \\rho_{\\theta} \\hat{U}(\\phi)^{\\dagger} ) \\ - \\ S_\\theta$$\n",
    "<br>\n",
    "\n",
    "Where $\\rho_\\theta$ is the initial density matrix, $U(\\phi)$ is the paramterized ansatz, and $S_\\theta$ is the von Neumann entropy of $\\rho_{\\theta \\phi}$. It is important to note that the von Neumann entropy of $\\rho_{\\theta \\phi}$ is the same as the von Neumann entropy of $\\phi_{\\theta}$, since entropy is invariant under unitary transformations:\n",
    "\n",
    "<br>\n",
    "$$S(\\rho') \\ = \\ - \\text{Tr} (\\rho' \\log \\rho') \\ = \\ - \\text{Tr} ( U \\rho U^{\\dagger} \\log (U \\rho U^{\\dagger})) \\ = \\ - \\text{Tr} ( U \\rho U^{\\dagger} \\log \\rho) \\ = \\ - \\text{Tr} ( U \\rho \\log \\rho U^{\\dagger}) \\ = \\ - \\text{Tr} ( \\rho \\log \\rho U^{\\dagger} U) \\ = \\ - \\text{Tr} ( \\rho \\log \\rho) \\ = \\ S(\\rho)$$\n",
    "<br>\n",
    "\n",
    "We repeat the algorithm with new parameters until we minimize free energy. Once we have done this, we have arrived at the thermal state. this comes from the fact that our free enrgy cost function is equivalent to the relative entropy between $\\rho_{\\theta \\phi}$ and our target thermal state. Relative entropy is defined as:\n",
    "\n",
    "<br>\n",
    "$$D(\\rho_1 || \\rho_2) \\ = \\ \\text{Tr} (\\rho_1 \\log \\rho_1) \\ - \\ \\text{Tr}(\\rho_1 \\log \\rho_2)$$\n",
    "<br>\n",
    "\n",
    "If we let $\\rho_1$ be $\\rho_{\\theta \\phi}$ and $\\rho_2$ be our thermal state, we get:\n",
    "\n",
    "<br>\n",
    "$$D(\\rho_{\\theta \\phi} || \\rho_{\\text{Thermal}}) \\ = \\ -S_{\\theta} \\ - \\ \\text{Tr}(\\rho_{\\theta \\phi} (-\\beta \\hat{H} \\ - \\ \\log Z_{\\beta})) \\ = \\ \\beta \\text{Tr} (\\rho_{\\theta \\phi} \\hat{H}) \\ + \\ \\log Z_{\\beta} \\text{Tr}(\\rho_{\\theta \\phi}) \\ - \\ S_{\\theta} \\ = \\ \\beta \\langle \\hat{H} \\rangle \\ - \\ S_{\\theta} \\ + \\ \\log Z_{\\beta} \\ = \\ \\mathcal{L}(\\theta, \\ \\phi) \\ + \\ \\log Z_{\\beta}$$\n",
    "<br>\n",
    "\n",
    "Since relative entropy must be positive, and is clearly $0$ when $\\rho_{\\theta \\phi} \\ = \\ \\rho_{\\text{Thermal}}$, it follows that relative entropy, and hence $\\mathcal{L}(\\theta, \\ \\phi)$ (since it only differs from rleative entropy by an overall additive constant), are minimized when $\\rho_{\\theta \\phi} \\ = \\ \\rho_{\\text{Thermal}}$. So, we know that we have to minimize $\\mathcal{L}$ to find the thermal state. More specifically, when $\\mathcal(\\theta, \\ \\phi) \\ = \\ - \\log Z_{\\beta}$, then we have minimized the cost function and have found the thermal state.\n",
    "\n",
    "For a diagramatic representation of how this works, check out Figure 3 from the [original VQT paper](https://arxiv.org/abs/1910.02071)."
   ]
  },
  {
   "cell_type": "markdown",
   "metadata": {},
   "source": [
    "### The 3-Qubit Ising Model on a Line"
   ]
  },
  {
   "cell_type": "markdown",
   "metadata": {},
   "source": [
    "We will begin by consdering the Ising model on a linear graph, for 3 qubits. This is a fairly simple model, and will act as a good test to see if the VQT is working as it is supposed to."
   ]
  },
  {
   "cell_type": "markdown",
   "metadata": {},
   "source": [
    "#### Numerical Calculation of Target State\n",
    "\n",
    "We begin by calculating the target state numerically, so that it can be compared to the state our circuit prepares. We begin by defining a few fixed values that we will use throughout this example:"
   ]
  },
  {
   "cell_type": "code",
   "execution_count": 79,
   "metadata": {},
   "outputs": [],
   "source": [
    "# Defines all necessary variables\n",
    "\n",
    "beta = 0.5 #Note that B = 1/T\n",
    "qubit = 3 # Number of qubits being used\n",
    "qubits = range(qubit)\n",
    "\n",
    "# Defines the device on which the simulation is run\n",
    "\n",
    "dev = qml.device(\"default.qubit\", wires=len(qubits))"
   ]
  },
  {
   "cell_type": "markdown",
   "metadata": {},
   "source": [
    "The model that we are investigating lives on a linear graph, which we will construct using `networkx` for the purposes of eventually constructing our Hamiltonian:"
   ]
  },
  {
   "cell_type": "code",
   "execution_count": 80,
   "metadata": {},
   "outputs": [
    {
     "data": {
      "image/png": "[encoded data removed]",
      "text/plain": [
       "<Figure size 432x288 with 1 Axes>"
      ]
     },
     "metadata": {},
     "output_type": "display_data"
    }
   ],
   "source": [
    "# Creates the graph of interactions for the Heisenberg grid, then draws it\n",
    "\n",
    "interaction_graph = nx.Graph()\n",
    "interaction_graph.add_nodes_from(range(0, qubit))\n",
    "interaction_graph.add_edges_from([(0, 1), (1, 2)])\n",
    "\n",
    "nx.draw(interaction_graph)"
   ]
  },
  {
   "cell_type": "markdown",
   "metadata": {},
   "source": [
    "Next, we can implemented a method that actually allows us to calculate the matrix form of our Hamiltonian (in the $Z$-basis). The Ising model Hamiltonian can be written as:\n",
    "\n",
    "<br>\n",
    "$$\\hat{H} \\ = \\ \\displaystyle\\sum_{j} X_{j} X_{j + 1} \\ + \\ \\displaystyle\\sum_{i} Z_{i}$$\n",
    "<br>\n",
    "\n",
    "We can write this as a function, that returns the $n$-qubit matrix form of the Ising model Hamiltonian:"
   ]
  },
  {
   "cell_type": "code",
   "execution_count": 81,
   "metadata": {},
   "outputs": [
    {
     "name": "stdout",
     "output_type": "stream",
     "text": [
      "[[ 3.  0.  0.  1.  0.  0.  1.  0.]\n",
      " [ 0.  1.  1.  0.  0.  0.  0.  1.]\n",
      " [ 0.  1.  1.  0.  1.  0.  0.  0.]\n",
      " [ 1.  0.  0. -1.  0.  1.  0.  0.]\n",
      " [ 0.  0.  1.  0.  1.  0.  0.  1.]\n",
      " [ 0.  0.  0.  1.  0. -1.  1.  0.]\n",
      " [ 1.  0.  0.  0.  0.  1. -1.  0.]\n",
      " [ 0.  1.  0.  0.  1.  0.  0. -3.]]\n"
     ]
    }
   ],
   "source": [
    "# Builds the Ising model Hamiltonian, for a given number of qubits and an interaction graph\n",
    "\n",
    "def create_hamiltonian_matrix(n, graph):\n",
    "\n",
    "    pauli_x = np.array([[0, 1], [1, 0]])\n",
    "    pauli_y = np.array([[0, -1j], [1j, 0]])\n",
    "    pauli_z = np.array([[1, 0], [0, -1]])\n",
    "    identity = np.array([[1, 0], [0, 1]])\n",
    "\n",
    "    matrix = np.zeros((2**n, 2**n))\n",
    "\n",
    "    for i in graph.edges:\n",
    "        m = 1\n",
    "        for j in range(0, n):\n",
    "            if (j == i[0] or j == i[1]):\n",
    "                m = np.kron(m, pauli_x)\n",
    "            else:\n",
    "                m = np.kron(m, identity)\n",
    "        matrix = np.add(matrix, m)\n",
    "\n",
    "    for i in range(0, n):\n",
    "        m = 1\n",
    "        for j in range(0, n):\n",
    "            if (j == i):\n",
    "                m = np.kron(m, pauli_z)\n",
    "            else:\n",
    "                m = np.kron(m, identity)\n",
    "        matrix = np.add(matrix, m)\n",
    "\n",
    "\n",
    "    return matrix\n",
    "\n",
    "# Constructs the Hamiltonian we will deal with in this simulation\n",
    "\n",
    "ham_matrix = create_hamiltonian_matrix(qubit, interaction_graph)\n",
    "print(ham_matrix)"
   ]
  },
  {
   "cell_type": "markdown",
   "metadata": {},
   "source": [
    "With all of this done, all that is left to do is construct the target thermal state. We know that the thermal state is of the form:\n",
    "\n",
    "<br>\n",
    "$$\\rho_{\\text{thermal}} \\ = \\ \\frac{e^{-\\beta \\hat{H}}}{Z_{\\beta}}$$\n",
    "<br>\n",
    "\n",
    "Thus, we can calculate it by taking the matrix exponential of the Hamiltonian. The partition function can be found by simply taking the trace of the numerator (as it simply acts as a normalization factor). In addition to finding the thermal state, let's go one step further and also calculate the value of the cost function associated with this target state. Thus, we will have:"
   ]
  },
  {
   "cell_type": "code",
   "execution_count": 82,
   "metadata": {},
   "outputs": [],
   "source": [
    "# Creates the target density matrix\n",
    "\n",
    "def create_target(qubit, beta, ham, graph):\n",
    "    \n",
    "    # Calculates the matrix form of the density matrix, by taking the exponential of the Hamiltonian\n",
    "    \n",
    "    h = ham(qubit, graph)\n",
    "    y = -1*float(beta)*h\n",
    "    new_matrix = scipy.linalg.expm(np.array(y))\n",
    "    norm = np.trace(new_matrix)\n",
    "    final_target = (1/norm)*new_matrix\n",
    "\n",
    "    # Calculates the entropy, the expectation value, and the final cost\n",
    "\n",
    "    entropy = -1*np.trace(np.matmul(final_target, scipy.linalg.logm(final_target)))\n",
    "    ev = np.trace(np.matmul(final_target, h))\n",
    "    real_cost = beta*np.trace(np.matmul(final_target, h)) - entropy\n",
    "\n",
    "    # Prints the calculated values\n",
    "\n",
    "    print(\"Expectation Value: \"+str(ev))\n",
    "    print(\"Entropy: \"+str(entropy))\n",
    "    print(\"Final Cost: \"+str(real_cost))\n",
    "    \n",
    "    return final_target"
   ]
  },
  {
   "cell_type": "markdown",
   "metadata": {},
   "source": [
    "Finally, we can calculate the thermal state corresponding to our Hamiltonian and inverse temperature, and visualize it using the `seaborn` data visualization library:"
   ]
  },
  {
   "cell_type": "code",
   "execution_count": 83,
   "metadata": {},
   "outputs": [
    {
     "name": "stdout",
     "output_type": "stream",
     "text": [
      "Expectation Value: -2.0792714902324483\n",
      "Entropy: 1.6078317133217728\n",
      "Final Cost: -2.6474674584379967\n"
     ]
    },
    {
     "data": {
      "text/plain": [
       "<matplotlib.axes._subplots.AxesSubplot at 0x135b975d0>"
      ]
     },
     "execution_count": 83,
     "metadata": {},
     "output_type": "execute_result"
    },
    {
     "data": {
      "image/png": "[encoded data removed]",
      "text/plain": [
       "<Figure size 432x288 with 2 Axes>"
      ]
     },
     "metadata": {
      "needs_background": "light"
     },
     "output_type": "display_data"
    }
   ],
   "source": [
    "# Plots the final density matrix\n",
    "\n",
    "final_density_matrix = create_target(qubit, beta, create_hamiltonian_matrix, interaction_graph)\n",
    "seaborn.heatmap(abs(final_density_matrix))"
   ]
  },
  {
   "cell_type": "markdown",
   "metadata": {},
   "source": [
    "#### Variational Quantum Thermalization of the Heisenberg Model"
   ]
  },
  {
   "cell_type": "markdown",
   "metadata": {},
   "source": [
    "Now that we know exactly what our thermal state should look like, let's attempt to construct it with the VQT. Let's begin by constructing the classical probability distribution, which gives us the probabilities corresponding to each basis state in the expansion of our density matrix. As we discussed earlier in this Notebook, we will be using the factorized latent space model. We just have to decide how we will define each probability in the factorized space. We will let the probability associated with the $j$-th one-qubit system be:\n",
    "\n",
    "<br>\n",
    "$$p_{j}(\\theta_{j}) \\ = \\ \\frac{e^{\\theta_j}}{e^{\\theta_j} \\ + \\ 1}$$\n",
    "<br>\n",
    "\n",
    "The motivation behind this choice is the fact that this function has a range of $0$ to $1$, which is natural for defining probability without constraining our parameters. In addition, this function is called a sigmoid, and is a common choice as an activation function in machine learning methods. We can implement the sigmoid as:"
   ]
  },
  {
   "cell_type": "code",
   "execution_count": 84,
   "metadata": {},
   "outputs": [],
   "source": [
    "# Creates the probability distribution according to the theta parameters\n",
    "\n",
    "def sigmoid(x):\n",
    "\n",
    "    return (math.exp(x) / (math.exp(x) + 1))"
   ]
  },
  {
   "cell_type": "markdown",
   "metadata": {},
   "source": [
    "From this, we can construct a function that actually constructs the probability distribution itself, which will be a function that returns a list of pairs of probabilities that correspond to each one-qubit system in the factorized latent space:"
   ]
  },
  {
   "cell_type": "code",
   "execution_count": 85,
   "metadata": {},
   "outputs": [],
   "source": [
    "# Creates the probability distributions for each of the one-qubit systems\n",
    "\n",
    "def prob_dist(params):\n",
    "    \n",
    "    dist = []\n",
    "    for i in params:\n",
    "        dist.append([sigmoid(i), 1-sigmoid(i)])\n",
    "    \n",
    "    return dist"
   ]
  },
  {
   "cell_type": "markdown",
   "metadata": {},
   "source": [
    "Now, with this done, we have to define the quantum parts of our circuit. Befor any qubit register is passed through the variational circuit, we must prepare it in a given basis state. Thus, we can write a function that takes a list of bits, and returns a quantum circuit that prepares the corresponding basis state (in the computational basis): "
   ]
  },
  {
   "cell_type": "code",
   "execution_count": 86,
   "metadata": {},
   "outputs": [],
   "source": [
    "#Creates the initialization unitary for each of the computational basis states\n",
    "\n",
    "def create_v_gate(prep_state):\n",
    "\n",
    "    for i in range(0, len(prep_state)):\n",
    "        if (prep_state[i].val == 1):\n",
    "            qml.PauliX(wires=i)"
   ]
  },
  {
   "cell_type": "markdown",
   "metadata": {},
   "source": [
    "All that is left to do before we construct the cost function is to construct the parametrized circuit, through which we pass our initial states. We will use a multi-layered ansatz, where each layer is composed of $RX$, $RZ$, and. $RY$ gates on each qubit, followed by exponentiated $CNOT$ gates placed between qubits that share an edge in the interaction graph. Our general single-qubit rotations can be implemented as:"
   ]
  },
  {
   "cell_type": "code",
   "execution_count": 87,
   "metadata": {},
   "outputs": [],
   "source": [
    "# Creates the single rotational ansatz\n",
    "\n",
    "def single_rotation(phi_params, q):\n",
    "\n",
    "    qml.RZ(phi_params[0], wires=q)\n",
    "    qml.RY(phi_params[1], wires=q)\n",
    "    qml.RX(phi_params[2], wires=q)"
   ]
  },
  {
   "cell_type": "markdown",
   "metadata": {},
   "source": [
    "Putting this together with the $CNOT$ gates, we have a general ansatz of the form:"
   ]
  },
  {
   "cell_type": "code",
   "execution_count": 88,
   "metadata": {},
   "outputs": [],
   "source": [
    "# Creates the ansatz circuit\n",
    "\n",
    "def ansatz_circuit(params, qubits, layers, graph, param_number):\n",
    "    \n",
    "    param_number = int(param_number.val)\n",
    "    number = param_number*qubit + len(graph.edges)\n",
    "\n",
    "    # Partitions the parameters into param lists\n",
    "    partition = []\n",
    "    for i in range(0, int((len(params)/number))):\n",
    "        partition.append(params[number*i:number*(i+1)])\n",
    "    \n",
    "    qubits = range(qubit)\n",
    "    \n",
    "    for j in range(0, depth):\n",
    "        \n",
    "        # Implements the single qubit rotations\n",
    "        sq = partition[j][0:(number-len(graph.edges))]\n",
    "        for i in qubits:\n",
    "            single_rotation(sq[i*param_number:(i+1)*param_number], i) \n",
    "        \n",
    "        # Implements the coupling layer of gates\n",
    "        for count, i in enumerate(graph.edges):\n",
    "            p = partition[j][(number-len(graph.edges)):number]\n",
    "            qml.CRX(p[count], wires=[i[0], i[1]])"
   ]
  },
  {
   "cell_type": "markdown",
   "metadata": {},
   "source": [
    "There are a lot of variables floating around in this function. The `param_number` variable simply tells us how many unique parameters we assign to each application of the single-qubit rotation layer. We multiply this by the number of qubits, to get the total number of single-rotation parameters, and then add the number of edges in the interaction graph, which will also be the number of unique parameters needed for the $CNOT$ gates. With all of these components, we can define a function that acts as our quantum circuit, and pass it into a QNode:"
   ]
  },
  {
   "cell_type": "code",
   "execution_count": 89,
   "metadata": {},
   "outputs": [
    {
     "name": "stdout",
     "output_type": "stream",
     "text": [
      " 0: ──X──────RZ(1)──RY(1)──RX(1)──╭C───────RZ(1)──RY(1)──RX(1)─────────╭C───────RZ(1)──RY(1)──RX(1)─────────╭C──────────────╭┤ ⟨H0⟩ \n",
      " 1: ──RZ(1)──RY(1)──RX(1)─────────╰RX(1)──╭C──────RZ(1)──RY(1)──RX(1)──╰RX(1)──╭C──────RZ(1)──RY(1)──RX(1)──╰RX(1)──╭C──────├┤ ⟨H0⟩ \n",
      " 2: ──X──────RZ(1)──RY(1)──RX(1)──────────╰RX(1)──RZ(1)──RY(1)──RX(1)──────────╰RX(1)──RZ(1)──RY(1)──RX(1)──────────╰RX(1)──╰┤ ⟨H0⟩ \n",
      "H0 =\n",
      "[[ 3.  0.  0.  1.  0.  0.  1.  0.]\n",
      " [ 0.  1.  1.  0.  0.  0.  0.  1.]\n",
      " [ 0.  1.  1.  0.  1.  0.  0.  0.]\n",
      " [ 1.  0.  0. -1.  0.  1.  0.  0.]\n",
      " [ 0.  0.  1.  0.  1.  0.  0.  1.]\n",
      " [ 0.  0.  0.  1.  0. -1.  1.  0.]\n",
      " [ 1.  0.  0.  0.  0.  1. -1.  0.]\n",
      " [ 0.  1.  0.  0.  1.  0.  0. -3.]]\n",
      "\n"
     ]
    }
   ],
   "source": [
    "# Defines the depth of the variational circuit\n",
    "\n",
    "depth = 3\n",
    "\n",
    "# Creates the quantum circuit\n",
    "\n",
    "def quantum_circuit(params, qubits, sample, param_number):\n",
    "\n",
    "    # Prepares the initial basis state corresponding to the sample\n",
    "\n",
    "    create_v_gate(sample)\n",
    "\n",
    "    # Prepares the variational ansatz for the circuit\n",
    "\n",
    "    ansatz_circuit(params, qubits, depth, interaction_graph, param_number)\n",
    "    \n",
    "    # Calculates the expectation value of the Hamiltonian, with respect to the preparred states\n",
    "     \n",
    "    return qml.expval(qml.Hermitian(ham_matrix, wires=range(qubit)))\n",
    "\n",
    "qnode = qml.QNode(quantum_circuit, dev)\n",
    "\n",
    "# Tests and draws the QNode\n",
    "\n",
    "results = qnode([1 for i in range(0, 12*depth)], qubits, [1, 0, 1, 0], 3)\n",
    "print(qnode.draw())"
   ]
  },
  {
   "cell_type": "markdown",
   "metadata": {},
   "source": [
    "There is one more thing we must do before implementing the cost function: writing a method that allows us to calculate the entropy of a state. Actually implementing a function that calculates the Von Neumann entropy is not too involved. We will take a probability distribution as our argument, each entry of which corresponds to the digonal elements of the $1$-qubit subsystems. The entropy of a collection of subsystems is the same as the sum of the entropies of the indiivdual systems, so we get: "
   ]
  },
  {
   "cell_type": "code",
   "execution_count": 90,
   "metadata": {},
   "outputs": [],
   "source": [
    "#Calculate the Von Neumann entropy of the initial density matrices\n",
    "\n",
    "def calculate_entropy(distribution):\n",
    "\n",
    "    total_entropy = []\n",
    "    for i in distribution:\n",
    "        total_entropy.append(-1*i[0]*np.log(i[0]) + -1*i[1]*np.log(i[1]))\n",
    "    \n",
    "    #Returns an array of the entropy values of the different initial density matrices\n",
    "\n",
    "    return total_entropy"
   ]
  },
  {
   "cell_type": "markdown",
   "metadata": {},
   "source": [
    "Finally, we define the cost function. More specifically, this is an **exact** version of the VQT cost function. Instead of sampling from our classical probability distribution, we simply calculate the probability corresponding to every basis state, and thus calculate the energy expectation exactly for each iteration. this is not how the VQT would work in the real world, for large systems where the number of basis states (and thus the size of the probability distribution) scales exponentially, but for small toy-models such as this, the exact form runs faster:"
   ]
  },
  {
   "cell_type": "code",
   "execution_count": 91,
   "metadata": {},
   "outputs": [],
   "source": [
    "def exact_cost(params):\n",
    "    \n",
    "    global iterations\n",
    "    \n",
    "    # Separates the list of parameters\n",
    "     \n",
    "    dist_params = params[0:qubit]\n",
    "    params = params[qubit:]\n",
    "    \n",
    "    # Creates the probability distribution\n",
    "    \n",
    "    distribution = prob_dist(dist_params)\n",
    "    \n",
    "    # Generates a list of all computational basis states, of our qubit system\n",
    "    \n",
    "    s = [[int(i) for i in list(bin(k)[2:].zfill(qubit))] for k in range(0, 2**qubit)]\n",
    "    \n",
    "    # Passes each basis state through the variational circuit and multiplis the calculated energy EV with the associated probability from the distribution\n",
    "    \n",
    "    final_cost = 0\n",
    "    for i in s:\n",
    "        result = qnode(params, qubits, i, 3)\n",
    "        for j in range(0, len(i)):\n",
    "            result = result*distribution[j][i[j]]\n",
    "        final_cost += result\n",
    "     \n",
    "    # Calculates the entropy and the final cost function\n",
    "    \n",
    "    entropy = calculate_entropy(distribution)\n",
    "    final_final_cost = beta*final_cost - sum(entropy)\n",
    "    \n",
    "    if (iterations%50 == 0):\n",
    "        print(\"Cost at Step \"+str(iterations)+\": \"+str(final_final_cost))\n",
    "    \n",
    "    iterations += 1\n",
    "    \n",
    "    return final_final_cost"
   ]
  },
  {
   "cell_type": "markdown",
   "metadata": {},
   "source": [
    "Finally, we optimize the cost function:"
   ]
  },
  {
   "cell_type": "code",
   "execution_count": 92,
   "metadata": {},
   "outputs": [
    {
     "name": "stdout",
     "output_type": "stream",
     "text": [
      "Cost at Step 0: -2.1176383145783766\n",
      "Cost at Step 50: -2.38483180890632\n",
      "Cost at Step 100: -2.4603699171895306\n",
      "Cost at Step 150: -2.502590339570166\n",
      "Cost at Step 200: -2.5328314792536495\n",
      "Cost at Step 250: -2.5467908341446517\n",
      "Cost at Step 300: -2.5567138308613586\n",
      "Cost at Step 350: -2.5673918853462165\n",
      "Cost at Step 400: -2.5740519878315125\n",
      "Cost at Step 450: -2.580903647090226\n",
      "Cost at Step 500: -2.58808340597735\n",
      "Cost at Step 550: -2.595321266404861\n",
      "Cost at Step 600: -2.599323571350377\n",
      "Cost at Step 650: -2.601983618606355\n",
      "Cost at Step 700: -2.6053946497465073\n",
      "Cost at Step 750: -2.608323954794461\n",
      "Cost at Step 800: -2.610838459212761\n",
      "Cost at Step 850: -2.6144041879825464\n",
      "Cost at Step 900: -2.6163709721246606\n",
      "Cost at Step 950: -2.6180279446544454\n",
      "     fun: -2.619321831658901\n",
      "   maxcv: 0.0\n",
      " message: 'Maximum number of function evaluations has been exceeded.'\n",
      "    nfev: 1000\n",
      "  status: 2\n",
      " success: False\n",
      "       x: array([ 1.40310088, -0.49646623, -1.55976645,  0.55892354,  0.76023784,\n",
      "       -0.00381864,  0.71676691,  0.78680711,  1.50373291,  1.89172342,\n",
      "       -0.01518869, -0.09797299, -0.53547003, -1.66755214, -0.05046635,\n",
      "        1.44470529,  1.32781885,  0.51749483,  1.59149764, -0.61011872,\n",
      "        1.09569231,  0.66287813,  0.62569399, -1.44617107,  0.67802381,\n",
      "        0.97434357,  0.0471333 , -1.33333159,  0.02570505, -0.10320776,\n",
      "       -1.38361809,  0.49712595, -0.06271386, -0.53721489,  0.0817847 ,\n",
      "       -0.15140194,  0.12801644,  0.47719852, -0.89077813])\n"
     ]
    }
   ],
   "source": [
    "# Creates the optimizer\n",
    "\n",
    "iterations = 0\n",
    "params = [random.randint(-100, 100)/100 for i in range(0, (12*depth)+qubit)]\n",
    "\n",
    "out = minimize(exact_cost, x0=params, method=\"COBYLA\", options={'maxiter':1000})\n",
    "params = out['x']\n",
    "print(out)"
   ]
  },
  {
   "cell_type": "markdown",
   "metadata": {},
   "source": [
    "With our optimal parameters, we now wish to prepare the state to which they correspond, to see \"how close\" our prepared state is to the target state. This can be done by simply taking the optimal parameters, and passing each possible basis state through the variational circuit. Each corresponding probability is multiplied by the outer product of the resulting state with itself. Once we add these all together, we are left with the density matrix corresponding to the optimal parameters."
   ]
  },
  {
   "cell_type": "code",
   "execution_count": 93,
   "metadata": {},
   "outputs": [],
   "source": [
    "def prepare_state(params, device):\n",
    "\n",
    "    # Initializes the density matrix\n",
    "\n",
    "    final_density_matrix_2 = np.zeros((2**qubit, 2**qubit))\n",
    "\n",
    "    # Prepares the optimal parameters, creates the distribution and the bitstrings\n",
    "\n",
    "    dist_params = params[0:qubit]\n",
    "    unitary_params = params[qubit:]\n",
    "\n",
    "    distribution = prob_dist(dist_params)\n",
    "\n",
    "    s = [[int(i) for i in list(bin(k)[2:].zfill(qubit))] for k in range(0, 2**qubit)]\n",
    "\n",
    "    # Runs the circuit in the case of the optimal parameters, for each bitstring, and adds the result to the final density matrix\n",
    "\n",
    "    for i in s:\n",
    "        qnode(unitary_params, qubits, i, 3)\n",
    "        state = device.state\n",
    "        for j in range(0, len(i)):\n",
    "            state = np.sqrt(distribution[j][i[j]])*state\n",
    "        final_density_matrix_2 = np.add(final_density_matrix_2, np.outer(state, np.conj(state)))\n",
    "    \n",
    "    return final_density_matrix_2\n",
    "\n",
    "final_density_matrix_2 = prepare_state(params, dev)"
   ]
  },
  {
   "cell_type": "markdown",
   "metadata": {},
   "source": [
    "Now, we need to asess how \"close together\" the prepared and target state are. The trace distance of two density matrices is a valid metric (a \"distance function\" with certain properties) on the space on density matrices defined by:\n",
    "\n",
    "<br>\n",
    "$$T(\\rho, \\ \\sigma) \\ = \\ \\frac{1}{2} \\text{Tr} \\sqrt{(\\rho \\ - \\ \\sigma)^{\\dagger} (\\rho \\ - \\ \\sigma)}$$\n",
    "<br>\n",
    "\n",
    "We can implement this as a function, and compute the trace distance between the target and prepared states:"
   ]
  },
  {
   "cell_type": "code",
   "execution_count": 94,
   "metadata": {},
   "outputs": [
    {
     "name": "stdout",
     "output_type": "stream",
     "text": [
      "Final Trace Distance: 0.056654342507751525\n"
     ]
    }
   ],
   "source": [
    "# Finds the trace distance between two density matrices\n",
    "\n",
    "def trace_distance(one, two):\n",
    "    \n",
    "    return 0.5*np.trace(np.absolute(np.add(one, -1*two)))\n",
    "\n",
    "print(\"Final Trace Distance: \"+str(trace_distance(final_density_matrix_2, final_density_matrix)))"
   ]
  },
  {
   "cell_type": "markdown",
   "metadata": {},
   "source": [
    "This is pretty good! A trace distance close to $0$ means that the states are \"close together\", meaning that we prepared a good approximation of the thermal state. If you prefer a vision representation, we can plot the prepared state as a heatmap:"
   ]
  },
  {
   "cell_type": "code",
   "execution_count": 95,
   "metadata": {},
   "outputs": [
    {
     "data": {
      "text/plain": [
       "<matplotlib.axes._subplots.AxesSubplot at 0x135868190>"
      ]
     },
     "execution_count": 95,
     "metadata": {},
     "output_type": "execute_result"
    },
    {
     "data": {
      "image/png": "[encoded data removed]",
      "text/plain": [
       "<Figure size 432x288 with 2 Axes>"
      ]
     },
     "metadata": {
      "needs_background": "light"
     },
     "output_type": "display_data"
    }
   ],
   "source": [
    "seaborn.heatmap(abs(final_density_matrix_2))"
   ]
  },
  {
   "cell_type": "markdown",
   "metadata": {},
   "source": [
    "Then, we can compare it to the target:"
   ]
  },
  {
   "cell_type": "code",
   "execution_count": 96,
   "metadata": {},
   "outputs": [
    {
     "data": {
      "text/plain": [
       "<matplotlib.axes._subplots.AxesSubplot at 0x135d77d10>"
      ]
     },
     "execution_count": 96,
     "metadata": {},
     "output_type": "execute_result"
    },
    {
     "data": {
      "image/png": "[encoded data removed]",
      "text/plain": [
       "<Figure size 432x288 with 2 Axes>"
      ]
     },
     "metadata": {
      "needs_background": "light"
     },
     "output_type": "display_data"
    }
   ],
   "source": [
    "seaborn.heatmap(abs(final_density_matrix))"
   ]
  },
  {
   "cell_type": "markdown",
   "metadata": {},
   "source": [
    "As you can see, the two images are not completely the same, but there is definitely some resemblance between them!"
   ]
  },
  {
   "cell_type": "markdown",
   "metadata": {},
   "source": [
    "### The 4-Qubit Heisenberg Model on a Square\n",
    "\n",
    "Let's look at one more example of the VQT in action, this time, for a slightly more complicated model."
   ]
  },
  {
   "cell_type": "markdown",
   "metadata": {},
   "source": [
    "#### Numerical Calculation of Target State\n",
    "\n",
    "As we did in the above example, we define our fixed values:"
   ]
  },
  {
   "cell_type": "code",
   "execution_count": 62,
   "metadata": {},
   "outputs": [],
   "source": [
    "# Defines all necessary variables\n",
    "\n",
    "beta = 1 #Note that B = 1/T\n",
    "qubit = 4\n",
    "qubits = range(qubit)\n",
    "depth = 2\n",
    "\n",
    "# Defines the device on which the simulation is run\n",
    "\n",
    "dev2 = qml.device(\"default.qubit\", wires=len(qubits))"
   ]
  },
  {
   "cell_type": "markdown",
   "metadata": {},
   "source": [
    "This model lives on a square-shaped graph:"
   ]
  },
  {
   "cell_type": "code",
   "execution_count": 63,
   "metadata": {},
   "outputs": [
    {
     "data": {
      "image/png": "[encoded data removed]",
      "text/plain": [
       "<Figure size 432x288 with 1 Axes>"
      ]
     },
     "metadata": {},
     "output_type": "display_data"
    }
   ],
   "source": [
    "# Creates the graph of interactions for the Heisenberg grid, then draws it\n",
    "\n",
    "interaction_graph = nx.Graph()\n",
    "interaction_graph.add_nodes_from(range(0, qubit))\n",
    "interaction_graph.add_edges_from([(0, 1), (2, 3), (0, 2), (1, 3)])\n",
    "\n",
    "nx.draw(interaction_graph)"
   ]
  },
  {
   "cell_type": "markdown",
   "metadata": {},
   "source": [
    "Recall that the two-dimensional Heiseberg model Hamiltonian can be written as:\n",
    "\n",
    "<br>\n",
    "$$\\hat{H} \\ = \\ \\displaystyle\\sum_{(i, j) \\in E} X_i X_{j} \\ + \\ Z_i Z_{j} \\ + \\ Y_i Y_{j}$$\n",
    "<br>"
   ]
  },
  {
   "cell_type": "markdown",
   "metadata": {},
   "source": [
    "With this knowledge, we have:"
   ]
  },
  {
   "cell_type": "code",
   "execution_count": 64,
   "metadata": {},
   "outputs": [
    {
     "name": "stdout",
     "output_type": "stream",
     "text": [
      "[[ 4.+0.j  0.+0.j  0.+0.j  0.+0.j  0.+0.j  0.+0.j  0.+0.j  0.+0.j  0.+0.j\n",
      "   0.+0.j  0.+0.j  0.+0.j  0.+0.j  0.+0.j  0.+0.j  0.+0.j]\n",
      " [ 0.+0.j  0.+0.j  2.+0.j  0.+0.j  2.+0.j  0.+0.j  0.+0.j  0.+0.j  0.+0.j\n",
      "   0.+0.j  0.+0.j  0.+0.j  0.+0.j  0.+0.j  0.+0.j  0.+0.j]\n",
      " [ 0.+0.j  2.+0.j  0.+0.j  0.+0.j  0.+0.j  0.+0.j  0.+0.j  0.+0.j  2.+0.j\n",
      "   0.+0.j  0.+0.j  0.+0.j  0.+0.j  0.+0.j  0.+0.j  0.+0.j]\n",
      " [ 0.+0.j  0.+0.j  0.+0.j  0.+0.j  0.+0.j  0.+0.j  2.+0.j  0.+0.j  0.+0.j\n",
      "   2.+0.j  0.+0.j  0.+0.j  0.+0.j  0.+0.j  0.+0.j  0.+0.j]\n",
      " [ 0.+0.j  2.+0.j  0.+0.j  0.+0.j  0.+0.j  0.+0.j  0.+0.j  0.+0.j  2.+0.j\n",
      "   0.+0.j  0.+0.j  0.+0.j  0.+0.j  0.+0.j  0.+0.j  0.+0.j]\n",
      " [ 0.+0.j  0.+0.j  0.+0.j  0.+0.j  0.+0.j  0.+0.j  2.+0.j  0.+0.j  0.+0.j\n",
      "   2.+0.j  0.+0.j  0.+0.j  0.+0.j  0.+0.j  0.+0.j  0.+0.j]\n",
      " [ 0.+0.j  0.+0.j  0.+0.j  2.+0.j  0.+0.j  2.+0.j -4.+0.j  0.+0.j  0.+0.j\n",
      "   0.+0.j  2.+0.j  0.+0.j  2.+0.j  0.+0.j  0.+0.j  0.+0.j]\n",
      " [ 0.+0.j  0.+0.j  0.+0.j  0.+0.j  0.+0.j  0.+0.j  0.+0.j  0.+0.j  0.+0.j\n",
      "   0.+0.j  0.+0.j  2.+0.j  0.+0.j  2.+0.j  0.+0.j  0.+0.j]\n",
      " [ 0.+0.j  0.+0.j  2.+0.j  0.+0.j  2.+0.j  0.+0.j  0.+0.j  0.+0.j  0.+0.j\n",
      "   0.+0.j  0.+0.j  0.+0.j  0.+0.j  0.+0.j  0.+0.j  0.+0.j]\n",
      " [ 0.+0.j  0.+0.j  0.+0.j  2.+0.j  0.+0.j  2.+0.j  0.+0.j  0.+0.j  0.+0.j\n",
      "  -4.+0.j  2.+0.j  0.+0.j  2.+0.j  0.+0.j  0.+0.j  0.+0.j]\n",
      " [ 0.+0.j  0.+0.j  0.+0.j  0.+0.j  0.+0.j  0.+0.j  2.+0.j  0.+0.j  0.+0.j\n",
      "   2.+0.j  0.+0.j  0.+0.j  0.+0.j  0.+0.j  0.+0.j  0.+0.j]\n",
      " [ 0.+0.j  0.+0.j  0.+0.j  0.+0.j  0.+0.j  0.+0.j  0.+0.j  2.+0.j  0.+0.j\n",
      "   0.+0.j  0.+0.j  0.+0.j  0.+0.j  0.+0.j  2.+0.j  0.+0.j]\n",
      " [ 0.+0.j  0.+0.j  0.+0.j  0.+0.j  0.+0.j  0.+0.j  2.+0.j  0.+0.j  0.+0.j\n",
      "   2.+0.j  0.+0.j  0.+0.j  0.+0.j  0.+0.j  0.+0.j  0.+0.j]\n",
      " [ 0.+0.j  0.+0.j  0.+0.j  0.+0.j  0.+0.j  0.+0.j  0.+0.j  2.+0.j  0.+0.j\n",
      "   0.+0.j  0.+0.j  0.+0.j  0.+0.j  0.+0.j  2.+0.j  0.+0.j]\n",
      " [ 0.+0.j  0.+0.j  0.+0.j  0.+0.j  0.+0.j  0.+0.j  0.+0.j  0.+0.j  0.+0.j\n",
      "   0.+0.j  0.+0.j  2.+0.j  0.+0.j  2.+0.j  0.+0.j  0.+0.j]\n",
      " [ 0.+0.j  0.+0.j  0.+0.j  0.+0.j  0.+0.j  0.+0.j  0.+0.j  0.+0.j  0.+0.j\n",
      "   0.+0.j  0.+0.j  0.+0.j  0.+0.j  0.+0.j  0.+0.j  4.+0.j]]\n"
     ]
    }
   ],
   "source": [
    "# Creates the target Hamiltonian matrix\n",
    "\n",
    "def create_hamiltonian_matrix(n, graph):\n",
    "\n",
    "    pauli_x = np.array([[0, 1], [1, 0]])\n",
    "    pauli_y = np.array([[0, -1j], [1j, 0]])\n",
    "    pauli_z = np.array([[1, 0], [0, -1]])\n",
    "    identity = np.array([[1, 0], [0, 1]])\n",
    "    \n",
    "    matrix = np.zeros((2**n, 2**n))\n",
    "    \n",
    "    for i in graph.edges:\n",
    "        m = 1\n",
    "        for j in range(0, n):\n",
    "            if (j == i[0] or j == i[1]):\n",
    "                m = np.kron(pauli_x,  m)\n",
    "            else:\n",
    "                m = np.kron(identity, m)\n",
    "        matrix = np.add(matrix, m)\n",
    "     \n",
    "    for i in graph.edges:\n",
    "        m = 1\n",
    "        for j in range(0, n):\n",
    "            if (j == i[0] or j == i[1]):\n",
    "                m = np.kron(m, pauli_y)\n",
    "            else:\n",
    "                m = np.kron(m, identity)\n",
    "        matrix = np.add(matrix, m)\n",
    "    \n",
    "    for i in graph.edges:\n",
    "        m = 1\n",
    "        for j in range(0, n):\n",
    "            if (j == i[0] or j == i[1]):\n",
    "                m = np.kron(m, pauli_z)\n",
    "            else:\n",
    "                m = np.kron(m, identity)\n",
    "        matrix = np.add(matrix, m)\n",
    "    \n",
    "    return matrix\n",
    "\n",
    "ham_matrix = create_hamiltonian_matrix(qubit, interaction_graph)\n",
    "print(ham_matrix)"
   ]
  },
  {
   "cell_type": "markdown",
   "metadata": {},
   "source": [
    "So this is the $Z$-basis matrix form of the Hamiltonian. We then calculate the thermal state at the inverse temperature defined above:"
   ]
  },
  {
   "cell_type": "code",
   "execution_count": 65,
   "metadata": {},
   "outputs": [
    {
     "name": "stdout",
     "output_type": "stream",
     "text": [
      "Expectation Value: (-7.7740126937547025+0j)\n",
      "Entropy: (0.2817302684780885+9.410928517774377e-17j)\n",
      "Final Cost: (-8.055742962232792-9.410928517774377e-17j)\n"
     ]
    },
    {
     "data": {
      "text/plain": [
       "<matplotlib.axes._subplots.AxesSubplot at 0x1359d7cd0>"
      ]
     },
     "execution_count": 65,
     "metadata": {},
     "output_type": "execute_result"
    },
    {
     "data": {
      "image/png": "[encoded data removed]",
      "text/plain": [
       "<Figure size 432x288 with 2 Axes>"
      ]
     },
     "metadata": {
      "needs_background": "light"
     },
     "output_type": "display_data"
    }
   ],
   "source": [
    "# Plots the final density matrix\n",
    "\n",
    "final_density_matrix = create_target(qubit, beta, create_hamiltonian_matrix, interaction_graph)\n",
    "seaborn.heatmap(abs(final_density_matrix))"
   ]
  },
  {
   "cell_type": "markdown",
   "metadata": {},
   "source": [
    "We will use the same form of the latent space, ansatz, and cost function as above, thus only minor modifications need to be made. We must re-define our qnode, since we are now using a device with $4$ qubits rather than $3$:"
   ]
  },
  {
   "cell_type": "code",
   "execution_count": 66,
   "metadata": {},
   "outputs": [],
   "source": [
    "# QNode\n",
    "\n",
    "qnode = qml.QNode(quantum_circuit, dev2)"
   ]
  },
  {
   "cell_type": "markdown",
   "metadata": {},
   "source": [
    "We then run our optimizer:"
   ]
  },
  {
   "cell_type": "code",
   "execution_count": 68,
   "metadata": {},
   "outputs": [
    {
     "name": "stdout",
     "output_type": "stream",
     "text": [
      "Cost at Step 0: -2.463309686334111\n",
      "Cost at Step 50: -3.575598119327056\n",
      "Cost at Step 100: -4.2764465592481855\n",
      "Cost at Step 150: -4.897385818202105\n",
      "Cost at Step 200: -5.697996684999241\n",
      "Cost at Step 250: -6.056739517351948\n",
      "Cost at Step 300: -6.192468440564735\n",
      "Cost at Step 350: -6.614680190085132\n",
      "Cost at Step 400: -6.864884977228145\n",
      "Cost at Step 450: -6.893200509986737\n",
      "Cost at Step 500: -6.984379931895425\n",
      "Cost at Step 550: -7.129821923572679\n",
      "Cost at Step 600: -7.21980046742897\n",
      "Cost at Step 650: -7.265795873808539\n",
      "Cost at Step 700: -7.326021050662185\n",
      "Cost at Step 750: -7.361579645110834\n",
      "Cost at Step 800: -7.385540542539021\n",
      "Cost at Step 850: -7.413757395341174\n",
      "Cost at Step 900: -7.450772472320012\n",
      "Cost at Step 950: -7.472225423815771\n",
      "     fun: -7.491177408045373\n",
      "   maxcv: 0.0\n",
      " message: 'Maximum number of function evaluations has been exceeded.'\n",
      "    nfev: 1000\n",
      "  status: 2\n",
      " success: False\n",
      "       x: array([-3.42920882e+00,  3.65497026e+00,  4.21382890e+00, -4.04237746e+00,\n",
      "       -6.71724205e-01,  1.53432484e+00, -3.67768848e-01,  1.40813473e+00,\n",
      "       -1.49852639e+00,  3.54985484e-01,  7.62073568e-01,  1.11887617e+00,\n",
      "        1.53648603e+00,  6.79899724e-01,  2.54322691e+00,  3.51368625e-01,\n",
      "       -1.25568529e+00, -2.26407175e-01, -1.91718046e+00, -3.16801437e-02,\n",
      "       -1.07321898e+00, -3.32159389e-01,  2.33119913e-02,  2.65447317e+00,\n",
      "        1.68935750e+00,  8.05271529e-01, -1.12066561e+00,  8.89286850e-04,\n",
      "        7.91869614e-01, -1.53457320e+00, -5.19405337e-01, -1.92341902e+00,\n",
      "       -2.38719754e+00, -1.43971581e+00,  1.27109431e-01,  2.43648084e+00])\n"
     ]
    }
   ],
   "source": [
    "# Creates the optimizer\n",
    "\n",
    "iterations = 0\n",
    "\n",
    "params = [random.randint(-100, 100)/100 for i in range(0, (16*depth)+qubit)]\n",
    "out = minimize(exact_cost, x0=params, method=\"COBYLA\", options={'maxiter':1000})\n",
    "params = out['x']\n",
    "print(out)"
   ]
  },
  {
   "cell_type": "markdown",
   "metadata": {},
   "source": [
    "With our optimal parameters, we can post-process our data. We start by calculating the matrix form of the density matrix we prepared:"
   ]
  },
  {
   "cell_type": "code",
   "execution_count": 69,
   "metadata": {},
   "outputs": [],
   "source": [
    "# Prepares the density matrix\n",
    "\n",
    "final_density_matrix_2 = prepare_state(params, dev2)"
   ]
  },
  {
   "cell_type": "markdown",
   "metadata": {},
   "source": [
    "We then calculate the trace distance:"
   ]
  },
  {
   "cell_type": "code",
   "execution_count": 72,
   "metadata": {},
   "outputs": [
    {
     "name": "stdout",
     "output_type": "stream",
     "text": [
      "Final Trace Distance: 0.07022044241758019\n"
     ]
    }
   ],
   "source": [
    "# Calculates the trace distance\n",
    "\n",
    "print(\"Final Trace Distance: \"+str(trace_distance(final_density_matrix_2, final_density_matrix)))"
   ]
  },
  {
   "cell_type": "markdown",
   "metadata": {},
   "source": [
    "This is pretty good, but it could be better (most likely with a deeper ansatz and a more sophisticated optimizer, but to keep execution time relatively sohrt, we will not go down those avenues in this Notebook). To end off, let's visualize our two density matrices:"
   ]
  },
  {
   "cell_type": "code",
   "execution_count": 71,
   "metadata": {},
   "outputs": [
    {
     "data": {
      "text/plain": [
       "<matplotlib.axes._subplots.AxesSubplot at 0x135b97e90>"
      ]
     },
     "execution_count": 71,
     "metadata": {},
     "output_type": "execute_result"
    },
    {
     "data": {
      "image/png": "[encoded data removed]",
      "text/plain": [
       "<Figure size 432x288 with 2 Axes>"
      ]
     },
     "metadata": {
      "needs_background": "light"
     },
     "output_type": "display_data"
    }
   ],
   "source": [
    "seaborn.heatmap(abs(final_density_matrix_2))"
   ]
  },
  {
   "cell_type": "markdown",
   "metadata": {},
   "source": [
    "And we print the target:"
   ]
  },
  {
   "cell_type": "code",
   "execution_count": 241,
   "metadata": {},
   "outputs": [
    {
     "data": {
      "text/plain": [
       "<matplotlib.axes._subplots.AxesSubplot at 0x143134c10>"
      ]
     },
     "execution_count": 241,
     "metadata": {},
     "output_type": "execute_result"
    },
    {
     "data": {
      "image/png": "[encoded data removed]",
      "text/plain": [
       "<Figure size 432x288 with 2 Axes>"
      ]
     },
     "metadata": {
      "needs_background": "light"
     },
     "output_type": "display_data"
    }
   ],
   "source": [
    "seaborn.heatmap(abs(final_density_matrix))"
   ]
  },
  {
   "cell_type": "markdown",
   "metadata": {},
   "source": [
    "### References\n",
    "\n",
    "1. Verdon, G., Marks, J., Nanda, S., Leichenauer, S., & Hidary, J. (2019). Quantum Hamiltonian-Based Models and the Variational Quantum Thermalizer Algorithm. arXiv preprint [arXiv:1910.02071](https://arxiv.org/abs/1910.02071)."
   ]
  }
 ],
 "metadata": {
  "kernelspec": {
   "display_name": "Python 3",
   "language": "python",
   "name": "python3"
  },
  "language_info": {
   "codemirror_mode": {
    "name": "ipython",
    "version": 3
   },
   "file_extension": ".py",
   "mimetype": "text/x-python",
   "name": "python",
   "nbconvert_exporter": "python",
   "pygments_lexer": "ipython3",
   "version": "3.7.5"
  }
 },
 "nbformat": 4,
 "nbformat_minor": 4
}
