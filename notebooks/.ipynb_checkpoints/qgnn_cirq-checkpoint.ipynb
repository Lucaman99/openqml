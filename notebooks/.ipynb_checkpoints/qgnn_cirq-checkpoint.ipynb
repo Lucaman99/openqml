{
 "cells": [
  {
   "cell_type": "markdown",
   "metadata": {},
   "source": [
    "## VQE and Quantum Graph Neural Networks"
   ]
  },
  {
   "cell_type": "code",
   "execution_count": 1,
   "metadata": {},
   "outputs": [],
   "source": [
    "import numpy\n",
    "import math\n",
    "import random\n",
    "import numpy as np\n",
    "import scipy\n",
    "from matplotlib import pyplot as plt\n",
    "from tqdm import tqdm\n",
    "from scipy.optimize import minimize\n",
    "import networkx as nx\n",
    "import cirq"
   ]
  },
  {
   "cell_type": "markdown",
   "metadata": {},
   "source": [
    "In order to begin thinking about the quantum graph neural network, we must prepare some training data. We perform VQE in order to find the ground state of a given Ising model Hamiltonian:"
   ]
  },
  {
   "cell_type": "code",
   "execution_count": 47,
   "metadata": {},
   "outputs": [
    {
     "data": {
      "image/png": "[encoded data removed]",
      "text/plain": [
       "<Figure size 432x288 with 1 Axes>"
      ]
     },
     "metadata": {},
     "output_type": "display_data"
    },
    {
     "name": "stdout",
     "output_type": "stream",
     "text": [
      "[[1.96, 1.08, 0.32], [1.04, 1.28, 0.5]]\n"
     ]
    }
   ],
   "source": [
    "# Initialize the necessary qubits\n",
    "\n",
    "qubit_number = 3\n",
    "data_register = [cirq.GridQubit(0, i) for i in range(0, qubit_number)]\n",
    "network_register = [cirq.GridQubit(1, i) for i in range(0, qubit_number)]\n",
    "\n",
    "# Creates the graph structure of the quantum system\n",
    "\n",
    "ising_graph = nx.Graph()\n",
    "ising_graph.add_nodes_from(range(0, qubit_number))\n",
    "ising_graph.add_edges_from([(0, 1), (0, 2), (1, 2)])\n",
    "\n",
    "nx.draw(ising_graph)\n",
    "plt.show() \n",
    "\n",
    "# Creates parameters\n",
    "\n",
    "matrix_params = [[random.randint(10, 100)/50 for i in range(0, qubit_number)] for j in range(0, 2)]\n",
    "#matrix_params = [[random.randint(10, 100)/50], [random.randint(10, 100)/50 for i in range(0, qubit_number)]]\n",
    "print(matrix_params)"
   ]
  },
  {
   "cell_type": "code",
   "execution_count": 48,
   "metadata": {},
   "outputs": [
    {
     "name": "stdout",
     "output_type": "stream",
     "text": [
      "(0, 0): ───Z───X───Z───X───\n",
      "\n",
      "(0, 1): ───Z───X───Z───X───\n",
      "\n",
      "(0, 2): ───Z───X───Z───X───\n"
     ]
    }
   ],
   "source": [
    "# Defines the rz gate:\n",
    "\n",
    "def rz(control, target, param):\n",
    "    yield cirq.CX.on(control, target)\n",
    "    yield cirq.rz(param).on(target)\n",
    "    yield cirq.CX.on(control, target)\n",
    "\n",
    "# Method that initializes qubits in even superposition\n",
    "\n",
    "def even_superposition(qubits):\n",
    "    \n",
    "    for i in qubits:\n",
    "        yield cirq.H.on(i)\n",
    "\n",
    "# Method that prepares the QAOA ansatz layers\n",
    "\n",
    "def qaoa_layer(param1, param2, qubits, ising_graph):\n",
    "    \n",
    "    # Applies a layer of coupling gates\n",
    "    for count, i in enumerate(ising_graph.edges):\n",
    "        yield rz(qubits[i[0]], qubits[i[1]], 2*param1[count])\n",
    "    \n",
    "    # Applies the final layer of RX gates on the qubits\n",
    "    \n",
    "    for i in range(0, len(qubits)):\n",
    "        yield cirq.rx(2*param2[i]).on(qubits[i])\n",
    "    \n",
    "# Method that prepares the decoupled layers\n",
    "\n",
    "def decoupled_layer(param1, param2, qubits):\n",
    "    \n",
    "    for i in range(0, len(qubits)):\n",
    "        yield cirq.ZPowGate(exponent=param1[i]).on(qubits[i])\n",
    "        yield cirq.XPowGate(exponent=param1[i]).on(qubits[i])\n",
    "\n",
    "# Method that prepares the VQE circuit that will be used to \n",
    "\n",
    "def vqe_circuit(parameters, qubits, ising_graph):\n",
    "    \n",
    "    yield decoupled_layer(parameters[0], parameters[1], qubits) \n",
    "    yield decoupled_layer(parameters[2], parameters[3], qubits)\n",
    "\n",
    "test_circuit = cirq.Circuit()\n",
    "test_circuit.append(vqe_circuit([[1, 1, 1], [1, 1, 1], [1, 1, 1], [1, 1, 1]], data_register, ising_graph))\n",
    "print(test_circuit)"
   ]
  },
  {
   "cell_type": "code",
   "execution_count": 49,
   "metadata": {},
   "outputs": [
    {
     "name": "stdout",
     "output_type": "stream",
     "text": [
      "[[ 3.36  0.5   1.28  0.    1.04  0.    0.    0.  ]\n",
      " [ 0.5   0.56  0.    1.28  0.    1.04  0.    0.  ]\n",
      " [ 1.28  0.   -1.2   0.5   0.    0.    1.04  0.  ]\n",
      " [ 0.    1.28  0.5  -2.72  0.    0.    0.    1.04]\n",
      " [ 1.04  0.    0.    0.   -2.72  0.5   1.28  0.  ]\n",
      " [ 0.    1.04  0.    0.    0.5  -1.2   0.    1.28]\n",
      " [ 0.    0.    1.04  0.    1.28  0.    0.56  0.5 ]\n",
      " [ 0.    0.    0.    1.04  0.    1.28  0.5   3.36]]\n"
     ]
    }
   ],
   "source": [
    "# Creates the Hamiltonian that we are attempting to learn\n",
    "\n",
    "def create_hamiltonian_matrix(n, graph):\n",
    "    \n",
    "    # Defines Pauli matrices\n",
    "\n",
    "    pauli_x = np.array([[0, 1], [1, 0]])\n",
    "    pauli_y = np.array([[0, -1j], [1j, 0]])\n",
    "    pauli_z = np.array([[1, 0], [0, -1]])\n",
    "    identity = np.array([[1, 0], [0, 1]])\n",
    "\n",
    "    matrix = np.zeros((2**n, 2**n))\n",
    "    \n",
    "    # Creates the interaction component of the Hamiltonian\n",
    "\n",
    "    for count, i in enumerate(graph.edges):\n",
    "        m = 1\n",
    "        for j in range(0, n):\n",
    "            if (i[0] == j or i[1] == j):\n",
    "                m = np.kron(m, pauli_z)\n",
    "            else:\n",
    "                m = np.kron(m, identity)\n",
    "        matrix = np.add(matrix, matrix_params[0][count]*m)\n",
    "    \n",
    "    # Creates the \"bias\" component of the matrix\n",
    "    \n",
    "    for i in range(0, n):\n",
    "        m = 1\n",
    "        for j in range(0, n):\n",
    "            if (j == i):\n",
    "                m = np.kron(m, pauli_x)\n",
    "            else:\n",
    "                m = np.kron(m, identity)\n",
    "        matrix = np.add(matrix, matrix_params[1][i]*m)\n",
    "\n",
    "    return matrix\n",
    "\n",
    "print(create_hamiltonian_matrix(qubit_number, ising_graph))"
   ]
  },
  {
   "cell_type": "code",
   "execution_count": 50,
   "metadata": {},
   "outputs": [
    {
     "name": "stdout",
     "output_type": "stream",
     "text": [
      "-3.809333465316032\n"
     ]
    },
    {
     "data": {
      "image/png": "[encoded data removed]",
      "text/plain": [
       "<Figure size 288x288 with 2 Axes>"
      ]
     },
     "metadata": {
      "needs_background": "light"
     },
     "output_type": "display_data"
    }
   ],
   "source": [
    "def create_density_matrix(arr):\n",
    "    \n",
    "    array = np.array(arr)\n",
    "    plt.matshow(array)\n",
    "    plt.colorbar()\n",
    "    plt.show()\n",
    "\n",
    "# Finds the eigenvector corresponding to the lowest energy state\n",
    "    \n",
    "val, vec = np.linalg.eig(create_hamiltonian_matrix(qubit_number, ising_graph))\n",
    "m = []\n",
    "\n",
    "min_ind = list(val).index(min(val))\n",
    "print(val[min_ind])\n",
    "for i in range(0, 2**qubit_number):\n",
    "    m.append(vec[i][min_ind])\n",
    "\n",
    "create_density_matrix(np.real(np.outer(m, np.conj(m))))"
   ]
  },
  {
   "cell_type": "code",
   "execution_count": 51,
   "metadata": {},
   "outputs": [
    {
     "name": "stdout",
     "output_type": "stream",
     "text": [
      "Cost at Step 0= 0.10995176301369264\n",
      "Cost at Step 50= -2.914632478539122\n",
      "Cost at Step 100= -3.454413539981427\n",
      "Cost at Step 150= -3.459313268858235\n",
      "Cost at Step 200= -3.4598524866726654\n",
      "Cost at Step 250= -3.45988828394182\n",
      "Cost at Step 300= -3.4598953746915497\n",
      "Cost at Step 350= -3.4598948489641\n",
      "Cost at Step 400= -3.4598957434152617\n",
      "     fun: -3.4598957434152617\n",
      "   maxcv: 0.0\n",
      " message: 'Optimization terminated successfully.'\n",
      "    nfev: 444\n",
      "  status: 1\n",
      " success: True\n",
      "       x: array([ 0.87104966,  2.6725955 ,  1.87535699,  1.39525015,  0.27139659,\n",
      "        1.291096  ,  1.4788986 , -0.10490311,  1.48512638,  1.38267536,\n",
      "        0.00615775,  1.58164874])\n"
     ]
    },
    {
     "data": {
      "image/png": "[encoded data removed]",
      "text/plain": [
       "<Figure size 288x288 with 2 Axes>"
      ]
     },
     "metadata": {
      "needs_background": "light"
     },
     "output_type": "display_data"
    }
   ],
   "source": [
    "# Creates the VQE method that we will optimize\n",
    "\n",
    "def create_circuit(parameters, qubits):\n",
    "    \n",
    "    # Prepares the circuit\n",
    "    \n",
    "    circuit = cirq.Circuit()\n",
    "    circuit.append(even_superposition(qubits))\n",
    "    circuit.append(vqe_circuit(parameters, qubits, ising_graph))\n",
    "    \n",
    "    # Creates the simulation\n",
    "    \n",
    "    simulator = cirq.Simulator()\n",
    "    results = simulator.simulate(circuit)\n",
    "    state_vector = results.final_state\n",
    "    \n",
    "    return state_vector\n",
    "\n",
    "# Creates the cost function\n",
    "\n",
    "iterations = 0\n",
    "\n",
    "def cost_function(parameters, qubits):\n",
    "    \n",
    "    global iterations\n",
    "    \n",
    "    hamiltonian = create_hamiltonian_matrix(qubit_number, ising_graph)\n",
    "    vector = create_circuit(parameters, qubits)\n",
    "    \n",
    "    first = np.matmul(hamiltonian, vector)\n",
    "    cost = np.inner(np.conj(vector), first)\n",
    "    \n",
    "    if (iterations%50 == 0):\n",
    "        print(\"Cost at Step \"+str(iterations)+\"= \"+str(np.real(cost)))\n",
    "    \n",
    "    iterations += 1\n",
    "    \n",
    "    return np.real(cost)\n",
    "\n",
    "# Creates the optimizer for our variational circuit\n",
    "\n",
    "qubit_register = network_register\n",
    "\n",
    "def optimizer_cost(params):\n",
    "    \n",
    "    parameters = [\n",
    "        params[0:3], \n",
    "        params[3:6],\n",
    "        params[6:9],\n",
    "        params[9:12]\n",
    "    ]\n",
    "    \n",
    "    return cost_function(parameters, qubit_register)\n",
    "\n",
    "# Creates the optimizer\n",
    "\n",
    "init = [random.randint(0, 20)/10 for i in range(0, 12)]\n",
    "out = minimize(optimizer_cost, x0=init, method=\"COBYLA\", options={'maxiter':1000, 'tol':1e-10})\n",
    "g = out['x']\n",
    "print(out)\n",
    "\n",
    "# Prepares the optimal state and visualizes it\n",
    "\n",
    "optimal_params = [\n",
    "        g[0:3], \n",
    "        g[3:6],\n",
    "        g[6:9],\n",
    "        g[9:12]\n",
    "    ]\n",
    "\n",
    "optimal = create_circuit(optimal_params, qubit_register)\n",
    "result = np.real(np.outer(optimal, np.conj(optimal)))\n",
    "create_density_matrix(result)\n",
    "\n",
    "v = [ 3.21629331,  0.54890376,  2.02976445,  0.7818173 ,  1.3213677 ,\n",
    "        1.48080682,  1.67054856,  1.44101918,  1.20196752,  0.56441884,\n",
    "       -0.31570509,  0.15785939,  1.69543663,  0.72541886,  0.02910459,\n",
    "       -0.52821689]"
   ]
  },
  {
   "cell_type": "code",
   "execution_count": 90,
   "metadata": {},
   "outputs": [
    {
     "data": {
      "image/png": "[encoded data removed]",
      "text/plain": [
       "<Figure size 288x288 with 2 Axes>"
      ]
     },
     "metadata": {
      "needs_background": "light"
     },
     "output_type": "display_data"
    }
   ],
   "source": [
    "hbar = 1\n",
    "\n",
    "# Attempts to evolve the prepared ground state forward in time, with the time evolution circuit\n",
    "\n",
    "def le_state_evolve(depth, time, qubits, ising_graph, params):\n",
    "    \n",
    "    yield even_superposition(qubits)\n",
    "    yield vqe_circuit(params, qubits, ising_graph)\n",
    "    for i in range(0, depth):\n",
    "        yield qaoa_layer([i*time/depth for i in matrix_params[0]], [i*time/depth for i in matrix_params[1]], qubits, ising_graph)\n",
    "\n",
    "# Creates the circuit\n",
    "\n",
    "def create_time_circuit(depth, time, qubits, ising_graph, params):\n",
    "    \n",
    "    circuit = cirq.Circuit()\n",
    "    circuit.append(le_state_evolve(depth, time, qubits, ising_graph, params))\n",
    "    \n",
    "    simulator = cirq.Simulator()\n",
    "    results = simulator.simulate(circuit)\n",
    "    state_vector = results.final_state\n",
    "    \n",
    "    return state_vector\n",
    "\n",
    "vector = create_time_circuit(60, 5, data_register, ising_graph, optimal_params)\n",
    "create_density_matrix(np.real(np.outer(vector, np.conj(vector))))"
   ]
  },
  {
   "cell_type": "code",
   "execution_count": 80,
   "metadata": {},
   "outputs": [
    {
     "data": {
      "image/png": "[encoded data removed]",
      "text/plain": [
       "<Figure size 288x288 with 2 Axes>"
      ]
     },
     "metadata": {
      "needs_background": "light"
     },
     "output_type": "display_data"
    },
    {
     "name": "stdout",
     "output_type": "stream",
     "text": [
      "Fidelity: (0.9816874857775515+0j)\n"
     ]
    }
   ],
   "source": [
    "# Creates the numrical simulation, to test our time-evolution circuit\n",
    "\n",
    "def time_evolution_test(time, vec):\n",
    "    \n",
    "    new_matrix = scipy.linalg.expm(complex(0,-1)*create_hamiltonian_matrix(qubit_number, ising_graph)*time / hbar)\n",
    "    return np.matmul(new_matrix, vec)\n",
    "\n",
    "vec = time_evolution_test(10, optimal)\n",
    "create_density_matrix(np.real(np.outer(vec, np.conj(vec))))\n",
    "\n",
    "print(\"Fidelity: \"+str(np.inner(np.conj(vec), vector)*np.inner(np.conj(vector), vec)))"
   ]
  },
  {
   "cell_type": "code",
   "execution_count": 81,
   "metadata": {},
   "outputs": [],
   "source": [
    "# Creates the initial \"guess\" graph of interactions, and assigns parameters to each of the edges\n",
    "\n",
    "initial_graph = nx.complete_graph(qubit_number)\n",
    "\n",
    "# Creates the SWAP test between two registers of qubits\n",
    "\n",
    "def swap_test(control, index1, index2):\n",
    "    \n",
    "    yield cirq.H.on(control)\n",
    "    for i in range(0, len(index1)):\n",
    "        yield cirq.CSWAP(control, index1[i], index2[i])\n",
    "    yield cirq.H.on(control)\n",
    "\n",
    "# Creates the QGRNN ansatz\n",
    "\n",
    "def qgrnn_ansatz(initial_graph, parameters, opt_params, depth, qubits, time):\n",
    "    \n",
    "    yield even_superposition(qubits)\n",
    "    yield vqe_circuit(opt_params, qubits, ising_graph)\n",
    "    for i in range(0, depth):\n",
    "        yield qaoa_layer([i*time/depth for i in parameters[0]], [i*time/depth for i in parameters[1]], qubits, initial_graph)\n",
    "\n",
    "def find_infidelity_time(depth, time, index1, index2, control, params, opt_params, ising_graph, initial_graph):\n",
    "    \n",
    "    circuit = cirq.Circuit()\n",
    "    circuit.append(le_state_evolve(depth, time, index1, ising_graph, opt_params))\n",
    "    circuit.append(qgrnn_ansatz(initial_graph, params, opt_params, depth, index2, time))\n",
    "    circuit.append(swap_test(control, index1, index2))\n",
    "    circuit.append(cirq.measure(control, key=\"q\"))\n",
    "    \n",
    "    simulator = cirq.Simulator()\n",
    "    results = simulator.run(circuit, repetitions=100)\n",
    "    \n",
    "    new_res = list(str(results)[2:])\n",
    "    return sum([int(i) for i in new_res])\n",
    "\n",
    "control = cirq.GridQubit(2, 0)"
   ]
  },
  {
   "cell_type": "code",
   "execution_count": 82,
   "metadata": {},
   "outputs": [
    {
     "name": "stdout",
     "output_type": "stream",
     "text": [
      "[(0, 1), (0, 2), (1, 2)]\n",
      "[(0, 1), (0, 2), (1, 2)]\n"
     ]
    }
   ],
   "source": [
    "# Now, we define the cost function that is used in the optimization method\n",
    "\n",
    "time_range = [random.randint(0, 10) for i in range(0, 10)]\n",
    "iterations = 0\n",
    "\n",
    "def cost_function(params):\n",
    "    \n",
    "    global iterations\n",
    "    \n",
    "    params = [params[0:3], params[3:6]]\n",
    "    \n",
    "    total_cost = 0\n",
    "    for i in time_range:\n",
    "        res = find_infidelity_time(60, i, data_register, network_register, control, params, optimal_params, ising_graph, initial_graph)\n",
    "        total_cost += res\n",
    "        \n",
    "    print(\"Cost at Step \"+str(iterations)+\": \"+str(total_cost / len(time_range))+\", Parameters: \"+str(params))\n",
    "    \n",
    "    iterations += 1\n",
    "    return total_cost / len(time_range)\n",
    "\n",
    "print(ising_graph.edges)\n",
    "print(initial_graph.edges)"
   ]
  },
  {
   "cell_type": "code",
   "execution_count": null,
   "metadata": {},
   "outputs": [],
   "source": [
    "init = [random.randint(10, 100)/50 for i in range(0, 6)]\n",
    "#init = [1.96, 1.08, 0.32, 1.04, 1.28, 0.5]\n",
    "out = minimize(cost_function, x0=init, method=\"COBYLA\", options={'maxiter':0})\n",
    "g = out['x']\n",
    "print(out)"
   ]
  },
  {
   "cell_type": "code",
   "execution_count": 94,
   "metadata": {},
   "outputs": [
    {
     "data": {
      "image/png": "[encoded data removed]",
      "text/plain": [
       "<Figure size 288x288 with 2 Axes>"
      ]
     },
     "metadata": {
      "needs_background": "light"
     },
     "output_type": "display_data"
    },
    {
     "name": "stdout",
     "output_type": "stream",
     "text": [
      "Fidelity: (0.37762898+0j)\n"
     ]
    }
   ],
   "source": [
    "# Prepares the optimal state\n",
    "circuit = cirq.Circuit()\n",
    "circuit.append(qgrnn_ansatz(initial_graph, [g[0:3], g[3:6]], optimal_params, 60, network_register, 5))\n",
    "\n",
    "simulator = cirq.Simulator()\n",
    "results = simulator.simulate(circuit)\n",
    "state_vector = results.final_state\n",
    "\n",
    "create_density_matrix(np.real(np.outer(state_vector, np.conj(state_vector))))\n",
    "\n",
    "print(\"Fidelity: \"+str(np.inner(np.conj(state_vector), vector)*np.inner(np.conj(vector), state_vector)))"
   ]
  },
  {
   "cell_type": "code",
   "execution_count": null,
   "metadata": {},
   "outputs": [],
   "source": []
  }
 ],
 "metadata": {
  "kernelspec": {
   "display_name": "Python 3",
   "language": "python",
   "name": "python3"
  },
  "language_info": {
   "codemirror_mode": {
    "name": "ipython",
    "version": 3
   },
   "file_extension": ".py",
   "mimetype": "text/x-python",
   "name": "python",
   "nbconvert_exporter": "python",
   "pygments_lexer": "ipython3",
   "version": "3.7.5"
  }
 },
 "nbformat": 4,
 "nbformat_minor": 4
}
