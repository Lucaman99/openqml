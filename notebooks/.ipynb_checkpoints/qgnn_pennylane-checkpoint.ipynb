{
 "cells": [
  {
   "cell_type": "markdown",
   "metadata": {},
   "source": [
    "## VQE and Quantum Graph Neural Network in Pennylane"
   ]
  },
  {
   "cell_type": "code",
   "execution_count": 89,
   "metadata": {},
   "outputs": [],
   "source": [
    "import numpy\n",
    "import math\n",
    "import random\n",
    "import numpy as np\n",
    "import scipy\n",
    "from matplotlib import pyplot as plt\n",
    "from tqdm import tqdm\n",
    "from scipy.optimize import minimize\n",
    "import networkx as nx\n",
    "import pennylane as qml"
   ]
  },
  {
   "cell_type": "code",
   "execution_count": 98,
   "metadata": {},
   "outputs": [
    {
     "data": {
      "image/png": "[encoded data removed]",
      "text/plain": [
       "<Figure size 432x288 with 1 Axes>"
      ]
     },
     "metadata": {},
     "output_type": "display_data"
    },
    {
     "name": "stdout",
     "output_type": "stream",
     "text": [
      "[[2.9, 9.5, 1.5], [4.3, 3.8, 10.0]]\n"
     ]
    }
   ],
   "source": [
    "# Initialize the device on which the simulation is run\n",
    "\n",
    "qubit_number = 3\n",
    "qubits = range(0, 3)\n",
    "dev = qml.device(\"default.qubit\", wires=qubit_number)\n",
    "\n",
    "# Creates the graph structure of the quantum system\n",
    "\n",
    "ising_graph = nx.Graph()\n",
    "ising_graph.add_nodes_from(range(0, qubit_number))\n",
    "ising_graph.add_edges_from([(0, 1), (1, 2), (2, 0)])\n",
    "\n",
    "nx.draw(ising_graph)\n",
    "plt.show() \n",
    "\n",
    "# Creates parameters\n",
    "\n",
    "matrix_params = [[random.randint(10, 100)/10 for i in range(0, qubit_number)] for j in range(0, 2)]\n",
    "print(matrix_params)"
   ]
  },
  {
   "cell_type": "code",
   "execution_count": 99,
   "metadata": {},
   "outputs": [],
   "source": [
    "# Defines the RZZ gate, in terms of gates in the standard basis set\n",
    "\n",
    "def RZZ(param, qubit1, qubit2):\n",
    "    \n",
    "    qml.CNOT(wires=[qubit1, qubit2])\n",
    "    qml.RZ(param, wires=qubit2)\n",
    "    qml.CNOT(wires=[qubit1, qubit2])\n",
    "\n",
    "# Defines a method that creates an even superposition of basis states\n",
    "\n",
    "def even_superposition(qubits):\n",
    "    \n",
    "    for i in qubits:\n",
    "        qml.Hadamard(wires=int(i.val))\n",
    "\n",
    "# Method that prepares the QAOA/time-evolution layer (to be used later)\n",
    "\n",
    "def qaoa_layer(param1, param2, qubits, ising_graph):\n",
    "    \n",
    "    # Applies a layer of coupling gates (based on the graph)\n",
    "    for count, i in enumerate(ising_graph.edges):\n",
    "        RZZ(param1[count], wires=[i[0], i[1]])\n",
    "    \n",
    "    # Applies a layer of RX gates\n",
    "    for i in qubits:\n",
    "        qml.RX(param2[int(i.val)], wires=int(i.val))\n",
    "\n",
    "# Method that prepares a l0w-energy state        \n",
    "        \n",
    "def decoupled_layer(param1, param2, qubits):\n",
    "    \n",
    "    # Applies a layer of RZ and RX gates\n",
    "    for i in qubits:\n",
    "        qml.RZ(param1[int(i.val)], wires=int(i.val))\n",
    "        qml.RX(param2[int(i.val)], wires=int(i.val))\n",
    "\n",
    "# Method that creates the decoupled VQE ansatz\n",
    "\n",
    "def vqe_circuit(parameters, qubits, depth):\n",
    "    \n",
    "    even_superposition(qubits)\n",
    "    for i in range(0, int(depth.val)):\n",
    "        decoupled_layer(parameters[0], parameters[1], qubits)"
   ]
  },
  {
   "cell_type": "code",
   "execution_count": 100,
   "metadata": {},
   "outputs": [
    {
     "name": "stdout",
     "output_type": "stream",
     "text": [
      "[[ 13.9  10.    3.8   0.    4.3   0.    0.    0. ]\n",
      " [ 10.   -8.1   0.    3.8   0.    4.3   0.    0. ]\n",
      " [  3.8   0.    5.1  10.    0.    0.    4.3   0. ]\n",
      " [  0.    3.8  10.  -10.9   0.    0.    0.    4.3]\n",
      " [  4.3   0.    0.    0.  -10.9  10.    3.8   0. ]\n",
      " [  0.    4.3   0.    0.   10.    5.1   0.    3.8]\n",
      " [  0.    0.    4.3   0.    3.8   0.   -8.1  10. ]\n",
      " [  0.    0.    0.    4.3   0.    3.8  10.   13.9]]\n"
     ]
    }
   ],
   "source": [
    "# Creates the Hamiltonian that we are attempting to learn\n",
    "\n",
    "def create_hamiltonian_matrix(n, graph):\n",
    "    \n",
    "    # Defines Pauli matrices\n",
    "\n",
    "    pauli_x = np.array([[0, 1], [1, 0]])\n",
    "    pauli_y = np.array([[0, -1j], [1j, 0]])\n",
    "    pauli_z = np.array([[1, 0], [0, -1]])\n",
    "    identity = np.array([[1, 0], [0, 1]])\n",
    "\n",
    "    matrix = np.zeros((2**n, 2**n))\n",
    "    \n",
    "    # Creates the interaction component of the Hamiltonian\n",
    "\n",
    "    for count, i in enumerate(graph.edges):\n",
    "        m = 1\n",
    "        for j in range(0, n):\n",
    "            if (i[0] == j or i[1] == j):\n",
    "                m = np.kron(m, pauli_z)\n",
    "            else:\n",
    "                m = np.kron(m, identity)\n",
    "        matrix = np.add(matrix, matrix_params[0][count]*m)\n",
    "    \n",
    "    # Creates the \"bias\" component of the matrix\n",
    "    \n",
    "    for i in range(0, n):\n",
    "        m = 1\n",
    "        for j in range(0, n):\n",
    "            if (j == i):\n",
    "                m = np.kron(m, pauli_x)\n",
    "            else:\n",
    "                m = np.kron(m, identity)\n",
    "        matrix = np.add(matrix, matrix_params[1][i]*m)\n",
    "\n",
    "    return matrix\n",
    "\n",
    "print(create_hamiltonian_matrix(qubit_number, ising_graph))"
   ]
  },
  {
   "cell_type": "code",
   "execution_count": 101,
   "metadata": {},
   "outputs": [
    {
     "name": "stdout",
     "output_type": "stream",
     "text": [
      "-21.264624553432757\n"
     ]
    },
    {
     "data": {
      "image/png": "[encoded data removed]",
      "text/plain": [
       "<Figure size 288x288 with 2 Axes>"
      ]
     },
     "metadata": {
      "needs_background": "light"
     },
     "output_type": "display_data"
    }
   ],
   "source": [
    "def create_density_matrix(arr):\n",
    "    \n",
    "    array = np.array(arr)\n",
    "    plt.matshow(array)\n",
    "    plt.colorbar()\n",
    "    plt.show()\n",
    "\n",
    "# Finds the eigenvector corresponding to the lowest energy state\n",
    "    \n",
    "val, vec = np.linalg.eig(create_hamiltonian_matrix(qubit_number, ising_graph))\n",
    "m = []\n",
    "\n",
    "min_ind = list(val).index(min(val))\n",
    "print(val[min_ind])\n",
    "for i in range(0, 2**qubit_number):\n",
    "    m.append(vec[i][min_ind])\n",
    "\n",
    "create_density_matrix(np.real(np.outer(m, np.conj(m))))"
   ]
  },
  {
   "cell_type": "code",
   "execution_count": 102,
   "metadata": {},
   "outputs": [
    {
     "name": "stdout",
     "output_type": "stream",
     "text": [
      "11.48780892442429\n",
      " 0: ──H──RZ(1)──RX(1)──RZ(1)──RX(1)──╭┤ ⟨H0⟩ \n",
      " 1: ──H──RZ(1)──RX(1)──RZ(1)──RX(1)──├┤ ⟨H0⟩ \n",
      " 2: ──H──RZ(1)──RX(1)──RZ(1)──RX(1)──╰┤ ⟨H0⟩ \n",
      "H0 =\n",
      "[[ 13.9  10.    3.8   0.    4.3   0.    0.    0. ]\n",
      " [ 10.   -8.1   0.    3.8   0.    4.3   0.    0. ]\n",
      " [  3.8   0.    5.1  10.    0.    0.    4.3   0. ]\n",
      " [  0.    3.8  10.  -10.9   0.    0.    0.    4.3]\n",
      " [  4.3   0.    0.    0.  -10.9  10.    3.8   0. ]\n",
      " [  0.    4.3   0.    0.   10.    5.1   0.    3.8]\n",
      " [  0.    0.    4.3   0.    3.8   0.   -8.1  10. ]\n",
      " [  0.    0.    0.    4.3   0.    3.8  10.   13.9]]\n",
      "\n"
     ]
    }
   ],
   "source": [
    "# Defines the circuit that we will use to perform VQE on our Hamiltonian\n",
    "\n",
    "def create_circuit(parameters, qubits, depth):\n",
    "    \n",
    "    vqe_circuit(parameters, qubits, depth)\n",
    "    \n",
    "    return qml.expval(qml.Hermitian(create_hamiltonian_matrix(qubit_number, ising_graph), wires=range(qubit_number)))\n",
    "\n",
    "qnode = qml.QNode(create_circuit, dev)\n",
    "\n",
    "resulting_circuit = qnode([[1, 1, 1], [1, 1, 1]], qubits, 2)\n",
    "print(resulting_circuit)\n",
    "print(qnode.draw())"
   ]
  },
  {
   "cell_type": "code",
   "execution_count": 103,
   "metadata": {},
   "outputs": [
    {
     "name": "stdout",
     "output_type": "stream",
     "text": [
      "     fun: -19.220191543128465\n",
      "   maxcv: 0.0\n",
      " message: 'Optimization terminated successfully.'\n",
      "    nfev: 225\n",
      "  status: 1\n",
      " success: True\n",
      "       x: array([-5.06462912,  7.78461933,  4.88259702, -5.55071394, -0.36199177,\n",
      "        0.54512866])\n"
     ]
    }
   ],
   "source": [
    "# Creates the cost function\n",
    "\n",
    "def cost_function(params):\n",
    "    \n",
    "    return qnode([params[0:3], params[3:6]], qubits, 2)\n",
    "\n",
    "# Creates the optimizer for VQE\n",
    "\n",
    "optimizer = qml.GradientDescentOptimizer(stepsize=1.2)\n",
    "optimizer2 = qml.AdamOptimizer(stepsize=0.8)\n",
    "\n",
    "steps = 1000\n",
    "params = [random.randint(-100, 100)/10 for i in range(0, 6)]\n",
    "\n",
    "'''\n",
    "print(cost_function(params))\n",
    "\n",
    "for i in range(0, steps):\n",
    "    \n",
    "    params = optimizer.step(cost_function, params)\n",
    "    print(\"Cost Step \"+str(i)+\": \"+str(num_cost_function(params)))\n",
    "\n",
    "print(params)\n",
    "'''\n",
    "\n",
    "out = minimize(cost_function, x0=params, method=\"COBYLA\", options={'maxiter':steps})\n",
    "g = out['x']\n",
    "print(out)"
   ]
  },
  {
   "cell_type": "code",
   "execution_count": 104,
   "metadata": {},
   "outputs": [
    {
     "name": "stdout",
     "output_type": "stream",
     "text": [
      "[ 0.36699574-0.74486325j -0.231319  +0.46949981j  0.07169523-0.14552208j\n",
      "  0.00071437-0.0014608j   0.00941599-0.019315j   -0.01846309+0.03738631j\n",
      " -0.03883831+0.07880895j -0.00783026+0.01593282j]\n"
     ]
    },
    {
     "data": {
      "image/png": "[encoded data removed]",
      "text/plain": [
       "<Figure size 288x288 with 2 Axes>"
      ]
     },
     "metadata": {
      "needs_background": "light"
     },
     "output_type": "display_data"
    }
   ],
   "source": [
    "# Runs the circuit for the case of the optimal parameters\n",
    "\n",
    "qnode([g[0:3], g[3:6]], qubits, 2)\n",
    "vqe_state = dev._state\n",
    "print(vqe_state)\n",
    "create_density_matrix(np.real(np.outer(vqe_state, np.conj(vqe_state))))"
   ]
  },
  {
   "cell_type": "code",
   "execution_count": null,
   "metadata": {},
   "outputs": [],
   "source": []
  }
 ],
 "metadata": {
  "kernelspec": {
   "display_name": "Python 3",
   "language": "python",
   "name": "python3"
  },
  "language_info": {
   "codemirror_mode": {
    "name": "ipython",
    "version": 3
   },
   "file_extension": ".py",
   "mimetype": "text/x-python",
   "name": "python",
   "nbconvert_exporter": "python",
   "pygments_lexer": "ipython3",
   "version": "3.7.5"
  }
 },
 "nbformat": 4,
 "nbformat_minor": 4
}
