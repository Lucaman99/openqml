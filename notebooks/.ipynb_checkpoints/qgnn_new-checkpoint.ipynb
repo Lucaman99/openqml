{
 "cells": [
  {
   "cell_type": "markdown",
   "metadata": {},
   "source": [
    "## VQE and Quantum Graph Neural Networks"
   ]
  },
  {
   "cell_type": "code",
   "execution_count": 3,
   "metadata": {},
   "outputs": [],
   "source": [
    "import numpy\n",
    "import math\n",
    "import random\n",
    "import numpy as np\n",
    "import scipy\n",
    "from matplotlib import pyplot as plt\n",
    "from tqdm import tqdm\n",
    "from scipy.optimize import minimize\n",
    "import networkx as nx\n",
    "import cirq"
   ]
  },
  {
   "cell_type": "markdown",
   "metadata": {},
   "source": [
    "In order to begin thinking about the quantum graph neural network, we must prepare some training data. We perform VQE in order to find the ground state of a given Ising model Hamiltonian:"
   ]
  },
  {
   "cell_type": "code",
   "execution_count": 21,
   "metadata": {},
   "outputs": [
    {
     "data": {
      "image/png": "[encoded data removed]",
      "text/plain": [
       "<Figure size 432x288 with 1 Axes>"
      ]
     },
     "metadata": {},
     "output_type": "display_data"
    },
    {
     "name": "stdout",
     "output_type": "stream",
     "text": [
      "[[3.7, 7.2, 9.0], [9.6, 8.9, 1.1]]\n"
     ]
    }
   ],
   "source": [
    "# Initialize the necessary qubits\n",
    "\n",
    "qubit_number = 3\n",
    "data_register = [cirq.GridQubit(0, i) for i in range(0, qubit_number)]\n",
    "network_register = [cirq.GridQubit(1, i) for i in range(0, qubit_number)]\n",
    "\n",
    "# Creates the graph structure of the quantum system\n",
    "\n",
    "ising_graph = nx.Graph()\n",
    "ising_graph.add_nodes_from(range(0, qubit_number))\n",
    "ising_graph.add_edges_from([(0, 1), (1, 2), (2, 0)])\n",
    "\n",
    "nx.draw(ising_graph)\n",
    "plt.show() \n",
    "\n",
    "# Creates parameters\n",
    "\n",
    "matrix_params = [[random.randint(10, 100)/10 for i in range(0, qubit_number)] for j in range(0, 2)]\n",
    "print(matrix_params)"
   ]
  },
  {
   "cell_type": "code",
   "execution_count": 22,
   "metadata": {},
   "outputs": [
    {
     "name": "stdout",
     "output_type": "stream",
     "text": [
      "(0, 0): ───Z───X───Z───X───\n",
      "\n",
      "(0, 1): ───Z───X───Z───X───\n",
      "\n",
      "(0, 2): ───Z───X───Z───X───\n"
     ]
    }
   ],
   "source": [
    "# Defines the rz gate:\n",
    "\n",
    "def rz(control, target, param):\n",
    "    yield cirq.CX.on(control, target)\n",
    "    yield cirq.rz(param).on(target)\n",
    "    yield cirq.CX.on(control, target)\n",
    "\n",
    "# Method that initializes qubits in even superposition\n",
    "\n",
    "def even_superposition(qubits):\n",
    "    \n",
    "    for i in qubits:\n",
    "        yield cirq.H.on(i)\n",
    "\n",
    "# Method that prepares the QAOA ansatz layers\n",
    "\n",
    "def qaoa_layer(param1, param2, qubits, ising_graph):\n",
    "    \n",
    "    # Applies another layer of coupling gates\n",
    "    for count, i in enumerate(ising_graph.edges):\n",
    "        yield rz(qubits[i[0]], qubits[i[1]], 2*param1[count])\n",
    "    \n",
    "    # Applies the final layer of RX gates on the qubits\n",
    "    \n",
    "    for i in range(0, len(qubits)):\n",
    "        yield cirq.rx(2*param2[i]).on(qubits[i])\n",
    "    \n",
    "# Method that prepares the decoupled layers\n",
    "\n",
    "def decoupled_layer(param1, param2, qubits):\n",
    "    \n",
    "    for i in range(0, len(qubits)):\n",
    "        yield cirq.ZPowGate(exponent=param1[i]).on(qubits[i])\n",
    "        yield cirq.XPowGate(exponent=param1[i]).on(qubits[i])\n",
    "\n",
    "# Method that prepares the VQE circuit that will be used to \n",
    "\n",
    "def vqe_circuit(parameters, qubits, ising_graph):\n",
    "    \n",
    "    yield decoupled_layer(parameters[0], parameters[1], qubits) \n",
    "    yield decoupled_layer(parameters[2], parameters[3], qubits)\n",
    "\n",
    "test_circuit = cirq.Circuit()\n",
    "test_circuit.append(vqe_circuit([[1, 1, 1], [1, 1, 1], [1, 1, 1], [1, 1, 1]], data_register, ising_graph))\n",
    "print(test_circuit)"
   ]
  },
  {
   "cell_type": "code",
   "execution_count": 23,
   "metadata": {},
   "outputs": [
    {
     "name": "stdout",
     "output_type": "stream",
     "text": [
      "[[ 19.9   1.1   8.9   0.    9.6   0.    0.    0. ]\n",
      " [  1.1 -12.5   0.    8.9   0.    9.6   0.    0. ]\n",
      " [  8.9   0.   -5.5   1.1   0.    0.    9.6   0. ]\n",
      " [  0.    8.9   1.1  -1.9   0.    0.    0.    9.6]\n",
      " [  9.6   0.    0.    0.   -1.9   1.1   8.9   0. ]\n",
      " [  0.    9.6   0.    0.    1.1  -5.5   0.    8.9]\n",
      " [  0.    0.    9.6   0.    8.9   0.  -12.5   1.1]\n",
      " [  0.    0.    0.    9.6   0.    8.9   1.1  19.9]]\n"
     ]
    }
   ],
   "source": [
    "# Creates the Hamiltonian that we are attempting to learn\n",
    "\n",
    "def create_hamiltonian_matrix(n, graph):\n",
    "    \n",
    "    # Defines Pauli matrices\n",
    "\n",
    "    pauli_x = np.array([[0, 1], [1, 0]])\n",
    "    pauli_y = np.array([[0, -1j], [1j, 0]])\n",
    "    pauli_z = np.array([[1, 0], [0, -1]])\n",
    "    identity = np.array([[1, 0], [0, 1]])\n",
    "\n",
    "    matrix = np.zeros((2**n, 2**n))\n",
    "    \n",
    "    # Creates the interaction component of the Hamiltonian\n",
    "\n",
    "    for count, i in enumerate(graph.edges):\n",
    "        m = 1\n",
    "        for j in range(0, n):\n",
    "            if (i[0] == j or i[1] == j):\n",
    "                m = np.kron(m, pauli_z)\n",
    "            else:\n",
    "                m = np.kron(m, identity)\n",
    "        matrix = np.add(matrix, matrix_params[0][count]*m)\n",
    "    \n",
    "    # Creates the \"bias\" component of the matrix\n",
    "    \n",
    "    for i in range(0, n):\n",
    "        m = 1\n",
    "        for j in range(0, n):\n",
    "            if (j == i):\n",
    "                m = np.kron(m, pauli_x)\n",
    "            else:\n",
    "                m = np.kron(m, identity)\n",
    "        matrix = np.add(matrix, matrix_params[1][i]*m)\n",
    "\n",
    "    return matrix\n",
    "\n",
    "print(create_hamiltonian_matrix(qubit_number, ising_graph))"
   ]
  },
  {
   "cell_type": "code",
   "execution_count": 24,
   "metadata": {},
   "outputs": [
    {
     "name": "stdout",
     "output_type": "stream",
     "text": [
      "-24.24394126039646\n"
     ]
    },
    {
     "data": {
      "image/png": "[encoded data removed]",
      "text/plain": [
       "<Figure size 288x288 with 2 Axes>"
      ]
     },
     "metadata": {
      "needs_background": "light"
     },
     "output_type": "display_data"
    }
   ],
   "source": [
    "def create_density_matrix(arr):\n",
    "    \n",
    "    array = np.array(arr)\n",
    "    plt.matshow(array)\n",
    "    plt.colorbar()\n",
    "    plt.show()\n",
    "\n",
    "# Finds the eigenvector corresponding to the lowest energy state\n",
    "    \n",
    "val, vec = np.linalg.eig(create_hamiltonian_matrix(qubit_number, ising_graph))\n",
    "m = []\n",
    "\n",
    "min_ind = list(val).index(min(val))\n",
    "print(val[min_ind])\n",
    "for i in range(0, 2**qubit_number):\n",
    "    m.append(vec[i][min_ind])\n",
    "\n",
    "'''\n",
    "def apply(n):\n",
    "    return float(n*np.conj(n))\n",
    "\n",
    "func_vec = np.vectorize(apply)\n",
    "new = func_vec(np.outer(m, m))\n",
    "'''\n",
    "\n",
    "create_density_matrix(np.real(np.outer(m, np.conj(m))))"
   ]
  },
  {
   "cell_type": "code",
   "execution_count": 26,
   "metadata": {},
   "outputs": [
    {
     "name": "stdout",
     "output_type": "stream",
     "text": [
      "Cost at Step 0= 7.013912234494967\n",
      "Cost at Step 50= -22.081927109295286\n",
      "Cost at Step 100= -22.43049245303175\n",
      "Cost at Step 150= -22.434545478624734\n",
      "Cost at Step 200= -22.436487784696332\n",
      "Cost at Step 250= -22.438125959504973\n",
      "Cost at Step 300= -22.43973168072288\n",
      "Cost at Step 350= -22.440243926873343\n",
      "Cost at Step 400= -22.44023185995141\n",
      "Cost at Step 450= -22.440241969657897\n",
      "Cost at Step 500= -22.44024840707309\n",
      "     fun: -22.44024840707309\n",
      "   maxcv: 0.0\n",
      " message: 'Optimization terminated successfully.'\n",
      "    nfev: 504\n",
      "  status: 1\n",
      " success: True\n",
      "       x: array([ 2.06761098,  0.71031451,  2.93768473,  1.14064772,  0.8862896 ,\n",
      "        1.47239264,  2.78201902, -0.1153096 ,  1.48542958,  2.0314233 ,\n",
      "        1.97168219,  0.34467008])\n"
     ]
    },
    {
     "data": {
      "image/png": "[encoded data removed]",
      "text/plain": [
       "<Figure size 288x288 with 2 Axes>"
      ]
     },
     "metadata": {
      "needs_background": "light"
     },
     "output_type": "display_data"
    }
   ],
   "source": [
    "# Creates the VQE method that we will optimize\n",
    "\n",
    "def create_circuit(parameters, qubits):\n",
    "    \n",
    "    # Prepares the circuit\n",
    "    \n",
    "    circuit = cirq.Circuit()\n",
    "    circuit.append(even_superposition(qubits))\n",
    "    circuit.append(vqe_circuit(parameters, qubits, ising_graph))\n",
    "    \n",
    "    # Creates the simulation\n",
    "    \n",
    "    simulator = cirq.Simulator()\n",
    "    results = simulator.simulate(circuit)\n",
    "    state_vector = results.final_state\n",
    "    \n",
    "    return state_vector\n",
    "\n",
    "# Creates the cost function\n",
    "\n",
    "iterations = 0\n",
    "\n",
    "def cost_function(parameters, qubits):\n",
    "    \n",
    "    global iterations\n",
    "    \n",
    "    hamiltonian = create_hamiltonian_matrix(qubit_number, ising_graph)\n",
    "    vector = create_circuit(parameters, qubits)\n",
    "    \n",
    "    first = np.matmul(hamiltonian, vector)\n",
    "    cost = np.inner(np.conj(vector), first)\n",
    "    \n",
    "    if (iterations%50 == 0):\n",
    "        print(\"Cost at Step \"+str(iterations)+\"= \"+str(np.real(cost)))\n",
    "    \n",
    "    iterations += 1\n",
    "    \n",
    "    return np.real(cost)\n",
    "\n",
    "# Creates the optimizer for our variational circuit\n",
    "\n",
    "qubit_register = network_register\n",
    "\n",
    "def optimizer_cost(params):\n",
    "    \n",
    "    parameters = [\n",
    "        params[0:3], \n",
    "        params[3:6],\n",
    "        params[6:9],\n",
    "        params[9:12]\n",
    "    ]\n",
    "    \n",
    "    return cost_function(parameters, qubit_register)\n",
    "\n",
    "# Creates the optimizer\n",
    "\n",
    "init = [random.randint(0, 20)/10 for i in range(0, 12)]\n",
    "out = minimize(optimizer_cost, x0=init, method=\"COBYLA\", options={'maxiter':1000, 'tol':1e-10})\n",
    "g = out['x']\n",
    "print(out)\n",
    "\n",
    "# Prepares the optimal state and visualizes it\n",
    "\n",
    "optimal_params = [\n",
    "        g[0:3], \n",
    "        g[3:6],\n",
    "        g[6:9],\n",
    "        g[9:12]\n",
    "    ]\n",
    "\n",
    "optimal = create_circuit(optimal_params, qubit_register)\n",
    "result = np.real(np.outer(optimal, np.conj(optimal)))\n",
    "create_density_matrix(result)\n",
    "\n",
    "v = [ 3.21629331,  0.54890376,  2.02976445,  0.7818173 ,  1.3213677 ,\n",
    "        1.48080682,  1.67054856,  1.44101918,  1.20196752,  0.56441884,\n",
    "       -0.31570509,  0.15785939,  1.69543663,  0.72541886,  0.02910459,\n",
    "       -0.52821689]"
   ]
  },
  {
   "cell_type": "code",
   "execution_count": 27,
   "metadata": {},
   "outputs": [
    {
     "data": {
      "image/png": "[encoded data removed]",
      "text/plain": [
       "<Figure size 288x288 with 2 Axes>"
      ]
     },
     "metadata": {
      "needs_background": "light"
     },
     "output_type": "display_data"
    }
   ],
   "source": [
    "hbar = 1\n",
    "\n",
    "# Attempts to evolve the prepared ground state forward in time, with the time evolution circuit\n",
    "\n",
    "def le_state_evolve(depth, time, qubits, ising_graph, params):\n",
    "    \n",
    "    yield even_superposition(qubits)\n",
    "    yield vqe_circuit(params, qubits, ising_graph)\n",
    "    for i in range(0, depth):\n",
    "        yield qaoa_layer([i*time/depth for i in matrix_params[0]], [i*time/depth for i in matrix_params[1]], qubits, ising_graph)\n",
    "\n",
    "# Creates the circuit\n",
    "\n",
    "def create_time_circuit(depth, time, qubits, ising_graph, params):\n",
    "    \n",
    "    circuit = cirq.Circuit()\n",
    "    circuit.append(le_state_evolve(depth, time, qubits, ising_graph, params))\n",
    "    \n",
    "    simulator = cirq.Simulator()\n",
    "    results = simulator.simulate(circuit)\n",
    "    state_vector = results.final_state\n",
    "    \n",
    "    return state_vector\n",
    "\n",
    "vector = create_time_circuit(800, 10, data_register, ising_graph, optimal_params)\n",
    "create_density_matrix(np.real(np.outer(vector, np.conj(vector))))"
   ]
  },
  {
   "cell_type": "code",
   "execution_count": 28,
   "metadata": {},
   "outputs": [
    {
     "data": {
      "image/png": "[encoded data removed]",
      "text/plain": [
       "<Figure size 288x288 with 2 Axes>"
      ]
     },
     "metadata": {
      "needs_background": "light"
     },
     "output_type": "display_data"
    },
    {
     "name": "stdout",
     "output_type": "stream",
     "text": [
      "Fidelity: (0.9964847267234284+0j)\n"
     ]
    }
   ],
   "source": [
    "# Creates the numrical simulation, to test our time-evolution circuit\n",
    "\n",
    "def time_evolution_test(time, vec):\n",
    "    \n",
    "    new_matrix = scipy.linalg.expm(complex(0,-1)*create_hamiltonian_matrix(qubit_number, ising_graph)*time / hbar)\n",
    "    return np.matmul(new_matrix, vec)\n",
    "\n",
    "vec = time_evolution_test(10, optimal)\n",
    "create_density_matrix(np.real(np.outer(vec, np.conj(vec))))\n",
    "\n",
    "print(\"Fidelity: \"+str(np.inner(np.conj(vec), vector)*np.inner(np.conj(vector), vec)))"
   ]
  },
  {
   "cell_type": "code",
   "execution_count": 29,
   "metadata": {},
   "outputs": [],
   "source": [
    "# Creates the initial \"guess\" graph of interactions, and assigns parameters to each of the edges\n",
    "\n",
    "initial_graph = nx.complete_graph(qubit_number)\n",
    "\n",
    "# Creates the SWAP test between two registers of qubits\n",
    "\n",
    "def swap_test(control, index1, index2):\n",
    "    \n",
    "    yield cirq.H.on(control)\n",
    "    for i in range(0, len(index1)):\n",
    "        yield cirq.CSWAP(control, index1[i], index2[i])\n",
    "    yield cirq.H.on(control)\n",
    "\n",
    "# Creates the QGRNN ansatz\n",
    "\n",
    "def qgrnn_ansatz(initial_graph, parameters, opt_params, depth, qubits, time):\n",
    "    \n",
    "    yield even_superposition(qubits)\n",
    "    yield vqe_circuit(opt_params, qubits, ising_graph)\n",
    "    for i in range(0, depth):\n",
    "        yield qaoa_layer([i*time/depth for i in parameters[0]], [i*time/depth for i in parameters[1]], qubits, initial_graph)\n",
    "\n",
    "def find_infidelity_time(depth, time, index1, index2, control, params, opt_params, ising_graph, initial_graph):\n",
    "    \n",
    "    circuit = cirq.Circuit()\n",
    "    circuit.append(le_state_evolve(depth, time, index1, ising_graph, opt_params))\n",
    "    circuit.append(qgrnn_ansatz(initial_graph, params, opt_params, depth, index2, time))\n",
    "    circuit.append(swap_test(control, index1, index2))\n",
    "    circuit.append(cirq.measure(control, key=\"q\"))\n",
    "    \n",
    "    simulator = cirq.Simulator()\n",
    "    results = simulator.run(circuit, repetitions=100)\n",
    "    \n",
    "    new_res = list(str(results)[2:])\n",
    "    return sum([int(i) for i in new_res])\n",
    "\n",
    "control = cirq.GridQubit(2, 0)"
   ]
  },
  {
   "cell_type": "code",
   "execution_count": 38,
   "metadata": {},
   "outputs": [
    {
     "name": "stdout",
     "output_type": "stream",
     "text": [
      "[(0, 1), (0, 2), (1, 2)]\n",
      "[(0, 1), (0, 2), (1, 2)]\n"
     ]
    }
   ],
   "source": [
    "# Now, we define the cost function that is used in the optimization method\n",
    "\n",
    "time_range = range(0, 10)\n",
    "iterations = 0\n",
    "\n",
    "def cost_function(params):\n",
    "    \n",
    "    global iterations\n",
    "    \n",
    "    params = [params[0:3], params[3:6]]\n",
    "    \n",
    "    total_cost = 0\n",
    "    for i in time_range:\n",
    "        res = find_infidelity_time(50, i, data_register, network_register, control, params, optimal_params, ising_graph, initial_graph)\n",
    "        total_cost += res\n",
    "        \n",
    "    print(\"Cost at Step \"+str(iterations)+\": \"+str(total_cost / len(time_range)))\n",
    "    \n",
    "    iterations += 1\n",
    "    return total_cost / len(time_range)\n",
    "\n",
    "print(ising_graph.edges)\n",
    "print(initial_graph.edges)"
   ]
  },
  {
   "cell_type": "code",
   "execution_count": 39,
   "metadata": {},
   "outputs": [
    {
     "name": "stdout",
     "output_type": "stream",
     "text": [
      "Cost at Step 0: 31.9\n",
      "Cost at Step 1: 35.3\n",
      "Cost at Step 2: 34.4\n",
      "Cost at Step 3: 28.7\n",
      "Cost at Step 4: 27.1\n",
      "Cost at Step 5: 32.6\n",
      "Cost at Step 6: 36.3\n",
      "Cost at Step 7: 28.5\n",
      "Cost at Step 8: 29.8\n",
      "Cost at Step 9: 31.4\n",
      "Cost at Step 10: 28.7\n",
      "Cost at Step 11: 29.9\n",
      "Cost at Step 12: 25.8\n",
      "Cost at Step 13: 25.8\n",
      "Cost at Step 14: 26.8\n",
      "Cost at Step 15: 25.4\n",
      "Cost at Step 16: 26.8\n",
      "Cost at Step 17: 28.0\n",
      "Cost at Step 18: 25.5\n",
      "Cost at Step 19: 28.7\n",
      "Cost at Step 20: 26.0\n",
      "Cost at Step 21: 26.9\n",
      "Cost at Step 22: 26.2\n",
      "Cost at Step 23: 28.4\n",
      "Cost at Step 24: 26.1\n",
      "Cost at Step 25: 30.6\n",
      "Cost at Step 26: 26.7\n",
      "Cost at Step 27: 28.6\n",
      "Cost at Step 28: 25.8\n",
      "Cost at Step 29: 28.4\n",
      "Cost at Step 30: 27.8\n",
      "Cost at Step 31: 27.5\n",
      "Cost at Step 32: 27.2\n",
      "Cost at Step 33: 26.0\n",
      "Cost at Step 34: 29.1\n",
      "Cost at Step 35: 26.6\n",
      "Cost at Step 36: 28.5\n",
      "Cost at Step 37: 26.6\n",
      "Cost at Step 38: 31.1\n",
      "Cost at Step 39: 27.3\n",
      "Cost at Step 40: 26.8\n",
      "Cost at Step 41: 25.8\n",
      "Cost at Step 42: 26.5\n",
      "Cost at Step 43: 26.4\n",
      "Cost at Step 44: 28.9\n",
      "Cost at Step 45: 27.6\n",
      "Cost at Step 46: 27.7\n",
      "Cost at Step 47: 29.6\n",
      "Cost at Step 48: 26.8\n",
      "Cost at Step 49: 25.2\n",
      "Cost at Step 50: 29.7\n",
      "Cost at Step 51: 25.1\n",
      "Cost at Step 52: 26.9\n",
      "Cost at Step 53: 29.1\n",
      "Cost at Step 54: 29.4\n",
      "Cost at Step 55: 28.4\n",
      "Cost at Step 56: 26.7\n",
      "Cost at Step 57: 28.1\n",
      "Cost at Step 58: 26.1\n",
      "Cost at Step 59: 26.8\n",
      "Cost at Step 60: 26.0\n",
      "     fun: 26.0\n",
      "   maxcv: 0.0\n",
      " message: 'Optimization terminated successfully.'\n",
      "    nfev: 61\n",
      "  status: 1\n",
      " success: True\n",
      "       x: array([6.11032043, 5.27712502, 7.46679487, 6.85894818, 9.77531843,\n",
      "       9.74478273])\n"
     ]
    }
   ],
   "source": [
    "init = [random.randint(10, 100)/10 for i in range(0, 6)]\n",
    "out = minimize(cost_function, x0=init, method=\"COBYLA\", options={'maxiter':500})\n",
    "g = out['x']\n",
    "print(out)"
   ]
  },
  {
   "cell_type": "code",
   "execution_count": null,
   "metadata": {},
   "outputs": [],
   "source": []
  }
 ],
 "metadata": {
  "kernelspec": {
   "display_name": "Python 3",
   "language": "python",
   "name": "python3"
  },
  "language_info": {
   "codemirror_mode": {
    "name": "ipython",
    "version": 3
   },
   "file_extension": ".py",
   "mimetype": "text/x-python",
   "name": "python",
   "nbconvert_exporter": "python",
   "pygments_lexer": "ipython3",
   "version": "3.7.5"
  }
 },
 "nbformat": 4,
 "nbformat_minor": 4
}
