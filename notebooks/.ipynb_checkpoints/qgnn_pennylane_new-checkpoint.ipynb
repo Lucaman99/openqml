{
 "cells": [
  {
   "cell_type": "markdown",
   "metadata": {},
   "source": [
    "## Sampling Implementation of QGRNN in Pennylane"
   ]
  },
  {
   "cell_type": "code",
   "execution_count": 194,
   "metadata": {},
   "outputs": [],
   "source": [
    "import numpy\n",
    "import math\n",
    "import random\n",
    "import numpy as np\n",
    "import scipy\n",
    "from matplotlib import pyplot as plt\n",
    "from tqdm import tqdm\n",
    "from scipy.optimize import minimize\n",
    "import networkx as nx\n",
    "import pennylane as qml"
   ]
  },
  {
   "cell_type": "code",
   "execution_count": 195,
   "metadata": {},
   "outputs": [
    {
     "data": {
      "image/png": "[encoded data removed]",
      "text/plain": [
       "<Figure size 432x288 with 1 Axes>"
      ]
     },
     "metadata": {},
     "output_type": "display_data"
    },
    {
     "name": "stdout",
     "output_type": "stream",
     "text": [
      "[[2.3, 3.5, 2.5], [4.0, 4.1, 1.9]]\n"
     ]
    }
   ],
   "source": [
    "# Initialize the device on which the simulation is run\n",
    "\n",
    "qubit_number = 3\n",
    "qubits = range(0, 3)\n",
    "vqe_dev = qml.device(\"default.qubit\", wires=qubit_number)\n",
    "\n",
    "# Creates the graph structure of the quantum system\n",
    "\n",
    "ising_graph = nx.Graph()\n",
    "ising_graph.add_nodes_from(range(0, qubit_number))\n",
    "ising_graph.add_edges_from([(0, 1), (1, 2), (2, 0)])\n",
    "\n",
    "nx.draw(ising_graph)\n",
    "plt.show() \n",
    "\n",
    "# Creates parameters\n",
    "\n",
    "matrix_params = [[random.randint(10, 50)/10 for i in range(0, 3)] for j in range(0, 2)]\n",
    "print(matrix_params)"
   ]
  },
  {
   "cell_type": "code",
   "execution_count": 196,
   "metadata": {},
   "outputs": [],
   "source": [
    "# Defines the RZZ gate, in terms of gates in the standard basis set\n",
    "\n",
    "def RZZ(param, qubit1, qubit2):\n",
    "    \n",
    "    qml.CNOT(wires=[qubit1, qubit2])\n",
    "    qml.RZ(param, wires=qubit2)\n",
    "    qml.CNOT(wires=[qubit1, qubit2])\n",
    "\n",
    "# Defines a method that creates an even superposition of basis states\n",
    "\n",
    "def even_superposition(qubits):\n",
    "    \n",
    "    for i in qubits:\n",
    "        qml.Hadamard(wires=int(i.val))\n",
    "\n",
    "# Method that prepares the QAOA/time-evolution layer (to be used later)\n",
    "\n",
    "def qaoa_layer(param1, param2, qubits, ising_graph):\n",
    "    \n",
    "    # Applies a layer of coupling gates (based on the graph)\n",
    "    for count, i in enumerate(ising_graph):\n",
    "        RZZ(param1[count], int(i[0]), int(i[1]))\n",
    "    \n",
    "    # Applies a layer of RX gates\n",
    "    for count, i in enumerate(qubits):\n",
    "        qml.RX(param2[count], wires=int(i.val))\n",
    "\n",
    "# Method that prepares a l0w-energy state        \n",
    "        \n",
    "def decoupled_layer(param1, param2, qubits):\n",
    "    \n",
    "    # Applies a layer of RZ and RX gates\n",
    "    for count, i in enumerate(qubits):\n",
    "        qml.RZ(param1[count], wires=int(i.val))\n",
    "        qml.RX(param2[count], wires=int(i.val))\n",
    "\n",
    "# Method that creates the decoupled VQE ansatz\n",
    "\n",
    "def vqe_circuit(parameters, qubits, depth):\n",
    "    even_superposition(qubits)\n",
    "    for i in range(0, int(depth.val)):\n",
    "        decoupled_layer(parameters[0], parameters[1], qubits)"
   ]
  },
  {
   "cell_type": "code",
   "execution_count": 198,
   "metadata": {},
   "outputs": [
    {
     "name": "stdout",
     "output_type": "stream",
     "text": [
      "[[ 8.3  1.9  4.1  0.   4.   0.   0.   0. ]\n",
      " [ 1.9 -3.7  0.   4.1  0.   4.   0.   0. ]\n",
      " [ 4.1  0.  -1.3  1.9  0.   0.   4.   0. ]\n",
      " [ 0.   4.1  1.9 -3.3  0.   0.   0.   4. ]\n",
      " [ 4.   0.   0.   0.  -3.3  1.9  4.1  0. ]\n",
      " [ 0.   4.   0.   0.   1.9 -1.3  0.   4.1]\n",
      " [ 0.   0.   4.   0.   4.1  0.  -3.7  1.9]\n",
      " [ 0.   0.   0.   4.   0.   4.1  1.9  8.3]]\n"
     ]
    }
   ],
   "source": [
    "# Creates the Hamiltonian that we are attempting to learn\n",
    "\n",
    "def create_hamiltonian_matrix(n, graph):\n",
    "    \n",
    "    # Defines Pauli matrices\n",
    "\n",
    "    pauli_x = np.array([[0, 1], [1, 0]])\n",
    "    pauli_y = np.array([[0, -1j], [1j, 0]])\n",
    "    pauli_z = np.array([[1, 0], [0, -1]])\n",
    "    identity = np.array([[1, 0], [0, 1]])\n",
    "\n",
    "    matrix = np.zeros((2**n, 2**n))\n",
    "    \n",
    "    # Creates the interaction component of the Hamiltonian\n",
    "\n",
    "    for count, i in enumerate(graph):\n",
    "        m = 1\n",
    "        for j in range(0, n):\n",
    "            if (i[0] == j or i[1] == j):\n",
    "                m = np.kron(m, pauli_z)\n",
    "            else:\n",
    "                m = np.kron(m, identity)\n",
    "        matrix = np.add(matrix, matrix_params[0][count]*m)\n",
    "    \n",
    "    # Creates the \"bias\" component of the matrix\n",
    "    \n",
    "    for i in range(0, n):\n",
    "        m = 1\n",
    "        for j in range(0, n):\n",
    "            if (j == i):\n",
    "                m = np.kron(m, pauli_x)\n",
    "            else:\n",
    "                m = np.kron(m, identity)\n",
    "        matrix = np.add(matrix, matrix_params[1][i]*m)\n",
    "\n",
    "    return matrix\n",
    "\n",
    "print(create_hamiltonian_matrix(qubit_number, ising_graph.edges))"
   ]
  },
  {
   "cell_type": "code",
   "execution_count": 199,
   "metadata": {},
   "outputs": [
    {
     "name": "stdout",
     "output_type": "stream",
     "text": [
      "-11.297100485788349\n"
     ]
    }
   ],
   "source": [
    "# Finds the eigenvector corresponding to the lowest energy state\n",
    "    \n",
    "val, vec = np.linalg.eig(create_hamiltonian_matrix(qubit_number, ising_graph.edges))\n",
    "m = []\n",
    "\n",
    "min_ind = list(val).index(min(val))\n",
    "print(val[min_ind])"
   ]
  },
  {
   "cell_type": "code",
   "execution_count": 200,
   "metadata": {},
   "outputs": [
    {
     "name": "stdout",
     "output_type": "stream",
     "text": [
      "6.932861958119733\n",
      " 0: ──H──RZ(1)──RX(1)──RZ(1)──RX(1)──╭┤ ⟨H0⟩ \n",
      " 1: ──H──RZ(1)──RX(1)──RZ(1)──RX(1)──├┤ ⟨H0⟩ \n",
      " 2: ──H──RZ(1)──RX(1)──RZ(1)──RX(1)──╰┤ ⟨H0⟩ \n",
      "H0 =\n",
      "[[ 8.3  1.9  4.1  0.   4.   0.   0.   0. ]\n",
      " [ 1.9 -3.7  0.   4.1  0.   4.   0.   0. ]\n",
      " [ 4.1  0.  -1.3  1.9  0.   0.   4.   0. ]\n",
      " [ 0.   4.1  1.9 -3.3  0.   0.   0.   4. ]\n",
      " [ 4.   0.   0.   0.  -3.3  1.9  4.1  0. ]\n",
      " [ 0.   4.   0.   0.   1.9 -1.3  0.   4.1]\n",
      " [ 0.   0.   4.   0.   4.1  0.  -3.7  1.9]\n",
      " [ 0.   0.   0.   4.   0.   4.1  1.9  8.3]]\n",
      "\n"
     ]
    }
   ],
   "source": [
    "# Defines the circuit that we will use to perform VQE on our Hamiltonian\n",
    "\n",
    "def create_circuit(params1, params2, qubits, depth):\n",
    "    vqe_circuit([params1, params2], qubits, depth)\n",
    "    return qml.expval(qml.Hermitian(create_hamiltonian_matrix(qubit_number, ising_graph.edges), wires=range(qubit_number)))\n",
    "\n",
    "qnode = qml.QNode(create_circuit, vqe_dev)\n",
    "\n",
    "resulting_circuit = qnode([1, 1, 1], [1, 1, 1], qubits, 2)\n",
    "print(resulting_circuit)\n",
    "print(qnode.draw())"
   ]
  },
  {
   "cell_type": "code",
   "execution_count": 201,
   "metadata": {},
   "outputs": [
    {
     "name": "stdout",
     "output_type": "stream",
     "text": [
      "Cost Step 0: -4.1232667621104095\n",
      "Cost Step 50: -9.829841554171505\n",
      "Cost Step 100: -10.189794155316136\n",
      "Cost Step 150: -10.197591238224172\n",
      "Cost Step 200: -10.1976881922268\n",
      "Cost Step 250: -10.197688709546059\n",
      "[4.823855327338959, -1.554194323104123, -4.98151150550981, 0.45125875886574895, -6.102218457719016, 6.943240248676629]\n"
     ]
    }
   ],
   "source": [
    "def cost_function(params):\n",
    "\n",
    "    return qnode(params[0:3], params[3:6], qubits, 2)\n",
    "\n",
    "# Creates the optimizer for VQE\n",
    "\n",
    "optimizer = qml.GradientDescentOptimizer(stepsize=1.2)\n",
    "optimizer2 = qml.AdamOptimizer(stepsize=0.8)\n",
    "\n",
    "steps = 300\n",
    "vqe_params = list([random.randint(-100, 100)/10 for i in range(0, 6)])\n",
    "\n",
    "for i in range(0, steps):\n",
    "    vqe_params = optimizer2.step(cost_function, vqe_params)\n",
    "    if (i%50 == 0):\n",
    "        print(\"Cost Step \"+str(i)+\": \"+str(cost_function(vqe_params)))\n",
    "\n",
    "print(vqe_params)"
   ]
  },
  {
   "cell_type": "code",
   "execution_count": null,
   "metadata": {},
   "outputs": [
    {
     "name": "stdout",
     "output_type": "stream",
     "text": [
      "Fidelity 0: 0.12938551908314366\n"
     ]
    }
   ],
   "source": [
    "initial_graph = nx.Graph()\n",
    "initial_graph.add_nodes_from(range(qubit_number, 2*qubit_number))\n",
    "initial_graph.add_edges_from([(3, 4), (5, 3), (4, 5)])\n",
    "\n",
    "# Creates the Trotterized time-evolution circuit\n",
    "\n",
    "def state_evolve(qubits, params, vqe_depth, time, depth, edges, par1, par2):\n",
    "    \n",
    "    #vqe_circuit(params, qubits, vqe_depth)\n",
    "    \n",
    "    for j in range(0, int(depth.val)):\n",
    "        qaoa_layer([i*time.val/depth.val for i in par1], [i*time.val/depth.val for i in par2], qubits, edges)\n",
    "\n",
    "# Finds the fidelity between two states\n",
    "\n",
    "def fidelity(state1, state2):\n",
    "    \n",
    "    return np.dot(np.conj(state1), state2) * np.dot(np.conj(state2), state1)\n",
    "\n",
    "# Implements the SWAP test between two qubit registers\n",
    "\n",
    "def swap_test(control, register1, register2):\n",
    "    \n",
    "    qml.Hadamard(wires=control)\n",
    "    for i in range(0, len(register1)):\n",
    "        qml.CSWAP(wires=[int(control), int(register1[i].val), int(register2[i].val)])\n",
    "    qml.Hadamard(wires=control)\n",
    "\n",
    "# Creates the device on which the program will be run\n",
    "\n",
    "qgrnn_dev = qml.device(\"default.qubit\", wires=2*qubit_number+1)\n",
    "\n",
    "# Creates the ansatz for the quantum graph neural network\n",
    "\n",
    "control = 2*qubit_number\n",
    "\n",
    "def qgrnn(time, depth, reg1, reg2, vqe_depth, params1, params2):\n",
    "    \n",
    "    #vqe_circuit([vqe_params[0:3], vqe_params[3:6]], reg1, vqe_depth)\n",
    "    #vqe_circuit([vqe_params[0:3], vqe_params[3:6]], reg2, vqe_depth)\n",
    "\n",
    "    state_evolve(reg1, [vqe_params[0:3], vqe_params[3:6]], vqe_depth, time, depth, ising_graph.edges, matrix_params[0], matrix_params[1])\n",
    "    state_evolve(reg2, [vqe_params[0:3], vqe_params[3:6]], vqe_depth, time, depth, initial_graph.edges, params1, params2)\n",
    "    \n",
    "    swap_test(control, reg1, reg2)\n",
    "\n",
    "    return qml.expval(qml.PauliZ(control))\n",
    "\n",
    "batch = 15\n",
    "cap = 20\n",
    "qubits1 = [0, 1, 2]\n",
    "qubits2 = [3, 4, 5]\n",
    "\n",
    "nn_qnode = qml.QNode(qgrnn, qgrnn_dev)\n",
    "\n",
    "def nn_cost_function(params):\n",
    "    \n",
    "    times_sampled = [random.randint(1, cap) for i in range(0, batch)]\n",
    "    total_cost = 0\n",
    "    for i in times_sampled:\n",
    "        res = (1 + nn_qnode(i, 5, qubits1, qubits2, 2, params[0:3], params[3:6])) / 2\n",
    "        fidelity = 2*(res - 0.5)\n",
    "        total_cost += 1 - fidelity\n",
    "    \n",
    "    return (total_cost / len(times_sampled))\n",
    "\n",
    "# Optimizes the cost function\n",
    "\n",
    "optimizer = qml.GradientDescentOptimizer(stepsize=1.2)\n",
    "optimizer2 = qml.AdamOptimizer(stepsize=0.05)\n",
    "\n",
    "steps = 60\n",
    "qgrnn_params = list([random.randint(10, 50)/10 for i in range(0, 6)])\n",
    "#qgrnn_params = [3.3, 2.2, 3.0, 2.3, 5.0, 2.0]\n",
    "\n",
    "#print(nn_cost_function(qgrnn_params))\n",
    "#print(nn_qnode.draw())\n",
    "\n",
    "\n",
    "for i in range(0, steps):\n",
    "    qgrnn_params = optimizer2.step(nn_cost_function, qgrnn_params)\n",
    "    print(\"Fidelity \"+str(i)+\": \"+str(1 - nn_cost_function(qgrnn_params)))\n",
    "\n",
    "print(qgrnn_params)\n",
    "\n",
    "\n",
    "'''\n",
    "test = [i/10 for i in range(10, 50)]\n",
    "y = []\n",
    "for i in test:\n",
    "    y.append(nn_cost_function([i, 2.2, 3.0, 2.3, 5.0, 2.0]))\n",
    "    print(i)\n",
    "\n",
    "plt.plot(test, y)\n",
    "plt.show()\n",
    "'''"
   ]
  },
  {
   "cell_type": "code",
   "execution_count": null,
   "metadata": {},
   "outputs": [],
   "source": []
  }
 ],
 "metadata": {
  "kernelspec": {
   "display_name": "Python 3",
   "language": "python",
   "name": "python3"
  },
  "language_info": {
   "codemirror_mode": {
    "name": "ipython",
    "version": 3
   },
   "file_extension": ".py",
   "mimetype": "text/x-python",
   "name": "python",
   "nbconvert_exporter": "python",
   "pygments_lexer": "ipython3",
   "version": "3.7.5"
  }
 },
 "nbformat": 4,
 "nbformat_minor": 4
}
