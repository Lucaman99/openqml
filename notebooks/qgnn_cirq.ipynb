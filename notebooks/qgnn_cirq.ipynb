{
 "cells": [
  {
   "cell_type": "markdown",
   "metadata": {},
   "source": [
    "## VQE and Quantum Graph Neural Networks"
   ]
  },
  {
   "cell_type": "code",
   "execution_count": 48,
   "metadata": {},
   "outputs": [],
   "source": [
    "import numpy\n",
    "import math\n",
    "import random\n",
    "import numpy as np\n",
    "import scipy\n",
    "from matplotlib import pyplot as plt\n",
    "from tqdm import tqdm\n",
    "from scipy.optimize import minimize\n",
    "import networkx as nx\n",
    "import cirq\n",
    "import copy"
   ]
  },
  {
   "cell_type": "markdown",
   "metadata": {},
   "source": [
    "In order to begin thinking about the quantum graph neural network, we must prepare some training data. We perform VQE in order to find the ground state of a given Ising model Hamiltonian:"
   ]
  },
  {
   "cell_type": "code",
   "execution_count": 2,
   "metadata": {},
   "outputs": [
    {
     "data": {
      "image/png": "[encoded data removed]",
      "text/plain": [
       "<Figure size 432x288 with 1 Axes>"
      ]
     },
     "metadata": {},
     "output_type": "display_data"
    },
    {
     "name": "stdout",
     "output_type": "stream",
     "text": [
      "[[0.22, 1.58, 1.18], [1.74, 0.42, 1.08]]\n"
     ]
    }
   ],
   "source": [
    "# Initialize the necessary qubits\n",
    "\n",
    "qubit_number = 3\n",
    "data_register = [cirq.GridQubit(0, i) for i in range(0, qubit_number)]\n",
    "network_register = [cirq.GridQubit(1, i) for i in range(0, qubit_number)]\n",
    "\n",
    "# Creates the graph structure of the quantum system\n",
    "\n",
    "ising_graph = nx.Graph()\n",
    "ising_graph.add_nodes_from(range(0, qubit_number))\n",
    "ising_graph.add_edges_from([(0, 1), (0, 2), (1, 2)])\n",
    "\n",
    "nx.draw(ising_graph)\n",
    "plt.show() \n",
    "\n",
    "# Creates parameters\n",
    "\n",
    "matrix_params = [[random.randint(10, 100)/50 for i in range(0, qubit_number)] for j in range(0, 2)]\n",
    "#matrix_params = [[random.randint(10, 100)/50], [random.randint(10, 100)/50 for i in range(0, qubit_number)]]\n",
    "print(matrix_params)"
   ]
  },
  {
   "cell_type": "code",
   "execution_count": 3,
   "metadata": {},
   "outputs": [
    {
     "name": "stdout",
     "output_type": "stream",
     "text": [
      "(0, 0): ───Z───X───Z───X───\n",
      "\n",
      "(0, 1): ───Z───X───Z───X───\n",
      "\n",
      "(0, 2): ───Z───X───Z───X───\n"
     ]
    }
   ],
   "source": [
    "# Defines the rz gate:\n",
    "\n",
    "def rz(control, target, param):\n",
    "    yield cirq.CX.on(control, target)\n",
    "    yield cirq.rz(param).on(target)\n",
    "    yield cirq.CX.on(control, target)\n",
    "\n",
    "# Method that initializes qubits in even superposition\n",
    "\n",
    "def even_superposition(qubits):\n",
    "    \n",
    "    for i in qubits:\n",
    "        yield cirq.H.on(i)\n",
    "\n",
    "# Method that prepares the QAOA ansatz layers\n",
    "\n",
    "def qaoa_layer(param1, param2, qubits, ising_graph):\n",
    "    \n",
    "    # Applies a layer of coupling gates\n",
    "    for count, i in enumerate(ising_graph.edges):\n",
    "        yield rz(qubits[i[0]], qubits[i[1]], 2*param1[count])\n",
    "    \n",
    "    # Applies the final layer of RX gates on the qubits\n",
    "    \n",
    "    for i in range(0, len(qubits)):\n",
    "        yield cirq.rx(2*param2[i]).on(qubits[i])\n",
    "    \n",
    "# Method that prepares the decoupled layers\n",
    "\n",
    "def decoupled_layer(param1, param2, qubits):\n",
    "    \n",
    "    for i in range(0, len(qubits)):\n",
    "        yield cirq.ZPowGate(exponent=param1[i]).on(qubits[i])\n",
    "        yield cirq.XPowGate(exponent=param1[i]).on(qubits[i])\n",
    "\n",
    "# Method that prepares the VQE circuit that will be used to \n",
    "\n",
    "def vqe_circuit(parameters, qubits, ising_graph):\n",
    "    \n",
    "    yield decoupled_layer(parameters[0], parameters[1], qubits) \n",
    "    yield decoupled_layer(parameters[2], parameters[3], qubits)\n",
    "\n",
    "test_circuit = cirq.Circuit()\n",
    "test_circuit.append(vqe_circuit([[1, 1, 1], [1, 1, 1], [1, 1, 1], [1, 1, 1]], data_register, ising_graph))\n",
    "print(test_circuit)"
   ]
  },
  {
   "cell_type": "code",
   "execution_count": 4,
   "metadata": {},
   "outputs": [
    {
     "name": "stdout",
     "output_type": "stream",
     "text": [
      "[[ 2.98  1.08  0.42  0.    1.74  0.    0.    0.  ]\n",
      " [ 1.08 -2.54  0.    0.42  0.    1.74  0.    0.  ]\n",
      " [ 0.42  0.    0.18  1.08  0.    0.    1.74  0.  ]\n",
      " [ 0.    0.42  1.08 -0.62  0.    0.    0.    1.74]\n",
      " [ 1.74  0.    0.    0.   -0.62  1.08  0.42  0.  ]\n",
      " [ 0.    1.74  0.    0.    1.08  0.18  0.    0.42]\n",
      " [ 0.    0.    1.74  0.    0.42  0.   -2.54  1.08]\n",
      " [ 0.    0.    0.    1.74  0.    0.42  1.08  2.98]]\n"
     ]
    }
   ],
   "source": [
    "# Creates the Hamiltonian that we are attempting to learn\n",
    "\n",
    "def create_hamiltonian_matrix(n, graph):\n",
    "    \n",
    "    # Defines Pauli matrices\n",
    "\n",
    "    pauli_x = np.array([[0, 1], [1, 0]])\n",
    "    pauli_y = np.array([[0, -1j], [1j, 0]])\n",
    "    pauli_z = np.array([[1, 0], [0, -1]])\n",
    "    identity = np.array([[1, 0], [0, 1]])\n",
    "\n",
    "    matrix = np.zeros((2**n, 2**n))\n",
    "    \n",
    "    # Creates the interaction component of the Hamiltonian\n",
    "\n",
    "    for count, i in enumerate(graph.edges):\n",
    "        m = 1\n",
    "        for j in range(0, n):\n",
    "            if (i[0] == j or i[1] == j):\n",
    "                m = np.kron(m, pauli_z)\n",
    "            else:\n",
    "                m = np.kron(m, identity)\n",
    "        matrix = np.add(matrix, matrix_params[0][count]*m)\n",
    "    \n",
    "    # Creates the \"bias\" component of the matrix\n",
    "    \n",
    "    for i in range(0, n):\n",
    "        m = 1\n",
    "        for j in range(0, n):\n",
    "            if (j == i):\n",
    "                m = np.kron(m, pauli_x)\n",
    "            else:\n",
    "                m = np.kron(m, identity)\n",
    "        matrix = np.add(matrix, matrix_params[1][i]*m)\n",
    "\n",
    "    return matrix\n",
    "\n",
    "print(create_hamiltonian_matrix(qubit_number, ising_graph))"
   ]
  },
  {
   "cell_type": "code",
   "execution_count": 5,
   "metadata": {},
   "outputs": [
    {
     "name": "stdout",
     "output_type": "stream",
     "text": [
      "-4.029008431106504\n"
     ]
    },
    {
     "data": {
      "image/png": "[encoded data removed]",
      "text/plain": [
       "<Figure size 288x288 with 2 Axes>"
      ]
     },
     "metadata": {
      "needs_background": "light"
     },
     "output_type": "display_data"
    }
   ],
   "source": [
    "def create_density_matrix(arr):\n",
    "    \n",
    "    array = np.array(arr)\n",
    "    plt.matshow(array)\n",
    "    plt.colorbar()\n",
    "    plt.show()\n",
    "\n",
    "# Finds the eigenvector corresponding to the lowest energy state\n",
    "    \n",
    "val, vec = np.linalg.eig(create_hamiltonian_matrix(qubit_number, ising_graph))\n",
    "m = []\n",
    "\n",
    "min_ind = list(val).index(min(val))\n",
    "print(val[min_ind])\n",
    "for i in range(0, 2**qubit_number):\n",
    "    m.append(vec[i][min_ind])\n",
    "\n",
    "create_density_matrix(np.real(np.outer(m, np.conj(m))))"
   ]
  },
  {
   "cell_type": "code",
   "execution_count": 6,
   "metadata": {},
   "outputs": [
    {
     "name": "stdout",
     "output_type": "stream",
     "text": [
      "Cost at Step 0= 3.002032299032764\n",
      "Cost at Step 50= -3.397657311567987\n",
      "Cost at Step 100= -3.7392936277505124\n",
      "Cost at Step 150= -3.7402475912952946\n",
      "Cost at Step 200= -3.740248889583808\n",
      "Cost at Step 250= -3.740248892584457\n",
      "Cost at Step 300= -3.7402507597226915\n",
      "     fun: -3.7402510401589866\n",
      "   maxcv: 0.0\n",
      " message: 'Optimization terminated successfully.'\n",
      "    nfev: 318\n",
      "  status: 1\n",
      " success: True\n",
      "       x: array([ 1.74295355e+00,  2.38679636e+00,  1.36966605e+00,  1.30578636e+00,\n",
      "       -2.83553446e-03,  3.58905930e-01,  3.12089902e+00,  2.91881819e+00,\n",
      "        8.88367057e-02,  1.33132153e+00,  6.06082577e-01,  1.40121972e+00])\n"
     ]
    },
    {
     "data": {
      "image/png": "[encoded data removed]",
      "text/plain": [
       "<Figure size 288x288 with 2 Axes>"
      ]
     },
     "metadata": {
      "needs_background": "light"
     },
     "output_type": "display_data"
    }
   ],
   "source": [
    "# Creates the VQE method that we will optimize\n",
    "\n",
    "def create_circuit(parameters, qubits):\n",
    "    \n",
    "    # Prepares the circuit\n",
    "    \n",
    "    circuit = cirq.Circuit()\n",
    "    circuit.append(even_superposition(qubits))\n",
    "    circuit.append(vqe_circuit(parameters, qubits, ising_graph))\n",
    "    \n",
    "    # Creates the simulation\n",
    "    \n",
    "    simulator = cirq.Simulator()\n",
    "    results = simulator.simulate(circuit)\n",
    "    state_vector = results.final_state\n",
    "    \n",
    "    return state_vector\n",
    "\n",
    "# Creates the cost function\n",
    "\n",
    "iterations = 0\n",
    "\n",
    "def cost_function(parameters, qubits):\n",
    "    \n",
    "    global iterations\n",
    "    \n",
    "    hamiltonian = create_hamiltonian_matrix(qubit_number, ising_graph)\n",
    "    vector = create_circuit(parameters, qubits)\n",
    "    \n",
    "    first = np.matmul(hamiltonian, vector)\n",
    "    cost = np.inner(np.conj(vector), first)\n",
    "    \n",
    "    if (iterations%50 == 0):\n",
    "        print(\"Cost at Step \"+str(iterations)+\"= \"+str(np.real(cost)))\n",
    "    \n",
    "    iterations += 1\n",
    "    \n",
    "    return np.real(cost)\n",
    "\n",
    "# Creates the optimizer for our variational circuit\n",
    "\n",
    "qubit_register = network_register\n",
    "\n",
    "def optimizer_cost(params):\n",
    "    \n",
    "    parameters = [\n",
    "        params[0:3], \n",
    "        params[3:6],\n",
    "        params[6:9],\n",
    "        params[9:12]\n",
    "    ]\n",
    "    \n",
    "    return cost_function(parameters, qubit_register)\n",
    "\n",
    "# Creates the optimizer\n",
    "\n",
    "init = [random.randint(0, 20)/10 for i in range(0, 12)]\n",
    "out = minimize(optimizer_cost, x0=init, method=\"COBYLA\", options={'maxiter':1000, 'tol':1e-10})\n",
    "g = out['x']\n",
    "print(out)\n",
    "\n",
    "# Prepares the optimal state and visualizes it\n",
    "\n",
    "optimal_params = [\n",
    "        g[0:3], \n",
    "        g[3:6],\n",
    "        g[6:9],\n",
    "        g[9:12]\n",
    "    ]\n",
    "\n",
    "optimal = create_circuit(optimal_params, qubit_register)\n",
    "result = np.real(np.outer(optimal, np.conj(optimal)))\n",
    "create_density_matrix(result)\n",
    "\n",
    "v = [ 3.21629331,  0.54890376,  2.02976445,  0.7818173 ,  1.3213677 ,\n",
    "        1.48080682,  1.67054856,  1.44101918,  1.20196752,  0.56441884,\n",
    "       -0.31570509,  0.15785939,  1.69543663,  0.72541886,  0.02910459,\n",
    "       -0.52821689]"
   ]
  },
  {
   "cell_type": "code",
   "execution_count": 17,
   "metadata": {},
   "outputs": [
    {
     "data": {
      "image/png": "[encoded data removed]",
      "text/plain": [
       "<Figure size 288x288 with 2 Axes>"
      ]
     },
     "metadata": {
      "needs_background": "light"
     },
     "output_type": "display_data"
    }
   ],
   "source": [
    "hbar = 1\n",
    "\n",
    "# Attempts to evolve the prepared ground state forward in time, with the time evolution circuit\n",
    "\n",
    "def le_state_evolve(depth, time, qubits, ising_graph, params):\n",
    "    \n",
    "    yield even_superposition(qubits)\n",
    "    yield vqe_circuit(params, qubits, ising_graph)\n",
    "    for i in range(0, depth):\n",
    "        yield qaoa_layer([i*time/depth for i in matrix_params[0]], [i*time/depth for i in matrix_params[1]], qubits, ising_graph)\n",
    "\n",
    "# Creates the circuit\n",
    "\n",
    "def create_time_circuit(depth, time, qubits, ising_graph, params):\n",
    "    \n",
    "    circuit = cirq.Circuit()\n",
    "    circuit.append(le_state_evolve(depth, time, qubits, ising_graph, params))\n",
    "    \n",
    "    simulator = cirq.Simulator()\n",
    "    results = simulator.simulate(circuit)\n",
    "    state_vector = results.final_state\n",
    "    \n",
    "    return state_vector\n",
    "\n",
    "vector = create_time_circuit(60, 10, data_register, ising_graph, optimal_params)\n",
    "create_density_matrix(np.real(np.outer(vector, np.conj(vector))))"
   ]
  },
  {
   "cell_type": "code",
   "execution_count": 10,
   "metadata": {},
   "outputs": [
    {
     "data": {
      "image/png": "[encoded data removed]",
      "text/plain": [
       "<Figure size 288x288 with 2 Axes>"
      ]
     },
     "metadata": {
      "needs_background": "light"
     },
     "output_type": "display_data"
    },
    {
     "name": "stdout",
     "output_type": "stream",
     "text": [
      "Fidelity: (0.9723958866502768+0j)\n"
     ]
    }
   ],
   "source": [
    "# Creates the numrical simulation, to test our time-evolution circuit\n",
    "\n",
    "def time_evolution_test(time, vec):\n",
    "    \n",
    "    new_matrix = scipy.linalg.expm(complex(0,-1)*create_hamiltonian_matrix(qubit_number, ising_graph)*time / hbar)\n",
    "    return np.matmul(new_matrix, vec)\n",
    "\n",
    "vec = time_evolution_test(10, optimal)\n",
    "create_density_matrix(np.real(np.outer(vec, np.conj(vec))))\n",
    "\n",
    "print(\"Fidelity: \"+str(np.inner(np.conj(vec), vector)*np.inner(np.conj(vector), vec)))"
   ]
  },
  {
   "cell_type": "code",
   "execution_count": 11,
   "metadata": {},
   "outputs": [],
   "source": [
    "# Creates the initial \"guess\" graph of interactions, and assigns parameters to each of the edges\n",
    "\n",
    "initial_graph = nx.complete_graph(qubit_number)\n",
    "\n",
    "# Creates the SWAP test between two registers of qubits\n",
    "\n",
    "def swap_test(control, index1, index2):\n",
    "    \n",
    "    yield cirq.H.on(control)\n",
    "    for i in range(0, len(index1)):\n",
    "        yield cirq.CSWAP(control, index1[i], index2[i])\n",
    "    yield cirq.H.on(control)\n",
    "\n",
    "# Creates the QGRNN ansatz\n",
    "\n",
    "def qgrnn_ansatz(initial_graph, parameters, opt_params, depth, qubits, time):\n",
    "    \n",
    "    yield even_superposition(qubits)\n",
    "    yield vqe_circuit(opt_params, qubits, ising_graph)\n",
    "    for i in range(0, depth):\n",
    "        yield qaoa_layer([i*time/depth for i in parameters[0]], [i*time/depth for i in parameters[1]], qubits, initial_graph)\n",
    "\n",
    "def find_infidelity_time(depth, time, index1, index2, control, params, opt_params, ising_graph, initial_graph):\n",
    "    \n",
    "    circuit = cirq.Circuit()\n",
    "    circuit.append(le_state_evolve(depth, time, index1, ising_graph, opt_params))\n",
    "    circuit.append(qgrnn_ansatz(initial_graph, params, opt_params, depth, index2, time))\n",
    "    circuit.append(swap_test(control, index1, index2))\n",
    "    circuit.append(cirq.measure(control, key=\"q\"))\n",
    "    \n",
    "    simulator = cirq.Simulator()\n",
    "    results = simulator.run(circuit, repetitions=100)\n",
    "    \n",
    "    new_res = list(str(results)[2:])\n",
    "    return sum([int(i) for i in new_res])\n",
    "\n",
    "control = cirq.GridQubit(2, 0)"
   ]
  },
  {
   "cell_type": "code",
   "execution_count": 59,
   "metadata": {},
   "outputs": [
    {
     "name": "stdout",
     "output_type": "stream",
     "text": [
      "[(0, 1), (0, 2), (1, 2)]\n",
      "[(0, 1), (0, 2), (1, 2)]\n"
     ]
    }
   ],
   "source": [
    "# Now, we define the cost function that is used in the optimization method\n",
    "\n",
    "time_range = [random.randint(0, 10) for i in range(0, 10)]\n",
    "iterations = 0\n",
    "params_step = 0\n",
    "best_cost = math.inf\n",
    "\n",
    "def cost_function(params):\n",
    "    \n",
    "    global iterations\n",
    "    global params_step\n",
    "    global best_cost\n",
    "    \n",
    "    old_params = copy.copy(params)\n",
    "    params = [params[0:3], params[3:6]]\n",
    "    \n",
    "    total_cost = 0\n",
    "    for i in time_range:\n",
    "        res = find_infidelity_time(1, i, data_register, network_register, control, params, optimal_params, ising_graph, initial_graph)\n",
    "        total_cost += res\n",
    "        \n",
    "    print(\"Cost at Step \"+str(iterations)+\": \"+str(total_cost / len(time_range))+\", Parameters: \"+str(params))\n",
    "    \n",
    "    iterations += 1\n",
    "    \n",
    "    if ((total_cost / len(time_range)) < best_cost):\n",
    "        params_step = old_params\n",
    "        best_cost = total_cost / len(time_range)\n",
    "    \n",
    "    return total_cost / len(time_range)\n",
    "\n",
    "print(ising_graph.edges)\n",
    "print(initial_graph.edges)"
   ]
  },
  {
   "cell_type": "code",
   "execution_count": 60,
   "metadata": {},
   "outputs": [
    {
     "name": "stdout",
     "output_type": "stream",
     "text": [
      "Cost at Step 0: 22.5, Parameters: [array([1.14, 1.52, 0.84]), array([1.04, 1.12, 1.24])]\n",
      "Cost at Step 1: 29.6, Parameters: [array([2.14, 1.52, 0.84]), array([1.04, 1.12, 1.24])]\n",
      "Cost at Step 2: 20.2, Parameters: [array([1.14, 2.52, 0.84]), array([1.04, 1.12, 1.24])]\n",
      "Cost at Step 3: 22.3, Parameters: [array([1.14, 2.52, 1.84]), array([1.04, 1.12, 1.24])]\n",
      "Cost at Step 4: 26.3, Parameters: [array([1.14, 2.52, 0.84]), array([2.04, 1.12, 1.24])]\n",
      "Cost at Step 5: 28.9, Parameters: [array([1.14, 2.52, 0.84]), array([1.04, 2.12, 1.24])]\n",
      "Cost at Step 6: 21.4, Parameters: [array([1.14, 2.52, 0.84]), array([1.04, 1.12, 2.24])]\n",
      "Cost at Step 7: 21.4, Parameters: [array([0.60244505, 2.69413752, 0.68100488]), array([0.57815702, 0.46130591, 1.14914564])]\n",
      "Cost at Step 8: 20.7, Parameters: [array([1.57527209, 2.57081147, 0.79360692]), array([0.90523915, 0.9278001 , 1.21348967])]\n",
      "Cost at Step 9: 23.3, Parameters: [array([1.00107452, 2.56292273, 0.80080968]), array([0.92616144, 0.95764009, 1.21760553])]\n"
     ]
    },
    {
     "ename": "KeyboardInterrupt",
     "evalue": "",
     "output_type": "error",
     "traceback": [
      "\u001b[0;31m---------------------------------------------------------------------------\u001b[0m",
      "\u001b[0;31mKeyboardInterrupt\u001b[0m                         Traceback (most recent call last)",
      "\u001b[0;32m<ipython-input-60-90b36ad52ec3>\u001b[0m in \u001b[0;36m<module>\u001b[0;34m\u001b[0m\n\u001b[1;32m      1\u001b[0m \u001b[0minit\u001b[0m \u001b[0;34m=\u001b[0m \u001b[0;34m[\u001b[0m\u001b[0mrandom\u001b[0m\u001b[0;34m.\u001b[0m\u001b[0mrandint\u001b[0m\u001b[0;34m(\u001b[0m\u001b[0;36m10\u001b[0m\u001b[0;34m,\u001b[0m \u001b[0;36m100\u001b[0m\u001b[0;34m)\u001b[0m\u001b[0;34m/\u001b[0m\u001b[0;36m50\u001b[0m \u001b[0;32mfor\u001b[0m \u001b[0mi\u001b[0m \u001b[0;32min\u001b[0m \u001b[0mrange\u001b[0m\u001b[0;34m(\u001b[0m\u001b[0;36m0\u001b[0m\u001b[0;34m,\u001b[0m \u001b[0;36m6\u001b[0m\u001b[0;34m)\u001b[0m\u001b[0;34m]\u001b[0m\u001b[0;34m\u001b[0m\u001b[0;34m\u001b[0m\u001b[0m\n\u001b[1;32m      2\u001b[0m \u001b[0;31m#init = [1.96, 1.08, 0.32, 1.04, 1.28, 0.5]\u001b[0m\u001b[0;34m\u001b[0m\u001b[0;34m\u001b[0m\u001b[0;34m\u001b[0m\u001b[0m\n\u001b[0;32m----> 3\u001b[0;31m \u001b[0mout\u001b[0m \u001b[0;34m=\u001b[0m \u001b[0mminimize\u001b[0m\u001b[0;34m(\u001b[0m\u001b[0mcost_function\u001b[0m\u001b[0;34m,\u001b[0m \u001b[0mx0\u001b[0m\u001b[0;34m=\u001b[0m\u001b[0minit\u001b[0m\u001b[0;34m,\u001b[0m \u001b[0mmethod\u001b[0m\u001b[0;34m=\u001b[0m\u001b[0;34m\"COBYLA\"\u001b[0m\u001b[0;34m,\u001b[0m \u001b[0moptions\u001b[0m\u001b[0;34m=\u001b[0m\u001b[0;34m{\u001b[0m\u001b[0;34m'maxiter'\u001b[0m\u001b[0;34m:\u001b[0m\u001b[0;36m30\u001b[0m\u001b[0;34m}\u001b[0m\u001b[0;34m)\u001b[0m\u001b[0;34m\u001b[0m\u001b[0;34m\u001b[0m\u001b[0m\n\u001b[0m\u001b[1;32m      4\u001b[0m \u001b[0mg\u001b[0m \u001b[0;34m=\u001b[0m \u001b[0mout\u001b[0m\u001b[0;34m[\u001b[0m\u001b[0;34m'x'\u001b[0m\u001b[0;34m]\u001b[0m\u001b[0;34m\u001b[0m\u001b[0;34m\u001b[0m\u001b[0m\n\u001b[1;32m      5\u001b[0m \u001b[0mprint\u001b[0m\u001b[0;34m(\u001b[0m\u001b[0mout\u001b[0m\u001b[0;34m)\u001b[0m\u001b[0;34m\u001b[0m\u001b[0;34m\u001b[0m\u001b[0m\n",
      "\u001b[0;32m/usr/local/lib/python3.7/site-packages/scipy/optimize/_minimize.py\u001b[0m in \u001b[0;36mminimize\u001b[0;34m(fun, x0, args, method, jac, hess, hessp, bounds, constraints, tol, callback, options)\u001b[0m\n\u001b[1;32m    613\u001b[0m                              **options)\n\u001b[1;32m    614\u001b[0m     \u001b[0;32melif\u001b[0m \u001b[0mmeth\u001b[0m \u001b[0;34m==\u001b[0m \u001b[0;34m'cobyla'\u001b[0m\u001b[0;34m:\u001b[0m\u001b[0;34m\u001b[0m\u001b[0;34m\u001b[0m\u001b[0m\n\u001b[0;32m--> 615\u001b[0;31m         \u001b[0;32mreturn\u001b[0m \u001b[0m_minimize_cobyla\u001b[0m\u001b[0;34m(\u001b[0m\u001b[0mfun\u001b[0m\u001b[0;34m,\u001b[0m \u001b[0mx0\u001b[0m\u001b[0;34m,\u001b[0m \u001b[0margs\u001b[0m\u001b[0;34m,\u001b[0m \u001b[0mconstraints\u001b[0m\u001b[0;34m,\u001b[0m \u001b[0;34m**\u001b[0m\u001b[0moptions\u001b[0m\u001b[0;34m)\u001b[0m\u001b[0;34m\u001b[0m\u001b[0;34m\u001b[0m\u001b[0m\n\u001b[0m\u001b[1;32m    616\u001b[0m     \u001b[0;32melif\u001b[0m \u001b[0mmeth\u001b[0m \u001b[0;34m==\u001b[0m \u001b[0;34m'slsqp'\u001b[0m\u001b[0;34m:\u001b[0m\u001b[0;34m\u001b[0m\u001b[0;34m\u001b[0m\u001b[0m\n\u001b[1;32m    617\u001b[0m         return _minimize_slsqp(fun, x0, args, jac, bounds,\n",
      "\u001b[0;32m/usr/local/lib/python3.7/site-packages/scipy/optimize/cobyla.py\u001b[0m in \u001b[0;36m_minimize_cobyla\u001b[0;34m(fun, x0, args, constraints, rhobeg, tol, maxiter, disp, catol, **unknown_options)\u001b[0m\n\u001b[1;32m    250\u001b[0m     xopt, info = _cobyla.minimize(calcfc, m=m, x=np.copy(x0), rhobeg=rhobeg,\n\u001b[1;32m    251\u001b[0m                                   \u001b[0mrhoend\u001b[0m\u001b[0;34m=\u001b[0m\u001b[0mrhoend\u001b[0m\u001b[0;34m,\u001b[0m \u001b[0miprint\u001b[0m\u001b[0;34m=\u001b[0m\u001b[0miprint\u001b[0m\u001b[0;34m,\u001b[0m \u001b[0mmaxfun\u001b[0m\u001b[0;34m=\u001b[0m\u001b[0mmaxfun\u001b[0m\u001b[0;34m,\u001b[0m\u001b[0;34m\u001b[0m\u001b[0;34m\u001b[0m\u001b[0m\n\u001b[0;32m--> 252\u001b[0;31m                                   dinfo=info)\n\u001b[0m\u001b[1;32m    253\u001b[0m \u001b[0;34m\u001b[0m\u001b[0m\n\u001b[1;32m    254\u001b[0m     \u001b[0;32mif\u001b[0m \u001b[0minfo\u001b[0m\u001b[0;34m[\u001b[0m\u001b[0;36m3\u001b[0m\u001b[0;34m]\u001b[0m \u001b[0;34m>\u001b[0m \u001b[0mcatol\u001b[0m\u001b[0;34m:\u001b[0m\u001b[0;34m\u001b[0m\u001b[0;34m\u001b[0m\u001b[0m\n",
      "\u001b[0;32m/usr/local/lib/python3.7/site-packages/scipy/optimize/cobyla.py\u001b[0m in \u001b[0;36mcalcfc\u001b[0;34m(x, con)\u001b[0m\n\u001b[1;32m    240\u001b[0m \u001b[0;34m\u001b[0m\u001b[0m\n\u001b[1;32m    241\u001b[0m     \u001b[0;32mdef\u001b[0m \u001b[0mcalcfc\u001b[0m\u001b[0;34m(\u001b[0m\u001b[0mx\u001b[0m\u001b[0;34m,\u001b[0m \u001b[0mcon\u001b[0m\u001b[0;34m)\u001b[0m\u001b[0;34m:\u001b[0m\u001b[0;34m\u001b[0m\u001b[0;34m\u001b[0m\u001b[0m\n\u001b[0;32m--> 242\u001b[0;31m         \u001b[0mf\u001b[0m \u001b[0;34m=\u001b[0m \u001b[0mfun\u001b[0m\u001b[0;34m(\u001b[0m\u001b[0mx\u001b[0m\u001b[0;34m,\u001b[0m \u001b[0;34m*\u001b[0m\u001b[0margs\u001b[0m\u001b[0;34m)\u001b[0m\u001b[0;34m\u001b[0m\u001b[0;34m\u001b[0m\u001b[0m\n\u001b[0m\u001b[1;32m    243\u001b[0m         \u001b[0mi\u001b[0m \u001b[0;34m=\u001b[0m \u001b[0;36m0\u001b[0m\u001b[0;34m\u001b[0m\u001b[0;34m\u001b[0m\u001b[0m\n\u001b[1;32m    244\u001b[0m         \u001b[0;32mfor\u001b[0m \u001b[0msize\u001b[0m\u001b[0;34m,\u001b[0m \u001b[0mc\u001b[0m \u001b[0;32min\u001b[0m \u001b[0mizip\u001b[0m\u001b[0;34m(\u001b[0m\u001b[0mcons_lengths\u001b[0m\u001b[0;34m,\u001b[0m \u001b[0mconstraints\u001b[0m\u001b[0;34m)\u001b[0m\u001b[0;34m:\u001b[0m\u001b[0;34m\u001b[0m\u001b[0;34m\u001b[0m\u001b[0m\n",
      "\u001b[0;32m<ipython-input-59-a1a8b272e5d2>\u001b[0m in \u001b[0;36mcost_function\u001b[0;34m(params)\u001b[0m\n\u001b[1;32m     17\u001b[0m     \u001b[0mtotal_cost\u001b[0m \u001b[0;34m=\u001b[0m \u001b[0;36m0\u001b[0m\u001b[0;34m\u001b[0m\u001b[0;34m\u001b[0m\u001b[0m\n\u001b[1;32m     18\u001b[0m     \u001b[0;32mfor\u001b[0m \u001b[0mi\u001b[0m \u001b[0;32min\u001b[0m \u001b[0mtime_range\u001b[0m\u001b[0;34m:\u001b[0m\u001b[0;34m\u001b[0m\u001b[0;34m\u001b[0m\u001b[0m\n\u001b[0;32m---> 19\u001b[0;31m         \u001b[0mres\u001b[0m \u001b[0;34m=\u001b[0m \u001b[0mfind_infidelity_time\u001b[0m\u001b[0;34m(\u001b[0m\u001b[0;36m60\u001b[0m\u001b[0;34m,\u001b[0m \u001b[0mi\u001b[0m\u001b[0;34m,\u001b[0m \u001b[0mdata_register\u001b[0m\u001b[0;34m,\u001b[0m \u001b[0mnetwork_register\u001b[0m\u001b[0;34m,\u001b[0m \u001b[0mcontrol\u001b[0m\u001b[0;34m,\u001b[0m \u001b[0mparams\u001b[0m\u001b[0;34m,\u001b[0m \u001b[0moptimal_params\u001b[0m\u001b[0;34m,\u001b[0m \u001b[0mising_graph\u001b[0m\u001b[0;34m,\u001b[0m \u001b[0minitial_graph\u001b[0m\u001b[0;34m)\u001b[0m\u001b[0;34m\u001b[0m\u001b[0;34m\u001b[0m\u001b[0m\n\u001b[0m\u001b[1;32m     20\u001b[0m         \u001b[0mtotal_cost\u001b[0m \u001b[0;34m+=\u001b[0m \u001b[0mres\u001b[0m\u001b[0;34m\u001b[0m\u001b[0;34m\u001b[0m\u001b[0m\n\u001b[1;32m     21\u001b[0m \u001b[0;34m\u001b[0m\u001b[0m\n",
      "\u001b[0;32m<ipython-input-11-f65c706de765>\u001b[0m in \u001b[0;36mfind_infidelity_time\u001b[0;34m(depth, time, index1, index2, control, params, opt_params, ising_graph, initial_graph)\u001b[0m\n\u001b[1;32m     25\u001b[0m     \u001b[0mcircuit\u001b[0m \u001b[0;34m=\u001b[0m \u001b[0mcirq\u001b[0m\u001b[0;34m.\u001b[0m\u001b[0mCircuit\u001b[0m\u001b[0;34m(\u001b[0m\u001b[0;34m)\u001b[0m\u001b[0;34m\u001b[0m\u001b[0;34m\u001b[0m\u001b[0m\n\u001b[1;32m     26\u001b[0m     \u001b[0mcircuit\u001b[0m\u001b[0;34m.\u001b[0m\u001b[0mappend\u001b[0m\u001b[0;34m(\u001b[0m\u001b[0mle_state_evolve\u001b[0m\u001b[0;34m(\u001b[0m\u001b[0mdepth\u001b[0m\u001b[0;34m,\u001b[0m \u001b[0mtime\u001b[0m\u001b[0;34m,\u001b[0m \u001b[0mindex1\u001b[0m\u001b[0;34m,\u001b[0m \u001b[0mising_graph\u001b[0m\u001b[0;34m,\u001b[0m \u001b[0mopt_params\u001b[0m\u001b[0;34m)\u001b[0m\u001b[0;34m)\u001b[0m\u001b[0;34m\u001b[0m\u001b[0;34m\u001b[0m\u001b[0m\n\u001b[0;32m---> 27\u001b[0;31m     \u001b[0mcircuit\u001b[0m\u001b[0;34m.\u001b[0m\u001b[0mappend\u001b[0m\u001b[0;34m(\u001b[0m\u001b[0mqgrnn_ansatz\u001b[0m\u001b[0;34m(\u001b[0m\u001b[0minitial_graph\u001b[0m\u001b[0;34m,\u001b[0m \u001b[0mparams\u001b[0m\u001b[0;34m,\u001b[0m \u001b[0mopt_params\u001b[0m\u001b[0;34m,\u001b[0m \u001b[0mdepth\u001b[0m\u001b[0;34m,\u001b[0m \u001b[0mindex2\u001b[0m\u001b[0;34m,\u001b[0m \u001b[0mtime\u001b[0m\u001b[0;34m)\u001b[0m\u001b[0;34m)\u001b[0m\u001b[0;34m\u001b[0m\u001b[0;34m\u001b[0m\u001b[0m\n\u001b[0m\u001b[1;32m     28\u001b[0m     \u001b[0mcircuit\u001b[0m\u001b[0;34m.\u001b[0m\u001b[0mappend\u001b[0m\u001b[0;34m(\u001b[0m\u001b[0mswap_test\u001b[0m\u001b[0;34m(\u001b[0m\u001b[0mcontrol\u001b[0m\u001b[0;34m,\u001b[0m \u001b[0mindex1\u001b[0m\u001b[0;34m,\u001b[0m \u001b[0mindex2\u001b[0m\u001b[0;34m)\u001b[0m\u001b[0;34m)\u001b[0m\u001b[0;34m\u001b[0m\u001b[0;34m\u001b[0m\u001b[0m\n\u001b[1;32m     29\u001b[0m     \u001b[0mcircuit\u001b[0m\u001b[0;34m.\u001b[0m\u001b[0mappend\u001b[0m\u001b[0;34m(\u001b[0m\u001b[0mcirq\u001b[0m\u001b[0;34m.\u001b[0m\u001b[0mmeasure\u001b[0m\u001b[0;34m(\u001b[0m\u001b[0mcontrol\u001b[0m\u001b[0;34m,\u001b[0m \u001b[0mkey\u001b[0m\u001b[0;34m=\u001b[0m\u001b[0;34m\"q\"\u001b[0m\u001b[0;34m)\u001b[0m\u001b[0;34m)\u001b[0m\u001b[0;34m\u001b[0m\u001b[0;34m\u001b[0m\u001b[0m\n",
      "\u001b[0;32m/usr/local/lib/python3.7/site-packages/cirq/circuits/circuit.py\u001b[0m in \u001b[0;36mappend\u001b[0;34m(self, moment_or_operation_tree, strategy)\u001b[0m\n\u001b[1;32m   1300\u001b[0m             \u001b[0mstrategy\u001b[0m\u001b[0;34m:\u001b[0m \u001b[0mHow\u001b[0m \u001b[0mto\u001b[0m \u001b[0mpick\u001b[0m\u001b[0;34m/\u001b[0m\u001b[0mcreate\u001b[0m \u001b[0mthe\u001b[0m \u001b[0mmoment\u001b[0m \u001b[0mto\u001b[0m \u001b[0mput\u001b[0m \u001b[0moperations\u001b[0m \u001b[0minto\u001b[0m\u001b[0;34m.\u001b[0m\u001b[0;34m\u001b[0m\u001b[0;34m\u001b[0m\u001b[0m\n\u001b[1;32m   1301\u001b[0m         \"\"\"\n\u001b[0;32m-> 1302\u001b[0;31m         \u001b[0mself\u001b[0m\u001b[0;34m.\u001b[0m\u001b[0minsert\u001b[0m\u001b[0;34m(\u001b[0m\u001b[0mlen\u001b[0m\u001b[0;34m(\u001b[0m\u001b[0mself\u001b[0m\u001b[0;34m.\u001b[0m\u001b[0m_moments\u001b[0m\u001b[0;34m)\u001b[0m\u001b[0;34m,\u001b[0m \u001b[0mmoment_or_operation_tree\u001b[0m\u001b[0;34m,\u001b[0m \u001b[0mstrategy\u001b[0m\u001b[0;34m)\u001b[0m\u001b[0;34m\u001b[0m\u001b[0;34m\u001b[0m\u001b[0m\n\u001b[0m\u001b[1;32m   1303\u001b[0m \u001b[0;34m\u001b[0m\u001b[0m\n\u001b[1;32m   1304\u001b[0m     def clear_operations_touching(self, qubits: Iterable['cirq.Qid'],\n",
      "\u001b[0;32m/usr/local/lib/python3.7/site-packages/cirq/circuits/circuit.py\u001b[0m in \u001b[0;36minsert\u001b[0;34m(self, index, moment_or_operation_tree, strategy)\u001b[0m\n\u001b[1;32m   1007\u001b[0m                 \u001b[0;32mwhile\u001b[0m \u001b[0mp\u001b[0m \u001b[0;34m>=\u001b[0m \u001b[0mlen\u001b[0m\u001b[0;34m(\u001b[0m\u001b[0mself\u001b[0m\u001b[0;34m.\u001b[0m\u001b[0m_moments\u001b[0m\u001b[0;34m)\u001b[0m\u001b[0;34m:\u001b[0m\u001b[0;34m\u001b[0m\u001b[0;34m\u001b[0m\u001b[0m\n\u001b[1;32m   1008\u001b[0m                     \u001b[0mself\u001b[0m\u001b[0;34m.\u001b[0m\u001b[0m_moments\u001b[0m\u001b[0;34m.\u001b[0m\u001b[0mappend\u001b[0m\u001b[0;34m(\u001b[0m\u001b[0mops\u001b[0m\u001b[0;34m.\u001b[0m\u001b[0mMoment\u001b[0m\u001b[0;34m(\u001b[0m\u001b[0;34m)\u001b[0m\u001b[0;34m)\u001b[0m\u001b[0;34m\u001b[0m\u001b[0;34m\u001b[0m\u001b[0m\n\u001b[0;32m-> 1009\u001b[0;31m                 \u001b[0mself\u001b[0m\u001b[0;34m.\u001b[0m\u001b[0m_moments\u001b[0m\u001b[0;34m[\u001b[0m\u001b[0mp\u001b[0m\u001b[0;34m]\u001b[0m \u001b[0;34m=\u001b[0m \u001b[0mself\u001b[0m\u001b[0;34m.\u001b[0m\u001b[0m_moments\u001b[0m\u001b[0;34m[\u001b[0m\u001b[0mp\u001b[0m\u001b[0;34m]\u001b[0m\u001b[0;34m.\u001b[0m\u001b[0mwith_operation\u001b[0m\u001b[0;34m(\u001b[0m\u001b[0mmoment_or_op\u001b[0m\u001b[0;34m)\u001b[0m\u001b[0;34m\u001b[0m\u001b[0;34m\u001b[0m\u001b[0m\n\u001b[0m\u001b[1;32m   1010\u001b[0m                 \u001b[0mself\u001b[0m\u001b[0;34m.\u001b[0m\u001b[0m_device\u001b[0m\u001b[0;34m.\u001b[0m\u001b[0mvalidate_moment\u001b[0m\u001b[0;34m(\u001b[0m\u001b[0mself\u001b[0m\u001b[0;34m.\u001b[0m\u001b[0m_moments\u001b[0m\u001b[0;34m[\u001b[0m\u001b[0mp\u001b[0m\u001b[0;34m]\u001b[0m\u001b[0;34m)\u001b[0m\u001b[0;34m\u001b[0m\u001b[0;34m\u001b[0m\u001b[0m\n\u001b[1;32m   1011\u001b[0m                 \u001b[0mk\u001b[0m \u001b[0;34m=\u001b[0m \u001b[0mmax\u001b[0m\u001b[0;34m(\u001b[0m\u001b[0mk\u001b[0m\u001b[0;34m,\u001b[0m \u001b[0mp\u001b[0m \u001b[0;34m+\u001b[0m \u001b[0;36m1\u001b[0m\u001b[0;34m)\u001b[0m\u001b[0;34m\u001b[0m\u001b[0;34m\u001b[0m\u001b[0m\n",
      "\u001b[0;32m/usr/local/lib/python3.7/site-packages/cirq/ops/moment.py\u001b[0m in \u001b[0;36mwith_operation\u001b[0;34m(self, operation)\u001b[0m\n\u001b[1;32m     96\u001b[0m \u001b[0;34m\u001b[0m\u001b[0m\n\u001b[1;32m     97\u001b[0m         \u001b[0;31m# Use private variables to facilitate a quick copy\u001b[0m\u001b[0;34m\u001b[0m\u001b[0;34m\u001b[0m\u001b[0;34m\u001b[0m\u001b[0m\n\u001b[0;32m---> 98\u001b[0;31m         \u001b[0mm\u001b[0m \u001b[0;34m=\u001b[0m \u001b[0mMoment\u001b[0m\u001b[0;34m(\u001b[0m\u001b[0;34m)\u001b[0m\u001b[0;34m\u001b[0m\u001b[0;34m\u001b[0m\u001b[0m\n\u001b[0m\u001b[1;32m     99\u001b[0m         \u001b[0mm\u001b[0m\u001b[0;34m.\u001b[0m\u001b[0m_operations\u001b[0m \u001b[0;34m=\u001b[0m \u001b[0mself\u001b[0m\u001b[0;34m.\u001b[0m\u001b[0moperations\u001b[0m \u001b[0;34m+\u001b[0m \u001b[0;34m(\u001b[0m\u001b[0moperation\u001b[0m\u001b[0;34m,\u001b[0m\u001b[0;34m)\u001b[0m\u001b[0;34m\u001b[0m\u001b[0;34m\u001b[0m\u001b[0m\n\u001b[1;32m    100\u001b[0m         \u001b[0mm\u001b[0m\u001b[0;34m.\u001b[0m\u001b[0m_qubits\u001b[0m \u001b[0;34m=\u001b[0m \u001b[0mfrozenset\u001b[0m\u001b[0;34m(\u001b[0m\u001b[0mself\u001b[0m\u001b[0;34m.\u001b[0m\u001b[0m_qubits\u001b[0m\u001b[0;34m.\u001b[0m\u001b[0munion\u001b[0m\u001b[0;34m(\u001b[0m\u001b[0mset\u001b[0m\u001b[0;34m(\u001b[0m\u001b[0moperation\u001b[0m\u001b[0;34m.\u001b[0m\u001b[0mqubits\u001b[0m\u001b[0;34m)\u001b[0m\u001b[0;34m)\u001b[0m\u001b[0;34m)\u001b[0m\u001b[0;34m\u001b[0m\u001b[0;34m\u001b[0m\u001b[0m\n",
      "\u001b[0;32m/usr/local/lib/python3.7/site-packages/cirq/ops/moment.py\u001b[0m in \u001b[0;36m__init__\u001b[0;34m(self, operations)\u001b[0m\n\u001b[1;32m     51\u001b[0m         \u001b[0maffected_qubits\u001b[0m \u001b[0;34m=\u001b[0m \u001b[0;34m[\u001b[0m\u001b[0mq\u001b[0m \u001b[0;32mfor\u001b[0m \u001b[0mop\u001b[0m \u001b[0;32min\u001b[0m \u001b[0mself\u001b[0m\u001b[0;34m.\u001b[0m\u001b[0moperations\u001b[0m \u001b[0;32mfor\u001b[0m \u001b[0mq\u001b[0m \u001b[0;32min\u001b[0m \u001b[0mop\u001b[0m\u001b[0;34m.\u001b[0m\u001b[0mqubits\u001b[0m\u001b[0;34m]\u001b[0m\u001b[0;34m\u001b[0m\u001b[0;34m\u001b[0m\u001b[0m\n\u001b[1;32m     52\u001b[0m         \u001b[0mself\u001b[0m\u001b[0;34m.\u001b[0m\u001b[0m_qubits\u001b[0m \u001b[0;34m=\u001b[0m \u001b[0mfrozenset\u001b[0m\u001b[0;34m(\u001b[0m\u001b[0maffected_qubits\u001b[0m\u001b[0;34m)\u001b[0m\u001b[0;34m\u001b[0m\u001b[0;34m\u001b[0m\u001b[0m\n\u001b[0;32m---> 53\u001b[0;31m         \u001b[0;32mif\u001b[0m \u001b[0mlen\u001b[0m\u001b[0;34m(\u001b[0m\u001b[0maffected_qubits\u001b[0m\u001b[0;34m)\u001b[0m \u001b[0;34m!=\u001b[0m \u001b[0mlen\u001b[0m\u001b[0;34m(\u001b[0m\u001b[0mself\u001b[0m\u001b[0;34m.\u001b[0m\u001b[0m_qubits\u001b[0m\u001b[0;34m)\u001b[0m\u001b[0;34m:\u001b[0m\u001b[0;34m\u001b[0m\u001b[0;34m\u001b[0m\u001b[0m\n\u001b[0m\u001b[1;32m     54\u001b[0m             raise ValueError(\n\u001b[1;32m     55\u001b[0m                 'Overlapping operations: {}'.format(self.operations))\n",
      "\u001b[0;31mKeyboardInterrupt\u001b[0m: "
     ]
    }
   ],
   "source": [
    "init = [random.randint(10, 100)/50 for i in range(0, 6)]\n",
    "#init = [1.96, 1.08, 0.32, 1.04, 1.28, 0.5]\n",
    "out = minimize(cost_function, x0=init, method=\"COBYLA\", options={'maxiter':30})\n",
    "g = out['x']\n",
    "print(out)"
   ]
  },
  {
   "cell_type": "code",
   "execution_count": 61,
   "metadata": {},
   "outputs": [
    {
     "name": "stdout",
     "output_type": "stream",
     "text": [
      "[1.14 2.52 0.84 1.04 1.12 1.24]\n",
      "(1, 0): ───H───Z^-0.257───X^-0.257───Z^-0.879───X^-0.879───@──────────────────────────────@───@──────────────────────────────@───Rx(-1.3789999999999996π)─────────────────────────────────────────────────────────────\n",
      "                                                           │                              │   │                              │\n",
      "(1, 1): ───H───Z^0.387────X^0.387────Z^0.919────X^0.919────X───Rz(-0.7430000000000003π)───X───┼──────────────────────────────┼───@────────────────────────────────────────────────────@───Rx(-0.8700000000000001π)────\n",
      "                                                                                              │                              │   │                                                    │\n",
      "(1, 2): ───H───Z^-0.63────X^-0.63────Z^0.089────X^0.089───────────────────────────────────────X───Rz(0.04299999999999926π)───X───X──────────────────────────Rz(1.3479999999999999π)───X───Rx(-0.10599999999999987π)───\n"
     ]
    },
    {
     "data": {
      "image/png": "[encoded data removed]",
      "text/plain": [
       "<Figure size 288x288 with 2 Axes>"
      ]
     },
     "metadata": {
      "needs_background": "light"
     },
     "output_type": "display_data"
    },
    {
     "name": "stdout",
     "output_type": "stream",
     "text": [
      "Fidelity: (0.10705901+0j)\n"
     ]
    }
   ],
   "source": [
    "# Prepares the optimal state\n",
    "circuit = cirq.Circuit()\n",
    "g = params_step\n",
    "print(g)\n",
    "circuit.append(qgrnn_ansatz(initial_graph, [g[0:3], g[3:6]], optimal_params, 1, network_register, 10))\n",
    "print(circuit)\n",
    "\n",
    "simulator = cirq.Simulator()\n",
    "results = simulator.simulate(circuit)\n",
    "state_vector = results.final_state\n",
    "\n",
    "create_density_matrix(np.real(np.outer(state_vector, np.conj(state_vector))))\n",
    "\n",
    "print(\"Fidelity: \"+str(np.inner(np.conj(state_vector), vector)*np.inner(np.conj(vector), state_vector)))"
   ]
  },
  {
   "cell_type": "code",
   "execution_count": null,
   "metadata": {},
   "outputs": [],
   "source": []
  }
 ],
 "metadata": {
  "kernelspec": {
   "display_name": "Python 3",
   "language": "python",
   "name": "python3"
  },
  "language_info": {
   "codemirror_mode": {
    "name": "ipython",
    "version": 3
   },
   "file_extension": ".py",
   "mimetype": "text/x-python",
   "name": "python",
   "nbconvert_exporter": "python",
   "pygments_lexer": "ipython3",
   "version": "3.7.5"
  }
 },
 "nbformat": 4,
 "nbformat_minor": 4
}
