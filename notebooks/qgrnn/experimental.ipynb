{
 "cells": [
  {
   "cell_type": "markdown",
   "metadata": {},
   "source": [
    "## Quantum Graph Reccurent Neural Network in Pennylane"
   ]
  },
  {
   "cell_type": "code",
   "execution_count": 12,
   "metadata": {},
   "outputs": [],
   "source": [
    "# Starts by importing all of the necessary dependencies\n",
    "\n",
    "import pennylane as qml\n",
    "from matplotlib import pyplot as plt\n",
    "import numpy as np\n",
    "import scipy\n",
    "from scipy.optimize import minimize\n",
    "import random\n",
    "import math\n",
    "import networkx as nx\n",
    "import seaborn\n",
    "import timeit\n",
    "import tensorflow as tf"
   ]
  },
  {
   "cell_type": "markdown",
   "metadata": {},
   "source": [
    "### Introduction"
   ]
  },
  {
   "cell_type": "markdown",
   "metadata": {},
   "source": [
    "In this Notebook, we will investigate the idea of a **quantum graph neural network**, which is the quantum analogue of a classical graph neural network. More specicically, the quantum neural network we will be investigating is a **recurrent** quantum graph neural network. We will disucss what makes this sublcass unique later in the Notebook, but for now, we will note that these QGRNNs are very useful for learning the dynamics of quantum systems that \"live\" on a graph."
   ]
  },
  {
   "cell_type": "markdown",
   "metadata": {},
   "source": [
    "### The Quantum Graph Neural Network"
   ]
  },
  {
   "cell_type": "markdown",
   "metadata": {},
   "source": [
    "In recent years, the idea of a quantum graph neural network has been receving a lot of attention from the machine learning research community for its ability to learn representations of data that is inhernelty graph-theoretic in nature. More specifically, graph neural networks seek to learn a **representation** (a mapping of the data into a lower-dimensional vector space) of a given graph, with features assigned to nodes and edges, such that the each of the vectors in the learned representation preserves the overall topology of the graph."
   ]
  },
  {
   "cell_type": "markdown",
   "metadata": {},
   "source": [
    "We will attempt to modify the same task, but from a quantum computational perspective. Specifically, we want to define an ansatz that we can use for quantum machine learning tasks that are inherently graph-theoreticin nature. From the original QGNN paper, the general QGNN ansatz is defined as:\n",
    "\n",
    "<br>\n",
    "$$U(\\boldsymbol\\gamma, \\ \\boldsymbol\\theta) \\ = \\ \\displaystyle\\prod_{i \\ = \\ 1}^{P} \\Bigg[ \\displaystyle\\prod_{j \\ = \\ 1}^{Q} e^{-i \\gamma_{ij} H_{j}(\\boldsymbol\\theta) }\\Bigg]$$\n",
    "<br>\n",
    "\n",
    "Where we have:\n",
    "\n",
    "<br>\n",
    "$$\\hat{H}_{j}(\\boldsymbol\\theta) \\ = \\ \\displaystyle\\sum$$\n",
    "<br>\n",
    "\n",
    "As you can see, this is the class of Hamiltonians that posses a direct mapping between interaction and bias terms, and the edges and vertices (repsectively) of some graph $G \\ = \\ (V, \\ E)$."
   ]
  },
  {
   "cell_type": "markdown",
   "metadata": {},
   "source": [
    "### The Quantum Graph Recurrent Neural Network"
   ]
  },
  {
   "cell_type": "markdown",
   "metadata": {},
   "source": [
    "Now that we have discussed what a general quantum graph neural network looks like, let's discuss what distinguishes a quantum graph RNN from its more general counterpart. With a graph RNN, we make one small change to the $\\boldsymbol\\gamma$ parameters. Specifically, we tie these parameters over temproal layers, meaning that each $\\gamma_{ij}$ is only determined by the index $j$, and is the same across all values of $i$ (with some fixed $j$). As the paper explains, this is equivalent to how a classical recurrent neural network behaves, where parameters remain the same over layers of the neural network. Thus, we will have:\n",
    "\n",
    "<br>\n",
    "$$U_{\\text{RNN}}(\\gamma, \\ \\theta) \\ = \\ \\displaystyle\\prod_{i \\ = \\ 1}^{P} \\Bigg[ \\displaystyle\\prod_{j \\ = \\ 1}^{Q} e^{-i \\gamma_{j} H_{j}(\\boldsymbol\\theta) }\\Bigg]$$\n",
    "<br>\n",
    "\n",
    "Now, the Trotter-Suzuki decomposition says that:\n",
    "\n",
    "<br>\n",
    "$$\\exp \\Bigg[ \\displaystyle\\sum_{n} A_n \\Bigg] \\ = \\ \\lim_{P \\rightarrow \\infty} \\displaystyle\\prod_{j \\ = \\ 1}^{P} \\Bigg[ \\displaystyle\\prod_{n} e^{A_n / P} \\Bigg]$$\n",
    "<br>"
   ]
  },
  {
   "cell_type": "markdown",
   "metadata": {},
   "source": [
    "Where finite $P \\ \\gg \\ 1$ approximates the left-hand side of the equation. It isn't too difficult to see that the quantum graph RNN resembles the Trotter-Suzuki decomposition. More specifically, the quantum graph RNN can be thought of as the Trotterization of the time-evolution operator. Let us fix a time $T$. Let us also fix a parameter that controls the size of the Trotterization steps (essentially the $1/P$ in the above formula), which we call $\\Delta$. This allows uas to keep the precision of our approximate time-evolution for different values of $T$ the same.\n",
    "\n",
    "<br>\n",
    "\n",
    "ADD STUFF\n",
    "\n",
    "<br>\n",
    "$$e^{-i T H'} \\ \\approx \\ \\displaystyle\\prod_{i \\ = \\ 1}^{T / \\Delta} \\Bigg[ \\displaystyle\\prod_{j \\ = \\ 1}^{Q} e^{-i \\Delta H_{j}(\\boldsymbol\\theta)} \\Bigg]$$\n",
    "<br>"
   ]
  },
  {
   "cell_type": "markdown",
   "metadata": {},
   "source": [
    "#### Using the QGRNN for Hamiltonian Learning"
   ]
  },
  {
   "cell_type": "markdown",
   "metadata": {},
   "source": [
    "#### The Hamiltonian as a Feature Representation\n",
    "\n",
    "It is actually very interesting to note that this process of learning the Hamiltonian is actually a form of representation learning. Specifically, the $ZZ$ terms of the Hamiltonian will encode exactly where the edges of our graph interactions are. In addition to this, if we consider the state collection of states $\\{ |\\Psi(t)\\rangle \\}$ to be the features associated with the graph, then we are able to determine all of these features by **using the Hamiltonian** (all we have to do is evolve our fixed initial state forward in time by some time $t$). Thus, the Hamiltonian is exactly the node representation that describes the graph along with its features. In this paradigm, however, we are dealing with inherently quantum mechanical data/features. This means that the data can't always necessarily be assigned to one node (in the case of entanglement between nodes), and in many cases, computation required to prepare, store, and process this quantum data scales poorly. Thus, our quantum graph neural network is particularly well-suited to this task."
   ]
  },
  {
   "cell_type": "markdown",
   "metadata": {},
   "source": [
    "### The QGRNN Applied to an Ising Model\n",
    "\n",
    "In this Notebook we are going to investigate an application of the QGRNN to learning the dynamics of a 3-qubit Ising model."
   ]
  },
  {
   "cell_type": "markdown",
   "metadata": {},
   "source": [
    "#### Initializing the Graph and Preparing the Target Hamiltonian"
   ]
  },
  {
   "cell_type": "markdown",
   "metadata": {},
   "source": [
    "We can begin by defining some fixed values that will be used through out the simulation, as well as the device on which we will run our simulations:"
   ]
  },
  {
   "cell_type": "code",
   "execution_count": 13,
   "metadata": {},
   "outputs": [],
   "source": [
    "# Initialize the device on which the simulation is run\n",
    "\n",
    "qubit_number = 4\n",
    "qubits = range(qubit_number)\n",
    "vqe_dev = qml.device(\"default.qubit\", wires=qubit_number)"
   ]
  },
  {
   "cell_type": "markdown",
   "metadata": {},
   "source": [
    "We will begin by defining the graph on which our Ising model lives. We choose the graph to be the completely connected graph with $3$ nodes, denoted by $K^3$. This is more commonly known as a triangle. We can construct and visualize this graph using `networkx`:"
   ]
  },
  {
   "cell_type": "code",
   "execution_count": 14,
   "metadata": {},
   "outputs": [
    {
     "data": {
      "image/png": "[encoded data removed]",
      "text/plain": [
       "<Figure size 432x288 with 1 Axes>"
      ]
     },
     "metadata": {},
     "output_type": "display_data"
    }
   ],
   "source": [
    "# Creates the graph structure of the quantum system\n",
    "\n",
    "ising_graph = nx.Graph()\n",
    "ising_graph.add_nodes_from(range(0, qubit_number))\n",
    "ising_graph.add_edges_from([(0, 1), (1, 2), (2, 3), (3, 0)])\n",
    "\n",
    "# Plots the graph\n",
    "\n",
    "nx.draw(ising_graph)"
   ]
  },
  {
   "cell_type": "markdown",
   "metadata": {},
   "source": [
    "Now, let's define the Hamiltonian we will eventiually attempt to learn. There are two reasons for doing this. Firstly, we need to compare the preparred Hamiltonian to the targt Hamiltonian, to make sure that our toy example of the QGRNN actually works, and secondly, we have to prepare the quantum data that will be usd in training. In a real-world application of this algorithm, we would have access to a bunch of quantum data that we could feed into the neural network, but in this scenario, we have to generate the quantum data ourself. The only way to do this is to know the Hamiltonian (and thus, the dynamics) of our system. Our Ising model Hamiltonian will be of the form:\n",
    "\n",
    "<br>\n",
    "$$\\hat{H} \\ = \\ \\displaystyle\\sum_{i, j} \\alpha_{ij} Z_{i} Z_{j} \\ + \\ \\displaystyle\\sum_{i} \\beta_{i} Z_{i} \\ + \\ \\displaystyle\\sum_{i} X_{i}$$\n",
    "<br>\n",
    "\n",
    "Where $\\boldsymbol\\alpha$ and $\\boldsymbol\\beta$ are the matrix and vector of interaction and bias parameters we are trying to learn, respectively. We will initialize $\\boldsymbol\\alpha$ and $\\boldsymbol\\beta$ randomly:"
   ]
  },
  {
   "cell_type": "code",
   "execution_count": 15,
   "metadata": {},
   "outputs": [
    {
     "name": "stdout",
     "output_type": "stream",
     "text": [
      "Target parameters: [[1.12, -1.41, 1.47, 0.34], [-1.54, -1.32, 0.04, 0.25]]\n"
     ]
    }
   ],
   "source": [
    "def create_params(graph):\n",
    "    \n",
    "    # Creates the interaction parameters\n",
    "    interaction = [random.randint(-200, 200)/100 for i in range(0, len(graph.edges))]\n",
    "    \n",
    "    # Creates the bias parameters\n",
    "    bias = [random.randint(-200, 200)/100 for i in range(0, qubit_number)]\n",
    "    \n",
    "    return [interaction, bias]\n",
    "\n",
    "# Creates and prints the parameters for our simulation\n",
    "matrix_params = create_params(ising_graph)\n",
    "print(\"Target parameters: \"+str(matrix_params))"
   ]
  },
  {
   "cell_type": "markdown",
   "metadata": {},
   "source": [
    "Wtih this knowledge, let's now construct the matrix representation of the Hamiltonian, in the $Z$-basis:"
   ]
  },
  {
   "cell_type": "code",
   "execution_count": 16,
   "metadata": {},
   "outputs": [
    {
     "name": "stdout",
     "output_type": "stream",
     "text": [
      "[[-1.05  1.    1.    0.    1.    0.    0.    0.    1.    0.    0.    0.\n",
      "   0.    0.    0.    0.  ]\n",
      " [ 1.    0.59  0.    1.    0.    1.    0.    0.    0.    1.    0.    0.\n",
      "   0.    0.    0.    0.  ]\n",
      " [ 1.    0.   -4.75  1.    0.    0.    1.    0.    0.    0.    1.    0.\n",
      "   0.    0.    0.    0.  ]\n",
      " [ 0.    1.    1.   -1.75  0.    0.    0.    1.    0.    0.    0.    1.\n",
      "   0.    0.    0.    0.  ]\n",
      " [ 1.    0.    0.    0.   -3.59  1.    1.    0.    0.    0.    0.    0.\n",
      "   1.    0.    0.    0.  ]\n",
      " [ 0.    1.    0.    0.    1.   -1.95  0.    1.    0.    0.    0.    0.\n",
      "   0.    1.    0.    0.  ]\n",
      " [ 0.    0.    1.    0.    1.    0.   -1.41  1.    0.    0.    0.    0.\n",
      "   0.    0.    1.    0.  ]\n",
      " [ 0.    0.    0.    1.    0.    1.    1.    1.59  0.    0.    0.    0.\n",
      "   0.    0.    0.    1.  ]\n",
      " [ 1.    0.    0.    0.    0.    0.    0.    0.    2.61  1.    1.    0.\n",
      "   1.    0.    0.    0.  ]\n",
      " [ 0.    1.    0.    0.    0.    0.    0.    0.    1.   -1.39  0.    1.\n",
      "   0.    1.    0.    0.  ]\n",
      " [ 0.    0.    1.    0.    0.    0.    0.    0.    1.    0.   -1.09  1.\n",
      "   0.    0.    1.    0.  ]\n",
      " [ 0.    0.    0.    1.    0.    0.    0.    0.    0.    1.    1.   -3.73\n",
      "   0.    0.    0.    1.  ]\n",
      " [ 0.    0.    0.    0.    1.    0.    0.    0.    1.    0.    0.    0.\n",
      "   4.55  1.    1.    0.  ]\n",
      " [ 0.    0.    0.    0.    0.    1.    0.    0.    0.    1.    0.    0.\n",
      "   1.    0.55  0.    1.  ]\n",
      " [ 0.    0.    0.    0.    0.    0.    1.    0.    0.    0.    1.    0.\n",
      "   1.    0.    6.73  1.  ]\n",
      " [ 0.    0.    0.    0.    0.    0.    0.    1.    0.    0.    0.    1.\n",
      "   0.    1.    1.    4.09]]\n"
     ]
    }
   ],
   "source": [
    "def create_hamiltonian_matrix(n, graph, params):\n",
    "    \n",
    "    # Defines Pauli matrices\n",
    "    pauli_x = np.array([[0, 1], [1, 0]])\n",
    "    pauli_y = np.array([[0, -1j], [1j, 0]])\n",
    "    pauli_z = np.array([[1, 0], [0, -1]])\n",
    "    identity = np.array([[1, 0], [0, 1]])\n",
    "\n",
    "    matrix = np.zeros((2**n, 2**n))\n",
    "    \n",
    "    # Creates the interaction component of the Hamiltonian\n",
    "    for count, i in enumerate(graph.edges):\n",
    "        m = 1\n",
    "        for j in range(0, n):\n",
    "            if (i[0] == j or i[1] == j):\n",
    "                m = np.kron(m, pauli_z)\n",
    "            else:\n",
    "                m = np.kron(m, identity)\n",
    "        matrix = np.add(matrix, params[0][count]*m)\n",
    "    \n",
    "    # Creates the \"bias\" component of the matrix\n",
    "    for i in range(0, n):\n",
    "        m = 1\n",
    "        for j in range(0, n):\n",
    "            if (j == i):\n",
    "                m = np.kron(m, pauli_z)\n",
    "            else:\n",
    "                m = np.kron(m, identity)\n",
    "        matrix = np.add(matrix, params[1][i]*m)\n",
    "    \n",
    "    # Creates the X component of the matrix\n",
    "    for i in range(0, n):\n",
    "        m = 1\n",
    "        for j in range(0, n):\n",
    "            if (j == i):\n",
    "                m = np.kron(m, pauli_x)\n",
    "            else:\n",
    "                m = np.kron(m, identity)\n",
    "        matrix = np.add(matrix, m)\n",
    "\n",
    "    return matrix\n",
    "\n",
    "# Defines and prints the matrix for our interaction graph and parameters\n",
    "ham_matrix = create_hamiltonian_matrix(qubit_number, ising_graph, matrix_params)\n",
    "print(ham_matrix)"
   ]
  },
  {
   "cell_type": "markdown",
   "metadata": {},
   "source": [
    "Since the Hamiltonian is the main object of interest in the quantum graph neural network, let's visualize it using the `seaborn` library's heatmap function, which essentially defines colours to each component of the matrix:"
   ]
  },
  {
   "cell_type": "code",
   "execution_count": 17,
   "metadata": {},
   "outputs": [
    {
     "data": {
      "text/plain": [
       "<matplotlib.axes._subplots.AxesSubplot at 0x13a115750>"
      ]
     },
     "execution_count": 17,
     "metadata": {},
     "output_type": "execute_result"
    },
    {
     "data": {
      "image/png": "[encoded data removed]",
      "text/plain": [
       "<Figure size 432x288 with 2 Axes>"
      ]
     },
     "metadata": {
      "needs_background": "light"
     },
     "output_type": "display_data"
    }
   ],
   "source": [
    "# Visual display of the target Hamiltonian\n",
    "seaborn.heatmap(ham_matrix)"
   ]
  },
  {
   "cell_type": "markdown",
   "metadata": {},
   "source": [
    "#### Preparing the Quantum Data with VQE"
   ]
  },
  {
   "cell_type": "markdown",
   "metadata": {},
   "source": [
    "Now that we have prepared the target Hamiltonian, we can use it to prepare all of the necessary quantum data that we will use to train our QGRNN. As was discussed above, the data that will be fed into the neural network is a collection of time-evolved, low-energy quantum states corresponding to the target Hamiltonian. Thus, it follows that we must first prepare the low-energy states at $t \\ = \\ 0$, and evolve them forward in time to arbitrary times from $0$ to $T$. In order to prepare low energy states of the Hamiltonian, we will use VQE. Recall that the purpose of VQE is to find the ground energy state of a given Hamiltonian. We don't want to find the exact ground state of the Hamiltonian, as it's time evolution will just equate to the addition of a global phase.\n",
    "\n",
    "<br>\n",
    "$$U(t)|E_k\\rangle \\ = \\ e^{-i H t / \\hbar} |E_k\\rangle \\ = \\ \\displaystyle\\sum_{n \\ = \\ 0}^{\\infty} \\Big( -\\frac{i t}{\\hbar} \\Big)^n \\frac{H^n |E_k\\rangle}{n!} \\ = \\ \\displaystyle\\sum_{n \\ = \\ 0}^{\\infty} \\frac{1}{n!} \\Big( \\frac{- i E_k t}{\\hbar} \\Big)^n |E_k\\rangle \\ = \\ e^{i E_k t / \\hbar} |E_k\\rangle$$\n",
    "<br>\n",
    "\n",
    "Thus, this quantum data will be practically useless, as we are essentially just giving ourselves a bunch of copies of the exact same quantum state. Thus, instead of prearing the exact ground state, we wish to prepare a state $|\\phi\\rangle$ that is \"close\" to the ground state, $|\\psi_0\\rangle$ (meaning that $|\\langle \\phi | \\psi_0 \\rangle |^2$ is close to $1$). To do this, we will preform VQE, but we will use an ansataz that we know **won't converge exactly towards the ground state**.\n",
    "\n",
    "For the specific example of the Hamiltonian we are considering in this tutorial, we have $ZZ$ interaction terms between qubits that share an edge on the graph. Thus, we know that it is likely that there will be some kind of entanglement between qubits in the ground state. We will then choose our ansatz such that the qubits remain **unentangled**. By only applying single-qubit gates, we ensure that each of the qubits remains completely uncorrelated from the others, thus making is so that the ground state can never be reached by our optimizer. The initial layer of our variational algorithms will be simply to create an even superposition over all basis states:"
   ]
  },
  {
   "cell_type": "code",
   "execution_count": 18,
   "metadata": {},
   "outputs": [],
   "source": [
    "# Defines a method that creates an even superposition of basis states\n",
    "\n",
    "def even_superposition(qubits):\n",
    "    \n",
    "    for i in qubits:\n",
    "        qml.Hadamard(wires=i)"
   ]
  },
  {
   "cell_type": "markdown",
   "metadata": {},
   "source": [
    "And the following layers will be alternating applications of $RZ$ and $RX$ gates:"
   ]
  },
  {
   "cell_type": "code",
   "execution_count": 19,
   "metadata": {},
   "outputs": [],
   "source": [
    "# Method that prepares a low-energy state        \n",
    "        \n",
    "def decoupled_layer(param1, param2, qubits):\n",
    "    \n",
    "    # Applies a layer of RZ and RX gates\n",
    "    for count, i in enumerate(qubits):\n",
    "        \n",
    "        qml.RZ(param1[count], wires=i)\n",
    "        qml.RX(param2[count], wires=i)"
   ]
  },
  {
   "cell_type": "markdown",
   "metadata": {},
   "source": [
    "We can then define our VQE ansatz as:"
   ]
  },
  {
   "cell_type": "code",
   "execution_count": 20,
   "metadata": {},
   "outputs": [],
   "source": [
    "# Method that creates the decoupled VQE ansatz\n",
    "\n",
    "def vqe_circuit(parameters, qubits, depth):\n",
    "    \n",
    "    even_superposition(qubits)\n",
    "    \n",
    "    for i in range(0, depth):\n",
    "        decoupled_layer(parameters[0], parameters[1], qubits)"
   ]
  },
  {
   "cell_type": "markdown",
   "metadata": {},
   "source": [
    "Finally, we can create a function and a QNode that allows us to run our VQE circuit:"
   ]
  },
  {
   "cell_type": "code",
   "execution_count": 21,
   "metadata": {},
   "outputs": [
    {
     "name": "stdout",
     "output_type": "stream",
     "text": [
      "-1.4246133962650398\n",
      " 0: ──H──RZ(1)──RX(1)──RZ(1)──RX(1)──╭┤ ⟨H0⟩ \n",
      " 1: ──H──RZ(1)──RX(1)──RZ(1)──RX(1)──├┤ ⟨H0⟩ \n",
      " 2: ──H──RZ(1)──RX(1)──RZ(1)──RX(1)──├┤ ⟨H0⟩ \n",
      " 3: ──H──RZ(1)──RX(1)──RZ(1)──RX(1)──╰┤ ⟨H0⟩ \n",
      "H0 =\n",
      "[[-1.05  1.    1.    0.    1.    0.    0.    0.    1.    0.    0.    0.\n",
      "   0.    0.    0.    0.  ]\n",
      " [ 1.    0.59  0.    1.    0.    1.    0.    0.    0.    1.    0.    0.\n",
      "   0.    0.    0.    0.  ]\n",
      " [ 1.    0.   -4.75  1.    0.    0.    1.    0.    0.    0.    1.    0.\n",
      "   0.    0.    0.    0.  ]\n",
      " [ 0.    1.    1.   -1.75  0.    0.    0.    1.    0.    0.    0.    1.\n",
      "   0.    0.    0.    0.  ]\n",
      " [ 1.    0.    0.    0.   -3.59  1.    1.    0.    0.    0.    0.    0.\n",
      "   1.    0.    0.    0.  ]\n",
      " [ 0.    1.    0.    0.    1.   -1.95  0.    1.    0.    0.    0.    0.\n",
      "   0.    1.    0.    0.  ]\n",
      " [ 0.    0.    1.    0.    1.    0.   -1.41  1.    0.    0.    0.    0.\n",
      "   0.    0.    1.    0.  ]\n",
      " [ 0.    0.    0.    1.    0.    1.    1.    1.59  0.    0.    0.    0.\n",
      "   0.    0.    0.    1.  ]\n",
      " [ 1.    0.    0.    0.    0.    0.    0.    0.    2.61  1.    1.    0.\n",
      "   1.    0.    0.    0.  ]\n",
      " [ 0.    1.    0.    0.    0.    0.    0.    0.    1.   -1.39  0.    1.\n",
      "   0.    1.    0.    0.  ]\n",
      " [ 0.    0.    1.    0.    0.    0.    0.    0.    1.    0.   -1.09  1.\n",
      "   0.    0.    1.    0.  ]\n",
      " [ 0.    0.    0.    1.    0.    0.    0.    0.    0.    1.    1.   -3.73\n",
      "   0.    0.    0.    1.  ]\n",
      " [ 0.    0.    0.    0.    1.    0.    0.    0.    1.    0.    0.    0.\n",
      "   4.55  1.    1.    0.  ]\n",
      " [ 0.    0.    0.    0.    0.    1.    0.    0.    0.    1.    0.    0.\n",
      "   1.    0.55  0.    1.  ]\n",
      " [ 0.    0.    0.    0.    0.    0.    1.    0.    0.    0.    1.    0.\n",
      "   1.    0.    6.73  1.  ]\n",
      " [ 0.    0.    0.    0.    0.    0.    0.    1.    0.    0.    0.    1.\n",
      "   0.    1.    1.    4.09]]\n",
      "\n"
     ]
    }
   ],
   "source": [
    "# Defines the depth of our variational circuit\n",
    "vqe_depth = 2\n",
    "\n",
    "# Defines the circuit that we will use to perform VQE on our Hamiltonian\n",
    "def create_circuit(params1, params2):\n",
    "    \n",
    "    vqe_circuit([params1, params2], qubits, vqe_depth)\n",
    "    \n",
    "    return qml.expval(qml.Hermitian(ham_matrix, wires=range(qubit_number)))\n",
    "\n",
    "# Creates the corresponding QNode\n",
    "qnode = qml.QNode(create_circuit, vqe_dev)\n",
    "\n",
    "# Constructs a test case of our circuit\n",
    "resulting_circuit = qnode([1, 1, 1, 1, 1], [1, 1, 1, 1, 1])\n",
    "print(resulting_circuit)\n",
    "print(qnode.draw())"
   ]
  },
  {
   "cell_type": "markdown",
   "metadata": {},
   "source": [
    "We have all of the code we need to optimize our quantum circuit, thus we create an optimizer and run it:"
   ]
  },
  {
   "cell_type": "code",
   "execution_count": 22,
   "metadata": {},
   "outputs": [
    {
     "name": "stdout",
     "output_type": "stream",
     "text": [
      "Cost Step 0: -0.5420230285483769\n",
      "Cost Step 50: -5.594108582859198\n",
      "Cost Step 100: -5.887139721470076\n",
      "Cost Step 150: -5.889920010342138\n",
      "[-5.0817598407830635, 5.0669972692731555, -11.343904232653596, -1.2759091824167754, 0.7456339460019209, -0.7343600217582522, -7.012648516959206, -6.9677579758729]\n"
     ]
    }
   ],
   "source": [
    "# Creates the cost function\n",
    "\n",
    "def cost_function(params):\n",
    "\n",
    "    return qnode(params[0:qubit_number], params[qubit_number:2*qubit_number])\n",
    "\n",
    "# Creates the optimizer for VQE\n",
    "\n",
    "optimizer = qml.AdamOptimizer(stepsize=0.8)\n",
    "\n",
    "steps = 200\n",
    "vqe_params = list([random.randint(-100, 100)/10 for i in range(0, 2*qubit_number)])\n",
    "\n",
    "for i in range(0, steps):\n",
    "    vqe_params = optimizer.step(cost_function, vqe_params)\n",
    "    if (i%50 == 0):\n",
    "        print(\"Cost Step \"+str(i)+\": \"+str(cost_function(vqe_params)))\n",
    "\n",
    "print(vqe_params)"
   ]
  },
  {
   "cell_type": "markdown",
   "metadata": {},
   "source": [
    "Now, let's check to see if we generated a low-energy state. This will require us to find the ground state energy of the Hamiltonian:"
   ]
  },
  {
   "cell_type": "code",
   "execution_count": 23,
   "metadata": {},
   "outputs": [
    {
     "name": "stdout",
     "output_type": "stream",
     "text": [
      "-6.082607017498217\n"
     ]
    }
   ],
   "source": [
    "# Finds the ground state energy of a Hamiltonian\n",
    "\n",
    "def ground_state_energy(matrix):\n",
    "    \n",
    "    # Finds the eigenstates of the matrix\n",
    "    val = np.linalg.eig(matrix)[0]\n",
    "    \n",
    "    # Returns the minimum eigenvalue\n",
    "    return min(val)\n",
    "\n",
    "ground_state = ground_state_energy(ham_matrix)\n",
    "print(ground_state)"
   ]
  },
  {
   "cell_type": "markdown",
   "metadata": {},
   "source": [
    "This is pretty close to the energy value we found above with our decoupled VQE, so we can conclude that we have generated a low-energy state. With a good initial state, we can now prepare our collection of quantum data by evolving our initial state vector forward in time. We can do this exactly in Pennylane, using a custom unitary gate, which we define to be the time-evolution operator for our Ising model Hamiltonian, which we defined above:"
   ]
  },
  {
   "cell_type": "code",
   "execution_count": 24,
   "metadata": {},
   "outputs": [],
   "source": [
    "# Creates an exact time-evolution unitary\n",
    "\n",
    "def state_evolve(hamiltonian, qubits, time):\n",
    "\n",
    "    U = scipy.linalg.expm(complex(0,-1)*hamiltonian*time)\n",
    "    qml.QubitUnitary(U, wires=qubits)"
   ]
  },
  {
   "cell_type": "markdown",
   "metadata": {},
   "source": [
    "This is all we need to prepare our quantum data. Now, let's turn our attention to the actual quantum graph neural network ansatz. We have demonstrated that the QGRNN is essentially equivalent to the Trotterized time evolution of a given quantum state, under our Ising Hamiltonian. Our Ising Hamiltonian involves $ZZ$ gates, thus we need to write a method that allows us to construct $RZZ$ gates out of the standard gate set in Pennylane:"
   ]
  },
  {
   "cell_type": "code",
   "execution_count": 25,
   "metadata": {},
   "outputs": [],
   "source": [
    "# Defines the RZZ gate, in terms of gates in the standard basis set\n",
    "\n",
    "def RZZ(param, qubit1, qubit2):\n",
    "    \n",
    "    qml.CNOT(wires=[qubit1, qubit2])\n",
    "    qml.RZ(param, wires=qubit2)\n",
    "    qml.CNOT(wires=[qubit1, qubit2])"
   ]
  },
  {
   "cell_type": "markdown",
   "metadata": {},
   "source": [
    "Where the implemented gate is equivalent to the $RZZ$ gate. With this, we can now write a function that implements one step of the Trotterized time evolution:"
   ]
  },
  {
   "cell_type": "code",
   "execution_count": 26,
   "metadata": {},
   "outputs": [],
   "source": [
    "# Method that prepares a time-evolution layer\n",
    "\n",
    "def qgrnn_layer(param1, param2, qubits, graph, trotter):\n",
    "    \n",
    "    # Applies a layer of coupling gates (based on the graph)\n",
    "    for count, i in enumerate(graph.edges):\n",
    "        RZZ(2*param1[count]*trotter, i[0], i[1])\n",
    "    \n",
    "    # Applies a layer of RZ gates\n",
    "    for count, i in enumerate(qubits):\n",
    "        qml.RZ(2*param2[count]*trotter, wires=i)\n",
    "    \n",
    "    # Applies a layer of RX gates\n",
    "    for i in qubits:\n",
    "        qml.RX(2*trotter, wires=i)"
   ]
  },
  {
   "cell_type": "markdown",
   "metadata": {},
   "source": [
    "Finally, we will need to make use of the $SWAP$ test, to calculate the fidelity between the prepared quantum state and our quantum data. We can write a function that performs this process:"
   ]
  },
  {
   "cell_type": "code",
   "execution_count": 27,
   "metadata": {},
   "outputs": [],
   "source": [
    "# Implements the SWAP test between two qubit registers\n",
    "\n",
    "def swap_test(control, register1, register2):\n",
    "    \n",
    "    qml.Hadamard(wires=control)\n",
    "    for i in range(0, len(register1)):\n",
    "        qml.CSWAP(wires=[int(control), register1[i], register2[i]])\n",
    "    qml.Hadamard(wires=control)"
   ]
  },
  {
   "cell_type": "markdown",
   "metadata": {},
   "source": [
    "From here, we can build our quantum circuit that corresponds to one execution of our QGRNN, for a given time step. First, let's define a new quantum device with $7$ qubits rather than $3$, as we will need registers for our neural network, and data-preparation, plus an extra qubit for the $SWAP$ test."
   ]
  },
  {
   "cell_type": "code",
   "execution_count": 36,
   "metadata": {},
   "outputs": [],
   "source": [
    "# Defines the new\n",
    "qgrnn_dev = qml.device(\"default.qubit.tf\", wires=2*qubit_number+1)"
   ]
  },
  {
   "cell_type": "code",
   "execution_count": 59,
   "metadata": {},
   "outputs": [
    {
     "name": "stdout",
     "output_type": "stream",
     "text": [
      "Edges: [(4, 5), (4, 6), (4, 7), (5, 6), (5, 7), (6, 7)]\n"
     ]
    }
   ],
   "source": [
    "# Defines some fixed values\n",
    "\n",
    "reg1 = list(range(qubit_number))\n",
    "reg2 = list(range(qubit_number, 2*qubit_number))\n",
    "\n",
    "control = 2*qubit_number\n",
    "trotter_step = 0.01\n",
    "\n",
    "# Defines the interaction graph for the new qubit system\n",
    "\n",
    "#new_ising_graph = nx.complete_graph(qubit_number)\n",
    "\n",
    "new_ising_graph = nx.Graph()\n",
    "new_ising_graph.add_nodes_from(range(qubit_number, 2*qubit_number))\n",
    "new_ising_graph.add_edges_from([(4, 5), (5, 6), (6, 7), (4, 6), (7, 4), (5, 7)])\n",
    "\n",
    "print(\"Edges: \"+str(new_ising_graph.edges))"
   ]
  },
  {
   "cell_type": "code",
   "execution_count": 53,
   "metadata": {},
   "outputs": [],
   "source": [
    "# Implements the quantum graph neural network for a given time step\n",
    "\n",
    "def qgrnn(params1, params2, time):\n",
    "    \n",
    "    # Prepares the low energy state in the two qubit registers\n",
    "    vqe_circuit([vqe_params[0:qubit_number], vqe_params[qubit_number:2*qubit_number]], reg1, vqe_depth)\n",
    "    vqe_circuit([vqe_params[0:qubit_number], vqe_params[qubit_number:2*qubit_number]], reg2, vqe_depth)\n",
    "    \n",
    "    # Evolves the first qubit register with the time-evolution circuit\n",
    "    state_evolve(ham_matrix, reg1, time)\n",
    "    \n",
    "    # Applies the time-evolution layers to the second qubit register\n",
    "    depth = time/trotter_step\n",
    "    for i in range(0, int(depth)):\n",
    "        #qgrnn_layer(matrix_params[0], matrix_params[1], reg1, ising_graph, trotter_step)\n",
    "        qgrnn_layer(params1, params2, reg2, new_ising_graph, trotter_step)\n",
    "    \n",
    "    # Applies the SWAP test between the registers\n",
    "    swap_test(control, reg1, reg2)\n",
    "    \n",
    "    # Returns the results of the SWAP test\n",
    "    return qml.expval(qml.PauliZ(control))"
   ]
  },
  {
   "cell_type": "markdown",
   "metadata": {},
   "source": [
    "We are new tasked with constructing the cost function of our model. To evaluate the cost function, we simply have to choose a bunch of time steps at which we will execute of QGRNN. We begin by defining a few more values, along with our new QNode:"
   ]
  },
  {
   "cell_type": "code",
   "execution_count": 54,
   "metadata": {},
   "outputs": [],
   "source": [
    "batch = 15 # The number of different times that will be used\n",
    "max_time = 0.1  # The maximum value of time that can be utilized\n",
    "\n",
    "# Defines the new QNode\n",
    "\n",
    "qnode = qml.QNode(qgrnn, qgrnn_dev, interface=\"tf\", diff_method=\"backprop\")"
   ]
  },
  {
   "cell_type": "markdown",
   "metadata": {},
   "source": [
    "And then, we define the cost function:"
   ]
  },
  {
   "cell_type": "code",
   "execution_count": 55,
   "metadata": {},
   "outputs": [],
   "source": [
    "# Defines the cost function\n",
    "\n",
    "def cost_function(params):\n",
    "     \n",
    "    global iterations\n",
    "    \n",
    "    # Separates the parameter list\n",
    "    weight_params = params[0:6]\n",
    "    bias_params = params[6:10]\n",
    "    \n",
    "    # Samples times at which the QGRNN will be run\n",
    "    times_sampled = [np.random.uniform() * max_time for i in range(0, batch)]\n",
    "     \n",
    "    # Cycles through each of the sampled times and calculates the cost\n",
    "    total_cost = 0\n",
    "    for i in times_sampled:\n",
    "        result = qnode(weight_params, bias_params, i)\n",
    "        total_cost += 1 - result\n",
    "        \n",
    "    print(\"Cost at Step \"+str(iterations)+\": \"+str((1 - total_cost / batch))+\" - \"+str(params))\n",
    "    iterations += 1\n",
    "    \n",
    "    return total_cost / batch"
   ]
  },
  {
   "cell_type": "code",
   "execution_count": 57,
   "metadata": {},
   "outputs": [
    {
     "name": "stdout",
     "output_type": "stream",
     "text": [
      "<tf.Variable 'Variable:0' shape=(10,) dtype=float32, numpy=\n",
      "array([ 1.7,  0. , -0.9,  1. , -1.3, -1.2,  1.9,  1. , -1.7, -0.6],\n",
      "      dtype=float32)>\n",
      "Cost at Step 0: tf.Tensor([0.96020096], shape=(1,), dtype=float64) - <tf.Variable 'Variable:0' shape=(10,) dtype=float32, numpy=\n",
      "array([ 1.7,  0. , -0.9,  1. , -1.3, -1.2,  1.9,  1. , -1.7, -0.6],\n",
      "      dtype=float32)>\n",
      "tf.Tensor(\n",
      "[ 0.00885459  0.00712355 -0.01144793 -0.00771102  0.00262118 -0.00637152\n",
      "  0.0070474   0.00303831 -0.00586331  0.00111747], shape=(10,), dtype=float32)\n",
      "Time:  5.3707006580000325\n"
     ]
    }
   ],
   "source": [
    "# Defines the optimization method\n",
    "\n",
    "iterations = 0\n",
    "\n",
    "optimizer = qml.AdamOptimizer(stepsize=0.5)\n",
    "steps = 200\n",
    "\n",
    "qgrnn_params = list([random.randint(-20, 20)/10 for i in range(0, 10)])\n",
    "\n",
    "# Executes the optimization method\n",
    "\n",
    "for i in range(0, steps):\n",
    "    qgrnn_params = optimizer.step(cost_function, qgrnn_params)\n",
    "\n",
    "print(qgrnn_params)"
   ]
  },
  {
   "cell_type": "code",
   "execution_count": 208,
   "metadata": {},
   "outputs": [
    {
     "name": "stdout",
     "output_type": "stream",
     "text": [
      "[(0, 1), (0, 2), (0, 3), (1, 2), (1, 3), (2, 3)]\n",
      "[[-3.9837178   1.          1.          0.          1.          0.\n",
      "   0.          0.          1.          0.          0.          0.\n",
      "   0.          0.          0.          0.        ]\n",
      " [ 1.         -6.33575166  0.          1.          0.          1.\n",
      "   0.          0.          0.          1.          0.          0.\n",
      "   0.          0.          0.          0.        ]\n",
      " [ 1.          0.          4.14175018  1.          0.          0.\n",
      "   1.          0.          0.          0.          1.          0.\n",
      "   0.          0.          0.          0.        ]\n",
      " [ 0.          1.          1.         -4.04928566  0.          0.\n",
      "   0.          1.          0.          0.          0.          1.\n",
      "   0.          0.          0.          0.        ]\n",
      " [ 1.          0.          0.          0.          4.23079328  1.\n",
      "   1.          0.          0.          0.          0.          0.\n",
      "   1.          0.          0.          0.        ]\n",
      " [ 0.          1.          0.          0.          1.          3.28347743\n",
      "   0.          1.          0.          0.          0.          0.\n",
      "   0.          1.          0.          0.        ]\n",
      " [ 0.          0.          1.          0.          1.          0.\n",
      "   4.17904727  1.          0.          0.          0.          0.\n",
      "   0.          0.          1.          0.        ]\n",
      " [ 0.          0.          0.          1.          0.          1.\n",
      "   1.         -2.60727056  0.          0.          0.          0.\n",
      "   0.          0.          0.          1.        ]\n",
      " [ 1.          0.          0.          0.          0.          0.\n",
      "   0.          0.         -3.11108514  1.          1.          0.\n",
      "   1.          0.          0.          0.        ]\n",
      " [ 0.          1.          0.          0.          0.          0.\n",
      "   0.          0.          1.         -2.66225872  0.          1.\n",
      "   0.          1.          0.          0.        ]\n",
      " [ 0.          0.          1.          0.          0.          0.\n",
      "   0.          0.          1.          0.          5.04247189  1.\n",
      "   0.          0.          1.          0.        ]\n",
      " [ 0.          0.          0.          1.          0.          0.\n",
      "   0.          0.          0.          1.          1.         -0.34770367\n",
      "   0.          0.          0.          1.        ]\n",
      " [ 0.          0.          0.          0.          1.          0.\n",
      "   0.          0.          1.          0.          0.          0.\n",
      "   1.09969005  1.          1.          0.        ]\n",
      " [ 0.          0.          0.          0.          0.          1.\n",
      "   0.          0.          0.          1.          0.          0.\n",
      "   1.          2.95323449  0.          1.        ]\n",
      " [ 0.          0.          0.          0.          0.          0.\n",
      "   1.          0.          0.          0.          1.          0.\n",
      "   1.          0.          1.07603309  1.        ]\n",
      " [ 0.          0.          0.          0.          0.          0.\n",
      "   0.          1.          0.          0.          0.          1.\n",
      "   0.          1.          1.         -2.90942446]]\n"
     ]
    }
   ],
   "source": [
    "print(nx.complete_graph(qubit_number).edges)\n",
    "\n",
    "new_ham_matrix = create_hamiltonian_matrix(qubit_number, nx.complete_graph(qubit_number), [qgrnn_params[0:6], qgrnn_params[6:10]])\n",
    "print(new_ham_matrix)"
   ]
  },
  {
   "cell_type": "code",
   "execution_count": 209,
   "metadata": {},
   "outputs": [
    {
     "data": {
      "text/plain": [
       "<matplotlib.axes._subplots.AxesSubplot at 0x141079e10>"
      ]
     },
     "execution_count": 209,
     "metadata": {},
     "output_type": "execute_result"
    },
    {
     "data": {
      "image/png": "[encoded data removed]",
      "text/plain": [
       "<Figure size 432x288 with 2 Axes>"
      ]
     },
     "metadata": {
      "needs_background": "light"
     },
     "output_type": "display_data"
    }
   ],
   "source": [
    "seaborn.heatmap(new_ham_matrix)"
   ]
  },
  {
   "cell_type": "code",
   "execution_count": 210,
   "metadata": {},
   "outputs": [
    {
     "name": "stdout",
     "output_type": "stream",
     "text": [
      "[[-4.39  1.    1.    0.    1.    0.    0.    0.    1.    0.    0.    0.\n",
      "   0.    0.    0.    0.  ]\n",
      " [ 1.   -6.75  0.    1.    0.    1.    0.    0.    0.    1.    0.    0.\n",
      "   0.    0.    0.    0.  ]\n",
      " [ 1.    0.    3.49  1.    0.    0.    1.    0.    0.    0.    1.    0.\n",
      "   0.    0.    0.    0.  ]\n",
      " [ 0.    1.    1.   -4.43  0.    0.    0.    1.    0.    0.    0.    1.\n",
      "   0.    0.    0.    0.  ]\n",
      " [ 1.    0.    0.    0.    5.09  1.    1.    0.    0.    0.    0.    0.\n",
      "   1.    0.    0.    0.  ]\n",
      " [ 0.    1.    0.    0.    1.    2.73  0.    1.    0.    0.    0.    0.\n",
      "   0.    1.    0.    0.  ]\n",
      " [ 0.    0.    1.    0.    1.    0.    5.29  1.    0.    0.    0.    0.\n",
      "   0.    0.    1.    0.  ]\n",
      " [ 0.    0.    0.    1.    0.    1.    1.   -2.63  0.    0.    0.    0.\n",
      "   0.    0.    0.    1.  ]\n",
      " [ 1.    0.    0.    0.    0.    0.    0.    0.   -3.25  1.    1.    0.\n",
      "   1.    0.    0.    0.  ]\n",
      " [ 0.    1.    0.    0.    0.    0.    0.    0.    1.   -3.09  0.    1.\n",
      "   0.    1.    0.    0.  ]\n",
      " [ 0.    0.    1.    0.    0.    0.    0.    0.    1.    0.    4.63  1.\n",
      "   0.    0.    1.    0.  ]\n",
      " [ 0.    0.    0.    1.    0.    0.    0.    0.    0.    1.    1.   -0.77\n",
      "   0.    0.    0.    1.  ]\n",
      " [ 0.    0.    0.    0.    1.    0.    0.    0.    1.    0.    0.    0.\n",
      "   2.23  1.    1.    0.  ]\n",
      " [ 0.    0.    0.    0.    0.    1.    0.    0.    0.    1.    0.    0.\n",
      "   1.    2.39  0.    1.  ]\n",
      " [ 0.    0.    0.    0.    0.    0.    1.    0.    0.    0.    1.    0.\n",
      "   1.    0.    2.43  1.  ]\n",
      " [ 0.    0.    0.    0.    0.    0.    0.    1.    0.    0.    0.    1.\n",
      "   0.    1.    1.   -2.97]]\n"
     ]
    },
    {
     "data": {
      "image/png": "[encoded data removed]",
      "text/plain": [
       "<Figure size 432x288 with 2 Axes>"
      ]
     },
     "metadata": {
      "needs_background": "light"
     },
     "output_type": "display_data"
    }
   ],
   "source": [
    "seaborn.heatmap(ham_matrix)"
   ]
  },
  {
   "cell_type": "markdown",
   "metadata": {},
   "source": [
    "### Conclusion and Further Reading\n",
    "\n",
    "This Notebook demonstrated that the QGRNN works in the case of a basic toy model. The actual usefulness of the QGRNN becomes more apart as the systems we are attempting to learn become larger and larger.\n",
    "\n",
    "To learn more about the QGRNN, check out the [original paper](https://arxiv.org/abs/1909.12264)."
   ]
  }
 ],
 "metadata": {
  "kernelspec": {
   "display_name": "Python 3",
   "language": "python",
   "name": "python3"
  },
  "language_info": {
   "codemirror_mode": {
    "name": "ipython",
    "version": 3
   },
   "file_extension": ".py",
   "mimetype": "text/x-python",
   "name": "python",
   "nbconvert_exporter": "python",
   "pygments_lexer": "ipython3",
   "version": "3.7.5"
  }
 },
 "nbformat": 4,
 "nbformat_minor": 4
}
