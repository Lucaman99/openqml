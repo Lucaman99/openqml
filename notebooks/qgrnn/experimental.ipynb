{
 "cells": [
  {
   "cell_type": "markdown",
   "metadata": {},
   "source": [
    "## Quantum Graph Reccurent Neural Network in Pennylane"
   ]
  },
  {
   "cell_type": "code",
   "execution_count": 2,
   "metadata": {},
   "outputs": [],
   "source": [
    "# Starts by importing all of the necessary dependencies\n",
    "\n",
    "import pennylane as qml\n",
    "from matplotlib import pyplot as plt\n",
    "import numpy as np\n",
    "import scipy\n",
    "from scipy.optimize import minimize\n",
    "import random\n",
    "import math\n",
    "import networkx as nx\n",
    "import seaborn"
   ]
  },
  {
   "cell_type": "markdown",
   "metadata": {},
   "source": [
    "### Introduction"
   ]
  },
  {
   "cell_type": "markdown",
   "metadata": {},
   "source": [
    "In this Notebook, we will investigate the idea of a **quantum graph neural network**, which is the quantum analogue of a classical graph neural network. More specicically, the quantum neural network we will be investigating is a **recurrent** quantum graph neural network. We will disucss what makes this sublcass unique later in the Notebook, but for now, we will note that these QGRNNs are very useful for learning the dynamics of quantum systems that \"live\" on a graph."
   ]
  },
  {
   "cell_type": "markdown",
   "metadata": {},
   "source": [
    "### The Quantum Graph Neural Network"
   ]
  },
  {
   "cell_type": "markdown",
   "metadata": {},
   "source": [
    "In recent years, the idea of a quantum graph neural network has been receving a lot of attention from the machine learning research community for its ability to learn representations of data that is inhernelty graph-theoretic in nature. More specifically, graph neural networks seek to learn a **representation** (a mapping of the data into a lower-dimensional vector space) of a given graph, with features assigned to nodes and edges, such that the each of the vectors in the learned representation preserves the overall topology of the graph.\n",
    "\n",
    "In the case of a QGRNN, we are also performing the same procedure of representation learning."
   ]
  },
  {
   "cell_type": "markdown",
   "metadata": {},
   "source": [
    "The general QGNN ansatz is defined as:\n",
    "\n",
    "<br>\n",
    "$$U(\\boldsymbol\\gamma, \\ \\boldsymbol\\theta) \\ = \\ \\displaystyle\\prod_{i \\ = \\ 1}^{P} \\Bigg[ \\displaystyle\\prod_{j \\ = \\ 1}^{Q} e^{-i \\gamma_{ij} H_{j}(\\boldsymbol\\theta) }\\Bigg]$$\n",
    "<br>"
   ]
  },
  {
   "cell_type": "markdown",
   "metadata": {},
   "source": [
    "### The Quantum Graph Recurrent Neural Network"
   ]
  },
  {
   "cell_type": "markdown",
   "metadata": {},
   "source": [
    "Now that we have discussed what a general quantum graph neural network looks like, let's discuss what distinguishes a quantum graph RNN from its more general counterpart. With a graph RNN, we make one small change to the $\\boldsymbol\\gamma$ parameters. Specifically, we tie these parameters over temproal layers, meaning that each $\\gamma_{ij}$ is only determined by the index $j$, and is the same across all values of $i$ (with some fixed $j$). As the paper explains, this is equivalent to how a classical recurrent neural network behaves, where parameters remain the same over layers of the neural network. Thus, we will have:\n",
    "\n",
    "<br>\n",
    "$$U_{\\text{RNN}}(\\gamma, \\ \\theta) \\ = \\ \\displaystyle\\prod_{i \\ = \\ 1}^{P} \\Bigg[ \\displaystyle\\prod_{j \\ = \\ 1}^{Q} e^{-i \\gamma_{j} H_{j}(\\boldsymbol\\theta) }\\Bigg]$$\n",
    "<br>\n",
    "\n",
    "Now, let's go on a tangent and talk about Trotter-Suzuki decomposition, which says that:\n",
    "\n",
    "<br>\n",
    "$$\\exp \\Bigg[ \\displaystyle\\sum_{n} A_n \\Bigg] \\ = \\ \\lim_{P \\rightarrow \\infty} \\displaystyle\\prod_{j \\ = \\ 1}^{P} \\Bigg[ \\displaystyle\\prod_{n} e^{A_n / P} \\Bigg]$$\n",
    "<br>"
   ]
  },
  {
   "cell_type": "markdown",
   "metadata": {},
   "source": [
    "Where finite $P \\ \\gg \\ 1$ approximates the left-hand side of the equation. It isn't too difficult to see that the quantum graph RNN resembles the Trotter-Suzuki decomposition. More specifically, the quantum graph RNN can be thought of as the Trotterization of the time-evolution operator. Let us fix a time $T$. Let us also fix a parameter that controls the size of the Trotterization steps (essentially the $1/P$ in the above formula), which we call $\\Delta$. This allows uas to keep the prceision of our approximate time-evolution for different values of $T$ the same.\n",
    "\n",
    "<br>\n",
    "\n",
    "ADD STUFF\n",
    "\n",
    "<br>\n",
    "$$e^{-i T H'} \\ \\approx \\ \\displaystyle\\prod_{i \\ = \\ 1}^{T / \\Delta} \\Bigg[ \\displaystyle\\prod_{j \\ = \\ 1}^{Q} e^{-i \\Delta H_{j}(\\boldsymbol\\theta)} \\Bigg]$$\n",
    "<br>"
   ]
  },
  {
   "cell_type": "markdown",
   "metadata": {},
   "source": [
    "#### Using the QGRNN for Hamiltonian Learning"
   ]
  },
  {
   "cell_type": "markdown",
   "metadata": {},
   "source": [
    "#### The Hamiltonian as a Feature Representation\n",
    "\n",
    "It is actually very interesting to note that this process of learning the Hamiltonian is actually a form of representation learning. Specifically, the $ZZ$ terms of the Hamiltonian will encode exactly where the edges of our graph interactions are. In addition to this, if we consider the state collection of states $\\{ |\\Psi(t)\\rangle \\}$ to be the features associated with the graph, then we are able to determine all of these features by **using the Hamiltonian** (all we have to do is evolve our fixed initial state forward in time by some time $t$). Thus, the Hamiltonian is exactly the node representation that describes the graph along with its features. In this paradigm, however, we are dealing with inherently quantum mechanical data/features. This means that the data can't always necessarily be assigned to one node (in the case of entanglement between nodes), and in many cases, computation required to prepare, store, and process this quantum data scales poorly. Thus, our quantum graph neural network is particularly well-suited to this task."
   ]
  },
  {
   "cell_type": "markdown",
   "metadata": {},
   "source": [
    "### The QGRNN Applied to an Ising Model\n",
    "\n",
    "In this Notebook we are going to investigate an application of the QGRNN to learning the dynamics of a 3-qubit Ising model."
   ]
  },
  {
   "cell_type": "markdown",
   "metadata": {},
   "source": [
    "#### Initializing the Graph and Preparing the Target Hamiltonian"
   ]
  },
  {
   "cell_type": "markdown",
   "metadata": {},
   "source": [
    "We can begin by defining some fixed values that will be used through out the simulation, as well as the device on which we will run our simulations:"
   ]
  },
  {
   "cell_type": "code",
   "execution_count": 3,
   "metadata": {},
   "outputs": [],
   "source": [
    "# Initialize the device on which the simulation is run\n",
    "\n",
    "qubit_number = 4\n",
    "qubits = range(qubit_number)\n",
    "vqe_dev = qml.device(\"default.qubit\", wires=qubit_number)"
   ]
  },
  {
   "cell_type": "markdown",
   "metadata": {},
   "source": [
    "We will begin by defining the graph on which our Ising model lives. We choose the graph to be the completely connected graph with $3$ nodes, denoted by $K^3$. This is more commonly known as a triangle. We can construct and visualize this graph using `networkx`:"
   ]
  },
  {
   "cell_type": "code",
   "execution_count": 4,
   "metadata": {},
   "outputs": [
    {
     "data": {
      "image/png": "[encoded data removed]",
      "text/plain": [
       "<Figure size 432x288 with 1 Axes>"
      ]
     },
     "metadata": {},
     "output_type": "display_data"
    }
   ],
   "source": [
    "# Creates the graph structure of the quantum system\n",
    "\n",
    "ising_graph = nx.Graph()\n",
    "ising_graph.add_nodes_from(range(0, qubit_number))\n",
    "ising_graph.add_edges_from([(0, 1), (1, 2), (2, 3), (3, 0)])\n",
    "\n",
    "# Plots the graph\n",
    "\n",
    "nx.draw(ising_graph)"
   ]
  },
  {
   "cell_type": "markdown",
   "metadata": {},
   "source": [
    "Now, let's define the Hamiltonian we will eventiually attempt to learn. There are two reasons for doing this. Firstly, we need to compare the preparred Hamiltonian to the targt Hamiltonian, to make sure that our toy example of the QGRNN actually works, and secondly, we have to prepare the quantum data that will be usd in training. In a real-world application of this algorithm, we would have access to a bunch of quantum data that we could feed into the neural network, but in this scenario, we have to generate the quantum data ourself. The only way to do this is to know the Hamiltonian (and thus, the dynamics) of our system. Our Ising model Hamiltonian will be of the form:\n",
    "\n",
    "<br>\n",
    "$$\\hat{H} \\ = \\ \\displaystyle\\sum_{i, j} \\alpha_{ij} Z_{i} Z_{j} \\ + \\ \\displaystyle\\sum_{i} \\beta_{i} Z_{i} \\ + \\ \\displaystyle\\sum_{i} X_{i}$$\n",
    "<br>\n",
    "\n",
    "Where $\\boldsymbol\\alpha$ and $\\boldsymbol\\beta$ are the matrix and vector of interaction and bias parameters we are trying to learn, respectively. We will initialize $\\boldsymbol\\alpha$ and $\\boldsymbol\\beta$ randomly:"
   ]
  },
  {
   "cell_type": "code",
   "execution_count": 5,
   "metadata": {},
   "outputs": [
    {
     "name": "stdout",
     "output_type": "stream",
     "text": [
      "Target parameters: [[-1.0, 0.63, -1.92, -1.39], [-0.2, -1.82, -0.63, 1.94]]\n"
     ]
    }
   ],
   "source": [
    "def create_params(graph):\n",
    "    \n",
    "    # Creates the interaction parameters\n",
    "    interaction = [random.randint(-200, 200)/100 for i in range(0, len(graph.edges))]\n",
    "    \n",
    "    # Creates the bias parameters\n",
    "    bias = [random.randint(-200, 200)/100 for i in range(0, qubit_number)]\n",
    "    \n",
    "    return [interaction, bias]\n",
    "\n",
    "# Creates and prints the parameters for our simulation\n",
    "matrix_params = create_params(ising_graph)\n",
    "print(\"Target parameters: \"+str(matrix_params))"
   ]
  },
  {
   "cell_type": "markdown",
   "metadata": {},
   "source": [
    "Wtih this knowledge, let's now construct the matrix representation of the Hamiltonian, in the $Z$-basis:"
   ]
  },
  {
   "cell_type": "code",
   "execution_count": 148,
   "metadata": {},
   "outputs": [
    {
     "name": "stdout",
     "output_type": "stream",
     "text": [
      "[[-4.39  1.    1.    0.    1.    0.    0.    0.    1.    0.    0.    0.\n",
      "   0.    0.    0.    0.  ]\n",
      " [ 1.   -6.75  0.    1.    0.    1.    0.    0.    0.    1.    0.    0.\n",
      "   0.    0.    0.    0.  ]\n",
      " [ 1.    0.    3.49  1.    0.    0.    1.    0.    0.    0.    1.    0.\n",
      "   0.    0.    0.    0.  ]\n",
      " [ 0.    1.    1.   -4.43  0.    0.    0.    1.    0.    0.    0.    1.\n",
      "   0.    0.    0.    0.  ]\n",
      " [ 1.    0.    0.    0.    5.09  1.    1.    0.    0.    0.    0.    0.\n",
      "   1.    0.    0.    0.  ]\n",
      " [ 0.    1.    0.    0.    1.    2.73  0.    1.    0.    0.    0.    0.\n",
      "   0.    1.    0.    0.  ]\n",
      " [ 0.    0.    1.    0.    1.    0.    5.29  1.    0.    0.    0.    0.\n",
      "   0.    0.    1.    0.  ]\n",
      " [ 0.    0.    0.    1.    0.    1.    1.   -2.63  0.    0.    0.    0.\n",
      "   0.    0.    0.    1.  ]\n",
      " [ 1.    0.    0.    0.    0.    0.    0.    0.   -3.25  1.    1.    0.\n",
      "   1.    0.    0.    0.  ]\n",
      " [ 0.    1.    0.    0.    0.    0.    0.    0.    1.   -3.09  0.    1.\n",
      "   0.    1.    0.    0.  ]\n",
      " [ 0.    0.    1.    0.    0.    0.    0.    0.    1.    0.    4.63  1.\n",
      "   0.    0.    1.    0.  ]\n",
      " [ 0.    0.    0.    1.    0.    0.    0.    0.    0.    1.    1.   -0.77\n",
      "   0.    0.    0.    1.  ]\n",
      " [ 0.    0.    0.    0.    1.    0.    0.    0.    1.    0.    0.    0.\n",
      "   2.23  1.    1.    0.  ]\n",
      " [ 0.    0.    0.    0.    0.    1.    0.    0.    0.    1.    0.    0.\n",
      "   1.    2.39  0.    1.  ]\n",
      " [ 0.    0.    0.    0.    0.    0.    1.    0.    0.    0.    1.    0.\n",
      "   1.    0.    2.43  1.  ]\n",
      " [ 0.    0.    0.    0.    0.    0.    0.    1.    0.    0.    0.    1.\n",
      "   0.    1.    1.   -2.97]]\n"
     ]
    }
   ],
   "source": [
    "def create_hamiltonian_matrix(n, graph, params):\n",
    "    \n",
    "    # Defines Pauli matrices\n",
    "    pauli_x = np.array([[0, 1], [1, 0]])\n",
    "    pauli_y = np.array([[0, -1j], [1j, 0]])\n",
    "    pauli_z = np.array([[1, 0], [0, -1]])\n",
    "    identity = np.array([[1, 0], [0, 1]])\n",
    "\n",
    "    matrix = np.zeros((2**n, 2**n))\n",
    "    \n",
    "    # Creates the interaction component of the Hamiltonian\n",
    "    for count, i in enumerate(graph.edges):\n",
    "        m = 1\n",
    "        for j in range(0, n):\n",
    "            if (i[0] == j or i[1] == j):\n",
    "                m = np.kron(m, pauli_z)\n",
    "            else:\n",
    "                m = np.kron(m, identity)\n",
    "        matrix = np.add(matrix, params[0][count]*m)\n",
    "    \n",
    "    # Creates the \"bias\" component of the matrix\n",
    "    for i in range(0, n):\n",
    "        m = 1\n",
    "        for j in range(0, n):\n",
    "            if (j == i):\n",
    "                m = np.kron(m, pauli_z)\n",
    "            else:\n",
    "                m = np.kron(m, identity)\n",
    "        matrix = np.add(matrix, params[1][i]*m)\n",
    "    \n",
    "    # Creates the X component of the matrix\n",
    "    for i in range(0, n):\n",
    "        m = 1\n",
    "        for j in range(0, n):\n",
    "            if (j == i):\n",
    "                m = np.kron(m, pauli_x)\n",
    "            else:\n",
    "                m = np.kron(m, identity)\n",
    "        matrix = np.add(matrix, m)\n",
    "\n",
    "    return matrix\n",
    "\n",
    "# Defines and prints the matrix for our interaction graph and parameters\n",
    "ham_matrix = create_hamiltonian_matrix(qubit_number, ising_graph, matrix_params)\n",
    "print(ham_matrix)"
   ]
  },
  {
   "cell_type": "markdown",
   "metadata": {},
   "source": [
    "Since the Hamiltonian is the main object of interest in the quantum graph neural network, let's visualize it using the `seaborn` library's heatmap function, which essentially defines colours to each component of the matrix:"
   ]
  },
  {
   "cell_type": "code",
   "execution_count": 149,
   "metadata": {},
   "outputs": [
    {
     "data": {
      "text/plain": [
       "<matplotlib.axes._subplots.AxesSubplot at 0x140d9a450>"
      ]
     },
     "execution_count": 149,
     "metadata": {},
     "output_type": "execute_result"
    },
    {
     "data": {
      "image/png": "[encoded data removed]",
      "text/plain": [
       "<Figure size 432x288 with 2 Axes>"
      ]
     },
     "metadata": {
      "needs_background": "light"
     },
     "output_type": "display_data"
    }
   ],
   "source": [
    "# Visual display of the target Hamiltonian\n",
    "seaborn.heatmap(ham_matrix)"
   ]
  },
  {
   "cell_type": "markdown",
   "metadata": {},
   "source": [
    "#### Preparing the Quantum Data with VQE"
   ]
  },
  {
   "cell_type": "markdown",
   "metadata": {},
   "source": [
    "Now that we have prepared the target Hamiltonian, we can use it to prepare all of the necessary quantum data that we will use to train our QGRNN. As was discussed above, the data that will be fed into the neural network is a collection of time-evolved, low-energy quantum states corresponding to the target Hamiltonian. Thus, it follows that we must first prepare the low-energy states at $t \\ = \\ 0$, and evolve them forward in time to arbitrary times from $0$ to $T$. In order to prepare low energy states of the Hamiltonian, we will use VQE. Recall that the purpose of VQE is to find the ground energy state of a given Hamiltonian. We don't want to find the exact ground state of the Hamiltonian, as it's time evolution will just equate to the addition of a global phase.\n",
    "\n",
    "<br>\n",
    "$$U(t)|E_k\\rangle \\ = \\ e^{-i H t / \\hbar} |E_k\\rangle \\ = \\ \\displaystyle\\sum_{n \\ = \\ 0}^{\\infty} \\Big( -\\frac{i t}{\\hbar} \\Big)^n \\frac{H^n |E_k\\rangle}{n!} \\ = \\ \\displaystyle\\sum_{n \\ = \\ 0}^{\\infty} \\frac{1}{n!} \\Big( \\frac{- i E_k t}{\\hbar} \\Big)^n |E_k\\rangle \\ = \\ e^{i E_k t / \\hbar} |E_k\\rangle$$\n",
    "<br>\n",
    "\n",
    "Thus, this quantum data will be practically useless, as we are essentially just giving ourselves a bunch of copies of the exact same quantum state. Thus, instead of prearing the exact ground state, we wish to prepare a state $|\\phi\\rangle$ that is \"close\" to the ground state, $|\\psi_0\\rangle$ (meaning that $|\\langle \\phi | \\psi_0 \\rangle |^2$ is close to $1$). To do this, we will preform VQE, but we will use an ansataz that we know **won't converge exactly towards the ground state**.\n",
    "\n",
    "For the specific example of the Hamiltonian we are considering in this tutorial, we have $ZZ$ interaction terms between qubits that share an edge on the graph. Thus, we know that it is likely that there will be some kind of entanglement between qubits in the ground state. We will then choose our ansatz such that the qubits remain **unentangled**. By only applying single-qubit gates, we ensure that each of the qubits remains completely uncorrelated from the others, thus making is so that the ground state can never be reached by our optimizer. The initial layer of our variational algorithms will be simply to create an even superposition over all basis states:"
   ]
  },
  {
   "cell_type": "code",
   "execution_count": 8,
   "metadata": {},
   "outputs": [],
   "source": [
    "# Defines a method that creates an even superposition of basis states\n",
    "\n",
    "def even_superposition(qubits):\n",
    "    \n",
    "    for i in qubits:\n",
    "        qml.Hadamard(wires=i)"
   ]
  },
  {
   "cell_type": "markdown",
   "metadata": {},
   "source": [
    "And the following layers will be alternating applications of $RZ$ and $RX$ gates:"
   ]
  },
  {
   "cell_type": "code",
   "execution_count": 9,
   "metadata": {},
   "outputs": [],
   "source": [
    "# Method that prepares a low-energy state        \n",
    "        \n",
    "def decoupled_layer(param1, param2, qubits):\n",
    "    \n",
    "    # Applies a layer of RZ and RX gates\n",
    "    for count, i in enumerate(qubits):\n",
    "        \n",
    "        qml.RZ(param1[count], wires=i)\n",
    "        qml.RX(param2[count], wires=i)"
   ]
  },
  {
   "cell_type": "markdown",
   "metadata": {},
   "source": [
    "We can then define our VQE ansatz as:"
   ]
  },
  {
   "cell_type": "code",
   "execution_count": 10,
   "metadata": {},
   "outputs": [],
   "source": [
    "# Method that creates the decoupled VQE ansatz\n",
    "\n",
    "def vqe_circuit(parameters, qubits, depth):\n",
    "    \n",
    "    even_superposition(qubits)\n",
    "    \n",
    "    for i in range(0, depth):\n",
    "        decoupled_layer(parameters[0], parameters[1], qubits)"
   ]
  },
  {
   "cell_type": "markdown",
   "metadata": {},
   "source": [
    "Finally, we can create a function and a QNode that allows us to run our VQE circuit:"
   ]
  },
  {
   "cell_type": "code",
   "execution_count": 11,
   "metadata": {},
   "outputs": [
    {
     "name": "stdout",
     "output_type": "stream",
     "text": [
      "-4.52835652962931\n",
      " 0: ──H──RZ(1)──RX(1)──RZ(1)──RX(1)──╭┤ ⟨H0⟩ \n",
      " 1: ──H──RZ(1)──RX(1)──RZ(1)──RX(1)──├┤ ⟨H0⟩ \n",
      " 2: ──H──RZ(1)──RX(1)──RZ(1)──RX(1)──├┤ ⟨H0⟩ \n",
      " 3: ──H──RZ(1)──RX(1)──RZ(1)──RX(1)──╰┤ ⟨H0⟩ \n",
      "H0 =\n",
      "[[-4.39  1.    1.    0.    1.    0.    0.    0.    1.    0.    0.    0.\n",
      "   0.    0.    0.    0.  ]\n",
      " [ 1.   -6.75  0.    1.    0.    1.    0.    0.    0.    1.    0.    0.\n",
      "   0.    0.    0.    0.  ]\n",
      " [ 1.    0.    3.49  1.    0.    0.    1.    0.    0.    0.    1.    0.\n",
      "   0.    0.    0.    0.  ]\n",
      " [ 0.    1.    1.   -4.43  0.    0.    0.    1.    0.    0.    0.    1.\n",
      "   0.    0.    0.    0.  ]\n",
      " [ 1.    0.    0.    0.    5.09  1.    1.    0.    0.    0.    0.    0.\n",
      "   1.    0.    0.    0.  ]\n",
      " [ 0.    1.    0.    0.    1.    2.73  0.    1.    0.    0.    0.    0.\n",
      "   0.    1.    0.    0.  ]\n",
      " [ 0.    0.    1.    0.    1.    0.    5.29  1.    0.    0.    0.    0.\n",
      "   0.    0.    1.    0.  ]\n",
      " [ 0.    0.    0.    1.    0.    1.    1.   -2.63  0.    0.    0.    0.\n",
      "   0.    0.    0.    1.  ]\n",
      " [ 1.    0.    0.    0.    0.    0.    0.    0.   -3.25  1.    1.    0.\n",
      "   1.    0.    0.    0.  ]\n",
      " [ 0.    1.    0.    0.    0.    0.    0.    0.    1.   -3.09  0.    1.\n",
      "   0.    1.    0.    0.  ]\n",
      " [ 0.    0.    1.    0.    0.    0.    0.    0.    1.    0.    4.63  1.\n",
      "   0.    0.    1.    0.  ]\n",
      " [ 0.    0.    0.    1.    0.    0.    0.    0.    0.    1.    1.   -0.77\n",
      "   0.    0.    0.    1.  ]\n",
      " [ 0.    0.    0.    0.    1.    0.    0.    0.    1.    0.    0.    0.\n",
      "   2.23  1.    1.    0.  ]\n",
      " [ 0.    0.    0.    0.    0.    1.    0.    0.    0.    1.    0.    0.\n",
      "   1.    2.39  0.    1.  ]\n",
      " [ 0.    0.    0.    0.    0.    0.    1.    0.    0.    0.    1.    0.\n",
      "   1.    0.    2.43  1.  ]\n",
      " [ 0.    0.    0.    0.    0.    0.    0.    1.    0.    0.    0.    1.\n",
      "   0.    1.    1.   -2.97]]\n",
      "\n"
     ]
    }
   ],
   "source": [
    "# Defines the depth of our variational circuit\n",
    "vqe_depth = 2\n",
    "\n",
    "# Defines the circuit that we will use to perform VQE on our Hamiltonian\n",
    "def create_circuit(params1, params2):\n",
    "    \n",
    "    vqe_circuit([params1, params2], qubits, vqe_depth)\n",
    "    \n",
    "    return qml.expval(qml.Hermitian(ham_matrix, wires=range(qubit_number)))\n",
    "\n",
    "# Creates the corresponding QNode\n",
    "qnode = qml.QNode(create_circuit, vqe_dev)\n",
    "\n",
    "# Constructs a test case of our circuit\n",
    "resulting_circuit = qnode([1, 1, 1, 1, 1], [1, 1, 1, 1, 1])\n",
    "print(resulting_circuit)\n",
    "print(qnode.draw())"
   ]
  },
  {
   "cell_type": "markdown",
   "metadata": {},
   "source": [
    "We have all of the code we need to optimize our quantum circuit, thus we create an optimizer and run it:"
   ]
  },
  {
   "cell_type": "code",
   "execution_count": 12,
   "metadata": {},
   "outputs": [
    {
     "name": "stdout",
     "output_type": "stream",
     "text": [
      "Cost Step 0: 1.7429630758365537\n",
      "Cost Step 50: -7.745616612873977\n",
      "Cost Step 100: -7.815162544778216\n",
      "Cost Step 150: -7.815456468898258\n",
      "[5.079961367509818, 1.0355658199154878, -7.53419608424688, -1.2553663283005057, 11.82217386861662, 0.8469748491709792, -0.7062275869936498, 0.702458973943581]\n"
     ]
    }
   ],
   "source": [
    "# Creates the cost function\n",
    "\n",
    "def cost_function(params):\n",
    "\n",
    "    return qnode(params[0:qubit_number], params[qubit_number:2*qubit_number])\n",
    "\n",
    "# Creates the optimizer for VQE\n",
    "\n",
    "optimizer = qml.AdamOptimizer(stepsize=0.8)\n",
    "\n",
    "steps = 200\n",
    "vqe_params = list([random.randint(-100, 100)/10 for i in range(0, 2*qubit_number)])\n",
    "\n",
    "for i in range(0, steps):\n",
    "    vqe_params = optimizer.step(cost_function, vqe_params)\n",
    "    if (i%50 == 0):\n",
    "        print(\"Cost Step \"+str(i)+\": \"+str(cost_function(vqe_params)))\n",
    "\n",
    "print(vqe_params)"
   ]
  },
  {
   "cell_type": "markdown",
   "metadata": {},
   "source": [
    "Now, let's check to see if we generated a low-energy state. This will require us to find the ground state energy of the Hamiltonian:"
   ]
  },
  {
   "cell_type": "code",
   "execution_count": 14,
   "metadata": {},
   "outputs": [
    {
     "name": "stdout",
     "output_type": "stream",
     "text": [
      "-7.866234061193237\n"
     ]
    }
   ],
   "source": [
    "# Finds the ground state energy of a Hamiltonian\n",
    "\n",
    "def ground_state_energy(matrix):\n",
    "    \n",
    "    # Finds the eigenstates of the matrix\n",
    "    val = np.linalg.eig(matrix)[0]\n",
    "    \n",
    "    # Returns the minimum eigenvalue\n",
    "    return min(val)\n",
    "\n",
    "ground_state = ground_state_energy(ham_matrix)\n",
    "print(ground_state)"
   ]
  },
  {
   "cell_type": "markdown",
   "metadata": {},
   "source": [
    "This is pretty close to the energy value we found above with our decoupled VQE, so we can conclude that we have generated a low-energy state. With a good initial state, we can now prepare our collection of quantum data by evolving our initial state vector forward in time. We can do this exactly in Pennylane, using a custom unitary gate, which we define to be the time-evolution operator for our Ising model Hamiltonian, which we defined above:"
   ]
  },
  {
   "cell_type": "code",
   "execution_count": 15,
   "metadata": {},
   "outputs": [],
   "source": [
    "# Creates an exact time-evolution unitary\n",
    "\n",
    "def state_evolve(hamiltonian, qubits, time):\n",
    "\n",
    "    U = scipy.linalg.expm(complex(0,-1)*hamiltonian*time)\n",
    "    qml.QubitUnitary(U, wires=qubits)"
   ]
  },
  {
   "cell_type": "markdown",
   "metadata": {},
   "source": [
    "This is all we need to prepare our quantum data. Now, let's turn our attention to the actual quantum graph neural network ansatz. We have demonstrated that the QGRNN is essentially equivalent to the Trotterized time evolution of a given quantum state, under our Ising Hamiltonian. Our Ising Hamiltonian involves $ZZ$ gates, thus we need to write a method that allows us to construct $RZZ$ gates out of the standard gate set in Pennylane:"
   ]
  },
  {
   "cell_type": "code",
   "execution_count": 16,
   "metadata": {},
   "outputs": [],
   "source": [
    "# Defines the RZZ gate, in terms of gates in the standard basis set\n",
    "\n",
    "def RZZ(param, qubit1, qubit2):\n",
    "    \n",
    "    qml.CNOT(wires=[qubit1, qubit2])\n",
    "    qml.RZ(param, wires=qubit2)\n",
    "    qml.CNOT(wires=[qubit1, qubit2])"
   ]
  },
  {
   "cell_type": "markdown",
   "metadata": {},
   "source": [
    "Where the implemented gate is equivalent to the $RZZ$ gate. With this, we can now write a function that implements one step of the Trotterized time evolution:"
   ]
  },
  {
   "cell_type": "code",
   "execution_count": 76,
   "metadata": {},
   "outputs": [],
   "source": [
    "# Method that prepares a time-evolution layer\n",
    "\n",
    "def qgrnn_layer(param1, param2, qubits, graph, trotter):\n",
    "    \n",
    "    # Applies a layer of coupling gates (based on the graph)\n",
    "    for count, i in enumerate(graph.edges):\n",
    "        RZZ(2*param1[count]*trotter, i[0], i[1])\n",
    "    \n",
    "    # Applies a layer of RZ gates\n",
    "    for count, i in enumerate(qubits):\n",
    "        qml.RZ(2*param2[count]*trotter, wires=i)\n",
    "    \n",
    "    # Applies a layer of RX gates\n",
    "    for i in qubits:\n",
    "        qml.RX(2*trotter, wires=i)"
   ]
  },
  {
   "cell_type": "markdown",
   "metadata": {},
   "source": [
    "Finally, we will need to make use of the $SWAP$ test, to calculate the fidelity between the prepared quantum state and our quantum data. We can write a function that performs this process:"
   ]
  },
  {
   "cell_type": "code",
   "execution_count": 77,
   "metadata": {},
   "outputs": [],
   "source": [
    "# Implements the SWAP test between two qubit registers\n",
    "\n",
    "def swap_test(control, register1, register2):\n",
    "    \n",
    "    qml.Hadamard(wires=control)\n",
    "    for i in range(0, len(register1)):\n",
    "        qml.CSWAP(wires=[int(control), register1[i], register2[i]])\n",
    "    qml.Hadamard(wires=control)"
   ]
  },
  {
   "cell_type": "markdown",
   "metadata": {},
   "source": [
    "From here, we can build our quantum circuit that corresponds to one execution of our QGRNN, for a given time step. First, let's define a new quantum device with $7$ qubits rather than $3$, as we will need registers for our neural network, and data-preparation, plus an extra qubit for the $SWAP$ test."
   ]
  },
  {
   "cell_type": "code",
   "execution_count": 108,
   "metadata": {},
   "outputs": [],
   "source": [
    "# Defines the new quantum device\n",
    "\n",
    "qgrnn_dev = qml.device(\"default.tensor.tf\", wires=(2*qubit_number+1))"
   ]
  },
  {
   "cell_type": "code",
   "execution_count": 165,
   "metadata": {},
   "outputs": [],
   "source": [
    "# Defines some fixed values\n",
    "\n",
    "reg1 = list(range(qubit_number))\n",
    "reg2 = list(range(qubit_number, 2*qubit_number))\n",
    "\n",
    "control = 2*qubit_number\n",
    "trotter_step = 0.01\n",
    "\n",
    "# Defines the interaction graph for the new qubit system\n",
    "\n",
    "#new_ising_graph = nx.complete_graph(qubit_number)\n",
    "\n",
    "new_ising_graph = nx.Graph()\n",
    "new_ising_graph.add_nodes_from(range(qubit_number, 2*qubit_number))\n",
    "new_ising_graph.add_edges_from([(4, 5), (5, 6), (6, 7), (7, 4)])"
   ]
  },
  {
   "cell_type": "code",
   "execution_count": 166,
   "metadata": {},
   "outputs": [],
   "source": [
    "# Implements the quantum graph neural network for a given time step\n",
    "\n",
    "def qgrnn(params1, params2, time):\n",
    "    \n",
    "    # Prepares the low energy state in the two qubit registers\n",
    "    vqe_circuit([vqe_params[0:qubit_number], vqe_params[qubit_number:2*qubit_number]], reg1, vqe_depth)\n",
    "    vqe_circuit([vqe_params[0:qubit_number], vqe_params[qubit_number:2*qubit_number]], reg2, vqe_depth)\n",
    "    \n",
    "    # Evolves the first qubit register with the time-evolution circuit\n",
    "    state_evolve(ham_matrix, reg1, time.val)\n",
    "    \n",
    "    # Applies the time-evolution layers to the second qubit register\n",
    "    depth = time.val/trotter_step\n",
    "    for i in range(0, int(depth)):\n",
    "        #qgrnn_layer(matrix_params[0], matrix_params[1], reg1, ising_graph, trotter_step)\n",
    "        qgrnn_layer(params1, params2, reg2, new_ising_graph, trotter_step)\n",
    "    \n",
    "    # Applies the SWAP test between the registers\n",
    "    swap_test(control, reg1, reg2)\n",
    "    \n",
    "    # Returns the results of the SWAP test\n",
    "    return qml.expval(qml.PauliZ(control))"
   ]
  },
  {
   "cell_type": "markdown",
   "metadata": {},
   "source": [
    "We are new tasked with constructing the cost function of our model. To evaluate the cost function, we simply have to choose a bunch of time steps at which we will execute of QGRNN. We begin by defining a few more values, along with our new QNode:"
   ]
  },
  {
   "cell_type": "code",
   "execution_count": 167,
   "metadata": {},
   "outputs": [],
   "source": [
    "batch = 15 # The number of different times that will be used\n",
    "max_time = 0.1  # The maximum value of time that can be utilized\n",
    "\n",
    "# Defines the new QNode\n",
    "\n",
    "qnode = qml.QNode(qgrnn, qgrnn_dev)"
   ]
  },
  {
   "cell_type": "markdown",
   "metadata": {},
   "source": [
    "And then, we define the cost function:"
   ]
  },
  {
   "cell_type": "code",
   "execution_count": 169,
   "metadata": {},
   "outputs": [],
   "source": [
    "# Defines the cost function\n",
    "\n",
    "def cost_function(params):\n",
    "     \n",
    "    global iterations\n",
    "    \n",
    "    # Separates the parameter list\n",
    "    weight_params = params[0:4]\n",
    "    bias_params = params[4:8]\n",
    "    \n",
    "    # Samples times at which the QGRNN will be run\n",
    "    times_sampled = [np.random.uniform() * max_time for i in range(0, batch)]\n",
    "     \n",
    "    # Cycles through each of the sampled times and calculates the cost\n",
    "    total_cost = 0\n",
    "    for i in times_sampled:\n",
    "        result = qnode(weight_params, bias_params, i)\n",
    "        total_cost += 1 - result\n",
    "        \n",
    "    print(\"Cost at Step \"+str(iterations)+\": \"+str(1 - total_cost / batch)+\" - \"+str(params))\n",
    "    iterations += 1\n",
    "    \n",
    "    return total_cost / batch"
   ]
  },
  {
   "cell_type": "code",
   "execution_count": 170,
   "metadata": {},
   "outputs": [
    {
     "name": "stdout",
     "output_type": "stream",
     "text": [
      "Cost at Step 0: Autograd ArrayBox with value 0.9914551503766434 - Autograd SequenceBox with value [-0.9, 0.9, -0.3, 0.1, -1.8, -1.0, 0.8, -1.3]\n",
      "Cost at Step 1: Autograd ArrayBox with value 0.9957492586394778 - Autograd SequenceBox with value [-0.40000328198753166, 1.3999935313783487, -0.7999985241620833, 0.5999987205029103, -1.3000024201132476, -1.499990900325508, 0.3000017396509979, -0.800001707615084]\n",
      "Cost at Step 2: Autograd ArrayBox with value 0.9976381881901528 - Autograd SequenceBox with value [-0.02798052887524083, 1.6680851862836428, -1.1550996451785573, 0.9355785341843377, -0.9247909686674384, -1.8813445697985007, -0.04947731530586741, -0.4487828996250456]\n",
      "Cost at Step 3: Autograd ArrayBox with value 0.9952006592194999 - Autograd SequenceBox with value [0.26720633759876083, 1.814736962148366, -1.425718175942801, 1.175763410868169, -0.6238197039487345, -2.193984380790307, -0.3110630683673125, -0.18318617891381955]\n",
      "Cost at Step 4: Autograd ArrayBox with value 0.994295997878635 - Autograd SequenceBox with value [0.506279342356672, 1.8455707721570858, -1.6298355895300078, 1.331643221323817, -0.3737598828222712, -2.4670770441211243, -0.5002314629676008, 0.015203438415260478]\n",
      "Cost at Step 5: Autograd ArrayBox with value 0.989020527273966 - Autograd SequenceBox with value [0.6997127094492646, 1.8203499329980632, -1.7866695482844366, 1.4330682814850584, -0.16585152323474328, -2.7062435574616246, -0.6393403070542776, 0.16744451677275285]\n",
      "Cost at Step 6: Autograd ArrayBox with value 0.9922231682622438 - Autograd SequenceBox with value [0.8395957059915836, 1.721393259150276, -1.8876402482845744, 1.4616969445920374, -0.0022443665851426264, -2.9229308303660333, -0.7157643594215863, 0.26729578768188383]\n",
      "Cost at Step 7: Autograd ArrayBox with value 0.984616512942689 - Autograd SequenceBox with value [0.9429442303097473, 1.6029989222668832, -1.9567585764035902, 1.4561225371294402, 0.12848398170536254, -3.1163843420828305, -0.7588112355145875, 0.3382774651592758]\n",
      "Cost at Step 8: Autograd ArrayBox with value 0.9854353583559172 - Autograd SequenceBox with value [0.9891884901600176, 1.4558723703690006, -1.9794909575534803, 1.3943309965595774, 0.21281068817817822, -3.2918476387631004, -0.7503411599979527, 0.3704195696481123]\n",
      "Cost at Step 9: Autograd ArrayBox with value 0.9848996338839928 - Autograd SequenceBox with value [0.9892542203025111, 1.305187059959634, -1.9687431346055302, 1.2954927961003588, 0.2582558886854031, -3.4498678457935235, -0.7058026766220374, 0.37635580097305155]\n",
      "Cost at Step 10: Autograd ArrayBox with value 0.9905733433533079 - Autograd SequenceBox with value [0.9350016746336832, 1.1656086983987253, -1.9223904317952063, 1.1577939344170498, 0.25802578302365814, -3.591070381078153, -0.6228501642551013, 0.357113355059557]\n",
      "Cost at Step 11: Autograd ArrayBox with value 0.9955769132781076 - Autograd SequenceBox with value [0.8498749891592459, 1.0501083790479357, -1.8582464405999317, 1.0043522177521718, 0.22984195249033318, -3.716246590501502, -0.5220970110553607, 0.32667143120351627]\n",
      "Cost at Step 12: Autograd ArrayBox with value 0.9940788898479844 - Autograd SequenceBox with value [0.7471228331740143, 0.9614693730618323, -1.7859749330242587, 0.8471387511397043, 0.18412955865860015, -3.82663594579036, -0.4145396373358609, 0.2921121571732247]\n",
      "Cost at Step 13: Autograd ArrayBox with value 0.9966159129499876 - Autograd SequenceBox with value [0.6211765405528596, 0.9112763841743516, -1.7040305280094123, 0.6835800968147195, 0.11641168818285007, -3.92153109087586, -0.29830956993373103, 0.25446886927692164]\n",
      "Cost at Step 14: Autograd ArrayBox with value 0.9950985326912448 - Autograd SequenceBox with value [0.48384718929642256, 0.8925138349466395, -1.6195046816626897, 0.5221281426668954, 0.03624612151851904, -4.002503388755011, -0.18143797873787515, 0.2177262172329345]\n",
      "Cost at Step 15: Autograd ArrayBox with value 0.9973585270980883 - Autograd SequenceBox with value [0.3228534592676926, 0.9265944339685123, -1.5286708111017697, 0.3573788446729913, -0.06702780075425781, -4.064604606674762, -0.05997925626605634, 0.18316817503900265]\n",
      "Cost at Step 16: Autograd ArrayBox with value 0.9982015561757094 - Autograd SequenceBox with value [0.15444093622323288, 0.9930546132647547, -1.4393256880939984, 0.19785038923660545, -0.179879340007453, -4.110673747651845, 0.05735580784797721, 0.15304868352245155]\n",
      "Cost at Step 17: Autograd ArrayBox with value 0.9986143177764751 - Autograd SequenceBox with value [-0.01698981654072737, 1.0878326038914885, -1.354687781450963, 0.04611598141403103, -0.2991682288329972, -4.138314007456065, 0.16655557976136462, 0.12920268257119133]\n",
      "Cost at Step 18: Autograd ArrayBox with value 0.9988959726860036 - Autograd SequenceBox with value [-0.18113237883449268, 1.1948093357208858, -1.2788428095944067, -0.09397277750412236, -0.41638541744644464, -4.14957821883798, 0.2631382488433621, 0.11172357844919198]\n",
      "Cost at Step 19: Autograd ArrayBox with value 0.9987446227285851 - Autograd SequenceBox with value [-0.3302775243208073, 1.3012316754594557, -1.2145198804322446, -0.22005774637230519, -0.5252951421802492, -4.145637138722011, 0.3440214758411604, 0.10041941065569929]\n",
      "Cost at Step 20: Autograd ArrayBox with value 0.9979960883749089 - Autograd SequenceBox with value [-0.4602402353350671, 1.3973570539769569, -1.1620109915452028, -0.33187098998765824, -0.6219163565498002, -4.1303930768847135, 0.40937840913065154, 0.09392669306367671]\n",
      "Cost at Step 21: Autograd ArrayBox with value 0.9981066410945314 - Autograd SequenceBox with value [-0.5628030922183725, 1.472674052416091, -1.1259350399624548, -0.42649049773489345, -0.7007308619333806, -4.099137225576948, 0.4533058460129697, 0.09373369407749359]\n",
      "Cost at Step 22: Autograd ArrayBox with value 0.9956331753263884 - Autograd SequenceBox with value [-0.6398341591050675, 1.525508815858005, -1.1037954265643035, -0.5056035570521336, -0.7621908301512104, -4.0570205333187745, 0.4793332896189982, 0.09813265591222063]\n",
      "Cost at Step 23: Autograd ArrayBox with value 0.9974032006072677 - Autograd SequenceBox with value [-0.6755964053716427, 1.5381785923007465, -1.1047016052593535, -0.5631854581348266, -0.7955918574806937, -3.9947584462048504, 0.4759714283651458, 0.11046348035248328]\n",
      "Cost at Step 24: Autograd ArrayBox with value 0.997416682754415 - Autograd SequenceBox with value [-0.6867251167349543, 1.527684088469251, -1.118493051419888, -0.6063754185004537, -0.8116020536867659, -3.924048114941356, 0.4563643429250326, 0.12702802669348737]\n",
      "Cost at Step 25: Autograd ArrayBox with value 0.9964941680049602 - Autograd SequenceBox with value [-0.6733038065606934, 1.49495573535513, -1.1453552648926586, -0.6352179252572774, -0.8101196261303601, -3.844897999598032, 0.42040162460840425, 0.14838796990242714]\n",
      "Cost at Step 26: Autograd ArrayBox with value 0.9970632314148755 - Autograd SequenceBox with value [-0.629139735243386, 1.436076880946461, -1.1896609735480084, -0.6461803657911387, -0.7867443152745776, -3.7530787611287875, 0.36267408818730046, 0.17751964130524428]\n",
      "Cost at Step 27: Autograd ArrayBox with value 0.9980830646232502 - Autograd SequenceBox with value [-0.5620288905989339, 1.3615300903926766, -1.2475470739665282, -0.6420342154259494, -0.7468567190086767, -3.6521559501649032, 0.2881035302248404, 0.21399580484849215]\n",
      "Cost at Step 28: Autograd ArrayBox with value 0.9986275628580012 - Autograd SequenceBox with value [-0.4829090673729125, 1.284006663809387, -1.3128462424859684, -0.6280687330254467, -0.6981624691576298, -3.547423201349288, 0.2044572085476396, 0.2557902219579215]\n",
      "Cost at Step 29: Autograd ArrayBox with value 0.9985509749217708 - Autograd SequenceBox with value [-0.39727020416227077, 1.2111437797875835, -1.3828544069758022, -0.6064419775734043, -0.6446576653004996, -3.4407864888783823, 0.11507038587664452, 0.30271536232633495]\n",
      "Cost at Step 30: Autograd ArrayBox with value 0.9993573098576113 - Autograd SequenceBox with value [-0.30658665481139713, 1.1515674461570602, -1.4583591307271195, -0.5762768757590866, -0.5877133161212813, -3.3300728815475775, 0.01889453221240399, 0.35810060547827777]\n",
      "Cost at Step 31: Autograd ArrayBox with value 0.9992865648386433 - Autograd SequenceBox with value [-0.22035385331416396, 1.1061499331044047, -1.532012194768929, -0.5445072481489885, -0.5337874567511227, -3.2224674430717264, -0.07488955927503053, 0.4156893284473716]\n",
      "Cost at Step 32: Autograd ArrayBox with value 0.99923470951195 - Autograd SequenceBox with value [-0.14194682088076194, 1.0821021098382706, -1.6028271212201526, -0.5126348015692181, -0.4854646849385583, -3.1171844455050466, -0.16508693073588232, 0.4769760459731574]\n",
      "Cost at Step 33: Autograd ArrayBox with value 0.9996187088645079 - Autograd SequenceBox with value [-0.07699740909214096, 1.0880791239641285, -1.6684134352939854, -0.48315680708393544, -0.4470717043855391, -3.0134210492502906, -0.24895766102615735, 0.5436966582377897]\n",
      "Cost at Step 34: Autograd ArrayBox with value 0.9994843780341492 - Autograd SequenceBox with value [-0.022810701617974855, 1.105693794804451, -1.7270416935623438, -0.4584052049354203, -0.41597640338629177, -2.916294861748127, -0.3240832071377112, 0.6082698964275336]\n",
      "Cost at Step 35: Autograd ArrayBox with value 0.9991041529710736 - Autograd SequenceBox with value [0.017648749832086835, 1.135164728437333, -1.7766281599492575, -0.44111672983734224, -0.3943319679719992, -2.8257715042249285, -0.38802476094630056, 0.6703357897735123]\n",
      "Cost at Step 36: Autograd ArrayBox with value 0.9988033170985233 - Autograd SequenceBox with value [0.03973567803648613, 1.1754808848346947, -1.8136043460618483, -0.43646842956800114, -0.38537548178842346, -2.7421880974017454, -0.436444493772964, 0.7287070012602119]\n",
      "Cost at Step 37: Autograd ArrayBox with value 0.9989027232146069 - Autograd SequenceBox with value [0.041419465401785455, 1.2189661666896905, -1.8351108157005753, -0.44887311409936603, -0.39026686978604513, -2.6666679723922604, -0.46586541994480307, 0.7808655137334403]\n",
      "Cost at Step 38: Autograd ArrayBox with value 0.9991031971405319 - Autograd SequenceBox with value [0.027392206878107207, 1.2554356531577038, -1.8429016168364891, -0.47694351929854506, -0.4053440669880214, -2.599832947698253, -0.4783244995864749, 0.8250671963315852]\n",
      "Cost at Step 39: Autograd ArrayBox with value 0.9991859610781882 - Autograd SequenceBox with value [0.004685898269781667, 1.2810989508364028, -1.8417281409818265, -0.5153546983418247, -0.4254620603013794, -2.541173796871124, -0.4794208427464848, 0.861811123701211]\n",
      "Cost at Step 40: Autograd ArrayBox with value 0.9995056302970525 - Autograd SequenceBox with value [-0.026624526136355065, 1.2891113192167225, -1.8309019207878525, -0.5661644682210042, -0.45016040168851496, -2.4914221926915436, -0.4681889754213445, 0.8900229437030658]\n",
      "Cost at Step 41: Autograd ArrayBox with value 0.9994399666653132 - Autograd SequenceBox with value [-0.060901205628136126, 1.2843755025825865, -1.8155508320152243, -0.6219776518984724, -0.4757509125495852, -2.4490347172550138, -0.45094103585182244, 0.912375687979964]\n",
      "Cost at Step 42: Autograd ArrayBox with value 0.9995617560279517 - Autograd SequenceBox with value [-0.09798037010812387, 1.2642216301880265, -1.7960479875460047, -0.6834259425625692, -0.5017263539192921, -2.41463618784118, -0.4279114981440754, 0.9290673438936911]\n",
      "Cost at Step 43: Autograd ArrayBox with value 0.9995908876278503 - Autograd SequenceBox with value [-0.13658821001346647, 1.2305564185334175, -1.7742588742306733, -0.7482973083215567, -0.527075734977907, -2.388131966968752, -0.4012674354483707, 0.9416196196718708]\n",
      "Cost at Step 44: Autograd ArrayBox with value 0.9998059713944377 - Autograd SequenceBox with value [-0.1758580731932392, 1.1872654534607783, -1.752242354129498, -0.814423287889299, -0.5510381133604569, -2.3694607914704626, -0.3732990779655594, 0.9519863428010243]\n",
      "Cost at Step 45: Autograd ArrayBox with value 0.9997828609379965 - Autograd SequenceBox with value [-0.21348001710113612, 1.1435115379584315, -1.7322038900077528, -0.8770747358450033, -0.5729521643443864, -2.355662100499462, -0.347126994173175, 0.9620308010449122]\n",
      "Cost at Step 46: Autograd ArrayBox with value 0.9996900831049377 - Autograd SequenceBox with value [-0.24984823241963772, 1.1012999500340632, -1.7157324461233248, -0.9352964457160949, -0.5924954722091484, -2.3480149892755784, -0.3242638145420739, 0.9739072759726718]\n",
      "Cost at Step 47: Autograd ArrayBox with value 0.9997568207260692 - Autograd SequenceBox with value [-0.28468552994237556, 1.0646756762157144, -1.7048572241294968, -0.986679235761789, -0.6091756027183429, -2.34695520420157, -0.3069547375514817, 0.9902437780433452]\n",
      "Cost at Step 48: Autograd ArrayBox with value 0.9996525089751529 - Autograd SequenceBox with value [-0.3170024956421571, 1.0356870717454778, -1.698973126382014, -1.0309546872104285, -0.6231530222874564, -2.3498041793929927, -0.2949391927300451, 1.010118072116894]\n",
      "Cost at Step 49: Autograd ArrayBox with value 0.9996536141510918 - Autograd SequenceBox with value [-0.3462670085720351, 1.017920154332062, -1.7003722538297668, -1.0660354058984294, -0.6335529447295382, -2.357139018721999, -0.29063534989739764, 1.0363489051575252]\n",
      "Cost at Step 50: Autograd ArrayBox with value 0.999699536965384 - Autograd SequenceBox with value [-0.3716226059471199, 1.0099999239166135, -1.7086810332827922, -1.0916402404376055, -0.6401044752315063, -2.367681759312779, -0.2939257436845148, 1.0685735936292546]\n",
      "Cost at Step 51: Autograd ArrayBox with value 0.9997100766359983 - Autograd SequenceBox with value [-0.39272389076763337, 1.0088132600044606, -1.7222838118770858, -1.109581130334281, -0.6430342081310524, -2.379850207665531, -0.3031911243961106, 1.104822720186944]\n",
      "Cost at Step 52: Autograd ArrayBox with value 0.9996931803947066 - Autograd SequenceBox with value [-0.40859424523610244, 1.0123100244018683, -1.7414143906923962, -1.1199419188733, -0.6415532655759681, -2.39301898698124, -0.31874201801946156, 1.1453246782414086]\n",
      "Cost at Step 53: Autograd ArrayBox with value 0.999607343748948 - Autograd SequenceBox with value [-0.41760889505938636, 1.0170894253011242, -1.766693574720375, -1.122593348892948, -0.6342269338849817, -2.406547346075773, -0.3413157078336225, 1.1907075810899925]\n",
      "Cost at Step 54: Autograd ArrayBox with value 0.999850431042255 - Autograd SequenceBox with value [-0.4174695582767043, 1.0168064580785012, -1.798531076944668, -1.11775501811637, -0.6190405897208995, -2.4193760697676123, -0.3714798348116952, 1.2414794075293856]\n",
      "Cost at Step 55: Autograd ArrayBox with value 0.9998642606814895 - Autograd SequenceBox with value [-0.4136645092385139, 1.0122711741635482, -1.8305234131005332, -1.1117205872473654, -0.6014873205914782, -2.4306404873149945, -0.40216478801937383, 1.290971060956567]\n",
      "Cost at Step 56: Autograd ArrayBox with value 0.9998436265716676 - Autograd SequenceBox with value [-0.4071817564687513, 1.0023873293383179, -1.8613006785649782, -1.1062131522680103, -0.5824529917110896, -2.4398906804010467, -0.43184001068635525, 1.3380531292921038]\n",
      "Cost at Step 57: Autograd ArrayBox with value 0.9998721272308502 - Autograd SequenceBox with value [-0.3972142890370265, 0.9807992587453428, -1.8899388830775634, -1.103034204294327, -0.5610441952320229, -2.4456231750713404, -0.459572329183869, 1.382783483803203]\n",
      "Cost at Step 58: Autograd ArrayBox with value 0.9999122183539854 - Autograd SequenceBox with value [-0.38660972583217673, 0.9519241072647178, -1.914965110664907, -1.1032229670515084, -0.5397617408690232, -2.4481650685494216, -0.48370077724291294, 1.424116991995624]\n",
      "Cost at Step 59: Autograd ArrayBox with value 0.9998604857276099 - Autograd SequenceBox with value [-0.37731983738396596, 0.9215105082968581, -1.9362940771693462, -1.1060712777902362, -0.5203634875219889, -2.4486091590357013, -0.5040820597133525, 1.4618086232312424]\n",
      "Cost at Step 60: Autograd ArrayBox with value 0.9998403144054441 - Autograd SequenceBox with value [-0.37176962172924366, 0.8891620141827806, -1.9517115801344036, -1.1141258952089939, -0.5046420891243713, -2.4452541546426505, -0.5183498937335178, 1.495870240340406]\n",
      "Cost at Step 61: Autograd ArrayBox with value 0.9998963154586856 - Autograd SequenceBox with value [-0.3715830636923111, 0.8597828463247711, -1.9613704938373226, -1.1274425104210712, -0.4938378446760712, -2.4384889871705, -0.5265199226873215, 1.5266505502064316]\n",
      "Cost at Step 62: Autograd ArrayBox with value 0.9998730708391644 - Autograd SequenceBox with value [-0.37475499847749427, 0.835147323239994, -1.9678387978869216, -1.1427814746525875, -0.4864570417196251, -2.430418928481091, -0.5313614624398943, 1.5546520359922904]\n",
      "Cost at Step 63: Autograd ArrayBox with value 0.9999199868928267 - Autograd SequenceBox with value [-0.3841458749172163, 0.8179595222999021, -1.9696606422883027, -1.161554113024662, -0.4846763530623581, -2.4198033954275195, -0.53136055787477, 1.5802886877249098]\n",
      "Cost at Step 64: Autograd ArrayBox with value 0.9999100342401387 - Autograd SequenceBox with value [-0.3971089779936591, 0.806762940871305, -1.96897056841496, -1.1816556894574473, -0.4863785507772795, -2.408074092799279, -0.5287859463349973, 1.6038153654589449]\n",
      "Cost at Step 65: Autograd ArrayBox with value 0.9999322669226322 - Autograd SequenceBox with value [-0.4141456558530183, 0.801708614179395, -1.9657194397926063, -1.2029746523484421, -0.49192877757659265, -2.3948412664558623, -0.5236758338353605, 1.6255236973199572]\n",
      "Cost at Step 66: Autograd ArrayBox with value 0.9999422408730727 - Autograd SequenceBox with value [-0.433593878602252, 0.800949051454779, -1.96100024332331, -1.2246171018889092, -0.49996880031729823, -2.380658081265863, -0.5171883840417594, 1.6455221857139968]\n",
      "Cost at Step 67: Autograd ArrayBox with value 0.9999359561831259 - Autograd SequenceBox with value [-0.45566803585013227, 0.8039072709117066, -1.9549857849737333, -1.2467242739245017, -0.5105614089999513, -2.364904359971763, -0.5095837747784965, 1.6640130931810715]\n",
      "Cost at Step 68: Autograd ArrayBox with value 0.9999625830289918 - Autograd SequenceBox with value [-0.47869488558234025, 0.8084600791980483, -1.9486520754894794, -1.2688212357998998, -0.5223091269274591, -2.347947533319708, -0.5018458014031577, 1.681011963031714]\n",
      "Cost at Step 69: Autograd ArrayBox with value 0.999963231627528 - Autograd SequenceBox with value [-0.5011287352193964, 0.8120715512008189, -1.9426802789542106, -1.2900230309697331, -0.5339922836727669, -2.330199146620659, -0.49477520976844963, 1.6965613579661774]\n",
      "Cost at Step 70: Autograd ArrayBox with value 0.9999459280769181 - Autograd SequenceBox with value [-0.5218781140873728, 0.8133844943999274, -1.9375853602981143, -1.3098547629556374, -0.5447167705454316, -2.312076434060416, -0.4889075816233151, 1.7107462338390773]\n",
      "Cost at Step 71: Autograd ArrayBox with value 0.999957425475236 - Autograd SequenceBox with value [-0.5399617756904128, 0.8095811288206145, -1.934321999109891, -1.3283166851834323, -0.5535030087488158, -2.292385087727258, -0.4853781613374052, 1.7237384539449945]\n",
      "Cost at Step 72: Autograd ArrayBox with value 0.9999556658064551 - Autograd SequenceBox with value [-0.5545743552351824, 0.7997538145161379, -1.9332570568448584, -1.344521119174275, -0.559718428079676, -2.2715126193981683, -0.4846626152770921, 1.7358281064762946]\n",
      "Cost at Step 73: Autograd ArrayBox with value 0.9999477084385785 - Autograd SequenceBox with value [-0.5661735456344991, 0.7868099512380764, -1.9341402119193498, -1.3587112130148806, -0.5637026093881308, -2.2504885561277326, -0.48625107318817185, 1.7472801846262063]\n",
      "Cost at Step 74: Autograd ArrayBox with value 0.9999663307886424 - Autograd SequenceBox with value [-0.5739876335870733, 0.7699068365017981, -1.937975535806641, -1.3700332818852123, -0.5646458830080344, -2.2286481772919227, -0.49136951258782186, 1.7588265776672922]\n",
      "Cost at Step 75: Autograd ArrayBox with value 0.9999656529594692 - Autograd SequenceBox with value [-0.5796890425644755, 0.7529266148024993, -1.9433341706043665, -1.3792725474665932, -0.5640259264540284, -2.207420478036054, -0.4982247395992943, 1.770297319264235]\n",
      "Cost at Step 76: Autograd ArrayBox with value 0.9999584665909418 - Autograd SequenceBox with value [-0.5837930726645196, 0.7370258669238301, -1.949917574291225, -1.3864200939916158, -0.5622386893363097, -2.187027673928135, -0.5064800530995125, 1.7819054746268161]\n",
      "Cost at Step 77: Autograd ArrayBox with value 0.999951540954071 - Autograd SequenceBox with value [-0.5864737552377792, 0.7236874920245356, -1.9581417337977103, -1.3912322667182953, -0.5592126142848028, -2.167152022911363, -0.5165777067052476, 1.7943673588667166]\n",
      "Cost at Step 78: Autograd ArrayBox with value 0.9999671649405543 - Autograd SequenceBox with value [-0.5879841372154572, 0.7148076734701614, -1.9685920411292843, -1.3928441976121433, -0.5547901865525208, -2.147405425815809, -0.529244613891079, 1.808918519947063]\n",
      "Cost at Step 79: Autograd ArrayBox with value 0.9999758356964406 - Autograd SequenceBox with value [-0.58923747979525, 0.709141907485187, -1.9794351689741971, -1.3930197985798924, -0.5500407794771857, -2.128657311929672, -0.5423192403871077, 1.8240030154482945]\n",
      "Cost at Step 80: Autograd ArrayBox with value 0.9999796217184926 - Autograd SequenceBox with value [-0.5906001900416912, 0.7058769655296784, -1.9898982292048433, -1.3927754060148703, -0.5453656380729188, -2.1111709623076953, -0.5548567873905972, 1.838884316613167]\n",
      "Cost at Step 81: Autograd ArrayBox with value 0.9999786371115679 - Autograd SequenceBox with value [-0.5923379691334605, 0.704265492972295, -1.9995607364601073, -1.3923800833195086, -0.540867003325519, -2.0949767619845945, -0.5664203706319502, 1.8534550428418004]\n",
      "Cost at Step 82: Autograd ArrayBox with value 0.9999712865398682 - Autograd SequenceBox with value [-0.5946552526173604, 0.7036148767757425, -2.007994525955324, -1.3925767035958307, -0.5366402802500829, -2.080055273502843, -0.5764741495322304, 1.8673709141352755]\n",
      "Cost at Step 83: Autograd ArrayBox with value 0.9999790006211167 - Autograd SequenceBox with value [-0.597946457163414, 0.7032782850863484, -2.014680120609127, -1.3944300159627534, -0.5327187255959938, -2.0664055283576546, -0.5843225751312006, 1.8803507050236266]\n",
      "Cost at Step 84: Autograd ArrayBox with value 0.9999763556202965 - Autograd SequenceBox with value [-0.6017094849637421, 0.7022610404984071, -2.0198720290804046, -1.3973326131266492, -0.5291323811192786, -2.054090539566707, -0.5903611645418231, 1.8920683015170408]\n",
      "Cost at Step 85: Autograd ArrayBox with value 0.9999697756422232 - Autograd SequenceBox with value [-0.6060921952290573, 0.6999654467016648, -2.023358464318896, -1.4017002451919043, -0.5258677482218238, -2.04310995642731, -0.5943203746442459, 1.902367860083883]\n",
      "Cost at Step 86: Autograd ArrayBox with value 0.9999777808345393 - Autograd SequenceBox with value [-0.6115099056177233, 0.695472650332004, -2.0246308574834124, -1.4082727544217912, -0.522926443717399, -2.0335559654046205, -0.5955774499065493, 1.9110208438687057]\n",
      "Cost at Step 87: Autograd ArrayBox with value 0.9999781515164335 - Autograd SequenceBox with value [-0.6176869283987592, 0.6893160852294297, -2.0242262352084763, -1.4161383808500785, -0.5203223420397469, -2.02535770324293, -0.5948331276806155, 1.918307250343742]\n",
      "Cost at Step 88: Autograd ArrayBox with value 0.9999703505148168 - Autograd SequenceBox with value [-0.6247444451097234, 0.6825935359099706, -2.0225297188327733, -1.425149164937995, -0.5180877423619779, -2.0185282067491683, -0.5924574753541273, 1.9244990763609682]\n",
      "Cost at Step 89: Autograd ArrayBox with value 0.9999864683595971 - Autograd SequenceBox with value [-0.6331767841199512, 0.6758297965199528, -2.0195536626570756, -1.4350923666641513, -0.5162815708619668, -2.013258825520696, -0.5884729806822311, 1.9298939134835944]\n",
      "Cost at Step 90: Autograd ArrayBox with value 0.9999808472868145 - Autograd SequenceBox with value [-0.6417078128731764, 0.6703337249877266, -2.0165863683964247, -1.4447385152491663, -0.5147151408678224, -2.008905328247509, -0.584404229264834, 1.9348952295521464]\n",
      "Cost at Step 91: Autograd ArrayBox with value 0.999974574774435 - Autograd SequenceBox with value [-0.6507853651945729, 0.6670988047643212, -2.0138796507036747, -1.453957990639827, -0.513327355403532, -2.0056545787290188, -0.5804675720175115, 1.9398992960548933]\n",
      "Cost at Step 92: Autograd ArrayBox with value 0.9999862480062038 - Autograd SequenceBox with value [-0.6605706327349968, 0.6667816579047192, -2.01194376676887, -1.4619927133987092, -0.5118246673446736, -2.0035982307099793, -0.5772767361818529, 1.9454609212783214]\n",
      "Cost at Step 93: Autograd ArrayBox with value 0.9999785012811429 - Autograd SequenceBox with value [-0.6698945279802091, 0.6676040273189623, -2.0107093067094985, -1.4690019979542488, -0.5101354585542667, -2.0020690551561824, -0.5748564301169318, 1.9510182010964328]\n",
      "Cost at Step 94: Autograd ArrayBox with value 0.9999793068728585 - Autograd SequenceBox with value [-0.6784556313019389, 0.6687415506505332, -2.010481252102321, -1.4744180198346968, -0.5078523700269157, -2.000982488753226, -0.5736378897322754, 1.9567355684250107]\n",
      "Cost at Step 95: Autograd ArrayBox with value 0.9999772733540064 - Autograd SequenceBox with value [-0.6858923545910113, 0.669263521647336, -2.011398604440509, -1.4780689242341012, -0.5046720988607076, -2.000148194509274, -0.5738294893866013, 1.9625696701344353]\n",
      "Cost at Step 96: Autograd ArrayBox with value 0.9999839980543742 - Autograd SequenceBox with value [-0.6919363984565626, 0.6686809358643563, -2.01364668105692, -1.480141732022541, -0.5002643637750404, -1.9993058831579122, -0.5756069809119302, 1.9684531999864134]\n",
      "Cost at Step 97: Autograd ArrayBox with value 0.9999754741063465 - Autograd SequenceBox with value [-0.697141921294843, 0.6681264040525762, -2.0163720086505292, -1.481963716473082, -0.49557227476011884, -1.9984075336561442, -0.5778821711908221, 1.9739754184339842]\n",
      "Cost at Step 98: Autograd ArrayBox with value 0.9999839584542326 - Autograd SequenceBox with value [-0.7008440376223906, 0.6657278204934302, -2.0201894769633935, -1.4828094755440338, -0.48951468857906294, -1.9969273248626886, -0.5814825203001575, 1.9792438912351402]\n",
      "Cost at Step 99: Autograd ArrayBox with value 0.9999806802336212 - Autograd SequenceBox with value [-0.7037819470028733, 0.6626887218613173, -2.0242407629942814, -1.483321243648393, -0.4831537073850335, -1.995120523236238, -0.585418919432006, 1.9840966001241829]\n",
      "[-0.7061860790478103, 0.6592285492560521, -2.0284142429550394, -1.4836721569696893, -0.4765390652375816, -1.992813909722905, -0.5895601766829126, 1.9885275924382122]\n"
     ]
    }
   ],
   "source": [
    "# Defines the optimization method\n",
    "\n",
    "iterations = 0\n",
    "\n",
    "optimizer = qml.AdamOptimizer(stepsize=0.5)\n",
    "steps = 100\n",
    "qgrnn_params = list([random.randint(-20, 20)/10 for i in range(0, 8)])\n",
    "\n",
    "# Executes the optimization method\n",
    "\n",
    "for i in range(0, steps):\n",
    "    qgrnn_params = optimizer.step(cost_function, qgrnn_params)\n",
    "\n",
    "print(qgrnn_params)"
   ]
  },
  {
   "cell_type": "code",
   "execution_count": 171,
   "metadata": {},
   "outputs": [
    {
     "name": "stdout",
     "output_type": "stream",
     "text": [
      "[[-4.62942949  1.          1.          0.          1.          0.\n",
      "   0.          0.          1.          0.          0.          0.\n",
      "   0.          0.          0.          0.        ]\n",
      " [ 1.         -6.95759746  0.          1.          0.          1.\n",
      "   0.          0.          0.          1.          0.          0.\n",
      "   0.          0.          0.          0.        ]\n",
      " [ 1.          0.          3.57386366  1.          0.          0.\n",
      "   1.          0.          0.          0.          1.          0.\n",
      "   0.          0.          0.          0.        ]\n",
      " [ 0.          1.          1.         -4.68899293  0.          0.\n",
      "   0.          1.          0.          0.          0.          1.\n",
      "   0.          0.          0.          0.        ]\n",
      " [ 1.          0.          0.          0.          4.82539897  1.\n",
      "   1.          0.          0.          0.          0.          0.\n",
      "   1.          0.          0.          0.        ]\n",
      " [ 0.          1.          0.          0.          1.          2.49723101\n",
      "   0.          1.          0.          0.          0.          0.\n",
      "   0.          1.          0.          0.        ]\n",
      " [ 0.          0.          1.          0.          1.          0.\n",
      "   4.91503516  1.          0.          0.          0.          0.\n",
      "   0.          0.          1.          0.        ]\n",
      " [ 0.          0.          0.          1.          0.          1.\n",
      "   1.         -3.34782144  0.          0.          0.          0.\n",
      "   0.          0.          0.          1.        ]\n",
      " [ 1.          0.          0.          0.          0.          0.\n",
      "   0.          0.         -3.5824363   1.          1.          0.\n",
      "   1.          0.          0.          0.        ]\n",
      " [ 0.          1.          0.          0.          0.          0.\n",
      "   0.          0.          1.         -3.27369007  0.          1.\n",
      "   0.          1.          0.          0.        ]\n",
      " [ 0.          0.          1.          0.          0.          0.\n",
      "   0.          0.          1.          0.          4.62085685  1.\n",
      "   0.          0.          1.          0.        ]\n",
      " [ 0.          0.          0.          1.          0.          0.\n",
      "   0.          0.          0.          1.          1.         -1.00508555\n",
      "   0.          0.          0.          1.        ]\n",
      " [ 0.          0.          0.          0.          1.          0.\n",
      "   0.          0.          1.          0.          0.          0.\n",
      "   3.04764785  1.          1.          0.        ]\n",
      " [ 0.          0.          0.          0.          0.          1.\n",
      "   0.          0.          0.          1.          0.          0.\n",
      "   1.          3.35639408  0.          1.        ]\n",
      " [ 0.          0.          0.          0.          0.          0.\n",
      "   1.          0.          0.          0.          1.          0.\n",
      "   1.          0.          3.13728403  1.        ]\n",
      " [ 0.          0.          0.          0.          0.          0.\n",
      "   0.          1.          0.          0.          0.          1.\n",
      "   0.          1.          1.         -2.48865837]]\n"
     ]
    }
   ],
   "source": [
    "#Target parameters: [[-1.0, 0.63, -1.92, -1.39], [-0.2, -1.82, -0.63, 1.94]]\n",
    "\n",
    "new_ham_matrix = create_hamiltonian_matrix(qubit_number, ising_graph, [qgrnn_params[0:4], qgrnn_params[4:8]])\n",
    "print(new_ham_matrix)"
   ]
  },
  {
   "cell_type": "code",
   "execution_count": 172,
   "metadata": {},
   "outputs": [
    {
     "data": {
      "text/plain": [
       "<matplotlib.axes._subplots.AxesSubplot at 0x140933c10>"
      ]
     },
     "execution_count": 172,
     "metadata": {},
     "output_type": "execute_result"
    },
    {
     "data": {
      "image/png": "[encoded data removed]",
      "text/plain": [
       "<Figure size 432x288 with 2 Axes>"
      ]
     },
     "metadata": {
      "needs_background": "light"
     },
     "output_type": "display_data"
    }
   ],
   "source": [
    "seaborn.heatmap(new_ham_matrix)"
   ]
  },
  {
   "cell_type": "code",
   "execution_count": 174,
   "metadata": {},
   "outputs": [
    {
     "data": {
      "text/plain": [
       "<matplotlib.axes._subplots.AxesSubplot at 0x141986650>"
      ]
     },
     "execution_count": 174,
     "metadata": {},
     "output_type": "execute_result"
    },
    {
     "data": {
      "image/png": "[encoded data removed]",
      "text/plain": [
       "<Figure size 432x288 with 2 Axes>"
      ]
     },
     "metadata": {
      "needs_background": "light"
     },
     "output_type": "display_data"
    }
   ],
   "source": [
    "seaborn.heatmap(ham_matrix)"
   ]
  },
  {
   "cell_type": "markdown",
   "metadata": {},
   "source": [
    "### Conclusion and Further Reading\n",
    "\n",
    "This Notebook demonstrated that the QGRNN works in the case of a basic toy model. The actual usefulness of the QGRNN becomes more apart as the systems we are attempting to learn become larger and larger.\n",
    "\n",
    "To learn more about the QGRNN, check out the [original paper](https://arxiv.org/abs/1909.12264)."
   ]
  }
 ],
 "metadata": {
  "kernelspec": {
   "display_name": "Python 3",
   "language": "python",
   "name": "python3"
  },
  "language_info": {
   "codemirror_mode": {
    "name": "ipython",
    "version": 3
   },
   "file_extension": ".py",
   "mimetype": "text/x-python",
   "name": "python",
   "nbconvert_exporter": "python",
   "pygments_lexer": "ipython3",
   "version": "3.7.5"
  }
 },
 "nbformat": 4,
 "nbformat_minor": 4
}
