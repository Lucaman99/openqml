{
 "cells": [
  {
   "cell_type": "markdown",
   "metadata": {},
   "source": [
    "## Quantum Graph Reccurent Neural Network in Pennylane"
   ]
  },
  {
   "cell_type": "code",
   "execution_count": 10,
   "metadata": {},
   "outputs": [],
   "source": [
    "# Starts by importing all of the necessary dependencies\n",
    "\n",
    "import pennylane as qml\n",
    "from matplotlib import pyplot as plt\n",
    "import numpy as np\n",
    "import scipy\n",
    "from scipy.optimize import minimize\n",
    "import random\n",
    "import math\n",
    "import networkx as nx\n",
    "import seaborn\n",
    "import timeit\n",
    "import tensorflow as tf"
   ]
  },
  {
   "cell_type": "markdown",
   "metadata": {},
   "source": [
    "### Introduction"
   ]
  },
  {
   "cell_type": "markdown",
   "metadata": {},
   "source": [
    "In this Notebook, we will investigate the idea of a **quantum graph neural network**, which is the quantum analogue of a classical graph neural network. More specicically, the quantum neural network we will be investigating is a **recurrent** quantum graph neural network. We will disucss what makes this sublcass unique later in the Notebook, but for now, we will note that these QGRNNs are very useful for learning the dynamics of quantum systems that \"live\" on a graph."
   ]
  },
  {
   "cell_type": "markdown",
   "metadata": {},
   "source": [
    "### The Quantum Graph Neural Network"
   ]
  },
  {
   "cell_type": "markdown",
   "metadata": {},
   "source": [
    "In recent years, the idea of a quantum graph neural network has been receving a lot of attention from the machine learning research community for its ability to learn representations of data that is inhernelty graph-theoretic in nature. More specifically, graph neural networks seek to learn a **representation** (a mapping of the data into a lower-dimensional vector space) of a given graph, with features assigned to nodes and edges, such that the each of the vectors in the learned representation preserves the overall topology of the graph."
   ]
  },
  {
   "cell_type": "markdown",
   "metadata": {},
   "source": [
    "We will attempt to modify the same task, but from a quantum computational perspective. Specifically, we want to define an ansatz that we can use for quantum machine learning tasks that are inherently graph-theoreticin nature. From the original QGNN paper, the general QGNN ansatz is defined as:\n",
    "\n",
    "<br>\n",
    "$$U(\\boldsymbol\\gamma, \\ \\boldsymbol\\theta) \\ = \\ \\displaystyle\\prod_{i \\ = \\ 1}^{P} \\Bigg[ \\displaystyle\\prod_{j \\ = \\ 1}^{Q} e^{-i \\gamma_{ij} H_{j}(\\boldsymbol\\theta) }\\Bigg]$$\n",
    "<br>\n",
    "\n",
    "Where we have:\n",
    "\n",
    "<br>\n",
    "$$\\hat{H}_{j}(\\boldsymbol\\theta) \\ = \\ \\displaystyle\\sum$$\n",
    "<br>\n",
    "\n",
    "As you can see, this is the class of Hamiltonians that posses a direct mapping between interaction and bias terms, and the edges and vertices (repsectively) of some graph $G \\ = \\ (V, \\ E)$."
   ]
  },
  {
   "cell_type": "markdown",
   "metadata": {},
   "source": [
    "### The Quantum Graph Recurrent Neural Network"
   ]
  },
  {
   "cell_type": "markdown",
   "metadata": {},
   "source": [
    "Now that we have discussed what a general quantum graph neural network looks like, let's discuss what distinguishes a quantum graph RNN from its more general counterpart. With a graph RNN, we make one small change to the $\\boldsymbol\\gamma$ parameters. Specifically, we tie these parameters over temproal layers, meaning that each $\\gamma_{ij}$ is only determined by the index $j$, and is the same across all values of $i$ (with some fixed $j$). As the paper explains, this is equivalent to how a classical recurrent neural network behaves, where parameters remain the same over layers of the neural network. Thus, we will have:\n",
    "\n",
    "<br>\n",
    "$$U_{\\text{RNN}}(\\gamma, \\ \\theta) \\ = \\ \\displaystyle\\prod_{i \\ = \\ 1}^{P} \\Bigg[ \\displaystyle\\prod_{j \\ = \\ 1}^{Q} e^{-i \\gamma_{j} H_{j}(\\boldsymbol\\theta) }\\Bigg]$$\n",
    "<br>\n",
    "\n",
    "Now, the Trotter-Suzuki decomposition says that:\n",
    "\n",
    "<br>\n",
    "$$\\exp \\Bigg[ \\displaystyle\\sum_{n} A_n \\Bigg] \\ = \\ \\lim_{P \\rightarrow \\infty} \\displaystyle\\prod_{j \\ = \\ 1}^{P} \\Bigg[ \\displaystyle\\prod_{n} e^{A_n / P} \\Bigg]$$\n",
    "<br>"
   ]
  },
  {
   "cell_type": "markdown",
   "metadata": {},
   "source": [
    "Where finite $P \\ \\gg \\ 1$ approximates the left-hand side of the equation. It isn't too difficult to see that the quantum graph RNN resembles the Trotter-Suzuki decomposition. More specifically, the quantum graph RNN can be thought of as the Trotterization of the time-evolution operator, for some Hamiltonian. Let us fix a time $T$. Let us also fix a parameter that controls the size of the Trotterization steps (essentially the $1/P$ in the above formula), which we call $\\Delta$. This allows uas to keep the precision of our approximate time-evolution for different values of $T$ the same. Let us define:\n",
    "\n",
    "<br>\n",
    "$$\\hat{H} \\ = \\ \\displaystyle\\sum_{q} \\hat{H}_{q}(\\boldsymbol\\theta)$$\n",
    "<br>\n",
    "\n",
    "<br>\n",
    "\n",
    "By using the Trotter-Suzuki decomposition defined above, we can see that the time-evolution operator for this particular Hamiltonian can be approximated as:\n",
    "\n",
    "<br>\n",
    "$$e^{-i T H} \\ \\approx \\ \\displaystyle\\prod_{i \\ = \\ 1}^{T / \\Delta} \\Bigg[ \\displaystyle\\prod_{j \\ = \\ 1}^{Q} e^{-i \\Delta H_{j}(\\boldsymbol\\theta)} \\Bigg] \\ = \\ U_{\\text{RNN}}(\\Delta, \\ \\boldsymbol\\theta)$$\n",
    "<br>"
   ]
  },
  {
   "cell_type": "markdown",
   "metadata": {},
   "source": [
    "Thus, time-evolution is just a case of the QGRNN ansatz. This suggests to us that this ansatz may be particularly useful for learning the dynamics of quantum systems. Let's say that we are given a set $\\{|\\Psi(t)\\rangle\\}_{t \\in T}$ of low-energy states that have been evolved under some unknown Hamiltonian $H$, for a bunch of different times in the set $T$. Our goal is to determine the Hamiltonian of this system, given only this collection of states, and the \"general model\" by which our system evolves (Ising, Heisenberg, etc.). In theory, one doesn't have to know the \"model\" of the system, but our algorithm would require an absurd amount of gates, and a lot of quantum data, so we will stick to the simpler case."
   ]
  },
  {
   "cell_type": "markdown",
   "metadata": {},
   "source": [
    "#### The Hamiltonian as a Feature Representation\n",
    "\n",
    "You may now be wondering: \"how is this Hamiltonian learning a graph-theoretic problem, fit for a **graph** neural network?\". It is actually very interesting to note that this process of learning the Hamiltonian is actually a form of graph representation learning. Specifically, the $ZZ$ terms of the Hamiltonian will encode exactly where the edges of our graph interactions are. In addition to this, if we consider the state collection of states $\\{ |\\Psi(t)\\rangle \\}$ to be the features associated with the graph, then we are able to determine all of these features by **using the Hamiltonian** (all we have to do is evolve our fixed initial state forward in time by some time $t$). Thus, the Hamiltonian is exactly the node representation that describes the graph along with its features. In this paradigm, however, we are dealing with inherently quantum mechanical data/features. This means that the data can't always necessarily be assigned to one node (in the case of entanglement between nodes), and in many cases, computation required to prepare, store, and process this quantum data scales poorly. Thus, our quantum graph neural network is particularly well-suited to this task."
   ]
  },
  {
   "cell_type": "markdown",
   "metadata": {},
   "source": [
    "### The QGRNN Applied to an Ising Model\n",
    "\n",
    "In this Notebook we are going to investigate an application of the QGRNN to learning the dynamics of a 4-qubit Ising model."
   ]
  },
  {
   "cell_type": "markdown",
   "metadata": {},
   "source": [
    "#### Initializing the Graph and Preparing the Target Hamiltonian"
   ]
  },
  {
   "cell_type": "markdown",
   "metadata": {},
   "source": [
    "We can begin by defining some fixed values that will be used through out the simulation, as well as the device on which we will run our simulations:"
   ]
  },
  {
   "cell_type": "code",
   "execution_count": 11,
   "metadata": {},
   "outputs": [],
   "source": [
    "# Initialize the device on which the simulation is run\n",
    "\n",
    "qubit_number = 4\n",
    "qubits = range(qubit_number)\n",
    "vqe_dev = qml.device(\"default.qubit\", wires=qubit_number)"
   ]
  },
  {
   "cell_type": "markdown",
   "metadata": {},
   "source": [
    "We will begin by defining the graph on which our Ising model lives. We choose the graph to be the completely connected graph with $3$ nodes, denoted by $K^3$. This is more commonly known as a triangle. We can construct and visualize this graph using `networkx`:"
   ]
  },
  {
   "cell_type": "code",
   "execution_count": 33,
   "metadata": {},
   "outputs": [
    {
     "name": "stdout",
     "output_type": "stream",
     "text": [
      "Edges: [(0, 1), (0, 3), (1, 2), (2, 3)]\n"
     ]
    },
    {
     "data": {
      "image/png": "[encoded data removed]",
      "text/plain": [
       "<Figure size 432x288 with 1 Axes>"
      ]
     },
     "metadata": {},
     "output_type": "display_data"
    }
   ],
   "source": [
    "# Creates the graph structure of the quantum system\n",
    "\n",
    "ising_graph = nx.Graph()\n",
    "ising_graph.add_nodes_from(range(0, qubit_number))\n",
    "ising_graph.add_edges_from([(0, 1), (1, 2), (2, 3), (3, 0)])\n",
    "\n",
    "# Plots the graph\n",
    "\n",
    "nx.draw(ising_graph)\n",
    "\n",
    "print(\"Edges: \"+str(ising_graph.edges))"
   ]
  },
  {
   "cell_type": "markdown",
   "metadata": {},
   "source": [
    "Now, let's define the Hamiltonian we will eventiually attempt to learn. There are two reasons for doing this. Firstly, we need to compare the preparred Hamiltonian to the targt Hamiltonian, to make sure that our toy example of the QGRNN actually works, and secondly, we have to prepare the quantum data that will be usd in training. In a real-world application of this algorithm, we would have access to a bunch of quantum data that we could feed into the neural network, but in this scenario, we have to generate the quantum data ourself. The only way to do this is to know the Hamiltonian (and thus, the dynamics) of our system. Our Ising model Hamiltonian will be of the form:\n",
    "\n",
    "<br>\n",
    "$$\\hat{H} \\ = \\ \\displaystyle\\sum_{i, j} \\alpha_{ij} Z_{i} Z_{j} \\ + \\ \\displaystyle\\sum_{i} \\beta_{i} Z_{i} \\ + \\ \\displaystyle\\sum_{i} X_{i}$$\n",
    "<br>\n",
    "\n",
    "Where $\\boldsymbol\\alpha$ and $\\boldsymbol\\beta$ are the matrix and vector of interaction and bias parameters we are trying to learn, respectively. We will initialize $\\boldsymbol\\alpha$ and $\\boldsymbol\\beta$ randomly:"
   ]
  },
  {
   "cell_type": "code",
   "execution_count": 13,
   "metadata": {},
   "outputs": [
    {
     "name": "stdout",
     "output_type": "stream",
     "text": [
      "Target parameters: [[0.42, -0.11, -0.36, -1.88], [0.04, 0.16, -0.84, 1.51]]\n"
     ]
    }
   ],
   "source": [
    "def create_params(graph):\n",
    "    \n",
    "    # Creates the interaction parameters\n",
    "    interaction = [random.randint(-200, 200)/100 for i in range(0, len(graph.edges))]\n",
    "    \n",
    "    # Creates the bias parameters\n",
    "    bias = [random.randint(-200, 200)/100 for i in range(0, qubit_number)]\n",
    "    \n",
    "    return [interaction, bias]\n",
    "\n",
    "# Creates and prints the parameters for our simulation\n",
    "matrix_params = create_params(ising_graph)\n",
    "print(\"Target parameters: \"+str(matrix_params))"
   ]
  },
  {
   "cell_type": "markdown",
   "metadata": {},
   "source": [
    "Wtih this knowledge, let's now construct the matrix representation of the Hamiltonian, in the $Z$-basis:"
   ]
  },
  {
   "cell_type": "code",
   "execution_count": 14,
   "metadata": {},
   "outputs": [
    {
     "name": "stdout",
     "output_type": "stream",
     "text": [
      "[[-1.06000000e+00  1.00000000e+00  1.00000000e+00  0.00000000e+00\n",
      "   1.00000000e+00  0.00000000e+00  0.00000000e+00  0.00000000e+00\n",
      "   1.00000000e+00  0.00000000e+00  0.00000000e+00  0.00000000e+00\n",
      "   0.00000000e+00  0.00000000e+00  0.00000000e+00  0.00000000e+00]\n",
      " [ 1.00000000e+00 -1.00000000e-01  0.00000000e+00  1.00000000e+00\n",
      "   0.00000000e+00  1.00000000e+00  0.00000000e+00  0.00000000e+00\n",
      "   0.00000000e+00  1.00000000e+00  0.00000000e+00  0.00000000e+00\n",
      "   0.00000000e+00  0.00000000e+00  0.00000000e+00  0.00000000e+00]\n",
      " [ 1.00000000e+00  0.00000000e+00  5.10000000e+00  1.00000000e+00\n",
      "   0.00000000e+00  0.00000000e+00  1.00000000e+00  0.00000000e+00\n",
      "   0.00000000e+00  0.00000000e+00  1.00000000e+00  0.00000000e+00\n",
      "   0.00000000e+00  0.00000000e+00  0.00000000e+00  0.00000000e+00]\n",
      " [ 0.00000000e+00  1.00000000e+00  1.00000000e+00 -1.46000000e+00\n",
      "   0.00000000e+00  0.00000000e+00  0.00000000e+00  1.00000000e+00\n",
      "   0.00000000e+00  0.00000000e+00  0.00000000e+00  1.00000000e+00\n",
      "   0.00000000e+00  0.00000000e+00  0.00000000e+00  0.00000000e+00]\n",
      " [ 1.00000000e+00  0.00000000e+00  0.00000000e+00  0.00000000e+00\n",
      "  -1.50000000e+00  1.00000000e+00  1.00000000e+00  0.00000000e+00\n",
      "   0.00000000e+00  0.00000000e+00  0.00000000e+00  0.00000000e+00\n",
      "   1.00000000e+00  0.00000000e+00  0.00000000e+00  0.00000000e+00]\n",
      " [ 0.00000000e+00  1.00000000e+00  0.00000000e+00  0.00000000e+00\n",
      "   1.00000000e+00 -5.40000000e-01  0.00000000e+00  1.00000000e+00\n",
      "   0.00000000e+00  0.00000000e+00  0.00000000e+00  0.00000000e+00\n",
      "   0.00000000e+00  1.00000000e+00  0.00000000e+00  0.00000000e+00]\n",
      " [ 0.00000000e+00  0.00000000e+00  1.00000000e+00  0.00000000e+00\n",
      "   1.00000000e+00  0.00000000e+00  3.22000000e+00  1.00000000e+00\n",
      "   0.00000000e+00  0.00000000e+00  0.00000000e+00  0.00000000e+00\n",
      "   0.00000000e+00  0.00000000e+00  1.00000000e+00  0.00000000e+00]\n",
      " [ 0.00000000e+00  0.00000000e+00  0.00000000e+00  1.00000000e+00\n",
      "   0.00000000e+00  1.00000000e+00  1.00000000e+00 -3.34000000e+00\n",
      "   0.00000000e+00  0.00000000e+00  0.00000000e+00  0.00000000e+00\n",
      "   0.00000000e+00  0.00000000e+00  0.00000000e+00  1.00000000e+00]\n",
      " [ 1.00000000e+00  0.00000000e+00  0.00000000e+00  0.00000000e+00\n",
      "   0.00000000e+00  0.00000000e+00  0.00000000e+00  0.00000000e+00\n",
      "  -1.76000000e+00  1.00000000e+00  1.00000000e+00  0.00000000e+00\n",
      "   1.00000000e+00  0.00000000e+00  0.00000000e+00  0.00000000e+00]\n",
      " [ 0.00000000e+00  1.00000000e+00  0.00000000e+00  0.00000000e+00\n",
      "   0.00000000e+00  0.00000000e+00  0.00000000e+00  0.00000000e+00\n",
      "   1.00000000e+00 -1.24000000e+00  0.00000000e+00  1.00000000e+00\n",
      "   0.00000000e+00  1.00000000e+00  0.00000000e+00  0.00000000e+00]\n",
      " [ 0.00000000e+00  0.00000000e+00  1.00000000e+00  0.00000000e+00\n",
      "   0.00000000e+00  0.00000000e+00  0.00000000e+00  0.00000000e+00\n",
      "   1.00000000e+00  0.00000000e+00  4.40000000e+00  1.00000000e+00\n",
      "   0.00000000e+00  0.00000000e+00  1.00000000e+00  0.00000000e+00]\n",
      " [ 0.00000000e+00  0.00000000e+00  0.00000000e+00  1.00000000e+00\n",
      "   0.00000000e+00  0.00000000e+00  0.00000000e+00  0.00000000e+00\n",
      "   0.00000000e+00  1.00000000e+00  1.00000000e+00 -2.60000000e+00\n",
      "   0.00000000e+00  0.00000000e+00  0.00000000e+00  1.00000000e+00]\n",
      " [ 0.00000000e+00  0.00000000e+00  0.00000000e+00  0.00000000e+00\n",
      "   1.00000000e+00  0.00000000e+00  0.00000000e+00  0.00000000e+00\n",
      "   1.00000000e+00  0.00000000e+00  0.00000000e+00  0.00000000e+00\n",
      "  -5.20000000e-01  1.00000000e+00  1.00000000e+00  0.00000000e+00]\n",
      " [ 0.00000000e+00  0.00000000e+00  0.00000000e+00  0.00000000e+00\n",
      "   0.00000000e+00  1.00000000e+00  0.00000000e+00  0.00000000e+00\n",
      "   0.00000000e+00  1.00000000e+00  0.00000000e+00  0.00000000e+00\n",
      "   1.00000000e+00 -2.22044605e-16  0.00000000e+00  1.00000000e+00]\n",
      " [ 0.00000000e+00  0.00000000e+00  0.00000000e+00  0.00000000e+00\n",
      "   0.00000000e+00  0.00000000e+00  1.00000000e+00  0.00000000e+00\n",
      "   0.00000000e+00  0.00000000e+00  1.00000000e+00  0.00000000e+00\n",
      "   1.00000000e+00  0.00000000e+00  4.20000000e+00  1.00000000e+00]\n",
      " [ 0.00000000e+00  0.00000000e+00  0.00000000e+00  0.00000000e+00\n",
      "   0.00000000e+00  0.00000000e+00  0.00000000e+00  1.00000000e+00\n",
      "   0.00000000e+00  0.00000000e+00  0.00000000e+00  1.00000000e+00\n",
      "   0.00000000e+00  1.00000000e+00  1.00000000e+00 -2.80000000e+00]]\n"
     ]
    }
   ],
   "source": [
    "def create_hamiltonian_matrix(n, graph, params):\n",
    "    \n",
    "    # Defines Pauli matrices\n",
    "    pauli_x = np.array([[0, 1], [1, 0]])\n",
    "    pauli_y = np.array([[0, -1j], [1j, 0]])\n",
    "    pauli_z = np.array([[1, 0], [0, -1]])\n",
    "    identity = np.array([[1, 0], [0, 1]])\n",
    "\n",
    "    matrix = np.zeros((2**n, 2**n))\n",
    "    \n",
    "    # Creates the interaction component of the Hamiltonian\n",
    "    for count, i in enumerate(graph.edges):\n",
    "        m = 1\n",
    "        for j in range(0, n):\n",
    "            if (i[0] == j or i[1] == j):\n",
    "                m = np.kron(m, pauli_z)\n",
    "            else:\n",
    "                m = np.kron(m, identity)\n",
    "        matrix = np.add(matrix, params[0][count]*m)\n",
    "    \n",
    "    # Creates the \"bias\" component of the matrix\n",
    "    for i in range(0, n):\n",
    "        m = 1\n",
    "        for j in range(0, n):\n",
    "            if (j == i):\n",
    "                m = np.kron(m, pauli_z)\n",
    "            else:\n",
    "                m = np.kron(m, identity)\n",
    "        matrix = np.add(matrix, params[1][i]*m)\n",
    "    \n",
    "    # Creates the X component of the matrix\n",
    "    for i in range(0, n):\n",
    "        m = 1\n",
    "        for j in range(0, n):\n",
    "            if (j == i):\n",
    "                m = np.kron(m, pauli_x)\n",
    "            else:\n",
    "                m = np.kron(m, identity)\n",
    "        matrix = np.add(matrix, m)\n",
    "\n",
    "    return matrix\n",
    "\n",
    "# Defines and prints the matrix for our interaction graph and parameters\n",
    "ham_matrix = create_hamiltonian_matrix(qubit_number, ising_graph, matrix_params)\n",
    "print(ham_matrix)"
   ]
  },
  {
   "cell_type": "markdown",
   "metadata": {},
   "source": [
    "Since the Hamiltonian is the main object of interest in the quantum graph neural network, let's visualize it. We can write up a method that allows us to assign colours to the entires of an array, and prints out a nice-looking colour graph:"
   ]
  },
  {
   "cell_type": "code",
   "execution_count": null,
   "metadata": {},
   "outputs": [],
   "source": [
    "#Creates the grid visualization of the density matrices\n",
    "\n",
    "def create_density_plot(data):\n",
    "\n",
    "    array = np.array(data)\n",
    "    plt.matshow(array)\n",
    "    plt.colorbar()\n",
    "    plt.show()\n",
    "\n",
    "create_density_plot([np.diag(ham_matrix), np.diag(ham_matrix)])"
   ]
  },
  {
   "cell_type": "markdown",
   "metadata": {},
   "source": [
    "We can then visualize the **diagonal** elements of the Hamiltonian, as these are the only entries that correspond to trainable parameters (the off-diagonal elements remain fixed, so there is no point in visualizing them):"
   ]
  },
  {
   "cell_type": "code",
   "execution_count": null,
   "metadata": {},
   "outputs": [],
   "source": [
    "# Visual display of the target Hamiltonian diagonal\n",
    "\n",
    "create_density_plot([np.diag(ham_matrix), np.diag(ham_matrix)])"
   ]
  },
  {
   "cell_type": "markdown",
   "metadata": {},
   "source": [
    "#### Preparing the Quantum Data with VQE"
   ]
  },
  {
   "cell_type": "markdown",
   "metadata": {},
   "source": [
    "Now that we have prepared the target Hamiltonian, we can use it to prepare all of the necessary quantum data that we will use to train our QGRNN. As was discussed above, the data that will be fed into the neural network is a collection of time-evolved, low-energy quantum states corresponding to the target Hamiltonian. Thus, it follows that we must first prepare the low-energy states at $t \\ = \\ 0$, and evolve them forward in time to arbitrary times from $0$ to $T$. In order to prepare low energy states of the Hamiltonian, we will use VQE. Recall that the purpose of VQE is to find the ground energy state of a given Hamiltonian. We don't want to find the exact ground state of the Hamiltonian, as it's time evolution will just equate to the addition of a global phase.\n",
    "\n",
    "<br>\n",
    "$$U(t)|E_k\\rangle \\ = \\ e^{-i H t / \\hbar} |E_k\\rangle \\ = \\ \\displaystyle\\sum_{n \\ = \\ 0}^{\\infty} \\Big( -\\frac{i t}{\\hbar} \\Big)^n \\frac{H^n |E_k\\rangle}{n!} \\ = \\ \\displaystyle\\sum_{n \\ = \\ 0}^{\\infty} \\frac{1}{n!} \\Big( \\frac{- i E_k t}{\\hbar} \\Big)^n |E_k\\rangle \\ = \\ e^{i E_k t / \\hbar} |E_k\\rangle$$\n",
    "<br>\n",
    "\n",
    "Thus, this quantum data will be practically useless, as we are essentially just giving ourselves a bunch of copies of the exact same quantum state. Thus, instead of prearing the exact ground state, we wish to prepare a state $|\\phi\\rangle$ that is \"close\" to the ground state, $|\\psi_0\\rangle$ (meaning that $|\\langle \\phi | \\psi_0 \\rangle |^2$ is close to $1$). To do this, we will preform VQE, but we will use an ansataz that we know **won't converge exactly towards the ground state**.\n",
    "\n",
    "For the specific example of the Hamiltonian we are considering in this tutorial, we have $ZZ$ interaction terms between qubits that share an edge on the graph. Thus, we know that it is likely that there will be some kind of entanglement between qubits in the ground state. We will then choose our ansatz such that the qubits remain **unentangled**. By only applying single-qubit gates, we ensure that each of the qubits remains completely uncorrelated from the others, thus making is so that the ground state can never be reached by our optimizer. The initial layer of our variational algorithms will be simply to create an even superposition over all basis states:"
   ]
  },
  {
   "cell_type": "code",
   "execution_count": 18,
   "metadata": {},
   "outputs": [],
   "source": [
    "# Defines a method that creates an even superposition of basis states\n",
    "\n",
    "def even_superposition(qubits):\n",
    "    \n",
    "    for i in qubits:\n",
    "        qml.Hadamard(wires=i)"
   ]
  },
  {
   "cell_type": "markdown",
   "metadata": {},
   "source": [
    "And the following layers will be alternating applications of $RZ$ and $RX$ gates:"
   ]
  },
  {
   "cell_type": "code",
   "execution_count": 19,
   "metadata": {},
   "outputs": [],
   "source": [
    "# Method that prepares a low-energy state        \n",
    "        \n",
    "def decoupled_layer(param1, param2, qubits):\n",
    "    \n",
    "    # Applies a layer of RZ and RX gates\n",
    "    for count, i in enumerate(qubits):\n",
    "        \n",
    "        qml.RZ(param1[count], wires=i)\n",
    "        qml.RX(param2[count], wires=i)"
   ]
  },
  {
   "cell_type": "markdown",
   "metadata": {},
   "source": [
    "We can then define our VQE ansatz as:"
   ]
  },
  {
   "cell_type": "code",
   "execution_count": 20,
   "metadata": {},
   "outputs": [],
   "source": [
    "# Method that creates the decoupled VQE ansatz\n",
    "\n",
    "def vqe_circuit(parameters, qubits, depth):\n",
    "    \n",
    "    even_superposition(qubits)\n",
    "    \n",
    "    for i in range(0, depth):\n",
    "        decoupled_layer(parameters[0], parameters[1], qubits)"
   ]
  },
  {
   "cell_type": "markdown",
   "metadata": {},
   "source": [
    "Finally, we can create a function and a QNode that allows us to run our VQE circuit:"
   ]
  },
  {
   "cell_type": "code",
   "execution_count": 21,
   "metadata": {},
   "outputs": [
    {
     "name": "stdout",
     "output_type": "stream",
     "text": [
      "-1.3399575738962546\n",
      " 0: ──H──RZ(1)──RX(1)──RZ(1)──RX(1)──╭┤ ⟨H0⟩ \n",
      " 1: ──H──RZ(1)──RX(1)──RZ(1)──RX(1)──├┤ ⟨H0⟩ \n",
      " 2: ──H──RZ(1)──RX(1)──RZ(1)──RX(1)──├┤ ⟨H0⟩ \n",
      " 3: ──H──RZ(1)──RX(1)──RZ(1)──RX(1)──╰┤ ⟨H0⟩ \n",
      "H0 =\n",
      "[[-1.06000000e+00  1.00000000e+00  1.00000000e+00  0.00000000e+00\n",
      "   1.00000000e+00  0.00000000e+00  0.00000000e+00  0.00000000e+00\n",
      "   1.00000000e+00  0.00000000e+00  0.00000000e+00  0.00000000e+00\n",
      "   0.00000000e+00  0.00000000e+00  0.00000000e+00  0.00000000e+00]\n",
      " [ 1.00000000e+00 -1.00000000e-01  0.00000000e+00  1.00000000e+00\n",
      "   0.00000000e+00  1.00000000e+00  0.00000000e+00  0.00000000e+00\n",
      "   0.00000000e+00  1.00000000e+00  0.00000000e+00  0.00000000e+00\n",
      "   0.00000000e+00  0.00000000e+00  0.00000000e+00  0.00000000e+00]\n",
      " [ 1.00000000e+00  0.00000000e+00  5.10000000e+00  1.00000000e+00\n",
      "   0.00000000e+00  0.00000000e+00  1.00000000e+00  0.00000000e+00\n",
      "   0.00000000e+00  0.00000000e+00  1.00000000e+00  0.00000000e+00\n",
      "   0.00000000e+00  0.00000000e+00  0.00000000e+00  0.00000000e+00]\n",
      " [ 0.00000000e+00  1.00000000e+00  1.00000000e+00 -1.46000000e+00\n",
      "   0.00000000e+00  0.00000000e+00  0.00000000e+00  1.00000000e+00\n",
      "   0.00000000e+00  0.00000000e+00  0.00000000e+00  1.00000000e+00\n",
      "   0.00000000e+00  0.00000000e+00  0.00000000e+00  0.00000000e+00]\n",
      " [ 1.00000000e+00  0.00000000e+00  0.00000000e+00  0.00000000e+00\n",
      "  -1.50000000e+00  1.00000000e+00  1.00000000e+00  0.00000000e+00\n",
      "   0.00000000e+00  0.00000000e+00  0.00000000e+00  0.00000000e+00\n",
      "   1.00000000e+00  0.00000000e+00  0.00000000e+00  0.00000000e+00]\n",
      " [ 0.00000000e+00  1.00000000e+00  0.00000000e+00  0.00000000e+00\n",
      "   1.00000000e+00 -5.40000000e-01  0.00000000e+00  1.00000000e+00\n",
      "   0.00000000e+00  0.00000000e+00  0.00000000e+00  0.00000000e+00\n",
      "   0.00000000e+00  1.00000000e+00  0.00000000e+00  0.00000000e+00]\n",
      " [ 0.00000000e+00  0.00000000e+00  1.00000000e+00  0.00000000e+00\n",
      "   1.00000000e+00  0.00000000e+00  3.22000000e+00  1.00000000e+00\n",
      "   0.00000000e+00  0.00000000e+00  0.00000000e+00  0.00000000e+00\n",
      "   0.00000000e+00  0.00000000e+00  1.00000000e+00  0.00000000e+00]\n",
      " [ 0.00000000e+00  0.00000000e+00  0.00000000e+00  1.00000000e+00\n",
      "   0.00000000e+00  1.00000000e+00  1.00000000e+00 -3.34000000e+00\n",
      "   0.00000000e+00  0.00000000e+00  0.00000000e+00  0.00000000e+00\n",
      "   0.00000000e+00  0.00000000e+00  0.00000000e+00  1.00000000e+00]\n",
      " [ 1.00000000e+00  0.00000000e+00  0.00000000e+00  0.00000000e+00\n",
      "   0.00000000e+00  0.00000000e+00  0.00000000e+00  0.00000000e+00\n",
      "  -1.76000000e+00  1.00000000e+00  1.00000000e+00  0.00000000e+00\n",
      "   1.00000000e+00  0.00000000e+00  0.00000000e+00  0.00000000e+00]\n",
      " [ 0.00000000e+00  1.00000000e+00  0.00000000e+00  0.00000000e+00\n",
      "   0.00000000e+00  0.00000000e+00  0.00000000e+00  0.00000000e+00\n",
      "   1.00000000e+00 -1.24000000e+00  0.00000000e+00  1.00000000e+00\n",
      "   0.00000000e+00  1.00000000e+00  0.00000000e+00  0.00000000e+00]\n",
      " [ 0.00000000e+00  0.00000000e+00  1.00000000e+00  0.00000000e+00\n",
      "   0.00000000e+00  0.00000000e+00  0.00000000e+00  0.00000000e+00\n",
      "   1.00000000e+00  0.00000000e+00  4.40000000e+00  1.00000000e+00\n",
      "   0.00000000e+00  0.00000000e+00  1.00000000e+00  0.00000000e+00]\n",
      " [ 0.00000000e+00  0.00000000e+00  0.00000000e+00  1.00000000e+00\n",
      "   0.00000000e+00  0.00000000e+00  0.00000000e+00  0.00000000e+00\n",
      "   0.00000000e+00  1.00000000e+00  1.00000000e+00 -2.60000000e+00\n",
      "   0.00000000e+00  0.00000000e+00  0.00000000e+00  1.00000000e+00]\n",
      " [ 0.00000000e+00  0.00000000e+00  0.00000000e+00  0.00000000e+00\n",
      "   1.00000000e+00  0.00000000e+00  0.00000000e+00  0.00000000e+00\n",
      "   1.00000000e+00  0.00000000e+00  0.00000000e+00  0.00000000e+00\n",
      "  -5.20000000e-01  1.00000000e+00  1.00000000e+00  0.00000000e+00]\n",
      " [ 0.00000000e+00  0.00000000e+00  0.00000000e+00  0.00000000e+00\n",
      "   0.00000000e+00  1.00000000e+00  0.00000000e+00  0.00000000e+00\n",
      "   0.00000000e+00  1.00000000e+00  0.00000000e+00  0.00000000e+00\n",
      "   1.00000000e+00 -2.22044605e-16  0.00000000e+00  1.00000000e+00]\n",
      " [ 0.00000000e+00  0.00000000e+00  0.00000000e+00  0.00000000e+00\n",
      "   0.00000000e+00  0.00000000e+00  1.00000000e+00  0.00000000e+00\n",
      "   0.00000000e+00  0.00000000e+00  1.00000000e+00  0.00000000e+00\n",
      "   1.00000000e+00  0.00000000e+00  4.20000000e+00  1.00000000e+00]\n",
      " [ 0.00000000e+00  0.00000000e+00  0.00000000e+00  0.00000000e+00\n",
      "   0.00000000e+00  0.00000000e+00  0.00000000e+00  1.00000000e+00\n",
      "   0.00000000e+00  0.00000000e+00  0.00000000e+00  1.00000000e+00\n",
      "   0.00000000e+00  1.00000000e+00  1.00000000e+00 -2.80000000e+00]]\n",
      "\n"
     ]
    }
   ],
   "source": [
    "# Defines the depth of our variational circuit\n",
    "vqe_depth = 2\n",
    "\n",
    "# Defines the circuit that we will use to perform VQE on our Hamiltonian\n",
    "def create_circuit(params1, params2):\n",
    "    \n",
    "    vqe_circuit([params1, params2], qubits, vqe_depth)\n",
    "    \n",
    "    return qml.expval(qml.Hermitian(ham_matrix, wires=range(qubit_number)))\n",
    "\n",
    "# Creates the corresponding QNode\n",
    "qnode = qml.QNode(create_circuit, vqe_dev)\n",
    "\n",
    "# Constructs a test case of our circuit\n",
    "resulting_circuit = qnode([1, 1, 1, 1, 1], [1, 1, 1, 1, 1])\n",
    "print(resulting_circuit)\n",
    "print(qnode.draw())"
   ]
  },
  {
   "cell_type": "markdown",
   "metadata": {},
   "source": [
    "We have all of the code we need to optimize our quantum circuit, thus we create an optimizer and run it:"
   ]
  },
  {
   "cell_type": "code",
   "execution_count": 22,
   "metadata": {},
   "outputs": [
    {
     "name": "stdout",
     "output_type": "stream",
     "text": [
      "Cost Step 0: -1.1246631821914508\n",
      "Cost Step 50: -5.097305788738785\n",
      "Cost Step 100: -5.20605098133167\n",
      "Cost Step 150: -5.207131886658464\n",
      "[-4.712710686673246, -4.789301113052475, -4.9705238128623765, 5.191001785669871, 6.306422387087022, -6.663046357510397, -6.932211052853649, -5.466566198442054]\n"
     ]
    }
   ],
   "source": [
    "# Creates the cost function\n",
    "\n",
    "def cost_function(params):\n",
    "\n",
    "    return qnode(params[0:qubit_number], params[qubit_number:2*qubit_number])\n",
    "\n",
    "# Creates the optimizer for VQE\n",
    "\n",
    "optimizer = qml.AdamOptimizer(stepsize=0.8)\n",
    "\n",
    "steps = 200\n",
    "vqe_params = list([random.randint(-100, 100)/10 for i in range(0, 2*qubit_number)])\n",
    "\n",
    "for i in range(0, steps):\n",
    "    vqe_params = optimizer.step(cost_function, vqe_params)\n",
    "    if (i%50 == 0):\n",
    "        print(\"Cost Step \"+str(i)+\": \"+str(cost_function(vqe_params)))\n",
    "\n",
    "print(vqe_params)"
   ]
  },
  {
   "cell_type": "markdown",
   "metadata": {},
   "source": [
    "Now, let's check to see if we generated a low-energy state. This will require us to find the ground state energy of the Hamiltonian:"
   ]
  },
  {
   "cell_type": "code",
   "execution_count": 23,
   "metadata": {},
   "outputs": [
    {
     "name": "stdout",
     "output_type": "stream",
     "text": [
      "-5.332943284074904\n"
     ]
    }
   ],
   "source": [
    "# Finds the ground state energy of a Hamiltonian\n",
    "\n",
    "def ground_state_energy(matrix):\n",
    "    \n",
    "    # Finds the eigenstates of the matrix\n",
    "    val = np.linalg.eig(matrix)[0]\n",
    "    \n",
    "    # Returns the minimum eigenvalue\n",
    "    return min(val)\n",
    "\n",
    "ground_state = ground_state_energy(ham_matrix)\n",
    "print(ground_state)"
   ]
  },
  {
   "cell_type": "markdown",
   "metadata": {},
   "source": [
    "This is pretty close to the energy value we found above with our decoupled VQE, so we can conclude that we have generated a low-energy state. With a good initial state, we can now prepare our collection of quantum data by evolving our initial state vector forward in time. We can do this exactly in Pennylane, using a custom unitary gate, which we define to be the time-evolution operator for our Ising model Hamiltonian, which we defined above:"
   ]
  },
  {
   "cell_type": "code",
   "execution_count": 24,
   "metadata": {},
   "outputs": [],
   "source": [
    "# Creates an exact time-evolution unitary\n",
    "\n",
    "def state_evolve(hamiltonian, qubits, time):\n",
    "\n",
    "    U = scipy.linalg.expm(complex(0,-1)*hamiltonian*time)\n",
    "    qml.QubitUnitary(U, wires=qubits)"
   ]
  },
  {
   "cell_type": "markdown",
   "metadata": {},
   "source": [
    "#### Learning the Hamiltonian"
   ]
  },
  {
   "cell_type": "markdown",
   "metadata": {},
   "source": [
    "This is all we need to prepare our quantum data. Now, let's turn our attention to the actual quantum graph neural network ansatz. Our goal is to learn $\\hat{H}$ by findings the parameters $\\boldsymbol\\alpha$ and $\\boldsymbol\\beta$.\n",
    "\n",
    "The idea behind this protocol is for the QGRNN ansatz, with some inputed parameters, to act like an effective time-evolution operator, under the Hamiltonian with our \"guessed\" parameters. We will then have this effective operator act upon the initial low-energy state prepared by our VQE process, $|\\psi_0\\rangle$. We will also prepare another register of qubits so that it contains one of the samples from our quantum data, $|\\Psi(t)\\rangle$. Finally, we will perform a [SWAP test](https://en.wikipedia.org/wiki/Swap_test) between the two registers, which allows us to compute the inner product between the states contained in the two registers. This will tell us how \"similar\" the two states are. We will finally calculate the average infidelity (one minus the average fidelity) for all of our quantum data, as shown below (we use this as our cost function):\n",
    "\n",
    "<br>\n",
    "$$\\mathcal{L}(\\Delta, \\ \\boldsymbol\\theta) \\ = \\ 1 \\ - \\ \\frac{1}{|T|} \\displaystyle\\sum_{t \\ \\in \\ T} | \\langle \\Psi(t) | \\ U_{\\text{RNN}}(\\Delta, \\ \\boldsymbol\\theta) \\ |\\psi_0\\rangle |^2$$\n",
    "<br>\n",
    "\n",
    "As the parameters of our learned Hamiltonian approach those of the true Hamiltonian ($\\boldsymbol\\alpha$ and $\\boldsymbol\\beta$), our QGRNN ansatz becomes a good approximation of the time-evolution operator under the true Hamiltonian. This means that the states in the two registers are essentially the same, and infidelity approaches $0$. Thus, as we minimize the cost function, we reconstruct the true Hamiltonian.\n",
    "\n",
    "Our Ising Hamiltonian involves $ZZ$ gates, thus we need to write a method that allows us to construct $RZZ$ gates out of the standard gate set in Pennylane:"
   ]
  },
  {
   "cell_type": "code",
   "execution_count": 25,
   "metadata": {},
   "outputs": [],
   "source": [
    "# Defines the RZZ gate, in terms of gates in the standard basis set\n",
    "\n",
    "def RZZ(param, qubit1, qubit2):\n",
    "    \n",
    "    qml.CNOT(wires=[qubit1, qubit2])\n",
    "    qml.RZ(param, wires=qubit2)\n",
    "    qml.CNOT(wires=[qubit1, qubit2])"
   ]
  },
  {
   "cell_type": "markdown",
   "metadata": {},
   "source": [
    "Where the implemented gate is equivalent to the $RZZ$ gate. With this, we can now write a function that implements one step of the Trotterized time evolution:"
   ]
  },
  {
   "cell_type": "code",
   "execution_count": 26,
   "metadata": {},
   "outputs": [],
   "source": [
    "# Method that prepares a time-evolution layer\n",
    "\n",
    "def qgrnn_layer(param1, param2, qubits, graph, trotter):\n",
    "    \n",
    "    # Applies a layer of coupling gates (based on the graph)\n",
    "    for count, i in enumerate(graph.edges):\n",
    "        RZZ(2*param1[count]*trotter, i[0], i[1])\n",
    "    \n",
    "    # Applies a layer of RZ gates\n",
    "    for count, i in enumerate(qubits):\n",
    "        qml.RZ(2*param2[count]*trotter, wires=i)\n",
    "    \n",
    "    # Applies a layer of RX gates\n",
    "    for i in qubits:\n",
    "        qml.RX(2*trotter, wires=i)"
   ]
  },
  {
   "cell_type": "markdown",
   "metadata": {},
   "source": [
    "Finally, we will need to make use of the $SWAP$ test, to calculate the fidelity between the prepared quantum state and our quantum data. We can write a function that performs this process:"
   ]
  },
  {
   "cell_type": "code",
   "execution_count": 27,
   "metadata": {},
   "outputs": [],
   "source": [
    "# Implements the SWAP test between two qubit registers\n",
    "\n",
    "def swap_test(control, register1, register2):\n",
    "    \n",
    "    qml.Hadamard(wires=control)\n",
    "    for i in range(0, len(register1)):\n",
    "        qml.CSWAP(wires=[int(control), register1[i], register2[i]])\n",
    "    qml.Hadamard(wires=control)"
   ]
  },
  {
   "cell_type": "markdown",
   "metadata": {},
   "source": [
    "From here, we can build our quantum circuit that corresponds to one execution of our QGRNN, for a given time step. First, let's define a new quantum device with $7$ qubits rather than $3$, as we will need registers for our neural network, and data-preparation, plus an extra qubit for the $SWAP$ test."
   ]
  },
  {
   "cell_type": "code",
   "execution_count": 35,
   "metadata": {},
   "outputs": [],
   "source": [
    "# Defines the new\n",
    "qgrnn_dev = qml.device(\"default.qubit\", wires=2*qubit_number+1)"
   ]
  },
  {
   "cell_type": "code",
   "execution_count": 36,
   "metadata": {},
   "outputs": [
    {
     "name": "stdout",
     "output_type": "stream",
     "text": [
      "Edges: [(4, 5), (4, 6), (4, 7), (5, 6), (5, 7), (6, 7)]\n"
     ]
    }
   ],
   "source": [
    "# Defines some fixed values\n",
    "\n",
    "reg1 = list(range(qubit_number))\n",
    "reg2 = list(range(qubit_number, 2*qubit_number))\n",
    "\n",
    "control = 2*qubit_number\n",
    "trotter_step = 0.01\n",
    "\n",
    "# Defines the interaction graph for the new qubit system\n",
    "\n",
    "#new_ising_graph = nx.complete_graph(qubit_number)\n",
    "\n",
    "new_ising_graph = nx.Graph()\n",
    "new_ising_graph.add_nodes_from(range(qubit_number, 2*qubit_number))\n",
    "new_ising_graph.add_edges_from([(4, 5), (5, 6), (6, 7), (4, 6), (7, 4), (5, 7)])\n",
    "\n",
    "print(\"Edges: \"+str(new_ising_graph.edges))"
   ]
  },
  {
   "cell_type": "code",
   "execution_count": 48,
   "metadata": {},
   "outputs": [],
   "source": [
    "# Implements the quantum graph neural network for a given time step\n",
    "\n",
    "def qgrnn(params1, params2, time):\n",
    "    \n",
    "    # Prepares the low energy state in the two qubit registers\n",
    "    vqe_circuit([vqe_params[0:qubit_number], vqe_params[qubit_number:2*qubit_number]], reg1, vqe_depth)\n",
    "    vqe_circuit([vqe_params[0:qubit_number], vqe_params[qubit_number:2*qubit_number]], reg2, vqe_depth)\n",
    "    \n",
    "    # Evolves the first qubit register with the time-evolution circuit\n",
    "    state_evolve(ham_matrix, reg1, time.val)\n",
    "    \n",
    "    # Applies the time-evolution layers to the second qubit register\n",
    "    depth = time.val/trotter_step\n",
    "    for i in range(0, int(depth)):\n",
    "        #qgrnn_layer(matrix_params[0], matrix_params[1], reg1, ising_graph, trotter_step)\n",
    "        qgrnn_layer(params1, params2, reg2, new_ising_graph, trotter_step)\n",
    "    \n",
    "    # Applies the SWAP test between the registers\n",
    "    swap_test(control, reg1, reg2)\n",
    "    \n",
    "    # Returns the results of the SWAP test\n",
    "    return qml.expval(qml.PauliZ(control))"
   ]
  },
  {
   "cell_type": "markdown",
   "metadata": {},
   "source": [
    "We are new tasked with constructing the cost function of our model. To evaluate the cost function, we simply have to choose a bunch of time steps at which we will execute of QGRNN. We begin by defining a few more values, along with our new QNode:"
   ]
  },
  {
   "cell_type": "code",
   "execution_count": 49,
   "metadata": {},
   "outputs": [],
   "source": [
    "batch = 15 # The number of different times that will be used\n",
    "max_time = 0.1  # The maximum value of time that can be utilized\n",
    "\n",
    "# Defines the new QNode\n",
    "\n",
    "qnode = qml.QNode(qgrnn, qgrnn_dev)"
   ]
  },
  {
   "cell_type": "markdown",
   "metadata": {},
   "source": [
    "And then, we define the cost function:"
   ]
  },
  {
   "cell_type": "code",
   "execution_count": 50,
   "metadata": {},
   "outputs": [],
   "source": [
    "# Defines the cost function\n",
    "\n",
    "def cost_function(params):\n",
    "     \n",
    "    global iterations\n",
    "    \n",
    "    # Separates the parameter list\n",
    "    weight_params = params[0:6]\n",
    "    bias_params = params[6:10]\n",
    "    \n",
    "    # Samples times at which the QGRNN will be run\n",
    "    times_sampled = [np.random.uniform() * max_time for i in range(0, batch)]\n",
    "     \n",
    "    # Cycles through each of the sampled times and calculates the cost\n",
    "    total_cost = 0\n",
    "    for i in times_sampled:\n",
    "        result = qnode(weight_params, bias_params, i)\n",
    "        total_cost += 1 - result\n",
    "        \n",
    "    print(\"Cost at Step \"+str(iterations)+\": \"+str((1 - total_cost / batch)._value)+\" - \"+str(params._value))\n",
    "    iterations += 1\n",
    "    \n",
    "    return total_cost / batch"
   ]
  },
  {
   "cell_type": "code",
   "execution_count": null,
   "metadata": {},
   "outputs": [
    {
     "name": "stdout",
     "output_type": "stream",
     "text": [
      "Cost at Step 0: 0.9629573496827061 - [0.9, 1.8, 1.0, -1.7, -0.3, -0.4, 0.4, 0.8, -1.3, -2.0]\n",
      "Cost at Step 1: 0.993835052565473 - [0.4000009965411841, 1.3000005543132656, 0.5000006158669671, -1.2000009386524224, 0.19999899649018815, -0.8999986212072486, 0.8999993860397126, 0.300000848999061, -0.8000022613142977, -1.5000028656507927]\n",
      "Cost at Step 2: 0.9939453995294547 - [0.06235334253042357, 0.9592829527840567, 0.16074462644428672, -0.8598518592408866, 0.5380291797795091, -1.2423838861746246, 1.2391396677111335, -0.03911520054299733, -0.45967454451496215, -1.154717487315844]\n",
      "Cost at Step 3: 0.990260242842246 - [-0.17922709407500012, 0.6916871082203568, -0.09337678207983391, -0.5977156950240843, 0.7800445031434454, -1.5245563987598685, 1.492109700498792, -0.2913697923618386, -0.19502261654612207, -0.8476531622825769]\n",
      "Cost at Step 4: 0.9832212238814403 - [-0.3467453786124589, 0.48101094701888925, -0.2813222093165536, -0.3964125837251262, 0.9476732262118921, -1.7595474163732008, 1.6780359190438636, -0.47609168722577155, 0.009969861526455348, -0.5703170339261361]\n",
      "Cost at Step 5: 0.9745586263619568 - [-0.47243696669226665, 0.3094839289082249, -0.428412770665379, -0.2348603921972204, 1.0731477266261662, -1.956897898609622, 1.8229189572727886, -0.6197808253563332, 0.17467531101752526, -0.3265459910466212]\n",
      "Cost at Step 6: 0.9533653200096667 - [-0.5460130553916464, 0.17839013999967368, -0.5282659412444057, -0.11614089275065367, 1.1461315163785215, -2.1198371951836736, 1.9198651063881869, -0.7155740956020028, 0.2947905731793927, -0.1026496474939051]\n",
      "Cost at Step 7: 0.9534690151276295 - [-0.5439367382614302, 0.10096721604183714, -0.5603057303878076, -0.055629178119489295, 1.141206535608722, -2.2421659068715227, 1.9474842633733638, -0.742430037536059, 0.3524481230898538, 0.11339475930654389]\n",
      "Cost at Step 8: 0.9688635305397125 - [-0.5010986139955098, 0.056809919426182964, -0.5537494464592564, -0.029319184892563202, 1.0950737657268026, -2.3346115548817004, 1.9359183281198031, -0.730848607989788, 0.3708776904080009, 0.3149214254838576]\n",
      "Cost at Step 9: 0.9686504774670849 - [-0.46273345026893775, 0.017656885762448685, -0.5477162916773586, -0.006062162859731664, 1.0537897219184749, -2.4167686581345005, 1.9254211873188043, -0.720344738957715, 0.38707227077066936, 0.4942877974634541]\n",
      "Cost at Step 10: 0.9634011412424309 - [-0.3909092788331354, 0.005968902315207631, -0.5095147982532069, -0.00976875410258527, 0.979407922166225, -2.471285348304009, 1.8822053456380006, -0.6787114422746623, 0.3665967611098212, 0.6614787400292254]\n",
      "Cost at Step 11: 0.9477776266363619 - [-0.3164116118659532, 0.0018476756613125343, -0.4662570688584155, -0.019556643956631703, 0.9025301161219901, -2.5145968582973466, 1.834146628740414, -0.6326569961815217, 0.3381931852025311, 0.8131232617203397]\n",
      "Cost at Step 12: 0.9794939505485359 - [-0.19150963316402125, 0.0379229765981912, -0.3735486088687027, -0.06735596703935169, 0.7754035820905018, -2.515247440811046, 1.73548122157124, -0.5398757164205743, 0.2496626937291807, 0.9565830313525199]\n",
      "Cost at Step 13: 0.9756771329042742 - [-0.0728095218272865, 0.07441200213864055, -0.2843312256083176, -0.11419088872115003, 0.6547241197365735, -2.5116207433250324, 1.640690390151278, -0.45095911076522543, 0.16274493864702672, 1.0867374781496928]\n",
      "Cost at Step 14: 0.9826880217028455 - [0.07216536516352812, 0.13398872347891472, -0.1671271916849952, -0.1802137016058965, 0.5082603270710364, -2.476604650432178, 1.5171479935972791, -0.3372426772031795, 0.035228952318979045, 1.2066788005886846]\n",
      "Cost at Step 15: 0.9946526037739435 - [0.23043502133586066, 0.20711961603811965, -0.0338944617804007, -0.25575128359219607, 0.34901108624158506, -2.418345374918015, 1.3770564870734736, -0.21045199244522908, -0.12009138930891824, 1.3159305417556488]\n",
      "Cost at Step 16: 0.997569354840856 - [0.37802132796139326, 0.276070857712339, 0.09096377493065395, -0.3262108656358913, 0.2008413960111503, -2.361056120639099, 1.2457508333110765, -0.09213888793779222, -0.26792627072927844, 1.4150291283190983]\n",
      "Cost at Step 17: 0.9980384153284942 - [0.5145272996333069, 0.3403689455325245, 0.20719992894596753, -0.3910438337134173, 0.06397426740720327, -2.3050042238270807, 1.1234397252449575, 0.0173849825899981, -0.40829116888570205, 1.504784817124708]\n",
      "Cost at Step 18: 0.9987712171675871 - [0.6390371075193416, 0.3990287549819328, 0.3133057656304229, -0.4500429617474832, -0.06075916904144592, -2.2533413632810197, 1.0117620668368268, 0.11722574894946823, -0.5370452354463857, 1.586375782192836]\n",
      "Cost at Step 19: 0.9986567910768329 - [0.7505477184121127, 0.45177831381537337, 0.411965265479003, -0.49888898704697165, -0.17226486641013727, -2.194128567149867, 0.9072143811609495, 0.2066833280230877, -0.6712793879784533, 1.6575787621379077]\n",
      "Cost at Step 20: 0.9980969547302272 - [0.8521943970183757, 0.4998617870442401, 0.5018976084819212, -0.5434142227528869, -0.27390706612586135, -2.140153577868684, 0.8119147055756795, 0.2882277274862613, -0.793639542600643, 1.7224833143211378]\n",
      "Cost at Step 21: 0.9956125143059275 - [0.9434916834423408, 0.5427844376727115, 0.583122741258946, -0.5825955339572938, -0.36512397774628835, -2.0899663690721617, 0.7256888176419554, 0.361353635878777, -0.9064832584744114, 1.7811029514985683]\n",
      "Cost at Step 22: 0.9936753374956658 - [1.0080264829291445, 0.5702729964867616, 0.6458984303454768, -0.6019142747645959, -0.43023756592051915, -2.0377125374504788, 0.6574624833075424, 0.41275756769980027, -1.016448284258974, 1.8289059130163983]\n",
      "Cost at Step 23: 0.9966108299245462 - [1.03813921632417, 0.5770956677515832, 0.6844044137706444, -0.5961142325622237, -0.4621447862564283, -1.9852816124458212, 0.6128633420797895, 0.4362778000251043, -1.1201724887998408, 1.8646942434052578]\n",
      "Cost at Step 24: 0.9916777689685186 - [1.0620074894047624, 0.580943004286432, 0.7170436971056152, -0.5880481719475972, -0.4878126560818979, -1.937344854087944, 0.5745248932487146, 0.45479562406812585, -1.2145338182483087, 1.8963997181084007]\n",
      "Cost at Step 25: 0.9925933180849474 - [1.0521529140798134, 0.5640590927166579, 0.724820710883573, -0.5584165499770775, -0.4823821163832035, -1.8961135431773863, 0.5605066584169098, 0.4470388268449967, -1.2927554439958477, 1.9175834802317744]\n",
      "Cost at Step 26: 0.9952295364657003 - [1.0137969881821118, 0.5295875249366567, 0.71115256439138, -0.5123057296350115, -0.45139863160629384, -1.8638542241628486, 0.5675044437230424, 0.4176927786203958, -1.3520585617338141, 1.929739091871228]\n",
      "Cost at Step 27: 0.994711254099609 - [0.9628995708039876, 0.4878098207333155, 0.6874115191351609, -0.46101495228852163, -0.40956174116925703, -1.839017388302304, 0.5845719839964029, 0.37935228144400324, -1.3969356563113269, 1.9368266871381967]\n",
      "Cost at Step 28: 0.9962472826843394 - [0.894991201137966, 0.43566423176963837, 0.6504009758838539, -0.40355882529928744, -0.35377167370585544, -1.8252796671999785, 0.6145843594481573, 0.3294456531925616, -1.4210749410145456, 1.937515341991549]\n",
      "Cost at Step 29: 0.9966306086005318 - [0.8315367933215478, 0.38713093729650383, 0.6156064769491388, -0.35054324035171125, -0.3017379280752391, -1.8135082913913452, 0.6429128847371045, 0.2829650145256141, -1.4416859412442244, 1.937718819626967]\n",
      "Cost at Step 30: 0.998405722884338 - [0.7502887495533967, 0.32759024745876825, 0.5673067914883709, -0.29664446126326216, -0.23763900481773595, -1.8205015807512392, 0.6838207205662796, 0.22691417653018148, -1.4291642160042013, 1.9300230971675514]\n",
      "Cost at Step 31: 0.9991345824292288 - [0.6665366324134295, 0.2669324761643835, 0.516491064071692, -0.2474968627865552, -0.1731029982718137, -1.8369973840178766, 0.7270027360815479, 0.17104558567547462, -1.4002305567833837, 1.9188283387643743]\n",
      "Cost at Step 32: 0.9988808411842532 - [0.5840138527902414, 0.2077376333275, 0.466196689344556, -0.20532772691706624, -0.11151031794476635, -1.8613081170479058, 0.7694413384288435, 0.11829709163674902, -1.3577185467608444, 1.9048141635685607]\n",
      "Cost at Step 33: 0.9994907238456036 - [0.5056329626140794, 0.15182511684799016, 0.41868564625346233, -0.17259967475959515, -0.055513135213528436, -1.8931651984168807, 0.808745590509851, 0.07106106517149252, -1.3021602817363607, 1.8879851855267733]\n",
      "Cost at Step 34: 0.9993973871824559 - [0.4340672826812839, 0.10077418766375038, 0.37530568326378805, -0.14271732334368217, -0.004384901698827125, -1.9222523097130972, 0.8446323420896431, 0.027932206247757177, -1.2514328027465638, 1.872619485730318]\n",
      "Cost at Step 35: 0.9987993547032787 - [0.3687308637497799, 0.054166862590247465, 0.3357016237805065, -0.11543600872788926, 0.042292998754178183, -1.9488076038180728, 0.8773954185506931, -0.011442605815594621, -1.2051207747250945, 1.8585912563242895]\n",
      "Cost at Step 36: 0.9975610797740034 - [0.3164678863127348, 0.016776975767551522, 0.30612735128928503, -0.10407660930727566, 0.07552991899069547, -1.9801244459695124, 0.8993949662886781, -0.038219717048524116, -1.1497964291789713, 1.8415574915260233]\n",
      "Cost at Step 37: 0.9977535064953054 - [0.27703744894599747, -0.011489038613626198, 0.28643404055675287, -0.10605384216652419, 0.09630241628823447, -2.013211636855825, 0.911027117395645, -0.05345420708619808, -1.090375651833574, 1.8224927224142833]\n",
      "Cost at Step 38: 0.9980864454147118 - [0.24804843512762104, -0.032405792311071636, 0.2744594545316421, -0.11670710535778868, 0.10789430238408222, -2.045417873917449, 0.9148235928903284, -0.06031888166677046, -1.0316266155954699, 1.8026332651032413]\n",
      "Cost at Step 39: 0.9982001073410791 - [0.22407551811825374, -0.04989041553208917, 0.2654717289512164, -0.1290587696719593, 0.11621681845396933, -2.075089834337312, 0.9160915284794491, -0.06443018294115671, -0.9772183857900925, 1.7837510622144224]\n",
      "Cost at Step 40: 0.997692022211491 - [0.20563014677381128, -0.06367601516720929, 0.25987283743651124, -0.14354404676588847, 0.12092784485033957, -2.1021004580712765, 0.9143166191536337, -0.06543465548553834, -0.9272308243253804, 1.7655571526303386]\n",
      "Cost at Step 41: 0.9983795990247623 - [0.20375936711051454, -0.06667152503211256, 0.26621171639735736, -0.1695242795856538, 0.1131039110996482, -2.1246575219414243, 0.8998681918949741, -0.0548188562453277, -0.8828056312498417, 1.744909938297732]\n",
      "Cost at Step 42: 0.998283466293241 - [0.21524297662065828, -0.060712880269980736, 0.2823234661605837, -0.2035025184177186, 0.09556661724365645, -2.1415826519940717, 0.8750911924464186, -0.03521060386942594, -0.8456758721928891, 1.7223239534245294]\n",
      "Cost at Step 43: 0.9988321721503002 - [0.2425436726337808, -0.044340104380232004, 0.30992945071146294, -0.24600806700974315, 0.06732180709383101, -2.1502523475796678, 0.8378766536641384, -0.005556022188778154, -0.8192126053076516, 1.6966421111828187]\n",
      "Cost at Step 44: 0.9988533126826377 - [0.27512607533742184, -0.02445602163777395, 0.34089647251437055, -0.28917311486579234, 0.0365059616928262, -2.1537531625054758, 0.7972449865888434, 0.02642434428240574, -0.8001928345377148, 1.6705467062605828]\n",
      "Cost at Step 45: 0.9995774514928534 - [0.30751715378760164, -0.004684785887995507, 0.371016696524736, -0.3296554055261901, 0.006962362875775483, -2.154877605151386, 0.7579346632030842, 0.05704078297020571, -0.7853652647837928, 1.645648520590351]\n",
      "Cost at Step 46: 0.9997131920551371 - [0.337045044905572, 0.013338785007055935, 0.3984744639357831, -0.3665592916418465, -0.019969749629356662, -2.1559026534488246, 0.7220991489625718, 0.08495090242899318, -0.7718483681561891, 1.6229511936546395]\n",
      "Cost at Step 47: 0.9994317448890091 - [0.36401356301820953, 0.029783561712802206, 0.4235187467467507, -0.40020172323944114, -0.04452226985694899, -2.156797437251654, 0.6894107447533215, 0.1103972756788394, -0.7595903699176039, 1.6022419778341712]\n",
      "Cost at Step 48: 0.9996409723186072 - [0.39628916541263326, 0.048057988413611766, 0.449494144335568, -0.4256425442841383, -0.06481999024398746, -2.1400877865060366, 0.6540231851986096, 0.13263596401180075, -0.7714269292913082, 1.5765016109090415]\n",
      "Cost at Step 49: 0.9996569674725545 - [0.42569921631381075, 0.06470994164645215, 0.4731633468112473, -0.44882463186862015, -0.08331560133686011, -2.1248616825907285, 0.6217774684809446, 0.15290021651283267, -0.782212593473915, 1.5530465728498688]\n",
      "Cost at Step 50: 0.9996116271158044 - [0.4528079789856562, 0.07870035689944187, 0.4926625892428065, -0.462968371426521, -0.09503806073237828, -2.100585960812219, 0.5928969822420853, 0.1672512378681953, -0.8058539995284749, 1.5278885016098092]\n",
      "Cost at Step 51: 0.9995640776367039 - [0.47674095660214494, 0.09028875008511451, 0.508714001451181, -0.472316365091558, -0.10288474235173484, -2.074367147061164, 0.5676010013875677, 0.1779745674403947, -0.8328612593743575, 1.5034904129724431]\n",
      "Cost at Step 52: 0.9996654202006476 - [0.49505508522129144, 0.09666372612270865, 0.5174413369533298, -0.4717150280717421, -0.10214508741411535, -2.0421900851845916, 0.5487445436285496, 0.18106111643321987, -0.8687427036418124, 1.478216570395617]\n",
      "Cost at Step 53: 0.9996677955099902 - [0.5115649803283673, 0.10213131549863252, 0.5249128079222314, -0.47065035856205056, -0.10093971363194738, -2.0125464202636074, 0.5319286481348575, 0.1834161483457998, -0.9019719747349383, 1.4550400524338354]\n",
      "Cost at Step 54: 0.9996279904381047 - [0.5265988413923575, 0.10711008603837784, 0.5317163070473804, -0.4696808736939421, -0.09984210387421164, -1.9855529878891172, 0.5166161439754988, 0.1855606333582167, -0.9322304490836633, 1.4339355850954723]\n",
      "Cost at Step 55: 0.9996762231654394 - [0.5377267520593036, 0.10951374380958558, 0.5350072593984807, -0.4661993370578233, -0.0962822921529851, -1.9603149294635946, 0.5050430784226912, 0.18526601224520675, -0.9606300807775755, 1.4144109366874322]\n",
      "Cost at Step 56: 0.9993815426720362 - [0.5478571936593123, 0.11170194566601571, 0.5380032216888981, -0.4630298738396487, -0.09304157016814163, -1.9373391271745453, 0.49450738410564554, 0.18499779999296084, -0.9864840631392352, 1.3966364135758216]\n",
      "Cost at Step 57: 0.9993013628247545 - [0.5516182763071711, 0.10945239526619918, 0.5349747683488977, -0.45628110412774603, -0.08590836727974639, -1.91734141819476, 0.48975831687699994, 0.18101116905482137, -1.008687847174725, 1.3806018844297365]\n",
      "Cost at Step 58: 0.9995445288142056 - [0.5507415634280128, 0.10409564631127455, 0.527700465241499, -0.44755842464517503, -0.07644140055869915, -1.9005831821253403, 0.48924018363361893, 0.17469611731460646, -1.0269070176994162, 1.3663531402462985]\n",
      "Cost at Step 59: 0.9995206648226757 - [0.5499437288309718, 0.09922084663208053, 0.5210806346800404, -0.4396205288617018, -0.06782618141736073, -1.8853326927641594, 0.48876866708707944, 0.16894923382987148, -1.0434870003852823, 1.3533863628153535]\n",
      "Cost at Step 60: 0.9996324699296157 - [0.5402958607883875, 0.08756821683287913, 0.5049931720536941, -0.4288482946658556, -0.05473759547818746, -1.8779721755925805, 0.49670802112344775, 0.1588609722636811, -1.050170642186348, 1.3433707805623398]\n",
      "Cost at Step 61: 0.9996739909027247 - [0.5315180526459568, 0.0769664394537175, 0.4903565020282147, -0.41904751748136454, -0.042829358787409934, -1.871275441468489, 0.5039313917663477, 0.14968248596725778, -1.0562515425758245, 1.3342584194969402]\n",
      "Cost at Step 62: 0.9996989238855005 - [0.5215675689294792, 0.06581682563041683, 0.4748402327914951, -0.40981040664166063, -0.031216121865730584, -1.8673437015145586, 0.5122409057461623, 0.14057174735567815, -1.058962139930698, 1.3266508945482625]\n",
      "Cost at Step 63: 0.9997497219935444 - [0.5125164447932259, 0.055674952923645396, 0.46072637827413804, -0.401408178246353, -0.02065252998609408, -1.8637673260159187, 0.519799376770355, 0.1322844692102199, -1.0614277439623936, 1.3197309645434776]\n",
      "Cost at Step 64: 0.9998287373716599 - [0.5011222930779845, 0.0441018405808953, 0.444124604053396, -0.394397487790047, -0.010618143446319386, -1.8660732328736962, 0.529364768741403, 0.12418755410456313, -1.056505753873966, 1.3153357193123272]\n",
      "Cost at Step 65: 0.9997874265695634 - [0.4886116399326277, 0.03200899144605786, 0.4262773479312844, -0.38908279215582514, -0.001652897524376449, -1.8732006956770682, 0.5398322361485917, 0.11679853121302704, -1.0456118534036891, 1.3131415970395457]\n",
      "Cost at Step 66: 0.9998176191947099 - [0.4739060273803589, 0.01905402353457615, 0.4059206747366406, -0.3869390201805925, 0.0051961716423070585, -1.889222031817519, 0.5514680619011142, 0.11089595639563803, -1.0234561256177839, 1.3148728653208668]\n",
      "Cost at Step 67: 0.9998591579539093 - [0.45964668677182896, 0.006980117729471439, 0.3861516501570487, -0.3864615147005344, 0.010391306020585413, -1.9079311926161489, 0.5622630590399418, 0.10628202331307804, -0.9980605455734879, 1.3182832686737145]\n",
      "Cost at Step 68: 0.9998503712916066 - [0.4469807326185902, -0.0032676471705759616, 0.367418908289091, -0.38877849536093545, 0.01278340165115649, -1.930894530230093, 0.5709191168218773, 0.1038879816142775, -0.9678647528962001, 1.324465681878284]\n",
      "Cost at Step 69: 0.9998808847390848 - [0.4368964857474171, -0.010981197465326067, 0.3509321513220861, -0.392834483701553, 0.012834160715314197, -1.9550150404313307, 0.5765809834557007, 0.10340013118158191, -0.9369015987290352, 1.332398662549331]\n",
      "Cost at Step 70: 0.9998883626069938 - [0.43053993097034887, -0.015228764322512627, 0.3376976746219295, -0.3980422440082714, 0.010556281133120779, -1.9783701514170673, 0.5780345917793697, 0.10483655428315737, -0.9079491403387602, 1.3418130051696247]\n",
      "Cost at Step 71: 0.9998935928775396 - [0.42755529214773164, -0.016557921354243516, 0.3275550222449125, -0.40325855038075664, 0.007018118179702829, -1.9989789035604062, 0.5759941166434074, 0.1073431670168927, -0.8834419301552082, 1.3516433159821788]\n",
      "Cost at Step 72: 0.9998369347764084 - [0.4278443252416622, -0.015192627520963092, 0.3203871104128922, -0.40781747212552627, 0.0027859929259469295, -2.0157170068793664, 0.5707099190789832, 0.11046281171787659, -0.8648654333659203, 1.3614039579471526]\n",
      "Cost at Step 73: 0.9998240770030826 - [0.4322873972551708, -0.009835858597841224, 0.3172455439039527, -0.41040566950544966, -0.002060024874076566, -2.0255961950036654, 0.5603629712919916, 0.11413940920735824, -0.8564582661422551, 1.3710729122305294]\n",
      "Cost at Step 74: 0.9998634501712171 - [0.4403215386256134, -0.0009171121139562709, 0.31760624867825504, -0.41019600318127025, -0.00688950827281095, -2.027449072680515, 0.5453663916151771, 0.11785645369691274, -0.8597648483766347, 1.3802705424018475]\n",
      "Cost at Step 75: 0.999849521765447 - [0.45063100955584406, 0.009820757924040031, 0.3197165693292679, -0.40770812647731147, -0.011158955954918738, -2.023147399579187, 0.5279157889937709, 0.12115800278155249, -0.872171763007353, 1.3886841891110506]\n",
      "Cost at Step 76: 0.9999239079363895 - [0.4617321381856304, 0.021530571377988306, 0.3223604822441986, -0.4024224975630321, -0.014460686962097654, -2.0123947828350914, 0.508829457431557, 0.12371227634151138, -0.8938837887129577, 1.3962232591265265]\n",
      "Cost at Step 77: 0.9999148764658837 - [0.47207773143045517, 0.03229665845719191, 0.3244672017187635, -0.39703477108311847, -0.01724765315595994, -2.0013176481779142, 0.49107652901793847, 0.12586814187545797, -0.915781849986763, 1.4030263039524897]\n",
      "Cost at Step 78: 0.9999095267402541 - [0.48026121384616655, 0.041341546911126945, 0.32433258231296047, -0.3907884472481775, -0.01912702787507666, -1.9889472513817639, 0.47510598936366855, 0.12732225263872438, -0.9393382711818227, 1.4090962775896678]\n",
      "Cost at Step 79: 0.9999342552708452 - [0.485849870457162, 0.0479065785286182, 0.3211098365147844, -0.3845995722581132, -0.020224685749245255, -1.9772651514715742, 0.46182277425827967, 0.12818592810374999, -0.961887913979371, 1.414544259466392]\n",
      "Cost at Step 80: 0.9999064633915984 - [0.4901767396669075, 0.053182382383633035, 0.3170246306857132, -0.37905184839541, -0.021075937540635675, -1.9670379622815866, 0.4503499245634191, 0.12886780350343535, -0.9819714818609104, 1.419489274013145]\n",
      "Cost at Step 81: 0.9998808234219855 - [0.49247054189108935, 0.05674523550576711, 0.3113899039917618, -0.3742929613097702, -0.021693232034232436, -1.9588618611890571, 0.4410507409341561, 0.1293905960551263, -0.9986356338669434, 1.4240101608823834]\n",
      "Cost at Step 82: 0.9999179518898964 - [0.49177551805408265, 0.05799065129640992, 0.3032671353186474, -0.3706700064899044, -0.02210540901065513, -1.953795726912856, 0.43446060846189044, 0.1297990846062363, -1.01025567560763, 1.428182923106881]\n",
      "Cost at Step 83: 0.9999048889620379 - [0.4890714401684384, 0.057421213042723, 0.29334073026702584, -0.36831217840177605, -0.022405852312177593, -1.9517772776590145, 0.4300513628483094, 0.13016507919809642, -1.017111050066885, 1.43201589254763]\n",
      "Cost at Step 84: 0.9999263866744038 - [0.48361530588657786, 0.05418274976246467, 0.2802439801604593, -0.36809110318702526, -0.022603711215797913, -1.9548741581917444, 0.42848923469229017, 0.1305445958859967, -1.0163455818054095, 1.4355220115528662]\n",
      "Cost at Step 85: 0.9999588455047359 - [0.4764043409543089, 0.049587604693918666, 0.2658045676700554, -0.36907263080313596, -0.022707575452656302, -1.9609936892159727, 0.4284259062870925, 0.13091561822099199, -1.0106289438455713, 1.4386408483300346]\n",
      "Cost at Step 86: 0.9999358337183974 - [0.4698577435059182, 0.04541582388378799, 0.25269550081483017, -0.3699637273822987, -0.022801870370779333, -1.9665494097434915, 0.4283684125145315, 0.13125245717354303, -1.0054389967030755, 1.4414723373837097]\n",
      "Cost at Step 87: 0.9999598800884598 - [0.46283478481776685, 0.040575359567167193, 0.23883611828427936, -0.37218563142202504, -0.022639590331928167, -1.9752386783122122, 0.42863017481818083, 0.13150123065388875, -0.9952180659967836, 1.4436136875099064]\n",
      "Cost at Step 88: 0.9999528060830026 - [0.4564554453785578, 0.03610594494666893, 0.22603215904083648, -0.3744261584602956, -0.022421500936178538, -1.983675924043918, 0.4287642687146229, 0.1316997985240077, -0.9851102025307039, 1.445432255810267]\n",
      "Cost at Step 89: 0.9999320142569855 - [0.4506649106899617, 0.032049051474851764, 0.2144099885648873, -0.37645988775973227, -0.02222354090863785, -1.9913344228886378, 0.4288859859190227, 0.1318800388376651, -0.9759352819020899, 1.4470829725662977]\n",
      "Cost at Step 90: 0.9999380109716335 - [0.4455641243317332, 0.02862582832739814, 0.20400611458504153, -0.37830580234547706, -0.021868946303651448, -1.9984572645696648, 0.42834172594215736, 0.1319554316540104, -0.9670624223297773, 1.4482743411551995]\n",
      "Cost at Step 91: 0.9999559821828908 - [0.4409346662828847, 0.02551892148617808, 0.19456359043816707, -0.3799811487590432, -0.02154711732816658, -2.004921933777386, 0.4278477572547141, 0.13202385794289972, -0.9590094423454343, 1.4493556235978033]\n",
      "Cost at Step 92: 0.999931026700782 - [0.43885255591071787, 0.023782866863221192, 0.1869731501031544, -0.38157024420513225, -0.02082686135757032, -2.010549896619224, 0.42541607423478317, 0.13185014622841373, -0.9520496580557197, 1.4495399584952968]\n",
      "Cost at Step 93: 0.9999368883460209 - [0.44042228990747717, 0.024155807048960178, 0.18196359945823817, -0.3828271733704113, -0.019477773844554475, -2.0145611849572598, 0.41977413537377745, 0.13130855447010634, -0.9471981928100199, 1.4483620520025369]\n",
      "Cost at Step 94: 0.999942187892921 - [0.44243143440100435, 0.02516712942885992, 0.17807703950393633, -0.38361331025579426, -0.01802222374436019, -2.017408483329949, 0.41345751849946555, 0.1306941043648197, -0.9435519457413387, 1.4468065523782467]\n",
      "Cost at Step 95: 0.9999272469294577 - [0.4444208506278173, 0.026220395981980546, 0.17468010507378567, -0.3842683520700742, -0.016657024441764052, -2.019816968539888, 0.40747854323415345, 0.13011475309008178, -0.9404459512825857, 1.4452886673783434]\n",
      "Cost at Step 96: 0.9999717054625975 - [0.44943802804213784, 0.02925614323625792, 0.1736036685297143, -0.3841266293584488, -0.014781403547477132, -2.018966434412149, 0.39811429236068935, 0.12931866328934305, -0.9415681024385021, 1.4421116559323892]\n",
      "Cost at Step 97: 0.9999682569165433 - [0.454232377719126, 0.03219963421191994, 0.1727908040678083, -0.3839036403893091, -0.013025589408316041, -2.017813019823688, 0.3892147040207764, 0.1285826866894829, -0.9430583901230596, 1.4390227538603888]\n",
      "Cost at Step 98: 0.9999805020026323 - [0.4585821289903246, 0.03487016401092425, 0.17205331963687173, -0.3837013300413458, -0.011432598638572369, -2.01676656579516, 0.3811404085501607, 0.12791496001729127, -0.9444104776990692, 1.4362202975963456]\n",
      "Cost at Step 99: 0.9999470550820047 - [0.4625841705409244, 0.03737066806826279, 0.17139975178107436, -0.38343813517583036, -0.009980111504484373, -2.0153402178366453, 0.37347826194035827, 0.12734506312787036, -0.9462183424822218, 1.4334358342044466]\n",
      "Cost at Step 100: 0.999950577790847 - [0.46564347973457076, 0.039597610413000583, 0.17035691529859462, -0.3828314051140976, -0.008792713041039735, -2.0115172613086996, 0.36522230839362874, 0.12716511805924843, -0.9508105176950665, 1.4296925495805806]\n",
      "Cost at Step 101: 0.9999664972463116 - [0.4677981198221847, 0.041177397093989085, 0.16852987367398825, -0.38233888010120193, -0.007966222874597343, -2.0064731946076697, 0.3570734185021932, 0.12740080482832214, -0.9569127630142463, 1.425391519373998]\n",
      "Cost at Step 102: 0.9999694259043398 - [0.46955504952551913, 0.042068344311929455, 0.1659454737612713, -0.3823067477890999, -0.007455236419547187, -2.001485884811152, 0.34951303739034806, 0.12793184055712012, -0.9631814620408324, 1.4210095982906108]\n",
      "Cost at Step 103: 0.999963423414857 - [0.4711464500122077, 0.042747063016961094, 0.1633924628539432, -0.3824036398397152, -0.007038269193943256, -1.9970046738050728, 0.3426665009085226, 0.1284704095380377, -0.9688843160367687, 1.4169747242285273]\n",
      "Cost at Step 104: 0.999945415650105 - [0.4712990860437209, 0.04232045725607377, 0.15950455178050363, -0.38301583580460835, -0.006983378183884602, -1.9933375243993592, 0.3367694174817897, 0.12932772498852504, -0.9734511579519203, 1.4131141448037678]\n",
      "Cost at Step 105: 0.9999664948498216 - [0.46966992012082487, 0.04063677538530896, 0.15405056034882997, -0.3841564178112327, -0.007259880667062152, -1.9909027254897573, 0.33189219839626194, 0.1304693677146631, -0.9762104559815498, 1.4095467300994022]\n",
      "Cost at Step 106: 0.9999634547461649 - [0.4677845112055045, 0.038612773057137104, 0.14833433871605653, -0.38551721105259135, -0.00759624823061945, -1.9893205299698011, 0.3276220501357629, 0.13160236221193014, -0.977964887217034, 1.406348568815846]\n",
      "Cost at Step 107: 0.9999734250221813 - [0.46509096830550145, 0.03642633597738486, 0.14260034051374917, -0.38667881167446494, -0.007924168073897833, -1.9881781459954226, 0.323815904239947, 0.13266089464338365, -0.9788566232027189, 1.4035307275420834]\n",
      "Cost at Step 108: 0.9999660893474521 - [0.4626853750381914, 0.0344404021549068, 0.13739390052801578, -0.3877503553128065, -0.008221294360199884, -1.9871654702970842, 0.32036411557483246, 0.13362064500140225, -0.9796569460642153, 1.4009768173510169]\n",
      "Cost at Step 109: 0.99997064757203 - [0.4597751158162047, 0.032047142683358364, 0.13156955269861523, -0.38887693033648235, -0.008319113944261472, -1.9878414875809953, 0.317017761191315, 0.1343402137086169, -0.9782215884495129, 1.3990507126614253]\n",
      "Cost at Step 110: 0.9999762676815632 - [0.4570914864643925, 0.029718061729788796, 0.1259208335448683, -0.3899536929570486, -0.008292911646519125, -1.9891443401056261, 0.3137819202293519, 0.13488774747566293, -0.9760704673167493, 1.3974849632828061]\n",
      "Cost at Step 111: 0.9999719889565832 - [0.45491050136064454, 0.02758566855865398, 0.12070771455484854, -0.3910186941570872, -0.008220522604674199, -1.990617478701752, 0.3107478175821201, 0.13533885218685504, -0.9738865349909066, 1.3961275133460571]\n",
      "Cost at Step 112: 0.9999806259583964 - [0.45312021896316723, 0.025695740245247154, 0.11563850450943419, -0.3917203639630685, -0.007770527276455969, -1.992990182203537, 0.3071261968508602, 0.13538762091967993, -0.9706365783750054, 1.3953399096489882]\n",
      "Cost at Step 113: 0.9999803247493586 - [0.4523394712887665, 0.024098861908637456, 0.1109194663331888, -0.3923776084951401, -0.007121625925808845, -1.9958411743421989, 0.3032131617803783, 0.13520529307523182, -0.9671856641922979, 1.3948831015743546]\n",
      "Cost at Step 114: 0.9999755323001125 - [0.4519634476746838, 0.022850792953146137, 0.10660429451468333, -0.39264074172296215, -0.006271405216117066, -1.9986925822458033, 0.29887283548821947, 0.13479472570806383, -0.9638141098361255, 1.39474302823319]\n",
      "Cost at Step 115: 0.9999640443673469 - [0.4516225297298295, 0.021719244056216235, 0.10269198831752985, -0.39287930875927285, -0.005500561348589721, -2.0012777818924747, 0.2949377232455877, 0.13442248902397555, -0.9607573247927954, 1.3946160321825547]\n",
      "Cost at Step 116: 0.9999787027500657 - [0.45124346685399097, 0.021114472258862833, 0.09922474468661245, -0.3921910245495407, -0.004517059582241635, -2.0030579504074217, 0.29003802543672885, 0.13381750665516587, -0.9586138384960305, 1.3948533483771992]\n",
      "Cost at Step 117: 0.9999757130193764 - [0.4508998164099739, 0.02056619884271763, 0.09608141439646772, -0.3915670405373681, -0.003625437531732843, -2.004671813791007, 0.2855960622590463, 0.13326904234165873, -0.9566705988649636, 1.3950684942487388]\n",
      "Cost at Step 118: 0.9999703598725873 - [0.45058828027216513, 0.020069161849232537, 0.09323182988223379, -0.3910013681442003, -0.0028171380088347618, -2.00613486082015, 0.2815692027448543, 0.13277183229236045, -0.9549089559864129, 1.395263534623864]\n",
      "Cost at Step 119: 0.9999778619237528 - [0.45104025542725634, 0.020046847501192275, 0.09062128192253822, -0.38997746089905466, -0.0021894028896730132, -2.006395451768586, 0.27647493866157624, 0.13240976656274323, -0.9550923434899626, 1.3957588157108587]\n",
      "Cost at Step 120: 0.9999710528226039 - [0.45168502729646737, 0.020087524323443913, 0.08821441737543705, -0.38902724190049254, -0.0016685876079334241, -2.0064762415954673, 0.2716066656443384, 0.13212350689285499, -0.955606152379772, 1.3962721698256302]\n",
      "Cost at Step 121: 0.999968767822656 - [0.45230289745003255, 0.020256410734005838, 0.08578447929197207, -0.3878866290003798, -0.0014687735493147825, -2.0056788265627263, 0.2663776140145381, 0.13210721683227908, -0.9573218598746234, 1.3969584915473254]\n",
      "Cost at Step 122: 0.9999818302536893 - [0.4527179733912407, 0.020436452118678117, 0.08295907084276793, -0.3866088026846557, -0.0018369338020419348, -2.0037805389967778, 0.26055861999499175, 0.13258724544141437, -0.9605291370206136, 1.3979429064453104]\n",
      "Cost at Step 123: 0.9999793328339263 - [0.45308633397953235, 0.020595762923918723, 0.08037474746504213, -0.38544969235435345, -0.0021850008269973156, -2.002043605276304, 0.2552635728747388, 0.13303504035988464, -0.963461870672135, 1.398846308425369]\n",
      "Cost at Step 124: 0.9999712513553441 - [0.453612400490997, 0.020615194417816535, 0.07761804467695999, -0.38460838296808464, -0.0027098062156368386, -2.0005326099965157, 0.2502534442098755, 0.13363013995599302, -0.9662351315084251, 1.399809379123168]\n",
      "Cost at Step 125: 0.9999727075504676 - [0.45368438428936175, 0.02043056365555776, 0.07460109697329392, -0.38390281916241586, -0.0033988843787994072, -1.9991718203095228, 0.24556203694583129, 0.13436480720605845, -0.9686200345557862, 1.4008460529981115]\n",
      "Cost at Step 126: 0.9999800461258854 - [0.45311285881348695, 0.02009766181316365, 0.07147582566013526, -0.3831865777360391, -0.0041459157701436876, -1.9979188441773592, 0.24124519596437569, 0.13514324677508258, -0.9705451043812554, 1.4019066923778105]\n",
      "Cost at Step 127: 0.9999794519097789 - [0.45335514534080507, 0.019466170606173634, 0.06783191225120182, -0.38321708133600224, -0.004994496107343642, -1.997698243338565, 0.23724950289473415, 0.13601044835309128, -0.9716108162893603, 1.4030675367471075]\n",
      "Cost at Step 128: 0.999978993606901 - [0.4535845068609556, 0.018783097256877993, 0.06426553401646483, -0.3833561041477786, -0.0057879193894253955, -1.9977224580653976, 0.23360255848526765, 0.13682266944026794, -0.9723106873617049, 1.4041758365219816]\n",
      "Cost at Step 129: 0.9999818398627061 - [0.45372658142493605, 0.018070784564867434, 0.06080224265854579, -0.3835321716912225, -0.006498403081895681, -1.997925017801691, 0.2302728494354441, 0.1375558835394457, -0.9726954316137838, 1.405221884276379]\n",
      "Cost at Step 130: 0.9999812232859641 - [0.45335565526608534, 0.01707850357441711, 0.05677902453788005, -0.3837147204047228, -0.006996876900527773, -1.99874302871046, 0.22713379063237402, 0.13811377595622043, -0.9720127461707129, 1.4063124070482]\n",
      "Cost at Step 131: 0.9999817626928926 - [0.45274709542706465, 0.015919191506525165, 0.05235371124908623, -0.3838712547216035, -0.007217941449985441, -2.000060570696402, 0.22408837580216281, 0.13844140925347423, -0.9705181159142083, 1.4073816108804966]\n",
      "Cost at Step 132: 0.9999822419843836 - [0.4522053114714897, 0.014811631664226145, 0.04810909914708759, -0.3840083722520991, -0.007315368385145818, -2.00142509515445, 0.2212111831651915, 0.13865917249698212, -0.9689254656173157, 1.4083595133270375]\n",
      "Cost at Step 133: 0.9999812826486758 - [0.4517143651881743, 0.013807998415442259, 0.044262775301718064, -0.3841326235172654, -0.007403653376254994, -2.002661581023243, 0.21860396856406905, 0.13885650217814915, -0.9674822598542007, 1.4092456553921808]\n",
      "Cost at Step 134: 0.9999866069187728 - [0.45237665206263256, 0.012950619250006389, 0.040332560380260965, -0.38442915714744813, -0.007100989977586045, -2.004226125734167, 0.21564873392860284, 0.13874435326754053, -0.9660080177713345, 1.4099301109320672]\n",
      "Cost at Step 135: 0.9999850883837756 - [0.4529782636211331, 0.0122129492050775, 0.03665983283451432, -0.384596055404919, -0.006706306505203964, -2.0055846304472142, 0.21275775105871514, 0.13855188084042008, -0.9647151258784641, 1.410508454976135]\n",
      "Cost at Step 136: 0.9999853012363056 - [0.45370809125445744, 0.011706198497349442, 0.033077183923409206, -0.3845097788745999, -0.006031556711095928, -2.0065407782350784, 0.209485412507581, 0.1381457984210035, -0.9639050927162048, 1.4108538376258244]\n",
      "Cost at Step 137: 0.999985108194192 - [0.4549779584958856, 0.011370794332030594, 0.02966957121940186, -0.3845003875864319, -0.005252197732084245, -2.007339057299534, 0.20605897176264262, 0.13766564647123006, -0.9635192696299504, 1.411017127801406]\n",
      "Cost at Step 138: 0.999983275024996 - [0.4562727397998631, 0.011076548508477705, 0.026565469766482722, -0.3845418808077079, -0.004537358410978361, -2.00809701110497, 0.20291912981278878, 0.13722551160751031, -0.9632042630923576, 1.411155264062923]\n",
      "Cost at Step 139: 0.9999830491459764 - [0.45751277003477575, 0.010810704204932844, 0.023750371671774677, -0.3846067034065621, -0.003889303936564386, -2.008809266676385, 0.20007147636191677, 0.13682659396122213, -0.9629221319063848, 1.4112797660551888]\n",
      "Cost at Step 140: 0.9999833627563964 - [0.4592252866618011, 0.010700845768537375, 0.0209638668304487, -0.38489273675595426, -0.003287482467651377, -2.009217911192212, 0.19695987783136318, 0.13649997534809044, -0.9633800862227945, 1.4111732226045592]\n",
      "Cost at Step 141: 0.9999853898551749 - [0.4611342850024984, 0.010625587289106498, 0.018365723936744037, -0.3853149756337008, -0.0027491950439687465, -2.0096264866852263, 0.19402053413039266, 0.13622190192014613, -0.963975486315705, 1.411019716559971]\n",
      "Cost at Step 142: 0.9999845343337446 - [0.4621934320428735, 0.010602169568473617, 0.015779152313734602, -0.3855373210237682, -0.002313057907850635, -2.0094365792778848, 0.19101311502086407, 0.13605121373060686, -0.9650861269960478, 1.4107228131123566]\n",
      "Cost at Step 143: 0.9999815262424474 - [0.46337088425167844, 0.010581428004260185, 0.013425395959250698, -0.38583202464040983, -0.0019192876493360294, -2.0093510847907052, 0.18828264017660992, 0.13589831265845817, -0.9661021926353568, 1.4104516055046294]\n",
      "Cost at Step 144: 0.9999822994420554 - [0.4643104554136029, 0.010562337649019843, 0.011262778817266261, -0.38606934902111784, -0.0015720382520355322, -2.009210927186686, 0.18578145350639663, 0.13577100698754146, -0.9670695004451343, 1.4101938989101717]\n",
      "Cost at Step 145: 0.9999873944697223 - [0.4646586268457478, 0.010512731445213813, 0.008952935793053785, -0.38637063770327196, -0.0013771898185385321, -2.008826794703605, 0.18325604426239295, 0.13579337403212427, -0.9683468184465847, 1.4098193207403458]\n",
      "Cost at Step 146: 0.9999863742127383 - [0.4649740373711151, 0.010467792896377847, 0.00686043555060427, -0.38664357687254525, -0.0012006754894251577, -2.0084788068564614, 0.18096826132626093, 0.13581363646793482, -0.9695039482264711, 1.4094799882115523]\n",
      "Cost at Step 147: 0.9999868544707448 - [0.4649275598437791, 0.010407312742255754, 0.004834727486259197, -0.3868752438397613, -0.0010841478252045602, -2.0080760803766227, 0.17881577579069477, 0.13587917744592864, -0.9706210902519947, 1.4091390890389548]\n",
      "Cost at Step 148: 0.9999882156361858 - [0.46416292318607033, 0.010298784408533697, 0.002674872249273559, -0.3870975192734513, -0.0010837080937035938, -2.007589715030885, 0.17667102027625492, 0.13605239279365824, -0.9717103032362189, 1.4087470551021066]\n",
      "Cost at Step 149: 0.9999858910876408 - [0.4635407779351966, 0.010164557728980792, 0.000439553653927349, -0.38757586063129984, -0.0011605932459026126, -2.0073733314713422, 0.1745517920345708, 0.13629264424654317, -0.97268620799266, 1.4083343458131152]\n",
      "Cost at Step 150: 0.9999879354009467 - [0.4622965935178798, 0.009990108329412632, -0.0021105946920007648, -0.3881731495091654, -0.0013367654284291736, -2.007371589024346, 0.1722383982756266, 0.13663045840924615, -0.9734293122269438, 1.4078706721229501]\n",
      "Cost at Step 151: 0.999983491781044 - [0.46063285698583994, 0.009827329591738782, -0.004614159334345872, -0.3886266855802173, -0.001508034175411433, -2.0073540579594282, 0.16994760577331344, 0.13695571369013496, -0.9740121654891993, 1.407424806973364]\n",
      "Cost at Step 152: 0.9999857075326979 - [0.4594681833848455, 0.009683512758137964, -0.00692288626016698, -0.3891914717065696, -0.0016588483915738789, -2.007513712904253, 0.1678296051977076, 0.13724786527517382, -0.9745205813331846, 1.4070144906378586]\n",
      "Cost at Step 153: 0.999986281561508 - [0.45772440187236857, 0.009616274341496173, -0.00927151679733392, -0.38944033348484436, -0.0016974479131881247, -2.007707435835786, 0.16544157949801402, 0.1374358327181225, -0.9747423467316059, 1.4066264236116548]\n",
      "Cost at Step 154: 0.9999888335669551 - [0.4562664637323554, 0.009624453099393148, -0.011568895948385394, -0.38965281843631794, -0.0016348352850487653, -2.0081172694980474, 0.16289535821933024, 0.13752660698270736, -0.9747729705817745, 1.4062487041867275]\n",
      "Cost at Step 155: 0.9999852589783018 - [0.45447611786599224, 0.00972859522493394, -0.01382688331489175, -0.3894986611372351, -0.001443456548920159, -2.008468039522421, 0.16007969239994022, 0.13749615864682008, -0.9746151599268656, 1.4058962344815908]\n",
      "Cost at Step 156: 0.9999869033279376 - [0.4531879678804781, 0.009826539980575009, -0.015886425423082967, -0.3894894852220665, -0.0012660429386019481, -2.0089276202083566, 0.1575107368843273, 0.13746495599128192, -0.974468164552102, 1.405578098983236]\n",
      "Cost at Step 157: 0.9999888935484976 - [0.4525580486040868, 0.009941415664955903, -0.01781799583269116, -0.3896315845507607, -0.0010776750683127736, -2.0095677874879714, 0.15503204358986714, 0.13741333949762044, -0.9743171182729589, 1.4052865041866403]\n",
      "Cost at Step 158: 0.9999916871066825 - [0.453355818784208, 0.01010352425537888, -0.019778711733535143, -0.3900773530301286, -0.0008311735806995136, -2.01064222546282, 0.1523357833334313, 0.13730403403206634, -0.9741938964421906, 1.4049982055611971]\n",
      "Cost at Step 159: 0.9999885744111697 - [0.45445701139209543, 0.010249967330445309, -0.021787480328104458, -0.390413228233351, -0.0005390292194196082, -2.0116652657814704, 0.14954321689528216, 0.13714761854820284, -0.974207398072544, 1.404712621126472]\n",
      "Cost at Step 160: 0.9999887485281815 - [0.4558420711614759, 0.010303929423463906, -0.024000331036954526, -0.39062391974739635, -0.0001991357289343505, -2.012590990126372, 0.1466541680461645, 0.13694318879871242, -0.974515691971151, 1.4044137524667457]\n",
      "Cost at Step 161: 0.9999902839969312 - [0.45652926754302686, 0.010238700598934355, -0.026344691204948083, -0.39045252204784087, 0.0001387551743881224, -2.0131019252993685, 0.1438420542532065, 0.13673286762334724, -0.9750727634621303, 1.4041248730321194]\n",
      "Cost at Step 162: 0.9999883178379426 - [0.456891028843333, 0.009996606199465583, -0.028950465845708703, -0.39011690796886406, 0.00042599473422720737, -2.013372065052211, 0.1411021233178115, 0.1365614020487122, -0.9759175988082467, 1.4038290967121525]\n",
      "Cost at Step 163: 0.9999907076459431 - [0.45677957001098124, 0.009638881702257563, -0.03166054007837512, -0.38964772478332027, 0.0006252369023978498, -2.013428707817153, 0.13849013169648708, 0.1364613302398857, -0.9768712211456072, 1.4035478984880059]\n",
      "Cost at Step 164: 0.9999876945717082 - [0.45672528384268574, 0.009309143518055157, -0.034132716901012224, -0.38924560016789067, 0.0008005356350054418, -2.0135029964434734, 0.13611770982615887, 0.13637503771297502, -0.9777407026838335, 1.4032951477360265]\n",
      "Cost at Step 165: 0.9999880817721781 - [0.4563822568846567, 0.008984956171987623, -0.03644287977510048, -0.3887906049061944, 0.0009241534014896797, -2.0134765408434285, 0.1339308213901171, 0.13632780727044158, -0.9785350566613712, 1.4030703139380145]\n",
      "Cost at Step 166: 0.9999878987899615 - [0.45633315148489106, 0.008683620171007024, -0.03856785218331879, -0.3885020338206008, 0.0010194479586314884, -2.0135748898674937, 0.13193375190934276, 0.13629964470693606, -0.9792493876745918, 1.402868906113563]\n",
      "Cost at Step 167: 0.9999903727084494 - [0.45628868240350756, 0.008410735003323563, -0.04049219394701635, -0.388240708362693, 0.0011057452179152397, -2.0136639532032627, 0.1301252370352382, 0.13627414113020392, -0.9798962746422581, 1.4026865143486227]\n",
      "Cost at Step 168: 0.9999880960337961 - [0.4566090262900368, 0.008152312577253996, -0.042296174690323436, -0.3882035129693109, 0.0011347912334121566, -2.0139423227680036, 0.12844264367684896, 0.13629431194591762, -0.980442653502329, 1.4025277853011804]\n",
      "Cost at Step 169: 0.9999868272283047 - [0.4567835351431635, 0.007881149752713838, -0.04412094281997745, -0.3883350950911825, 0.0009654676401362655, -2.0143540428726117, 0.12673891166564777, 0.1364858883125279, -0.9807495088629903, 1.4024068473792761]\n"
     ]
    }
   ],
   "source": [
    "# Defines the optimization method\n",
    "\n",
    "iterations = 0\n",
    "\n",
    "optimizer = qml.AdamOptimizer(stepsize=0.5)\n",
    "steps = 100\n",
    "\n",
    "qgrnn_params = list([random.randint(-20, 20)/10 for i in range(0, 10)])\n",
    "\n",
    "# Executes the optimization method\n",
    "\n",
    "for i in range(0, steps):\n",
    "    qgrnn_params = optimizer.step(cost_function, qgrnn_params)\n",
    "\n",
    "print(qgrnn_params)"
   ]
  },
  {
   "cell_type": "code",
   "execution_count": 208,
   "metadata": {},
   "outputs": [
    {
     "name": "stdout",
     "output_type": "stream",
     "text": [
      "[(0, 1), (0, 2), (0, 3), (1, 2), (1, 3), (2, 3)]\n",
      "[[-3.9837178   1.          1.          0.          1.          0.\n",
      "   0.          0.          1.          0.          0.          0.\n",
      "   0.          0.          0.          0.        ]\n",
      " [ 1.         -6.33575166  0.          1.          0.          1.\n",
      "   0.          0.          0.          1.          0.          0.\n",
      "   0.          0.          0.          0.        ]\n",
      " [ 1.          0.          4.14175018  1.          0.          0.\n",
      "   1.          0.          0.          0.          1.          0.\n",
      "   0.          0.          0.          0.        ]\n",
      " [ 0.          1.          1.         -4.04928566  0.          0.\n",
      "   0.          1.          0.          0.          0.          1.\n",
      "   0.          0.          0.          0.        ]\n",
      " [ 1.          0.          0.          0.          4.23079328  1.\n",
      "   1.          0.          0.          0.          0.          0.\n",
      "   1.          0.          0.          0.        ]\n",
      " [ 0.          1.          0.          0.          1.          3.28347743\n",
      "   0.          1.          0.          0.          0.          0.\n",
      "   0.          1.          0.          0.        ]\n",
      " [ 0.          0.          1.          0.          1.          0.\n",
      "   4.17904727  1.          0.          0.          0.          0.\n",
      "   0.          0.          1.          0.        ]\n",
      " [ 0.          0.          0.          1.          0.          1.\n",
      "   1.         -2.60727056  0.          0.          0.          0.\n",
      "   0.          0.          0.          1.        ]\n",
      " [ 1.          0.          0.          0.          0.          0.\n",
      "   0.          0.         -3.11108514  1.          1.          0.\n",
      "   1.          0.          0.          0.        ]\n",
      " [ 0.          1.          0.          0.          0.          0.\n",
      "   0.          0.          1.         -2.66225872  0.          1.\n",
      "   0.          1.          0.          0.        ]\n",
      " [ 0.          0.          1.          0.          0.          0.\n",
      "   0.          0.          1.          0.          5.04247189  1.\n",
      "   0.          0.          1.          0.        ]\n",
      " [ 0.          0.          0.          1.          0.          0.\n",
      "   0.          0.          0.          1.          1.         -0.34770367\n",
      "   0.          0.          0.          1.        ]\n",
      " [ 0.          0.          0.          0.          1.          0.\n",
      "   0.          0.          1.          0.          0.          0.\n",
      "   1.09969005  1.          1.          0.        ]\n",
      " [ 0.          0.          0.          0.          0.          1.\n",
      "   0.          0.          0.          1.          0.          0.\n",
      "   1.          2.95323449  0.          1.        ]\n",
      " [ 0.          0.          0.          0.          0.          0.\n",
      "   1.          0.          0.          0.          1.          0.\n",
      "   1.          0.          1.07603309  1.        ]\n",
      " [ 0.          0.          0.          0.          0.          0.\n",
      "   0.          1.          0.          0.          0.          1.\n",
      "   0.          1.          1.         -2.90942446]]\n"
     ]
    }
   ],
   "source": [
    "[[0.42, 0, -0.11, -0.36, 0, -1.88], [0.04, 0.16, -0.84, 1.51]]\n",
    "new_ham_matrix = create_hamiltonian_matrix(qubit_number, nx.complete_graph(qubit_number), [qgrnn_params[0:6], qgrnn_params[6:10]])\n",
    "print(new_ham_matrix)"
   ]
  },
  {
   "cell_type": "code",
   "execution_count": null,
   "metadata": {},
   "outputs": [],
   "source": [
    "create_density_plot([np.diag(ham_matrix), np.diag(new_ham_matrix)])"
   ]
  },
  {
   "cell_type": "markdown",
   "metadata": {},
   "source": [
    "### References\n",
    "\n",
    "1. Verdon, G., McCourt, T., Luzhnica, E., Singh, V., Leichenauer, S., & Hidary, J. (2019). Quantum Graph Neural Networks. arXiv preprint [arXiv:1909.12264](https://arxiv.org/abs/1909.12264)."
   ]
  }
 ],
 "metadata": {
  "kernelspec": {
   "display_name": "Python 3",
   "language": "python",
   "name": "python3"
  },
  "language_info": {
   "codemirror_mode": {
    "name": "ipython",
    "version": 3
   },
   "file_extension": ".py",
   "mimetype": "text/x-python",
   "name": "python",
   "nbconvert_exporter": "python",
   "pygments_lexer": "ipython3",
   "version": "3.7.5"
  }
 },
 "nbformat": 4,
 "nbformat_minor": 4
}
